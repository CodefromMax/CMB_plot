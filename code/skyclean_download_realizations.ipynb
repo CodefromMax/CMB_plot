{
 "cells": [
  {
   "cell_type": "markdown",
   "metadata": {},
   "source": [
    "# 1. Download simulation data from Planck archive\n",
    "\n",
    "\n",
    "## 1.1 CMB signal realizations\n",
    "Source: Planck Legacy Archive: https://pla.esac.esa.int/#maps > maps > Simulations tab\n",
    "\n",
    "From the Planck Archive website (under the Simulations tab), the Filtered Eclectic Beam Convolved Observed Patch (febecop) simulations contain CMB data for the following frequency bands:   [030, 044, 070, 100, 143, 217, 353] GHz\n",
    "\n",
    "For the frequency bands 545 GHz and 857 GHz, these simulations can be downloaded from a different URL (Provided)\n",
    "\n",
    "Official download instructions: https://wiki.cosmos.esa.int/planck-legacy-archive/index.php/Simulation_data#CMB_realizations"
   ]
  },
  {
   "cell_type": "code",
   "execution_count": null,
   "metadata": {},
   "outputs": [],
   "source": [
    "# !pip install skyclean --upgrade\n",
    "import skyclean\n",
    "from skyclean import download_cmb_realizations"
   ]
  },
  {
   "cell_type": "code",
   "execution_count": 10,
   "metadata": {},
   "outputs": [
    {
     "name": "stdout",
     "output_type": "stream",
     "text": [
      "File febecop_ffp10_lensed_scl_cmb_030_mc_0000.fits already exists. Skipping download.\n",
      "File febecop_ffp10_lensed_scl_cmb_044_mc_0000.fits already exists. Skipping download.\n",
      "File febecop_ffp10_lensed_scl_cmb_070_mc_0000.fits already exists. Skipping download.\n",
      "File febecop_ffp10_lensed_scl_cmb_100_mc_0000.fits already exists. Skipping download.\n",
      "File febecop_ffp10_lensed_scl_cmb_143_mc_0000.fits already exists. Skipping download.\n",
      "File febecop_ffp10_lensed_scl_cmb_217_mc_0000.fits already exists. Skipping download.\n",
      "File febecop_ffp10_lensed_scl_cmb_353_mc_0000.fits already exists. Skipping download.\n",
      "File febecop_ffp10_lensed_scl_cmb_545_mc_0000.fits already exists. Skipping download.\n",
      "File febecop_ffp10_lensed_scl_cmb_857_mc_0000.fits already exists. Skipping download.\n"
     ]
    }
   ],
   "source": [
    "# Example usage: download_cmb_realizations\n",
    "# Febecop FFP10 lensed CMB realizations\n",
    "store_directory = 'CMB_realizations'\n",
    "frequencies = [\"030\", \"044\", \"070\", \"100\", \"143\", \"217\", \"353\"]  # Example frequencies\n",
    "\n",
    "realizations = range(1)  # Example: 10 realizations from 0 to 9\n",
    "url_template = \"http://pla.esac.esa.int/pla/aio/product-action?SIMULATED_MAP.FILE_ID=febecop_ffp10_lensed_scl_cmb_{frequency}_mc_{realization}.fits\"\n",
    "store_filename_template = \"febecop_ffp10_lensed_scl_cmb_{frequency}_mc_{realization}.fits\"\n",
    "realization_digit = 4 \n",
    "download_cmb_realizations(store_directory, frequencies, realizations, url_template, store_filename_template, realization_digit)\n",
    "\n",
    "special_path_frequencies = [ \"545\", \"857\"]  # Example frequencies\n",
    "# for simplied processing (the downloaded fits files are name as febecop, symbeam is the original code)\n",
    "store_filename_template = \"febecop_ffp10_lensed_scl_cmb_{frequency}_mc_{realization}.fits\"\n",
    "url_template = \"http://pla.esac.esa.int/pla/aio/product-action?SIMULATED_MAP.FILE_ID=symbeam_ffp10_lensed_scl_cmb_{frequency}_mc_{realization}.fits\"\n",
    "download_cmb_realizations(store_directory, special_path_frequencies, realizations, url_template, store_filename_template, realization_digit)\n"
   ]
  },
  {
   "cell_type": "markdown",
   "metadata": {},
   "source": [
    "## 1.2 Download synchrotron realizations\n",
    "\n",
    "Only 1 synchrotron realziation for each frequency. For downloading other type of foreground emissions please refer to\n",
    " https://wiki.cosmos.esa.int/planck-legacy-archive/index.php/Simulation_data#The_Planck_Sky_Model"
   ]
  },
  {
   "cell_type": "code",
   "execution_count": 11,
   "metadata": {},
   "outputs": [
    {
     "name": "stdout",
     "output_type": "stream",
     "text": [
      "File COM_SimMap_synchrotron-ffp10-skyinbands-030_2048_R3.00_full.fits already exists. Skipping download.\n",
      "File COM_SimMap_synchrotron-ffp10-skyinbands-044_2048_R3.00_full.fits already exists. Skipping download.\n",
      "File COM_SimMap_synchrotron-ffp10-skyinbands-070_2048_R3.00_full.fits already exists. Skipping download.\n",
      "File COM_SimMap_synchrotron-ffp10-skyinbands-100_2048_R3.00_full.fits already exists. Skipping download.\n",
      "File COM_SimMap_synchrotron-ffp10-skyinbands-143_2048_R3.00_full.fits already exists. Skipping download.\n",
      "File COM_SimMap_synchrotron-ffp10-skyinbands-217_2048_R3.00_full.fits already exists. Skipping download.\n",
      "File COM_SimMap_synchrotron-ffp10-skyinbands-353_2048_R3.00_full.fits already exists. Skipping download.\n",
      "File COM_SimMap_synchrotron-ffp10-skyinbands-545_2048_R3.00_full.fits already exists. Skipping download.\n",
      "File COM_SimMap_synchrotron-ffp10-skyinbands-857_2048_R3.00_full.fits already exists. Skipping download.\n"
     ]
    }
   ],
   "source": [
    "# synchrotron\n",
    "store_directory = 'CMB_realizations'\n",
    "frequencies = [\"030\", \"044\", \"070\", \"100\", \"143\", \"217\", \"353\", \"545\", \"857\"]  # Example frequencies\n",
    "realizations = range(1)  \n",
    "filename_template = \"COM_SimMap_synchrotron-ffp10-skyinbands-{frequency}_2048_R3.00_full.fits\"\n",
    "url_template = \"http://pla.esac.esa.int/pla/aio/product-action?SIMULATED_MAP.FILE_ID=COM_SimMap_synchrotron-ffp10-skyinbands-{frequency}_2048_R3.00_full.fits\"\n",
    "realization_digit = 4 \n",
    "download_cmb_realizations(store_directory, frequencies, realizations, url_template, filename_template, realization_digit)\n"
   ]
  },
  {
   "cell_type": "markdown",
   "metadata": {},
   "source": [
    "## 1.3 Download noise realizations\n",
    "\n",
    "Noise realizations have 5 digits.\n",
    "\n",
    "Official instructions: https://wiki.cosmos.esa.int/planck-legacy-archive/index.php/Simulation_data#Noise_and_instrumental_effect_residual_maps"
   ]
  },
  {
   "cell_type": "code",
   "execution_count": 13,
   "metadata": {},
   "outputs": [
    {
     "name": "stdout",
     "output_type": "stream",
     "text": [
      "File ffp10_noise_030_full_map_mc_00000.fits already exists. Skipping download.\n",
      "File ffp10_noise_044_full_map_mc_00000.fits already exists. Skipping download.\n",
      "File ffp10_noise_070_full_map_mc_00000.fits already exists. Skipping download.\n",
      "File ffp10_noise_100_full_map_mc_00000.fits already exists. Skipping download.\n",
      "File ffp10_noise_143_full_map_mc_00000.fits already exists. Skipping download.\n",
      "File ffp10_noise_217_full_map_mc_00000.fits already exists. Skipping download.\n",
      "File ffp10_noise_353_full_map_mc_00000.fits already exists. Skipping download.\n",
      "File ffp10_noise_545_full_map_mc_00000.fits already exists. Skipping download.\n",
      "File ffp10_noise_857_full_map_mc_00000.fits already exists. Skipping download.\n"
     ]
    }
   ],
   "source": [
    "# Noise\n",
    "store_directory = 'CMB_realizations'\n",
    "frequencies = [\"030\", \"044\", \"070\", \"100\", \"143\", \"217\", \"353\", \"545\", \"857\"]  # Example frequencies\n",
    "realizations = range(1)\n",
    "realization_digit = 5\n",
    "filename_template = \"ffp10_noise_{frequency}_full_map_mc_{realization}.fits\"\n",
    "url_template = \"http://pla.esac.esa.int/pla/aio/product-action?SIMULATED_MAP.FILE_ID=ffp10_noise_{frequency}_full_map_mc_{realization}.fits\"\n",
    "\n",
    "download_cmb_realizations(store_directory, frequencies, realizations, url_template, filename_template,realization_digit)"
   ]
  }
 ],
 "metadata": {
  "kernelspec": {
   "display_name": "Python 3",
   "language": "python",
   "name": "python3"
  },
  "language_info": {
   "codemirror_mode": {
    "name": "ipython",
    "version": 3
   },
   "file_extension": ".py",
   "mimetype": "text/x-python",
   "name": "python",
   "nbconvert_exporter": "python",
   "pygments_lexer": "ipython3",
   "version": "3.10.12"
  }
 },
 "nbformat": 4,
 "nbformat_minor": 2
}
