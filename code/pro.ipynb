{
 "cells": [
  {
   "cell_type": "code",
   "execution_count": 23,
   "metadata": {},
   "outputs": [],
   "source": [
    "import numpy as np\n",
    "\n",
    "# thread = np.load(\"ILC/covariance_matrix/cov_MW_Pix2_F030_044_070_100_143_217_353_545_857_S0_R0000_Full.npy\")\n",
    "# multiprocess = np.load(\"ILC/covariance_matrix/cov_MW_Pix2_F030_044_070_100_143_217_353_545_857_S0_R0000_MP.npy\")\n",
    "\n",
    "# thread = np.load(\"ILC/wavelet_doubled/Wav_Pix2_F030_S6_R0000.npy\")\n",
    "\n",
    "# multiprocess = np.load(\"ILC/wavelet_doubled/Wav_Pix2_F030_S6_R0000_MP.npy\")\n",
    "\n",
    "thread = sum(sum(sum(sum(np.load(f\"ILC/covariance_matrix/half_original_0.npy\")))))\n",
    "multiprocess = sum(sum(sum(sum(np.load(f\"ILC/covariance_matrix/half_cov_1_0.npy\")))))\n",
    "\n",
    "# thread = np.load(\"ILC/covariance_matrix/half_original.npy\")\n",
    "# multiprocess = np.load(\"ILC/covariance_matrix/half_cov_1.npy\")\n"
   ]
  },
  {
   "cell_type": "code",
   "execution_count": 24,
   "metadata": {},
   "outputs": [
    {
     "data": {
      "text/plain": [
       "True"
      ]
     },
     "execution_count": 24,
     "metadata": {},
     "output_type": "execute_result"
    }
   ],
   "source": [
    "thread == multiprocess"
   ]
  },
  {
   "cell_type": "code",
   "execution_count": 18,
   "metadata": {},
   "outputs": [
    {
     "data": {
      "text/plain": [
       "(9, 9, 7, 13)"
      ]
     },
     "execution_count": 18,
     "metadata": {},
     "output_type": "execute_result"
    }
   ],
   "source": [
    "thread.shape"
   ]
  },
  {
   "cell_type": "code",
   "execution_count": 19,
   "metadata": {},
   "outputs": [
    {
     "data": {
      "text/plain": [
       "(9, 9, 7, 13)"
      ]
     },
     "execution_count": 19,
     "metadata": {},
     "output_type": "execute_result"
    }
   ],
   "source": [
    "multiprocess.shape"
   ]
  },
  {
   "cell_type": "code",
   "execution_count": null,
   "metadata": {},
   "outputs": [],
   "source": []
  }
 ],
 "metadata": {
  "kernelspec": {
   "display_name": "Python 3",
   "language": "python",
   "name": "python3"
  },
  "language_info": {
   "codemirror_mode": {
    "name": "ipython",
    "version": 3
   },
   "file_extension": ".py",
   "mimetype": "text/x-python",
   "name": "python",
   "nbconvert_exporter": "python",
   "pygments_lexer": "ipython3",
   "version": "3.10.12"
  }
 },
 "nbformat": 4,
 "nbformat_minor": 2
}
