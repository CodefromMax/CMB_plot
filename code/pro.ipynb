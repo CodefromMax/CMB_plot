{
 "cells": [
  {
   "cell_type": "code",
   "execution_count": null,
   "metadata": {},
   "outputs": [],
   "source": [
    "import numpy as np\n",
    "\n",
    "# thread = np.load(\"ILC/covariance_matrix/cov_MW_Pix2_F030_044_070_100_143_217_353_545_857_S0_R0000_Full.npy\")\n",
    "# multiprocess = np.load(\"ILC/covariance_matrix/cov_MW_Pix2_F030_044_070_100_143_217_353_545_857_S0_R0000_MP.npy\")\n",
    "\n",
    "# thread = np.load(\"ILC/wavelet_doubled/Wav_Pix2_F030_S6_R0000.npy\")\n",
    "\n",
    "# multiprocess = np.load(\"ILC/wavelet_doubled/Wav_Pix2_F030_S6_R0000_MP.npy\")\n",
    "\n",
    "# thread = sum(sum(sum(sum(np.load(f\"ILC/covariance_matrix/half_original_0.npy\")))))\n",
    "# multiprocess = sum(sum(sum(sum(np.load(f\"ILC/covariance_matrix/half_cov_1_0.npy\")))))\n",
    "\n",
    "# thread = np.load(\"ILC/covariance_matrix/half_original_0.npy\")\n",
    "# multiprocess = np.load(\"ILC/covariance_matrix/half_cov_1_0.npy\")\n",
    "\n",
    "thread = np.load(\"ILC/covariance_matrix/half_original_4.npy\")\n",
    "multiprocess = np.load(\"ILC/covariance_matrix/half_cov_1_4.npy\")\n"
   ]
  },
  {
   "cell_type": "code",
   "execution_count": 36,
   "metadata": {},
   "outputs": [
    {
     "data": {
      "text/plain": [
       "array([[ True,  True,  True, ...,  True,  True,  True],\n",
       "       [ True,  True,  True, ...,  True,  True,  True],\n",
       "       [ True,  True,  True, ...,  True,  True,  True],\n",
       "       ...,\n",
       "       [ True,  True,  True, ...,  True,  True,  True],\n",
       "       [ True,  True,  True, ...,  True,  True,  True],\n",
       "       [ True,  True,  True, ...,  True,  True,  True]])"
      ]
     },
     "execution_count": 36,
     "metadata": {},
     "output_type": "execute_result"
    }
   ],
   "source": [
    "thread == multiprocess"
   ]
  },
  {
   "cell_type": "code",
   "execution_count": null,
   "metadata": {},
   "outputs": [
    {
     "data": {
      "text/plain": [
       "array([[4.22927675e-10, 4.23040075e-10, 4.23153004e-10, ...,\n",
       "        4.22607026e-10, 4.22709878e-10, 4.22817172e-10],\n",
       "       [4.23064046e-10, 4.23433541e-10, 4.23810191e-10, ...,\n",
       "        4.22051080e-10, 4.22368062e-10, 4.22707207e-10],\n",
       "       [4.23450319e-10, 4.24116833e-10, 4.24804316e-10, ...,\n",
       "        4.21684257e-10, 4.22224606e-10, 4.22816186e-10],\n",
       "       ...,\n",
       "       [4.02289307e-10, 4.02856875e-10, 4.03451141e-10, ...,\n",
       "        4.00830000e-10, 4.01268577e-10, 4.01757254e-10],\n",
       "       [4.02356682e-10, 4.02620082e-10, 4.02893279e-10, ...,\n",
       "        4.01658750e-10, 4.01872979e-10, 4.02106577e-10],\n",
       "       [4.02924740e-10, 4.02924740e-10, 4.02924740e-10, ...,\n",
       "        4.02924740e-10, 4.02924740e-10, 4.02924740e-10]])"
      ]
     },
     "execution_count": 37,
     "metadata": {},
     "output_type": "execute_result"
    }
   ],
   "source": [
    "print(thread.shape)\n",
    "thread"
   ]
  },
  {
   "cell_type": "code",
   "execution_count": 38,
   "metadata": {},
   "outputs": [
    {
     "data": {
      "text/plain": [
       "array([[4.22927675e-10, 4.23040075e-10, 4.23153004e-10, ...,\n",
       "        4.22607026e-10, 4.22709878e-10, 4.22817172e-10],\n",
       "       [4.23064046e-10, 4.23433541e-10, 4.23810191e-10, ...,\n",
       "        4.22051080e-10, 4.22368062e-10, 4.22707207e-10],\n",
       "       [4.23450319e-10, 4.24116833e-10, 4.24804316e-10, ...,\n",
       "        4.21684257e-10, 4.22224606e-10, 4.22816186e-10],\n",
       "       ...,\n",
       "       [4.02289307e-10, 4.02856875e-10, 4.03451141e-10, ...,\n",
       "        4.00830000e-10, 4.01268577e-10, 4.01757254e-10],\n",
       "       [4.02356682e-10, 4.02620082e-10, 4.02893279e-10, ...,\n",
       "        4.01658750e-10, 4.01872979e-10, 4.02106577e-10],\n",
       "       [4.02924740e-10, 4.02924740e-10, 4.02924740e-10, ...,\n",
       "        4.02924740e-10, 4.02924740e-10, 4.02924740e-10]])"
      ]
     },
     "execution_count": 38,
     "metadata": {},
     "output_type": "execute_result"
    }
   ],
   "source": [
    "multiprocess"
   ]
  },
  {
   "cell_type": "code",
   "execution_count": null,
   "metadata": {},
   "outputs": [],
   "source": []
  }
 ],
 "metadata": {
  "kernelspec": {
   "display_name": "Python 3",
   "language": "python",
   "name": "python3"
  },
  "language_info": {
   "codemirror_mode": {
    "name": "ipython",
    "version": 3
   },
   "file_extension": ".py",
   "mimetype": "text/x-python",
   "name": "python",
   "nbconvert_exporter": "python",
   "pygments_lexer": "ipython3",
   "version": "3.10.12"
  }
 },
 "nbformat": 4,
 "nbformat_minor": 2
}
