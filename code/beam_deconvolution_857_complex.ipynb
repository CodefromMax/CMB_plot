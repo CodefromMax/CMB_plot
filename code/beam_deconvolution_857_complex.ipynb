{
 "cells": [
  {
   "cell_type": "code",
   "execution_count": 2,
   "metadata": {},
   "outputs": [],
   "source": [
    "import jax\n",
    "jax.config.update(\"jax_enable_x64\", True)\n",
    "import s2fft\n",
    "import healpy as hp\n",
    "import numpy as np\n",
    "import s2wav\n",
    "import s2wav\n",
    "import matplotlib.pyplot as plt\n",
    "%matplotlib inline \n",
    "import skyclean\n",
    "from skyclean import CMB_data\n",
    "from astropy.io import fits\n"
   ]
  },
  {
   "cell_type": "code",
   "execution_count": 3,
   "metadata": {},
   "outputs": [],
   "source": [
    "local_path = \"../../CMB_plot/BeamWf_HFI_R3.01/\"\n",
    "\n",
    "# Open the FITS file\n",
    "hfi = fits.open(local_path + \"Bl_T_R3.01_fullsky_857x857.fits\")"
   ]
  },
  {
   "cell_type": "code",
   "execution_count": 9,
   "metadata": {},
   "outputs": [],
   "source": [
    "\n",
    "temperature_data = hfi[1].data['TEMPERATURE']"
   ]
  },
  {
   "cell_type": "code",
   "execution_count": 12,
   "metadata": {},
   "outputs": [
    {
     "data": {
      "text/plain": [
       "array([1.        , 0.99999923, 0.99999762, ..., 0.1245206 , 0.12438423,\n",
       "       0.12424795])"
      ]
     },
     "execution_count": 12,
     "metadata": {},
     "output_type": "execute_result"
    }
   ],
   "source": [
    "temperature_data"
   ]
  },
  {
   "cell_type": "code",
   "execution_count": 4,
   "metadata": {},
   "outputs": [
    {
     "name": "stdout",
     "output_type": "stream",
     "text": [
      "Filename: ../../CMB_plot/BeamWf_HFI_R3.01/Bl_T_R3.01_fullsky_857x857.fits\n",
      "No.    Name      Ver    Type      Cards   Dimensions   Format\n",
      "  0  PRIMARY       1 PrimaryHDU      19   ()      \n",
      "  1  WINDOW FUNCTION    1 TableHDU        26   4001R x 1C   [E15.7]   \n",
      "None\n",
      "4001\n"
     ]
    }
   ],
   "source": [
    "print(hfi.info())\n",
    "print(hfi[1].data.shape[0])    "
   ]
  },
  {
   "cell_type": "code",
   "execution_count": null,
   "metadata": {},
   "outputs": [],
   "source": []
  },
  {
   "cell_type": "code",
   "execution_count": 14,
   "metadata": {},
   "outputs": [
    {
     "name": "stdout",
     "output_type": "stream",
     "text": [
      "Attributes:\n",
      " [['path', '../data/planck_simulation/ffp10_newdust_total_857_full_map.fits'], ['nside', 2048], ['lmax usually 2 * nisde', 4096]]\n",
      "Maps:\n",
      " [['original_hp_map', 'Available'], ['original_mw_map', None], ['reconstructed_hp_map', None], ['reconstructed_mw_map', None]]\n",
      "Alms:\n",
      " [['original_hp_alm', 'Available'], ['reconstructed_hp_alm', None]]\n",
      "Wavelet_related:\n",
      " [['wavelet_coeff', None], ['Scaling_coeff', None]]\n"
     ]
    }
   ],
   "source": [
    "CMB_data_30.show_attributes()"
   ]
  },
  {
   "cell_type": "code",
   "execution_count": 6,
   "metadata": {},
   "outputs": [
    {
     "name": "stdout",
     "output_type": "stream",
     "text": [
      "CMB_Data object created, (use show_attributes() to check the attributes)\n"
     ]
    },
    {
     "data": {
      "text/plain": [
       "(4001, 8001)"
      ]
     },
     "execution_count": 6,
     "metadata": {},
     "output_type": "execute_result"
    }
   ],
   "source": [
    "CMB_map_path = '../data/planck_simulation/ffp10_newdust_total_857_full_map.fits'\n",
    "CMB_data_30 = skyclean.CMB_data.CMB_Data(CMB_map_path)\n",
    "\n",
    "# Store get mw alm\n",
    "CMB_data_30.original_hp_alm = hp.map2alm(CMB_data_30.original_hp_map, lmax=hfi[1].data.shape[0])\n",
    "CMB_data_30.original_mw_alm = CMB_data_30.hp_alm_to_mw_alm(CMB_data_30.original_hp_alm, lmax=hfi[1].data.shape[0])\n",
    "\n",
    "CMB_data_30.original_mw_alm.shape"
   ]
  },
  {
   "cell_type": "code",
   "execution_count": 13,
   "metadata": {},
   "outputs": [
    {
     "data": {
      "text/plain": [
       "(4001, 8001)"
      ]
     },
     "execution_count": 13,
     "metadata": {},
     "output_type": "execute_result"
    }
   ],
   "source": [
    "# Deconvolve the beam window function from the CMB data\n",
    "CMB_data_30_beam_deconvolved = np.zeros(CMB_data_30.original_mw_alm.shape, dtype=np.complex128)\n",
    "\n",
    "for i in range(CMB_data_30.original_mw_alm.shape[1]):\n",
    "    CMB_data_30_beam_deconvolved[:, i] = CMB_data_30.original_mw_alm[:, i] / temperature_data\n",
    "CMB_data_30_beam_deconvolved.shape\n",
    "# print(CMB_data_30_beam_deconvolved)"
   ]
  },
  {
   "cell_type": "code",
   "execution_count": 12,
   "metadata": {},
   "outputs": [
    {
     "data": {
      "text/plain": [
       "[<matplotlib.lines.Line2D at 0x70aebaa91ae0>]"
      ]
     },
     "execution_count": 12,
     "metadata": {},
     "output_type": "execute_result"
    },
    {
     "data": {
      "image/png": "[encoded data removed]",
      "text/plain": [
       "<Figure size 432x288 with 1 Axes>"
      ]
     },
     "metadata": {
      "needs_background": "light"
     },
     "output_type": "display_data"
    }
   ],
   "source": [
    "# plt.plot(bl)\n",
    "# # plt.yscale('log')\n",
    "# plt.plot(Standard_bl)\n",
    "# plt.yscale('log')\n",
    "# plt.plot(thresholded_bl)\n"
   ]
  },
  {
   "cell_type": "code",
   "execution_count": null,
   "metadata": {},
   "outputs": [],
   "source": [
    "# alm / beam/ pix * new beam "
   ]
  },
  {
   "cell_type": "code",
   "execution_count": 2,
   "metadata": {},
   "outputs": [
    {
     "name": "stdout",
     "output_type": "stream",
     "text": [
      "[[ True  True  True ...  True  True  True]\n",
      " [ True  True  True ...  True  True  True]\n",
      " [ True  True  True ...  True  True  True]\n",
      " ...\n",
      " [ True  True  True ...  True  True  True]\n",
      " [ True  True  True ...  True  True  True]\n",
      " [ True  True  True ...  True  True  True]]\n"
     ]
    }
   ],
   "source": [
    "\n",
    "\n",
    "def vertical_operation(mw_alm, bl,operation):\n",
    "    \"\"\"\n",
    "    Perform a vertical operation of each column of the original_mw_alm matrix by the thresholded_bl vector.\n",
    "    \n",
    "    Parameters:\n",
    "    original_mw_alm (ndarray): The original matrix to be divided.\n",
    "    thresholded_bl (ndarray): The vector by which each column of the matrix will be divided.\n",
    "    \n",
    "    Returns:\n",
    "    ndarray: A new matrix with each column of original_mw_alm divided by thresholded_bl.\n",
    "    \"\"\"\n",
    "    # # Ensure thresholded_bl is a column vector for broadcasting\n",
    "    # thresholded_bl = thresholded_bl[:, np.newaxis]\n",
    "    \n",
    "    # # Perform the division\n",
    "    # beam_deconvolved = original_mw_alm / thresholded_bl\n",
    "    beam_deconvolved = np.zeros(mw_alm.shape, dtype=np.complex128)\n",
    "\n",
    "    if operation == '*':\n",
    "        for i in range(mw_alm.shape[1]):\n",
    "            beam_deconvolved[:, i] = mw_alm[:, i] * bl\n",
    "    elif operation == '/':\n",
    "        for i in range(mw_alm.shape[1]):\n",
    "            beam_deconvolved[:, i] = mw_alm[:, i] / bl\n",
    "    else:\n",
    "        raise ValueError(\"Operation must be '*' or '/'\")\n",
    "\n",
    "\n",
    "    return beam_deconvolved\n",
    "\n",
    "# Example usage\n",
    "# Assuming CMB_data_30.original_mw_alm and thresholded_bl are already defined\n",
    "CMB_data_30_beam_deconvolved_1 = vertical_operation(CMB_data_30.original_mw_alm, thresholded_bl,\"/\")\n",
    "\n",
    "# Check the shape\n",
    "print(CMB_data_30_beam_deconvolved==CMB_data_30_beam_deconvolved_1)\n"
   ]
  },
  {
   "cell_type": "code",
   "execution_count": 18,
   "metadata": {},
   "outputs": [
    {
     "name": "stdout",
     "output_type": "stream",
     "text": [
      "(4001,)\n"
     ]
    }
   ],
   "source": [
    "# Convert arcminutes to radians\n",
    "def arcmin_to_radians(arcmin):\n",
    "    return np.radians(arcmin / 60)\n",
    "\n",
    "\n",
    "# Get the Pixel Window Function for the specified nside\n",
    "pixwin = hp.sphtfunc.pixwin(CMB_data_30.nside, lmax=hfi[1].data.shape[0]-1, pol=False)\n",
    "\n",
    "print(pixwin.shape)\n",
    "# print(pixwin.min())"
   ]
  },
  {
   "cell_type": "code",
   "execution_count": 19,
   "metadata": {},
   "outputs": [
    {
     "data": {
      "text/plain": [
       "(4001, 8001)"
      ]
     },
     "execution_count": 19,
     "metadata": {},
     "output_type": "execute_result"
    }
   ],
   "source": [
    "CMB_data_30_pix_beam_deconvolved = np.zeros(CMB_data_30.original_mw_alm.shape, dtype=np.complex128)\n",
    "\n",
    "for i in range(CMB_data_30.original_mw_alm.shape[1]):\n",
    "    CMB_data_30_pix_beam_deconvolved[:, i] = CMB_data_30_beam_deconvolved[:, i] / pixwin\n",
    "CMB_data_30_pix_beam_deconvolved.shape"
   ]
  },
  {
   "cell_type": "code",
   "execution_count": 20,
   "metadata": {},
   "outputs": [
    {
     "name": "stdout",
     "output_type": "stream",
     "text": [
      "(4001,)\n"
     ]
    }
   ],
   "source": [
    "fwhm_rad = arcmin_to_radians(5)\n",
    "Standard_bl = hp.sphtfunc.gauss_beam(fwhm_rad, lmax=hfi[1].data.shape[0]-1, pol=False)\n",
    "\n",
    "print(Standard_bl.shape)"
   ]
  },
  {
   "cell_type": "code",
   "execution_count": 6,
   "metadata": {},
   "outputs": [
    {
     "data": {
      "image/png": "[encoded data removed]",
      "text/plain": [
       "<Figure size 432x288 with 1 Axes>"
      ]
     },
     "metadata": {
      "needs_background": "light"
     },
     "output_type": "display_data"
    }
   ],
   "source": [
    "plt.plot(Standard_bl/bl)\n",
    "plt.yscale('log')"
   ]
  },
  {
   "cell_type": "code",
   "execution_count": 21,
   "metadata": {},
   "outputs": [
    {
     "data": {
      "text/plain": [
       "(4001, 8001)"
      ]
     },
     "execution_count": 21,
     "metadata": {},
     "output_type": "execute_result"
    }
   ],
   "source": [
    "deconvolved_CMB_data_30 = np.zeros(CMB_data_30.original_mw_alm.shape, dtype=np.complex128)   \n",
    "\n",
    "\n",
    "for i in range(CMB_data_30.original_mw_alm.shape[1]):\n",
    "    deconvolved_CMB_data_30[:, i] = CMB_data_30_pix_beam_deconvolved[:, i] * Standard_bl\n",
    "deconvolved_CMB_data_30.shape"
   ]
  },
  {
   "cell_type": "code",
   "execution_count": 23,
   "metadata": {},
   "outputs": [],
   "source": [
    "processed_30_hp_alm = CMB_data_30.mw_alm_to_hp_alm(deconvolved_CMB_data_30, lmax=deconvolved_CMB_data_30.shape[0])\n",
    "\n",
    "processed_30_hp_map = hp.alm2map(processed_30_hp_alm, nside=CMB_data_30.nside, lmax=deconvolved_CMB_data_30.shape[0]-1)\n",
    "\n",
    "hp.mollview(\n",
    "        CMB_data_30.original_hp_map,\n",
    "        coord=[\"G\"],\n",
    "        title=\"Full Sky CMB at \"+\"857\",\n",
    "        # unit=r\"$\\mu$K\",\n",
    "        # min=-300, \n",
    "        # max=300,\n",
    "    )\n",
    "\n",
    "\n",
    "hp.mollview(\n",
    "        processed_30_hp_map,\n",
    "        coord=[\"G\"],\n",
    "        title=\"Full Sky CMB at \"+\"857\",\n",
    "        # unit=r\"$\\mu$K\",\n",
    "        # min=-300, \n",
    "        # max=300,\n",
    "    )\n",
    "\n",
    "# CMB_data_30.plot_mollview(CMB_data_30.original_hp_map, title='Original 857 GHz Map')\n",
    "# CMB_data_30.plot_mollview(processed_30_hp_map, title='Processed 857 GHz Map')\n",
    "\n",
    "# CMB_data_30.plot_mollview(CMB_data_30.original_hp_map - processed_30_hp_map, title='Difference Map')\n",
    "\n",
    "# CMB_data_30.plot_mollview(processed_30_hp_map+(CMB_data_30.original_hp_map - processed_30_hp_map), title='check Map')"
   ]
  },
  {
   "cell_type": "code",
   "execution_count": null,
   "metadata": {},
   "outputs": [],
   "source": []
  }
 ],
 "metadata": {
  "kernelspec": {
   "display_name": "Python 3",
   "language": "python",
   "name": "python3"
  },
  "language_info": {
   "codemirror_mode": {
    "name": "ipython",
    "version": 3
   },
   "file_extension": ".py",
   "mimetype": "text/x-python",
   "name": "python",
   "nbconvert_exporter": "python",
   "pygments_lexer": "ipython3",
   "version": "3.10.12"
  }
 },
 "nbformat": 4,
 "nbformat_minor": 2
}
