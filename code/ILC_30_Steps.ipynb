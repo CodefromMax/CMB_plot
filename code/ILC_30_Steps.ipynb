{
 "cells": [
  {
   "cell_type": "code",
   "execution_count": 12,
   "metadata": {},
   "outputs": [],
   "source": [
    "import math as mh\n",
    "import multiprocessing as mg\n",
    "import multiprocessing.pool\n",
    "# import pys2let as ps\n",
    "import random\n",
    "import string\n",
    "import itertools\n",
    "import os\n",
    "\n",
    "import jax\n",
    "jax.config.update(\"jax_enable_x64\", True)\n",
    "import s2fft\n",
    "import healpy as hp\n",
    "import numpy as np\n",
    "import s2wav\n",
    "import s2wav\n",
    "import matplotlib.pyplot as plt\n",
    "%matplotlib inline \n",
    "import skyclean\n",
    "from skyclean import CMB_data"
   ]
  },
  {
   "cell_type": "code",
   "execution_count": 10,
   "metadata": {},
   "outputs": [],
   "source": [
    "# In Pixel space\n",
    "\n",
    "stored_wavelet_coeffs_pix = [np.load(f\"../convolution/wavelet_coefficient/wav_30_{i}.npy\", allow_pickle=True) for i in range(12)]\n",
    "stored_scaling_coeffs_pix = np.load(\"../convolution/scaling_coefficient/scal_30.npy\")"
   ]
  },
  {
   "cell_type": "code",
   "execution_count": 46,
   "metadata": {},
   "outputs": [
    {
     "name": "stdout",
     "output_type": "stream",
     "text": [
      "Scale: 0 original size (1, 4, 7)\n",
      "Scale: 0 alm size (4, 7)\n",
      "Scale: 1 original size (1, 4, 7)\n",
      "Scale: 1 alm size (4, 7)\n",
      "Scale: 2 original size (1, 8, 15)\n",
      "Scale: 2 alm size (8, 15)\n",
      "finished converting wavelet coefficient from MW pixel to MW alm space\n",
      "Scale: 0 original alm size (4, 7)\n",
      "Scale: 0 padded alm size (8, 7)\n",
      "Scale: 0 doubled alm size (8, 7)\n",
      "Scale: 1 original alm size (4, 7)\n",
      "Scale: 1 padded alm size (8, 7)\n",
      "Scale: 1 doubled alm size (8, 7)\n",
      "Scale: 2 original alm size (8, 15)\n",
      "Scale: 2 padded alm size (16, 15)\n",
      "Scale: 2 doubled alm size (16, 15)\n"
     ]
    }
   ],
   "source": [
    "# The extra dimension for the wavelet coefficients is for spin?\n",
    "# Convert wavelet coefficient from MW pixel space to MW alm space\n",
    "stored_wavelet_coeffs_pix[0].shape\n",
    "stored_wavelet_coeffs_pix = stored_wavelet_coeffs_pix[:3]\n",
    "\n",
    "stored_wavelet_coeffs_alm = []\n",
    "\n",
    "for i in range(len(stored_wavelet_coeffs_pix)):\n",
    "    print(\"Scale:\",i,\"original size\", stored_wavelet_coeffs_pix[i].shape)\n",
    "    stored_wavelet_coeffs_alm.append(s2fft.forward(stored_wavelet_coeffs_pix[i], L = stored_wavelet_coeffs_pix[i].shape[1]))\n",
    "    print(\"Scale:\",i,\"alm size\", stored_wavelet_coeffs_alm[i].shape)\n",
    "\n",
    "print(\"finished converting wavelet coefficient from MW pixel to MW alm space\")\n",
    "\n",
    "stored_wavelet_coeffs_alm_doubled = []\n",
    "for i in range(len(stored_wavelet_coeffs_alm)):\n",
    "    print(\"Scale:\",i,\"original alm size\", stored_wavelet_coeffs_alm[i].shape)\n",
    "    padded_alm = np.zeros((stored_wavelet_coeffs_alm[i].shape[0]*2,stored_wavelet_coeffs_alm[i].shape[1]))\n",
    "    # stored_wavelet_coeffs_alm_doubled.append(skyclean.double_resolution(stored_wavelet_coeffs_alm[i]))\n",
    "    padded_alm[:stored_wavelet_coeffs_alm[i].shape[0], :] = stored_wavelet_coeffs_alm[i]\n",
    "    print(\"Scale:\",i,\"padded alm size\", padded_alm.shape)\n",
    "    stored_wavelet_coeffs_alm_doubled.append(padded_alm)\n",
    "    # print(\"Scale:\",i,\"doubled alm size\", stored_wavelet_coeffs_alm_doubled[i].shape)\n",
    "    # print(padded_alm)"
   ]
  },
  {
   "cell_type": "code",
   "execution_count": 52,
   "metadata": {},
   "outputs": [
    {
     "data": {
      "text/plain": [
       "8"
      ]
     },
     "execution_count": 52,
     "metadata": {},
     "output_type": "execute_result"
    }
   ],
   "source": [
    "print(stored_wavelet_coeffs_alm_doubled[0].shape)\n"
   ]
  },
  {
   "cell_type": "code",
   "execution_count": 53,
   "metadata": {},
   "outputs": [
    {
     "name": "stdout",
     "output_type": "stream",
     "text": [
      "(8, 7)\n",
      "(4, 7)\n",
      "(8, 7)\n"
     ]
    }
   ],
   "source": [
    "print(stored_wavelet_coeffs_alm_doubled[0].shape)\n",
    "# print(np.multiply(stored_wavelet_coeffs_alm[0], stored_wavelet_coeffs_alm[0]).shape)\n",
    "print(np.multiply(stored_wavelet_coeffs_alm_doubled[0], stored_wavelet_coeffs_alm_doubled[0]).shape)\n",
    "# print(np.multiply(stored_wavelet_coeffs_alm_doubled[0], stored_wavelet_coeffs_alm_doubled[0]))"
   ]
  },
  {
   "cell_type": "code",
   "execution_count": 54,
   "metadata": {},
   "outputs": [
    {
     "data": {
      "text/plain": [
       "array([[1, 2],\n",
       "       [3, 4]])"
      ]
     },
     "metadata": {},
     "output_type": "display_data"
    },
    {
     "data": {
      "text/plain": [
       "array([[5, 6],\n",
       "       [7, 8]])"
      ]
     },
     "metadata": {},
     "output_type": "display_data"
    },
    {
     "data": {
      "text/plain": [
       "array([[ 5, 12],\n",
       "       [21, 32]])"
      ]
     },
     "metadata": {},
     "output_type": "display_data"
    }
   ],
   "source": [
    "a = np.array([[1,2],[3,4]])\n",
    "b = np.array([[5,6],[7,8]])\n",
    "display(a)\n",
    "display(b)\n",
    "display(np.multiply(a,b))"
   ]
  },
  {
   "cell_type": "code",
   "execution_count": null,
   "metadata": {},
   "outputs": [],
   "source": [
    "# draft\n",
    "# print(stored_wavelet_coeffs_pix[0])\n",
    "# print(s2fft.inverse(stored_wavelet_coeffs_alm[0],L=stored_wavelet_coeffs_alm[0].shape[0]))\n",
    "# print(stored_wavelet_coeffs_alm[0])"
   ]
  },
  {
   "cell_type": "code",
   "execution_count": null,
   "metadata": {},
   "outputs": [],
   "source": [
    "# Shape of wavelet_coeffs:0 (1, 4, 7)\n",
    "# Shape of wavelet_coeffs:1 (1, 4, 7)\n",
    "# Shape of wavelet_coeffs:2 (1, 8, 15)\n",
    "# Shape of wavelet_coeffs:3 (1, 16, 31)\n",
    "# Shape of wavelet_coeffs:4 (1, 32, 63)\n",
    "# Shape of wavelet_coeffs:5 (1, 64, 127)\n",
    "# Shape of wavelet_coeffs:6 (1, 128, 255)\n",
    "# Shape of wavelet_coeffs:7 (1, 256, 511)\n",
    "# Shape of wavelet_coeffs:8 (1, 512, 1023)\n",
    "# Shape of wavelet_coeffs:9 (1, 1024, 2047)\n",
    "# Shape of wavelet_coeffs:10 (1, 2048, 4095)\n",
    "# Shape of wavelet_coeffs:11 (1, 2048, 4095)"
   ]
  }
 ],
 "metadata": {
  "kernelspec": {
   "display_name": "Python 3",
   "language": "python",
   "name": "python3"
  },
  "language_info": {
   "codemirror_mode": {
    "name": "ipython",
    "version": 3
   },
   "file_extension": ".py",
   "mimetype": "text/x-python",
   "name": "python",
   "nbconvert_exporter": "python",
   "pygments_lexer": "ipython3",
   "version": "3.10.12"
  }
 },
 "nbformat": 4,
 "nbformat_minor": 2
}
