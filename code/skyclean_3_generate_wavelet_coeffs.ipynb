{
 "cells": [
  {
   "cell_type": "markdown",
   "metadata": {},
   "source": [
    "# 3. Wavelet Coefficient Maps Generation Notebook\n",
    "\n",
    "### This notebook is designed to generate wavelet coefficient maps for each frequency total maps. \n"
   ]
  },
  {
   "cell_type": "markdown",
   "metadata": {},
   "source": [
    "### 3.1 We first create the directory structure to store the outputs."
   ]
  },
  {
   "cell_type": "code",
   "execution_count": 8,
   "metadata": {},
   "outputs": [
    {
     "name": "stdout",
     "output_type": "stream",
     "text": [
      "Directory already exists: wavelet_transform\n",
      "Directory already exists: wavelet_transform/maps\n",
      "Directory already exists: wavelet_transform/wavelets\n",
      "Directory already exists: wavelet_transform/wavelets/wav_MW_maps\n",
      "Directory already exists: wavelet_transform/wavelets/scal_coeffs\n"
     ]
    }
   ],
   "source": [
    "import os\n",
    "\n",
    "def check_and_create_directories():\n",
    "    \"\"\"\n",
    "    Checks for the existence of a nested directory structure and creates any missing directories.\n",
    "    Prints a message whether the directory is created or already exists.\n",
    "\n",
    "    The structure checked is:\n",
    "    - wavelet_transform\n",
    "      - maps\n",
    "      - wavelets\n",
    "        - wav_MW_maps\n",
    "        - scal_coeffs\n",
    "    \"\"\"\n",
    "\n",
    "    # Define the root directory and subdirectories\n",
    "    root_dir = \"wavelet_transform\"\n",
    "    sub_dirs = [\"maps\", \"wavelets\"]\n",
    "    wavelet_sub_dirs = [\"wav_MW_maps\", \"scal_coeffs\"]\n",
    "\n",
    "    # Check if root directory exists, create if not\n",
    "    if not os.path.exists(root_dir):\n",
    "        os.mkdir(root_dir)\n",
    "        print(f\"Created directory: {root_dir}\")\n",
    "    else:\n",
    "        print(f\"Directory already exists: {root_dir}\")\n",
    "    \n",
    "    # Iterate over and create subdirectories in the root directory\n",
    "    for sub_dir in sub_dirs:\n",
    "        dir_path = os.path.join(root_dir, sub_dir)\n",
    "        if not os.path.exists(dir_path):\n",
    "            os.mkdir(dir_path)\n",
    "            print(f\"Created directory: {dir_path}\")\n",
    "        else:\n",
    "            print(f\"Directory already exists: {dir_path}\")\n",
    "        \n",
    "        # For the 'wavelets' directory, check and create nested subdirectories\n",
    "        if sub_dir == \"wavelets\":\n",
    "            for wavelet_sub_dir in wavelet_sub_dirs:\n",
    "                nested_dir_path = os.path.join(dir_path, wavelet_sub_dir)\n",
    "                if not os.path.exists(nested_dir_path):\n",
    "                    os.mkdir(nested_dir_path)\n",
    "                    print(f\"Created directory: {nested_dir_path}\")\n",
    "                else:\n",
    "                    print(f\"Directory already exists: {nested_dir_path}\")\n",
    "\n",
    "# Run the function to check and create directories as needed\n",
    "check_and_create_directories()\n"
   ]
  },
  {
   "cell_type": "markdown",
   "metadata": {},
   "source": [
    "### 3.2 Functions used to generate wavelet coefficient maps.\n",
    "\n",
    "wavelet_transform: Applies the wavelet transform to the input map using specified parameters (L_max, N_directions).\n",
    "save_wavelet_scaling_coeffs: Saves the computed wavelet and scaling coefficients to .npy files.\n",
    "load_wavelet_scaling_coeffs: Loads previously saved wavelet and scaling coefficients from files.\n",
    "generate_wavelet_coeffs: The main function that reads a CMB map, converts it to spherical harmonic coefficients, applies the wavelet transform, saves the results, and visualizes the wavelet coefficient maps."
   ]
  },
  {
   "cell_type": "code",
   "execution_count": 2,
   "metadata": {},
   "outputs": [],
   "source": [
    "import jax\n",
    "jax.config.update(\"jax_enable_x64\", True)\n",
    "import s2fft\n",
    "import healpy as hp\n",
    "import numpy as np\n",
    "import s2wav\n",
    "import s2wav.filters as filters\n",
    "import matplotlib.pyplot as plt\n",
    "import os\n",
    "import skyclean as sc\n",
    "\n",
    "\n",
    "\n",
    "\n",
    "def wavelet_transform(mw_pix_map, L_max, N_directions):\n",
    "    filter = filters.filters_directional_vectorised(L_max, N_directions)\n",
    "    MW_Pix_wavelet_coeffs, MW_Pix_scaling_coeffs = s2wav.analysis(mw_pix_map, N=N_directions, L=L_max, filters=filter, reality=False)\n",
    "    return MW_Pix_wavelet_coeffs, MW_Pix_scaling_coeffs\n",
    "\n",
    "def save_wavelet_scaling_coeffs(wavelet_coeffs, scaling_coeffs, frequency, realization, wav_template = \"wavelet_transform/wavelets/wav_MW_maps/Wav_MW_Pix_F{frequency}_S{scale}_R{realization:04d}.npy\"\n",
    "                                , scal_template = \"wavelet_transform/wavelets/scal_coeffs/Scal_MW_Pix_F{frequency}_R{realization:04d}.npy\"):\n",
    "    \n",
    "    # Save wavelet coefficients\n",
    "    for scale, wav in enumerate(wavelet_coeffs):\n",
    "        np_wav = np.array(wav)  # Convert JAX array to numpy array\n",
    "        np.save(wav_template.format(frequency=frequency, scale=scale, realization=realization), np_wav)\n",
    "    \n",
    "    # Scaling coefficient is the same for all scales\n",
    "    np_scaling = np.array(scaling_coeffs)  # Convert JAX array to numpy array\n",
    "    np.save(scal_template.format(frequency=frequency, realization=realization), np_scaling)\n",
    "\n",
    "\n",
    "\n",
    "def load_wavelet_scaling_coeffs(frequency, num_wavelets, realization, wav_template = \"wavelet_transform/wavelets/wav_MW_maps/Wav_MW_Pix_F{frequency}_S{scale}_R{realization:04d}.npy\",\n",
    "                                scal_template = \"wavelet_transform/wavelets/scal_coeffs/Scal_MW_Pix_F{frequency}_R{realization:04d}.npy\"):\n",
    "\n",
    "    wavelet_coeffs = [np.real(np.load(wav_template.format(frequency=frequency, scale=scale, realization=realization))) for scale in range(num_wavelets)]\n",
    "    scaling_coeffs = np.real(np.load(scal_template.format(frequency=frequency, realization=realization)))\n",
    "    return wavelet_coeffs, scaling_coeffs\n",
    "\n",
    "def generate_wavelet_coeffs(CMB_map_path, frequency, L_max, N_directions, realization):\n",
    "    # Step 1: Read the Healpix map\n",
    "    healpix_map = hp.read_map(CMB_map_path)\n",
    "\n",
    "    # Step 2: Convert Healpix map to spherical harmonic coefficients\n",
    "    hp_alm = hp.map2alm(healpix_map, L_max)\n",
    "\n",
    "    # Step 3: Convert spherical harmonics to MW coefficients\n",
    "    mw_alm = sc.hp_alm_2_mw_alm(hp_alm, L_max)\n",
    "\n",
    "    # Step 4: Transform MW coefficients back to a map (optional, based on use case)\n",
    "    original_MW_Map = s2fft.inverse(mw_alm, L_max)\n",
    "    # np.save(f'wavelet_transform/maps/Original_MW_Pix_map_F{frequency}_R{realization:04d}.npy', original_MW_Map)\n",
    "\n",
    "    # Step 5: Apply wavelet transform to the MW map to get wavelet and scaling coefficients\n",
    "    wavelet_coeffs, scaling_coeffs = wavelet_transform(original_MW_Map, L_max, N_directions)\n",
    "\n",
    "    # Step 6: Save the wavelet and scaling coefficients\n",
    "    save_wavelet_scaling_coeffs(wavelet_coeffs, scaling_coeffs, frequency, realization)\n",
    "\n",
    "    # Step 7: Load the wavelet and scaling coefficients\n",
    "    loaded_wavelet_coeffs, loaded_scaling_coeffs = load_wavelet_scaling_coeffs(frequency, len(wavelet_coeffs), realization)\n",
    "\n",
    "    # Print shapes and graph for verification\n",
    "    for scale in range(len(loaded_wavelet_coeffs)):\n",
    "        print(\"wavelets shape\", loaded_wavelet_coeffs[scale].shape)\n",
    "        sc.visualize_MW_Pix_map(loaded_wavelet_coeffs[scale], f\"Wavelet Coefficient Map at Scale {scale}\")\n",
    "    return loaded_wavelet_coeffs, loaded_scaling_coeffs, original_MW_Map\n"
   ]
  },
  {
   "cell_type": "markdown",
   "metadata": {},
   "source": [
    "### 3.3 Generate wavelet coefficient maps for CMB maps in batch"
   ]
  },
  {
   "cell_type": "code",
   "execution_count": null,
   "metadata": {},
   "outputs": [],
   "source": [
    "def process_cmb_data(L_max, N_directions, realization_list, frequencies, data_path_template):\n",
    "    \"\"\"\n",
    "    Process CMB data and generate wavelets for each frequency and realization.\n",
    "\n",
    "    Parameters:\n",
    "    L_max (int): The maximum multipole moment.\n",
    "    N_directions (int): The number of directions for the wavelets.\n",
    "    realization_list (list): A list of realizations to process.\n",
    "    frequencies (list): A list of frequency strings.\n",
    "    data_path_template (str): Template for the data path with a placeholder for frequency.\n",
    "    generate_wavelets (function): Function to generate wavelets, taking parameters CMB_map_path, frequency, L_max, N_directions, realization.\n",
    "    \"\"\"\n",
    "    \n",
    "       \n",
    "    for realization in realization_list:\n",
    "        realization_str = str(realization).zfill(4)\n",
    "        print(f\"Processing realization {realization}\")\n",
    "        for frequency in frequencies:\n",
    "            print(f\"Generate Wavelet coefficient map for frequency {frequency}\")\n",
    "            CMB_map_path = data_path_template.format(frequency=frequency, L_max = L_max, realization=realization_str)\n",
    "            if not os.path.exists(CMB_map_path): \n",
    "                print(f\"File {CMB_map_path} does not exist\")\n",
    "                continue \n",
    "            wavelet_path = f\"wavelet_transform/wavelets/wav_MW_maps/Wav_MW_Pix_F{frequency}_S5_R{realization_str}.npy\"\n",
    "            # if os.path.exists(wavelet_path): \n",
    "            #     print(f\"File {wavelet_path} already exist\")\n",
    "            #     continue \n",
    "            wavelet, scal, original = generate_wavelet_coeffs(CMB_map_path, frequency, L_max, N_directions, realization)\n",
    "            # return wavelet, scal, original\n",
    "        # You can add any additional processing or saving logic here if needed\n"
   ]
  },
  {
   "cell_type": "code",
   "execution_count": 25,
   "metadata": {},
   "outputs": [],
   "source": [
    "\n",
    "# Example usage\n",
    "# This L_max should match the L_max of the total map (CSN)\n",
    "L_max = 256\n",
    "N_directions = 1\n",
    "realization_list = range(1)\n",
    "# frequencies = [\"030\"]\n",
    "frequencies = [\"030\", \"044\", \"070\", \"100\", \"143\", \"217\", \"353\", \"545\", \"857\"]\n",
    "CSN_data_path_template = 'CMB_total/CSN_HP_Map_F{frequency}_L{L_max}_R{realization}.fits'\n",
    "\n",
    "process_cmb_data(L_max, N_directions, realization_list, frequencies, CSN_data_path_template)\n"
   ]
  },
  {
   "cell_type": "code",
   "execution_count": 22,
   "metadata": {},
   "outputs": [
    {
     "ename": "NameError",
     "evalue": "name 'wavelet' is not defined",
     "output_type": "error",
     "traceback": [
      "\u001b[0;31m---------------------------------------------------------------------------\u001b[0m",
      "\u001b[0;31mNameError\u001b[0m                                 Traceback (most recent call last)",
      "\u001b[0;32m/tmp/ipykernel_3627372/3119517620.py\u001b[0m in \u001b[0;36m<module>\u001b[0;34m\u001b[0m\n\u001b[1;32m      8\u001b[0m \u001b[0;31m# [np.load(f\"wavelet_transform/wavelets/scal_coeffs/Scal_MW_Pix_F{frequencies[i]}.npy\") for i in range(len(frequencies))]\u001b[0m\u001b[0;34m\u001b[0m\u001b[0;34m\u001b[0m\u001b[0m\n\u001b[1;32m      9\u001b[0m \u001b[0;34m\u001b[0m\u001b[0m\n\u001b[0;32m---> 10\u001b[0;31m \u001b[0mMW_Pix\u001b[0m \u001b[0;34m=\u001b[0m \u001b[0ms2wav\u001b[0m\u001b[0;34m.\u001b[0m\u001b[0msynthesis\u001b[0m\u001b[0;34m(\u001b[0m\u001b[0mwavelet\u001b[0m\u001b[0;34m,\u001b[0m \u001b[0mL\u001b[0m \u001b[0;34m=\u001b[0m \u001b[0mL_max\u001b[0m\u001b[0;34m,\u001b[0m \u001b[0mf_scal\u001b[0m \u001b[0;34m=\u001b[0m \u001b[0mf_scal\u001b[0m\u001b[0;34m,\u001b[0m \u001b[0mfilters\u001b[0m \u001b[0;34m=\u001b[0m \u001b[0mfilter\u001b[0m\u001b[0;34m,\u001b[0m \u001b[0mN\u001b[0m \u001b[0;34m=\u001b[0m \u001b[0;36m1\u001b[0m\u001b[0;34m)\u001b[0m\u001b[0;34m\u001b[0m\u001b[0;34m\u001b[0m\u001b[0m\n\u001b[0m\u001b[1;32m     11\u001b[0m \u001b[0mprint\u001b[0m\u001b[0;34m(\u001b[0m\u001b[0mMW_Pix\u001b[0m\u001b[0;34m.\u001b[0m\u001b[0mshape\u001b[0m\u001b[0;34m)\u001b[0m\u001b[0;34m\u001b[0m\u001b[0;34m\u001b[0m\u001b[0m\n\u001b[1;32m     12\u001b[0m \u001b[0mtitle\u001b[0m \u001b[0;34m=\u001b[0m \u001b[0;34m\"Original CMB Signal Map \"\u001b[0m\u001b[0;34m\u001b[0m\u001b[0;34m\u001b[0m\u001b[0m\n",
      "\u001b[0;31mNameError\u001b[0m: name 'wavelet' is not defined"
     ]
    }
   ],
   "source": [
    "from s2wav import filters\n",
    "L_max = 256\n",
    "N_directions = 1\n",
    "filter = filters.filters_directional_vectorised(L_max, N_directions)\n",
    "# f_scal = np.array([[0]]) #np.load(f\"wavelet_transform/wavelets/scal_coeffs/Scal_MW_Pix_F030.npy\") \n",
    "f_scal = np.load(f\"wavelet_transform/wavelets/scal_coeffs/Scal_MW_Pix_F857_R0009.npy\") \n",
    "\n",
    "# [np.load(f\"wavelet_transform/wavelets/scal_coeffs/Scal_MW_Pix_F{frequencies[i]}.npy\") for i in range(len(frequencies))]\n",
    "\n",
    "MW_Pix = s2wav.synthesis(wavelet, L = L_max, f_scal = f_scal, filters = filter, N = 1)\n",
    "print(MW_Pix.shape)\n",
    "title = \"Original CMB Signal Map \"\n",
    "visualize_wavelet_coefficient_map(MW_Pix, title, \"\")"
   ]
  }
 ],
 "metadata": {
  "kernelspec": {
   "display_name": "Python 3",
   "language": "python",
   "name": "python3"
  },
  "language_info": {
   "codemirror_mode": {
    "name": "ipython",
    "version": 3
   },
   "file_extension": ".py",
   "mimetype": "text/x-python",
   "name": "python",
   "nbconvert_exporter": "python",
   "pygments_lexer": "ipython3",
   "version": "3.10.12"
  }
 },
 "nbformat": 4,
 "nbformat_minor": 2
}
