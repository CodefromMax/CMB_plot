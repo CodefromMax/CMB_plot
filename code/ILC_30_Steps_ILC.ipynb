{
 "cells": [
  {
   "cell_type": "code",
   "execution_count": 18,
   "metadata": {},
   "outputs": [],
   "source": [
    "import math\n",
    "import multiprocessing as mg\n",
    "import multiprocessing.pool\n",
    "# import pys2let as ps\n",
    "import random\n",
    "import string\n",
    "import itertools\n",
    "import os\n",
    "\n",
    "import jax\n",
    "jax.config.update(\"jax_enable_x64\", True)\n",
    "import s2fft\n",
    "import healpy as hp\n",
    "import numpy as np\n",
    "import s2wav\n",
    "import s2wav\n",
    "import matplotlib.pyplot as plt\n",
    "%matplotlib inline \n",
    "import skyclean\n",
    "from skyclean import CMB_data"
   ]
  },
  {
   "cell_type": "code",
   "execution_count": null,
   "metadata": {},
   "outputs": [],
   "source": []
  },
  {
   "cell_type": "code",
   "execution_count": 4,
   "metadata": {},
   "outputs": [
    {
     "name": "stdout",
     "output_type": "stream",
     "text": [
      "(8, 15)\n"
     ]
    },
    {
     "data": {
      "text/plain": [
       "(8, 15)"
      ]
     },
     "execution_count": 4,
     "metadata": {},
     "output_type": "execute_result"
    }
   ],
   "source": [
    "def mw_alm_2_hp_alm(MW_alm, lmax):\n",
    "    '''MW_alm: 2D array of shape (Lmax, 2*Lmax-1) (MW sampling, McEwen & Wiaux)\n",
    "    '''\n",
    "    # Initialize the 1D hp_alm array with the appropriate size\n",
    "    hp_alm = np.zeros(hp.Alm.getsize(lmax), dtype=np.complex128)\n",
    "        \n",
    "    for l in range(lmax + 1):\n",
    "        for m in range(-l, l + 1):\n",
    "            index = hp.Alm.getidx(lmax, l, abs(m))\n",
    "            if m < 0:\n",
    "                hp_alm[index] = (-1)**m * np.conj(MW_alm[l, lmax + m])\n",
    "            else:\n",
    "                hp_alm[index] = MW_alm[l, lmax + m]\n",
    "\n",
    "    return hp_alm\n",
    "\n",
    "\n",
    "def Single_Map_doubleworker(MW_Pix_Map):\n",
    "    '''\n",
    "    Input: MW_Pix_Map: list of mw maps at different scales \n",
    "    Each pixel map is a wavelet pixel map of shape (1, Lmax, 2*Lmax-1) (MW sampling, McEwen & Wiaux)\n",
    "    It is the output of s2wav.analysis\n",
    "    (Scale: 0, size (1, 4, 7))\n",
    "\n",
    "    Process:\n",
    "    1. Covert MW Pixel Map to MW alm space using s2fft.forward\n",
    "\n",
    "    2. Add zero to the mw alms  (Is it correct? or should I add zeros to the hp alm's and then convert to mw alm's)\n",
    "    by adding zeros to the MW alm's we are increasing the resolution of the map\n",
    "    Double the rows of the mw alms, since, the number of rows represents the L (level of detail)\n",
    "    \n",
    "    3. Convert mw alm to mw map \n",
    "    \n",
    "    '''\n",
    "    # print(\"original Pixel Map size\", MW_Pix_Map.shape)\n",
    "    MW_alm = s2fft.forward(MW_Pix_Map, L = MW_Pix_Map.shape[1])\n",
    "    # print(\"original alm size\", MW_alm.shape)\n",
    "    \n",
    "   \n",
    "    # print(\"Scale:\",i,\"original alm size\", MW_alm[i].shape)\n",
    "    padded_alm = np.zeros((MW_alm.shape[0]*2,MW_alm.shape[1]*2))\n",
    "    # stored_wavelet_coeffs_alm_doubled.append(skyclean.double_resolution(stored_wavelet_coeffs_alm[i]))\n",
    "    padded_alm[:MW_alm.shape[0], :MW_alm.shape[1]] = MW_alm\n",
    "    # print(\"padded alm size\", padded_alm.shape)\n",
    "    MW_alm_doubled = padded_alm\n",
    "    \n",
    "    MW_Pix_Map_doubled = s2fft.inverse(MW_alm_doubled, L = MW_alm_doubled.shape[0])\n",
    "    # print(\"Scale:\",\"doubled map size\", MW_Pix_Map_doubled.shape)\n",
    "\n",
    "    return MW_Pix_Map_doubled\n",
    "\n",
    "\n",
    "def smoothed_covariance(MW_Map1, MW_Map2):\n",
    "    '''\n",
    "    Input: MW_Map1, MW_Map2: same size MW pixel wavelet maps at different frequencies\n",
    "    output: R_map: smoothed covariance map beteen MW_Map1 and MW_Map2\n",
    "    '''\n",
    "    smoothing_lmax = MW_Map1.shape[0]\n",
    "    # Get the real part of the map\n",
    "    map1 = np.real(MW_Map1)\n",
    "    map2 = np.real(MW_Map2)\n",
    "    # Covariance matrix\n",
    "    R_MW_Pixel_map = np.multiply(map1,map2) + 0.j #Add back in zero imaginary part\n",
    "    # print(\"R\", R_MW_Pixel_map.shape)\n",
    "\n",
    "    # smoothing in harmonic space for efficiency\n",
    "    R_MW_alm = s2fft.forward(R_MW_Pixel_map, L = smoothing_lmax)\n",
    "    # print(\"R_MW_alm\", R_MW_alm.shape)\n",
    "\n",
    "\n",
    "    nsamp = 1200.0\n",
    "    lmax_at_scale_j = R_MW_alm.shape[0]\n",
    "    npix = hp.nside2npix(1<<(int(0.5*lmax_at_scale_j)-1).bit_length())\n",
    "    # (int(0.5*scale_lmax)-1).bit_length() calculates the number of bits necessary to represent the integer int(0.5*scale_lmax)-1 in binary.\n",
    "    # 1 << (int(0.5*scale_lmax)-1).bit_length() performs a bitwise left shift, essentially calculating 2^(number of bits).\n",
    "    scale_fwhm = 4.0 * math.sqrt(nsamp / npix)\n",
    "    # for high resolution maps, it is still the same number pixels sampled by the actual range is smaller.\n",
    "    # the beam will become very narrow.\n",
    "\n",
    "\n",
    "    gauss_smooth = hp.gauss_beam(scale_fwhm,lmax=smoothing_lmax-1)\n",
    "    MW_alm_beam_convolved = np.zeros(R_MW_alm.shape, dtype=np.complex128)\n",
    "\n",
    "    # Convolve the MW alms with the beam\n",
    "    for i in range(R_MW_alm.shape[1]):\n",
    "        MW_alm_beam_convolved[:, i] = R_MW_alm[:, i] * gauss_smooth\n",
    "    \n",
    "    R_covariance_map = s2fft.inverse(MW_alm_beam_convolved, L = smoothing_lmax)\n",
    "\n",
    "    return R_covariance_map\n",
    "\n",
    "\n",
    "\n",
    "\n",
    " \n",
    "\n",
    "## Loaded mw wavelet coefficient map\n",
    "stored_wavelet_coeffs_pix = [np.load(f\"../convolution/wavelet_coefficient/wav_30_{i}.npy\", allow_pickle=True) for i in range(12)]\n",
    "stored_scaling_coeffs_pix = np.load(\"../convolution/scaling_coefficient/scal_30.npy\")\n",
    "\n",
    "\n",
    "# print(stored_wavelet_coeffs_pix[0].shape)\n",
    "stored_wavelet_coeffs_pix = stored_wavelet_coeffs_pix[:3]\n",
    "\n",
    "wavelet_MW_Pix_Map_doubled = Single_Map_doubleworker(stored_wavelet_coeffs_pix[0])\n",
    "\n",
    "# display(wavelet_MW_Pix_Map_doubled[0])\n",
    "# Why oen dimension is reduced?\n",
    "# Is it the spin?\n",
    "print(wavelet_MW_Pix_Map_doubled.shape)\n",
    "\n",
    "\n",
    "R_covariance_map = smoothed_covariance(wavelet_MW_Pix_Map_doubled, wavelet_MW_Pix_Map_doubled)\n",
    "\n",
    "R_covariance_map.shape"
   ]
  },
  {
   "cell_type": "code",
   "execution_count": 60,
   "metadata": {},
   "outputs": [
    {
     "data": {
      "text/plain": [
       "(1.9514297468690185e-11-4.36429717423837e-29j)"
      ]
     },
     "execution_count": 60,
     "metadata": {},
     "output_type": "execute_result"
    }
   ],
   "source": [
    "# smoothed_covariance(wavelet_MW_Pix_Map_doubled, wavelet_MW_Pix_Map_doubled)[0][0]"
   ]
  },
  {
   "cell_type": "code",
   "execution_count": 5,
   "metadata": {},
   "outputs": [],
   "source": [
    "# we don't want to store all the data in a dictionary \n",
    "# wavelet is wavelet, and alm is alm \n",
    "# we get them from the same function\n",
    "\n",
    "import numpy as np\n",
    "\n",
    "def load_frequency_data(base_path, file_template, frequencies, scales=None):\n",
    "    \"\"\"\n",
    "    Load NumPy arrays from dynamically generated file paths for each frequency and scale.\n",
    "    \n",
    "    Args:\n",
    "        base_path (str): The base path where the files are located.\n",
    "        file_template (str): The template for the file names, with placeholders for frequency and scale.\n",
    "        frequencies (list): A list of frequency names.\n",
    "        scales_: A lists of scales.\n",
    "        \n",
    "    Returns:\n",
    "        dict: A dictionary where keys are tuples of (frequency, scale) and values are loaded NumPy arrays.\n",
    "    \"\"\"\n",
    "    frequency_data = {}\n",
    "    for frequency in frequencies:\n",
    "        for scale in scales:\n",
    "            # Generate the file path using the template and the current frequency and scale\n",
    "            path = f\"{base_path}/{file_template.format(frequency, scale)}\"\n",
    "            try:\n",
    "                frequency_data[(frequency, scale)] = np.load(path, allow_pickle=True)\n",
    "            except Exception as e:\n",
    "                print(f\"Error loading {path} for frequency {frequency} and scale {scale}: {e}\")\n",
    "    return frequency_data\n",
    "\n",
    "\n",
    "\n",
    "base_path = \"../convolution/wavelet_coefficient\"\n",
    "file_template = \"wav_{}_{}.npy\"\n",
    "frequencies = ['030', '070']\n",
    "scales = [0, 1, 2]\n",
    "\n",
    "original_wavelet_c_j = load_frequency_data(base_path, file_template, frequencies, scales)\n",
    "\n",
    "# for (frequency, scale), data in frequency_data.items():\n",
    "#     print(f\"Frequency: {frequency}, Scale: {scale}, Data shape: {data.shape}\")\n",
    "\n",
    "\n"
   ]
  },
  {
   "cell_type": "code",
   "execution_count": 6,
   "metadata": {},
   "outputs": [],
   "source": [
    "for i in frequencies:\n",
    "    for j in scales:\n",
    "        # print(frequency_data[(i,j)].shape)\n",
    "        wavelet_MW_Pix_Map_doubled = Single_Map_doubleworker(original_wavelet_c_j[(i,j)])\n",
    "        np.save(f\"../convolution/wavelet_coefficient_doubled/wav_{i}_{j}.npy\", wavelet_MW_Pix_Map_doubled)"
   ]
  },
  {
   "cell_type": "code",
   "execution_count": 8,
   "metadata": {},
   "outputs": [
    {
     "name": "stdout",
     "output_type": "stream",
     "text": [
      "dict_keys([('030', 0), ('030', 1), ('030', 2), ('070', 0), ('070', 1), ('070', 2)])\n"
     ]
    }
   ],
   "source": [
    "\n",
    "doubled_MW_wav_c_j = load_frequency_data(\"../convolution/wavelet_coefficient_doubled\", \"wav_{}_{}.npy\", frequencies, scales)\n",
    "print(doubled_MW_wav_c_j.keys())\n"
   ]
  },
  {
   "cell_type": "code",
   "execution_count": 9,
   "metadata": {},
   "outputs": [
    {
     "name": "stdout",
     "output_type": "stream",
     "text": [
      "Calculating covariance between 030 and 030\n",
      "Calculating covariance between 030 and 070\n",
      "Calculating covariance between 070 and 070\n"
     ]
    }
   ],
   "source": [
    "import numpy as np\n",
    "\n",
    "def calculate_covariance_matrix(frequencies, doubled_MW_wav_c_j,scales):\n",
    "    \"\"\"\n",
    "    Calculates the covariance matrices for given frequencies and saves them to disk,\n",
    "    accommodating any size of the input data arrays.\n",
    "    \n",
    "    Args:\n",
    "    frequencies (list): List of frequency indices.\n",
    "    doubled_MW_wav_c_j (dict): Dictionary containing data arrays for covariance calculations.\n",
    "    \"\"\"\n",
    "    # Check dimensions of the first item to set the size of the covariance matrices\n",
    "    if frequencies:\n",
    "        sample_data = doubled_MW_wav_c_j[(frequencies[0], scale)]\n",
    "        n_rows, n_cols = sample_data.shape\n",
    "    else:\n",
    "        raise ValueError(\"Frequency list is empty.\")\n",
    "    \n",
    "    total_frequency = len(frequencies)\n",
    "    # Initialize a 4D array to store the covariance matrices\n",
    "    full_array = np.zeros((total_frequency, total_frequency, n_rows, n_cols), dtype=np.complex128)\n",
    "\n",
    "    # Calculate the covariance matrix and save each one\n",
    "    for i in range(total_frequency):\n",
    "        for fq in range(i, total_frequency):\n",
    "            print(f\"Calculating covariance between {frequencies[i]} and {frequencies[fq]}\")\n",
    "            \n",
    "            full_array[i, fq] = smoothed_covariance(doubled_MW_wav_c_j[(frequencies[i], scale)],\n",
    "                                                    doubled_MW_wav_c_j[(frequencies[fq], scale)])\n",
    "            # Save the computed covariance matrix\n",
    "            np.save(f\"../convolution/covariance_matrix/cov_{scale}_{frequencies[i]}_{frequencies[fq]}.npy\", full_array[i, fq])\n",
    "    \n",
    "    # Fill the symmetric part of the matrix\n",
    "    for l1 in range(1, total_frequency):\n",
    "        for l2 in range(l1):\n",
    "            full_array[l1, l2] = full_array[l2, l1]\n",
    "    return full_array\n",
    "scale = 0\n",
    "R = calculate_covariance_matrix(frequencies, doubled_MW_wav_c_j,scale)\n"
   ]
  },
  {
   "cell_type": "code",
   "execution_count": 10,
   "metadata": {},
   "outputs": [
    {
     "name": "stdout",
     "output_type": "stream",
     "text": [
      "8 15 2 2\n",
      "Inverse Matrices Shape: (8, 15, 2, 2)\n",
      "Weight Vectors Shape: (8, 15, 2)\n"
     ]
    }
   ],
   "source": [
    "import numpy as np\n",
    "\n",
    "def process_and_save_matrices(R):\n",
    "    \"\"\"\n",
    "    Processes the given 4D matrix R by computing and saving the weight vectors for each matrix in the first two dimensions.\n",
    "    Also stores results in memory as arrays and saves them to disk. Adjusts the size of the identity vector based on sub-matrix size.\n",
    "\n",
    "    Args:\n",
    "    R (np.ndarray): A 4D matrix with dimensions suitable for swapping and inverting.\n",
    "\n",
    "    Returns:\n",
    "    np.ndarray, np.ndarray: Arrays containing the inverse matrices and weight vectors.\n",
    "    \"\"\"\n",
    "    # Swap the axes to get R_Pix\n",
    "    R_Pix = np.swapaxes(np.swapaxes(R, 0, 2), 1, 3)\n",
    "    \n",
    "    # Get dimensions for looping and size of sub-matrices\n",
    "    dim1, dim2, subdim1, subdim2 = R_Pix.shape\n",
    "    print(dim1, dim2, subdim1, subdim2)\n",
    "    # Create arrays to store inverses and weight vectors\n",
    "    inverses = np.zeros((dim1, dim2, subdim1, subdim2), dtype=np.complex128)\n",
    "    weight_vectors = np.zeros((dim1, dim2, subdim1), dtype=np.complex128)\n",
    "    \n",
    "    # Adjust identity vector size based on sub-matrix dimensions\n",
    "    identity_vector = np.ones(subdim2, dtype=float)\n",
    "    \n",
    "    for i in range(dim1):\n",
    "        for j in range(dim2):\n",
    "        \n",
    "            # Invert the matrix at position (i, j)\n",
    "            inverses[i, j] = np.linalg.inv(R_Pix[i, j])\n",
    "            \n",
    "            # Compute the weight vector\n",
    "            numerator = np.dot(inverses[i, j], identity_vector)\n",
    "            denominator = np.dot(np.dot(inverses[i, j], identity_vector),identity_vector)\n",
    "            weight_vectors[i, j] = numerator / denominator\n",
    "            \n",
    "            # Save the inverse matrix and weight vector to disk\n",
    "            # np.save(f\"../weight_vector_data/inverse_matrix_{i}_{j}.npy\", inverses[i, j])\n",
    "            # np.save(f\"../weight_vector_data/weight_vector_{i}_{j}.npy\", weight_vectors[i, j])\n",
    "    np.save(f\"../weight_vector_data/weight_vector.npy\", weight_vectors)\n",
    "            \n",
    "\n",
    "    return inverses, weight_vectors\n",
    "\n",
    "# Example usage\n",
    "# R = np.random.rand(4, 4, 2, 2) + 1j * np.random.rand(4, 4, 2, 2)  # Example 4D matrix with complex numbers\n",
    "inverses, weight_vectors = process_and_save_matrices(R)\n",
    "\n",
    "print(\"Inverse Matrices Shape:\", inverses.shape)\n",
    "print(\"Weight Vectors Shape:\", weight_vectors.shape)\n"
   ]
  },
  {
   "cell_type": "code",
   "execution_count": 12,
   "metadata": {},
   "outputs": [
    {
     "name": "stdout",
     "output_type": "stream",
     "text": [
      "dict_keys([('030', 0), ('030', 1), ('030', 2), ('070', 0), ('070', 1), ('070', 2)])\n"
     ]
    }
   ],
   "source": [
    "print(doubled_MW_wav_c_j.keys())"
   ]
  },
  {
   "cell_type": "code",
   "execution_count": 14,
   "metadata": {},
   "outputs": [],
   "source": [
    "double_30 = doubled_MW_wav_c_j[(frequencies[0], 0)]\n",
    "double_70 = doubled_MW_wav_c_j[(frequencies[1], 0)]\n",
    "\n",
    "doubled_map = np.zeros((double_30.shape[0],double_30.shape[1]), dtype=np.complex128)\n",
    "\n",
    "\n",
    "for i in range(double_30.shape[0]):\n",
    "    for j in range(double_30.shape[1]):\n",
    "        pix_vector = np.array([double_30[i,j],double_70[i,j]])\n",
    "        # print(double_30[i,j],double_70[i,j])\n",
    "        # print(pix_vector.shape)\n",
    "        doubled_map[i,j] = np.dot(weight_vector_load[i,j],pix_vector)\n"
   ]
  },
  {
   "cell_type": "code",
   "execution_count": 21,
   "metadata": {},
   "outputs": [],
   "source": [
    "def mw_alm_2_hp_alm(MW_alm, lmax):\n",
    "    # Initialize the 1D hp_alm array with the appropriate size\n",
    "    hp_alm = np.zeros(hp.Alm.getsize(lmax), dtype=np.complex128)\n",
    "    \n",
    "    for l in range(lmax + 1):\n",
    "        for m in range(-l, l + 1):\n",
    "            index = hp.Alm.getidx(lmax, l, abs(m))\n",
    "            if m < 0:\n",
    "                hp_alm[index] = (-1)**m * np.conj(MW_alm[l, lmax + m])\n",
    "            else:\n",
    "                hp_alm[index] = MW_alm[l, lmax + m]\n",
    "    \n",
    "    return hp_alm\n",
    "\n",
    "def trim_alm_to_original(MW_alm_doubled, original_shape):\n",
    "    '''\n",
    "    Input:\n",
    "        MW_alm_doubled: The alm array with increased resolution.\n",
    "        original_shape: A tuple indicating the original size of the alm data.\n",
    "\n",
    "    Process:\n",
    "        1. Trim the alm array back to its original dimensions.\n",
    "        2. Convert the trimmed alm array back to a pixel map using an inverse spherical transform.\n",
    "\n",
    "    Returns:\n",
    "        MW_Pix_Map_original: The pixel map converted back to its original resolution.\n",
    "    '''\n",
    "    # Extract the original size part from the doubled alm data\n",
    "    trimmed_alm = MW_alm_doubled[:original_shape[0], :original_shape[1]]\n",
    "\n",
    "    # Convert trimmed alm to the original pixel map\n",
    "    MW_Pix_Map_original = s2fft.inverse(trimmed_alm, L=original_shape[0])\n",
    "\n",
    "    return MW_Pix_Map_original"
   ]
  },
  {
   "cell_type": "code",
   "execution_count": 67,
   "metadata": {},
   "outputs": [],
   "source": [
    "original_wavelet_c_j\n",
    "original_30 = original_wavelet_c_j[(frequencies[0], 0)]\n",
    "original_70 = original_wavelet_c_j[(frequencies[1], 0)]"
   ]
  },
  {
   "cell_type": "code",
   "execution_count": 36,
   "metadata": {},
   "outputs": [
    {
     "data": {
      "text/plain": [
       "(1, 4, 7)"
      ]
     },
     "execution_count": 36,
     "metadata": {},
     "output_type": "execute_result"
    }
   ],
   "source": [
    "original_30.shape"
   ]
  },
  {
   "cell_type": "code",
   "execution_count": 68,
   "metadata": {},
   "outputs": [
    {
     "ename": "IndexError",
     "evalue": "index 1 is out of bounds for axis 0 with size 1",
     "output_type": "error",
     "traceback": [
      "\u001b[0;31m---------------------------------------------------------------------------\u001b[0m",
      "\u001b[0;31mIndexError\u001b[0m                                Traceback (most recent call last)",
      "\u001b[0;32m/tmp/ipykernel_1346448/4279044658.py\u001b[0m in \u001b[0;36m<module>\u001b[0;34m\u001b[0m\n\u001b[1;32m      4\u001b[0m \u001b[0;34m\u001b[0m\u001b[0m\n\u001b[1;32m      5\u001b[0m \u001b[0mL_max\u001b[0m \u001b[0;34m=\u001b[0m \u001b[0moriginal_70\u001b[0m\u001b[0;34m.\u001b[0m\u001b[0mshape\u001b[0m\u001b[0;34m[\u001b[0m\u001b[0;36m0\u001b[0m\u001b[0;34m]\u001b[0m\u001b[0;34m\u001b[0m\u001b[0;34m\u001b[0m\u001b[0m\n\u001b[0;32m----> 6\u001b[0;31m \u001b[0moriginal_map_alm\u001b[0m \u001b[0;34m=\u001b[0m \u001b[0ms2fft\u001b[0m\u001b[0;34m.\u001b[0m\u001b[0mforward\u001b[0m\u001b[0;34m(\u001b[0m\u001b[0moriginal_70\u001b[0m\u001b[0;34m,\u001b[0m \u001b[0mL\u001b[0m \u001b[0;34m=\u001b[0m \u001b[0mL_max\u001b[0m\u001b[0;34m)\u001b[0m\u001b[0;34m\u001b[0m\u001b[0;34m\u001b[0m\u001b[0m\n\u001b[0m\u001b[1;32m      7\u001b[0m \u001b[0mprint\u001b[0m\u001b[0;34m(\u001b[0m\u001b[0moriginal_map_alm\u001b[0m\u001b[0;34m.\u001b[0m\u001b[0mshape\u001b[0m\u001b[0;34m)\u001b[0m\u001b[0;34m\u001b[0m\u001b[0;34m\u001b[0m\u001b[0m\n\u001b[1;32m      8\u001b[0m \u001b[0moriginal_map_hp_alm\u001b[0m \u001b[0;34m=\u001b[0m \u001b[0mmw_alm_2_hp_alm\u001b[0m\u001b[0;34m(\u001b[0m\u001b[0moriginal_map_alm\u001b[0m\u001b[0;34m,\u001b[0m \u001b[0mL_max\u001b[0m\u001b[0;34m-\u001b[0m\u001b[0;36m1\u001b[0m\u001b[0;34m)\u001b[0m\u001b[0;34m\u001b[0m\u001b[0;34m\u001b[0m\u001b[0m\n",
      "\u001b[0;32m~/.local/lib/python3.10/site-packages/s2fft/transforms/spherical.py\u001b[0m in \u001b[0;36mforward\u001b[0;34m(f, L, spin, nside, sampling, method, reality, precomps, spmd, L_lower, iter, _ssht_backend)\u001b[0m\n\u001b[1;32m    396\u001b[0m \u001b[0;34m\u001b[0m\u001b[0m\n\u001b[1;32m    397\u001b[0m     \u001b[0;32mif\u001b[0m \u001b[0mmethod\u001b[0m \u001b[0;34m==\u001b[0m \u001b[0;34m\"numpy\"\u001b[0m\u001b[0;34m:\u001b[0m\u001b[0;34m\u001b[0m\u001b[0;34m\u001b[0m\u001b[0m\n\u001b[0;32m--> 398\u001b[0;31m         \u001b[0;32mreturn\u001b[0m \u001b[0mforward_numpy\u001b[0m\u001b[0;34m(\u001b[0m\u001b[0mf\u001b[0m\u001b[0;34m,\u001b[0m \u001b[0mL\u001b[0m\u001b[0;34m,\u001b[0m \u001b[0mspin\u001b[0m\u001b[0;34m,\u001b[0m \u001b[0mnside\u001b[0m\u001b[0;34m,\u001b[0m \u001b[0msampling\u001b[0m\u001b[0;34m,\u001b[0m \u001b[0mreality\u001b[0m\u001b[0;34m,\u001b[0m \u001b[0mprecomps\u001b[0m\u001b[0;34m,\u001b[0m \u001b[0mL_lower\u001b[0m\u001b[0;34m)\u001b[0m\u001b[0;34m\u001b[0m\u001b[0;34m\u001b[0m\u001b[0m\n\u001b[0m\u001b[1;32m    399\u001b[0m     \u001b[0;32melif\u001b[0m \u001b[0mmethod\u001b[0m \u001b[0;34m==\u001b[0m \u001b[0;34m\"jax\"\u001b[0m\u001b[0;34m:\u001b[0m\u001b[0;34m\u001b[0m\u001b[0;34m\u001b[0m\u001b[0m\n\u001b[1;32m    400\u001b[0m         return forward_jax(\n",
      "\u001b[0;32m~/.local/lib/python3.10/site-packages/s2fft/transforms/spherical.py\u001b[0m in \u001b[0;36mforward_numpy\u001b[0;34m(f, L, spin, nside, sampling, reality, precomps, L_lower)\u001b[0m\n\u001b[1;32m    497\u001b[0m     \u001b[0;31m# Perform latitudinal wigner-d recursions\u001b[0m\u001b[0;34m\u001b[0m\u001b[0;34m\u001b[0m\u001b[0m\n\u001b[1;32m    498\u001b[0m     \u001b[0;32mif\u001b[0m \u001b[0msampling\u001b[0m\u001b[0;34m.\u001b[0m\u001b[0mlower\u001b[0m\u001b[0;34m(\u001b[0m\u001b[0;34m)\u001b[0m \u001b[0;34m==\u001b[0m \u001b[0;34m\"mwss\"\u001b[0m\u001b[0;34m:\u001b[0m\u001b[0;34m\u001b[0m\u001b[0;34m\u001b[0m\u001b[0m\n\u001b[0;32m--> 499\u001b[0;31m         flm = otf.forward_latitudinal_step(\n\u001b[0m\u001b[1;32m    500\u001b[0m             \u001b[0mftm\u001b[0m\u001b[0;34m[\u001b[0m\u001b[0;36m1\u001b[0m\u001b[0;34m:\u001b[0m\u001b[0;34m-\u001b[0m\u001b[0;36m1\u001b[0m\u001b[0;34m]\u001b[0m\u001b[0;34m,\u001b[0m\u001b[0;34m\u001b[0m\u001b[0;34m\u001b[0m\u001b[0m\n\u001b[1;32m    501\u001b[0m             \u001b[0mthetas\u001b[0m\u001b[0;34m[\u001b[0m\u001b[0;36m1\u001b[0m\u001b[0;34m:\u001b[0m\u001b[0;34m-\u001b[0m\u001b[0;36m1\u001b[0m\u001b[0;34m]\u001b[0m\u001b[0;34m,\u001b[0m\u001b[0;34m\u001b[0m\u001b[0;34m\u001b[0m\u001b[0m\n",
      "\u001b[0;32m~/.local/lib/python3.10/site-packages/s2fft/transforms/otf_recursions.py\u001b[0m in \u001b[0;36mforward_latitudinal_step\u001b[0;34m(ftm, beta, L, spin, nside, sampling, reality, precomps, L_lower)\u001b[0m\n\u001b[1;32m    514\u001b[0m                     \u001b[0;34m\"tl, t->tl\"\u001b[0m\u001b[0;34m,\u001b[0m\u001b[0;34m\u001b[0m\u001b[0;34m\u001b[0m\u001b[0m\n\u001b[1;32m    515\u001b[0m                     \u001b[0mdl_iter\u001b[0m\u001b[0;34m[\u001b[0m\u001b[0;36m1\u001b[0m\u001b[0;34m,\u001b[0m \u001b[0;34m:\u001b[0m\u001b[0;34m,\u001b[0m \u001b[0mlind\u001b[0m \u001b[0;34m-\u001b[0m \u001b[0;36m1\u001b[0m \u001b[0;34m:\u001b[0m\u001b[0;34m]\u001b[0m\u001b[0;34m\u001b[0m\u001b[0;34m\u001b[0m\u001b[0m\n\u001b[0;32m--> 516\u001b[0;31m                     \u001b[0;34m*\u001b[0m \u001b[0mvsign\u001b[0m\u001b[0;34m[\u001b[0m\u001b[0msind\u001b[0m \u001b[0;34m+\u001b[0m \u001b[0msgn\u001b[0m\u001b[0;34m,\u001b[0m \u001b[0mlind\u001b[0m \u001b[0;34m-\u001b[0m \u001b[0;36m1\u001b[0m \u001b[0;34m:\u001b[0m\u001b[0;34m]\u001b[0m\u001b[0;34m\u001b[0m\u001b[0;34m\u001b[0m\u001b[0m\n\u001b[0m\u001b[1;32m    517\u001b[0m                     \u001b[0;34m*\u001b[0m \u001b[0mnp\u001b[0m\u001b[0;34m.\u001b[0m\u001b[0mexp\u001b[0m\u001b[0;34m(\u001b[0m\u001b[0mlrenorm\u001b[0m\u001b[0;34m[\u001b[0m\u001b[0mi\u001b[0m\u001b[0;34m,\u001b[0m \u001b[0;34m:\u001b[0m\u001b[0;34m,\u001b[0m \u001b[0mlind\u001b[0m \u001b[0;34m-\u001b[0m \u001b[0;36m1\u001b[0m \u001b[0;34m:\u001b[0m\u001b[0;34m]\u001b[0m\u001b[0;34m)\u001b[0m\u001b[0;34m,\u001b[0m\u001b[0;34m\u001b[0m\u001b[0;34m\u001b[0m\u001b[0m\n\u001b[1;32m    518\u001b[0m                     \u001b[0mftm\u001b[0m\u001b[0;34m[\u001b[0m\u001b[0;34m:\u001b[0m\u001b[0;34m,\u001b[0m \u001b[0msind\u001b[0m \u001b[0;34m+\u001b[0m \u001b[0msgn\u001b[0m \u001b[0;34m+\u001b[0m \u001b[0mm_offset\u001b[0m\u001b[0;34m]\u001b[0m\u001b[0;34m,\u001b[0m\u001b[0;34m\u001b[0m\u001b[0;34m\u001b[0m\u001b[0m\n",
      "\u001b[0;31mIndexError\u001b[0m: index 1 is out of bounds for axis 0 with size 1"
     ]
    }
   ],
   "source": [
    "# stored_wavelet_coeffs_pix[0]\n",
    "# Lmax = stored_wavelet_coeffs_pix[0].shape[1]\n",
    "\n",
    "\n",
    "L_max = original_70.shape[0]\n",
    "original_map_alm = s2fft.forward(original_70, L = L_max)\n",
    "print(original_map_alm.shape)\n",
    "original_map_hp_alm = mw_alm_2_hp_alm(original_map_alm, L_max-1)\n",
    "original_hp_map = hp.alm2map(original_map_hp_alm, nside=L_max-1)\n",
    "\n",
    "hp.mollview(\n",
    "            original_hp_map*1e5,\n",
    "            coord=[\"G\"],\n",
    "            title=\"Wavelet Coefficient Map at Scale \",\n",
    "            unit=r\"$1e5$K\",\n",
    "            # min=-1, \n",
    "            # max=1,\n",
    "        )\n",
    "\n",
    "\n",
    "\n",
    "\n",
    "L_max = double_70.shape[0]\n",
    "original_map_alm = s2fft.forward(double_70, L = L_max)\n",
    "print(original_map_alm.shape)\n",
    "original_map_hp_alm = mw_alm_2_hp_alm(original_map_alm, L_max-1)\n",
    "original_hp_map = hp.alm2map(original_map_hp_alm, nside=L_max-1)\n",
    "\n",
    "hp.mollview(\n",
    "            original_hp_map*1e5,\n",
    "            coord=[\"G\"],\n",
    "            title=\"Wavelet Coefficient Map at Scale \",\n",
    "            unit=r\"$1e5$K\",\n",
    "            # min=-1, \n",
    "            # max=1,\n",
    "        )\n",
    "\n",
    "trimmed_map = trim_alm_to_original(double_70, [4,7])\n",
    "doubled_map_alm = s2fft.forward(trimmed_map, L = trimmed_map.shape[0])\n",
    "print(doubled_map_alm.shape)\n",
    "doubled_map_hp_alm = mw_alm_2_hp_alm(doubled_map_alm, trimmed_map.shape[0]-1)\n",
    "doubled_hp_map = hp.alm2map(doubled_map_hp_alm, nside=trimmed_map.shape[0]-1)\n",
    "hp.mollview(\n",
    "            doubled_hp_map*1e5,\n",
    "            coord=[\"G\"],\n",
    "            title=\"Wavelet Coefficient Map at Scale \",\n",
    "            unit=r\"$1e5$K\",\n",
    "            # min=-1, \n",
    "            # max=1,\n",
    "        )"
   ]
  },
  {
   "cell_type": "code",
   "execution_count": 61,
   "metadata": {},
   "outputs": [
    {
     "name": "stdout",
     "output_type": "stream",
     "text": [
      "(4, 7)\n"
     ]
    },
    {
     "data": {
      "image/png": "[encoded data removed]",
      "text/plain": [
       "<Figure size 612x388.8 with 2 Axes>"
      ]
     },
     "metadata": {
      "needs_background": "light"
     },
     "output_type": "display_data"
    }
   ],
   "source": [
    "stored_wavelet_coeffs_pix[0]\n",
    "Lmax = stored_wavelet_coeffs_pix[0].shape[1]\n",
    "L_max = original_70.shape[0]\n",
    "original_map_alm = s2fft.forward(original_70, L = Lmax)\n",
    "print(original_map_alm.shape)\n",
    "original_map_hp_alm = mw_alm_2_hp_alm(original_map_alm, Lmax-1)\n",
    "original_hp_map = hp.alm2map(original_map_hp_alm, nside=Lmax-1)\n",
    "\n",
    "hp.mollview(\n",
    "            original_hp_map*1e5,\n",
    "            coord=[\"G\"],\n",
    "            title=\"Wavelet Coefficient Map at Scale \",\n",
    "            unit=r\"$1e5$K\",\n",
    "            # min=-1, \n",
    "            # max=1,\n",
    "        )"
   ]
  },
  {
   "cell_type": "code",
   "execution_count": 40,
   "metadata": {},
   "outputs": [
    {
     "data": {
      "text/plain": [
       "(1, 4, 7)"
      ]
     },
     "execution_count": 40,
     "metadata": {},
     "output_type": "execute_result"
    }
   ],
   "source": [
    "stored_wavelet_coeffs_pix[0].shape"
   ]
  },
  {
   "cell_type": "code",
   "execution_count": 59,
   "metadata": {},
   "outputs": [],
   "source": [
    "\n",
    "# for i in [0,1,2,3,4,5,6,7,8,9,10,11]:\n",
    "\n",
    "#     wavelet_healpix_map = np.load(f\"../convolution/wavelet_healpix_map_{i}_030_1.npy\") \n",
    "#     wavelet_scale = str(i+1)\n",
    "#     hp.mollview(\n",
    "#             wavelet_healpix_map*1e5,\n",
    "#             coord=[\"G\"],\n",
    "#             title=\"Wavelet Coefficient Map at Scale \"+wavelet_scale,\n",
    "#             unit=r\"$1e-5$K\",\n",
    "#             # min=-1, \n",
    "#             # max=1,\n",
    "#         )"
   ]
  },
  {
   "cell_type": "code",
   "execution_count": 60,
   "metadata": {},
   "outputs": [
    {
     "name": "stdout",
     "output_type": "stream",
     "text": [
      "(4, 7)\n"
     ]
    }
   ],
   "source": [
    "trimmed_map = trim_alm_to_original(doubled_map, [4,7])\n",
    "\n",
    "\n",
    "doubled_map_alm = s2fft.forward(trimmed_map, L = trimmed_map.shape[0])\n",
    "print(doubled_map_alm.shape)\n",
    "doubled_map_hp_alm = mw_alm_2_hp_alm(doubled_map_alm, trimmed_map.shape[0]-1)\n",
    "doubled_hp_map = hp.alm2map(doubled_map_hp_alm, nside=trimmed_map.shape[0]-1)"
   ]
  },
  {
   "cell_type": "code",
   "execution_count": null,
   "metadata": {},
   "outputs": [],
   "source": []
  },
  {
   "cell_type": "code",
   "execution_count": 100,
   "metadata": {},
   "outputs": [
    {
     "name": "stdout",
     "output_type": "stream",
     "text": [
      "(4, 7)\n"
     ]
    }
   ],
   "source": [
    "trimmed_map = trim_alm_to_original(double_30, [4,7])\n",
    "\n",
    "\n",
    "doubled_map_alm = s2fft.forward(trimmed_map, L = trimmed_map.shape[0])\n",
    "print(doubled_map_alm.shape)\n",
    "doubled_map_hp_alm = mw_alm_2_hp_alm(doubled_map_alm, trimmed_map.shape[0]-1)\n",
    "doubled_hp_map = hp.alm2map(doubled_map_hp_alm, nside=trimmed_map.shape[0]-1)"
   ]
  },
  {
   "cell_type": "code",
   "execution_count": null,
   "metadata": {},
   "outputs": [],
   "source": []
  },
  {
   "cell_type": "code",
   "execution_count": 101,
   "metadata": {},
   "outputs": [
    {
     "data": {
      "image/png": "[encoded data removed]",
      "text/plain": [
       "<Figure size 612x388.8 with 2 Axes>"
      ]
     },
     "metadata": {
      "needs_background": "light"
     },
     "output_type": "display_data"
    }
   ],
   "source": [
    "hp.mollview(\n",
    "            doubled_hp_map*1e5,\n",
    "            coord=[\"G\"],\n",
    "            title=\"Wavelet Coefficient Map at Scale \",\n",
    "            unit=r\"$1e5$K\",\n",
    "            # min=-1, \n",
    "            # max=1,\n",
    "        )"
   ]
  },
  {
   "cell_type": "code",
   "execution_count": null,
   "metadata": {},
   "outputs": [],
   "source": []
  }
 ],
 "metadata": {
  "kernelspec": {
   "display_name": "Python 3",
   "language": "python",
   "name": "python3"
  },
  "language_info": {
   "codemirror_mode": {
    "name": "ipython",
    "version": 3
   },
   "file_extension": ".py",
   "mimetype": "text/x-python",
   "name": "python",
   "nbconvert_exporter": "python",
   "pygments_lexer": "ipython3",
   "version": "3.10.12"
  }
 },
 "nbformat": 4,
 "nbformat_minor": 2
}
