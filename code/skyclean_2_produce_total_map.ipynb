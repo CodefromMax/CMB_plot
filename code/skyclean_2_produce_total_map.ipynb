{
 "cells": [
  {
   "cell_type": "code",
   "execution_count": 1,
   "metadata": {},
   "outputs": [],
   "source": [
    "# !pip install skyclean --upgrade\n",
    "import os\n",
    "import healpy as hp\n",
    "import skyclean as sc\n",
    "# from skyclean import hp_alm_2_mw_alm, arcmin_to_radians, reduce_hp_map_resolution"
   ]
  },
  {
   "cell_type": "code",
   "execution_count": 13,
   "metadata": {},
   "outputs": [],
   "source": [
    "# This function is not included in the Skyclean package because the storage directory and beam deconvolution process\n",
    "#  are dependent on the user.\n",
    "def process_and_save_total_map(frequency, realization, desired_lmax, directory=\"CMB_realizations\"):\n",
    "    \"\"\"\n",
    "    Processes the CMB, Synchrotron, and Noise maps for each frequency and realization, then combines them.\n",
    "\n",
    "    Beam deconvolution is applied to the CMB map.\n",
    "    The CMB, Synchrotron, and Noise maps are then reduced to the desired lmax.\n",
    "    The reduced maps are then combined to create the total map.\n",
    "\n",
    "    Parameters:\n",
    "        frequency (str): frequency identifiers.\n",
    "        realization (int): realization identifiers.\n",
    "        desired_lmax (int): Maximum multipole moment for spherical harmonics.\n",
    "        directory (str): Directory containing the input map files.\n",
    "    \"\"\"\n",
    "        \n",
    "    print(f\"Processing maps for frequency {frequency} and realization {realization}\")\n",
    "        \n",
    "    # Define file paths\n",
    "    CMB_file_path = f\"{directory}/febecop_ffp10_lensed_scl_cmb_{frequency}_mc_{realization:04d}.fits\"\n",
    "    synchrotron_file_path = f\"{directory}/COM_SimMap_synchrotron-ffp10-skyinbands-{frequency}_2048_R3.00_full.fits\"\n",
    "    noise_file_path = f\"{directory}/ffp10_noise_{frequency}_full_map_mc_{realization:05d}.fits\"\n",
    "    \n",
    "    # Read maps\n",
    "    # Remember to check the units of the maps by print(header) (CMB_K, MJy/sr, etc.)\n",
    "    # The unit coversion: https://wiki.cosmos.esa.int/planckpla2015/index.php/UC_CC_Tables\n",
    "    \n",
    "    original_hp_CMB_map, cmb_header = hp.read_map(CMB_file_path, h = True)\n",
    "    synchrotron, synchrotron_header = hp.read_map(synchrotron_file_path, h = True)\n",
    "    noise, noise_header = hp.read_map(noise_file_path, h = True)\n",
    "    \n",
    "    if frequency == \"545\":\n",
    "        unit_conversion = 58.0356\n",
    "        original_hp_CMB_map = original_hp_CMB_map / unit_conversion\n",
    "        synchrotron = synchrotron / unit_conversion\n",
    "        noise =  noise / unit_conversion\n",
    "    if frequency == \"857\":\n",
    "        unit_conversion = 2.2681\n",
    "        original_hp_CMB_map = original_hp_CMB_map / unit_conversion\n",
    "        synchrotron = synchrotron / unit_conversion\n",
    "        noise =  noise / unit_conversion\n",
    "\n",
    "    # Define your own beam path\n",
    "    HFI_beam_path = \"../../CMB_plot/BeamWf_HFI_R3.01/\"+ f\"Bl_T_R3.01_fullsky_{frequency}x{frequency}.fits\"\n",
    "    \n",
    "    beam_decon_cmb = sc.beam_deconvolution(original_hp_CMB_map, frequency, desired_lmax, sc.arcmin_to_radians(5), HFI_beam_path)\n",
    "    \n",
    "    \n",
    "    # # Calculate nside based on lmax\n",
    "    nside = desired_lmax // 2\n",
    "            \n",
    "        \n",
    "    new_cmb,_ = sc.reduce_hp_map_resolution(beam_decon_cmb, desired_lmax, nside)\n",
    "    new_synchrotron,_  = sc.reduce_hp_map_resolution(synchrotron, desired_lmax, nside)\n",
    "    new_noise,_  = sc.reduce_hp_map_resolution(noise, desired_lmax, nside)\n",
    "    \n",
    "    # Save processed CMB map\n",
    "    map_type = \"CMB\"    \n",
    "    filename = f\"CMB_total/{map_type}_HP_Map_F{frequency}_L{desired_lmax}_R{realization:04d}.fits\"\n",
    "    hp.write_map(filename, new_cmb,dtype=\"float64\", overwrite=True)\n",
    "    \n",
    "        \n",
    "    # Combine and save the total map \n",
    "    csn = new_cmb + new_synchrotron + new_noise\n",
    "\n",
    "    # Save CSN map\n",
    "    map_type = \"CSN\"    \n",
    "    filename = f\"CMB_total/{map_type}_HP_Map_F{frequency}_L{desired_lmax}_R{realization:04d}.fits\"\n",
    "    hp.write_map(filename, csn,dtype=\"float64\", overwrite=True)\n",
    "    print(f\"Total Map for frequency {frequency} is saved to {filename}\")\n"
   ]
  },
  {
   "cell_type": "code",
   "execution_count": 14,
   "metadata": {},
   "outputs": [
    {
     "name": "stdout",
     "output_type": "stream",
     "text": [
      "File CMB_total/CSN_HP_Map_F100_L256_R0000.fits already exists. Skipping download.\n",
      "File CMB_total/CSN_HP_Map_F100_L256_R0001.fits already exists. Skipping download.\n"
     ]
    }
   ],
   "source": [
    "# Usage of the process_and_save_total_map function\n",
    "\n",
    "# Define frequencies and realizations\n",
    "# frequencies = [\"030\", \"044\", \"070\", \"100\", \"143\", \"217\", \"353\", \"545\", \"857\"]\n",
    "frequencies = [\"100\"]\n",
    "realizations = list(range(2)) \n",
    "\n",
    "desired_lmax = 256\n",
    "for frequency in frequencies:\n",
    "    for realization in realizations:\n",
    "        path = f\"CMB_total/CSN_HP_Map_F{frequency}_L{desired_lmax}_R{realization:04d}.fits\"\n",
    "        if os.path.exists(path):\n",
    "            print(f\"File {path} already exists. Skipping download.\")\n",
    "            continue\n",
    "        process_and_save_total_map(frequency, realization, desired_lmax, directory=\"CMB_realizations\")\n",
    "\n"
   ]
  },
  {
   "cell_type": "code",
   "execution_count": null,
   "metadata": {},
   "outputs": [],
   "source": []
  }
 ],
 "metadata": {
  "kernelspec": {
   "display_name": "Python 3",
   "language": "python",
   "name": "python3"
  },
  "language_info": {
   "codemirror_mode": {
    "name": "ipython",
    "version": 3
   },
   "file_extension": ".py",
   "mimetype": "text/x-python",
   "name": "python",
   "nbconvert_exporter": "python",
   "pygments_lexer": "ipython3",
   "version": "3.10.12"
  }
 },
 "nbformat": 4,
 "nbformat_minor": 2
}
