{
 "cells": [
  {
   "cell_type": "code",
   "execution_count": null,
   "metadata": {},
   "outputs": [],
   "source": [
    "# works for python 3.9 \n",
    "# pip install s2fft\n",
    "# pip install s2wav"
   ]
  },
  {
   "cell_type": "code",
   "execution_count": 10,
   "metadata": {},
   "outputs": [],
   "source": [
    "import numpy as np\n",
    "import pandas as pd\n",
    "\n",
    "import healpy as hp\n",
    "\n",
    "import matplotlib.pyplot as plt\n",
    "%matplotlib inline \n",
    "#show graph inside the notebook"
   ]
  },
  {
   "cell_type": "code",
   "execution_count": 11,
   "metadata": {},
   "outputs": [],
   "source": [
    "PLA_Data = pd.read_csv(\"data/planck_simulation/PLA-Results.csv\")\n",
    "\n",
    "# Store the names of the datasets into PLA_Data_List\n",
    "PLA_Data_List = PLA_Data['SIMULATED_MAP.FILE_ID'].to_list()\n",
    "\n",
    "\n",
    "# Initialize PLA_Data_Dict : (key:frequnecy, value: [csv path])\n",
    "PLA_Data_Dict = dict()\n",
    "for each_csv_path in PLA_Data_List:\n",
    "    PLA_Data_Dict[each_csv_path[20:23]] = [\"data/planck_simulation/\"+each_csv_path]\n",
    "# display(PLA_Data_Dict)\n",
    "\n",
    "# Read the CMB datasets and store them inside the PLA_Data_Dict\n",
    "# Update PLA_Data_Dict : (key:frequnecy, value: [csv path, hp map dat ])\n",
    " \n",
    "for frequency, storage_list in PLA_Data_Dict.items():\n",
    "    storage_list.append(hp.read_map(storage_list[0]))\n",
    "# display(PLA_Data_Dict)\n",
    "\n",
    "# Convert the unit from unitMJy/steradian to K_CMB\n",
    "# Source: https://wiki.cosmos.esa.int/planckpla2015/index.php/UC_CC_Tables\n",
    "\n",
    "PLA_Data_Dict[\"545\"][1] = PLA_Data_Dict[\"545\"][1]/58.0356\n",
    "PLA_Data_Dict[\"857\"][1] = PLA_Data_Dict[\"857\"][1]/2.2681"
   ]
  },
  {
   "cell_type": "code",
   "execution_count": 12,
   "metadata": {},
   "outputs": [
    {
     "data": {
      "text/plain": [
       "array([-2.7133717e-04, -9.3698480e-05, -2.5107505e-04, ...,\n",
       "       -1.5273600e-04, -1.1094811e-04, -7.7221979e-05], dtype='>f4')"
      ]
     },
     "execution_count": 12,
     "metadata": {},
     "output_type": "execute_result"
    }
   ],
   "source": [
    "PLA_Data_Dict[\"030\"][1]\n"
   ]
  }
 ],
 "metadata": {
  "kernelspec": {
   "display_name": "Python 3",
   "language": "python",
   "name": "python3"
  },
  "language_info": {
   "codemirror_mode": {
    "name": "ipython",
    "version": 3
   },
   "file_extension": ".py",
   "mimetype": "text/x-python",
   "name": "python",
   "nbconvert_exporter": "python",
   "pygments_lexer": "ipython3",
   "version": "3.9.13"
  }
 },
 "nbformat": 4,
 "nbformat_minor": 2
}
