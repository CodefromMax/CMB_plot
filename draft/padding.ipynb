{
 "cells": [
  {
   "cell_type": "code",
   "execution_count": 1,
   "metadata": {},
   "outputs": [
    {
     "name": "stdout",
     "output_type": "stream",
     "text": [
      "Array 1:\n",
      "[[1 2 3]\n",
      " [4 5 6]]\n",
      "Array 2:\n",
      "[[ 7  8]\n",
      " [ 9 10]\n",
      " [11 12]]\n",
      "Padded Array 1:\n",
      "[[1. 2. 3.]\n",
      " [4. 5. 6.]\n",
      " [0. 0. 0.]]\n",
      "Padded Array 2:\n",
      "[[ 7.  8.  0.]\n",
      " [ 9. 10.  0.]\n",
      " [11. 12.  0.]]\n",
      "Result of adding Padded Array 1 and Padded Array 2:\n",
      "[[ 8. 10.  3.]\n",
      " [13. 15.  6.]\n",
      " [11. 12.  0.]]\n"
     ]
    }
   ],
   "source": [
    "import numpy as np\n",
    "\n",
    "# Example arrays of different shapes\n",
    "array1 = np.array([[1, 2, 3], [4, 5, 6]])\n",
    "array2 = np.array([[7, 8], [9, 10], [11, 12]])\n",
    "\n",
    "# Find the shape of the resulting array\n",
    "rows = max(array1.shape[0], array2.shape[0])\n",
    "cols = max(array1.shape[1], array2.shape[1])\n",
    "\n",
    "# Initialize arrays with zeros of the desired shape\n",
    "padded_array1 = np.zeros((rows, cols))\n",
    "padded_array2 = np.zeros((rows, cols))\n",
    "\n",
    "# Fill the padded arrays with the original values\n",
    "padded_array1[:array1.shape[0], :array1.shape[1]] = array1\n",
    "padded_array2[:array2.shape[0], :array2.shape[1]] = array2\n",
    "\n",
    "# Adding the padded arrays\n",
    "result = padded_array1 + padded_array2\n",
    "\n",
    "print(\"Array 1:\")\n",
    "print(array1)\n",
    "print(\"Array 2:\")\n",
    "print(array2)\n",
    "print(\"Padded Array 1:\")\n",
    "print(padded_array1)\n",
    "print(\"Padded Array 2:\")\n",
    "print(padded_array2)\n",
    "print(\"Result of adding Padded Array 1 and Padded Array 2:\")\n",
    "print(result)\n"
   ]
  }
 ],
 "metadata": {
  "kernelspec": {
   "display_name": "Python 3",
   "language": "python",
   "name": "python3"
  },
  "language_info": {
   "codemirror_mode": {
    "name": "ipython",
    "version": 3
   },
   "file_extension": ".py",
   "mimetype": "text/x-python",
   "name": "python",
   "nbconvert_exporter": "python",
   "pygments_lexer": "ipython3",
   "version": "3.10.12"
  }
 },
 "nbformat": 4,
 "nbformat_minor": 2
}
