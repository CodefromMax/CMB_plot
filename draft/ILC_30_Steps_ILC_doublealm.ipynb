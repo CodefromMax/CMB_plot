{
 "cells": [
  {
   "cell_type": "code",
   "execution_count": 1,
   "metadata": {},
   "outputs": [],
   "source": [
    "import math\n",
    "import multiprocessing as mg\n",
    "import multiprocessing.pool\n",
    "# import pys2let as ps\n",
    "import random\n",
    "import string\n",
    "import itertools\n",
    "import os\n",
    "import jax\n",
    "jax.config.update(\"jax_enable_x64\", True)\n",
    "import s2fft\n",
    "import healpy as hp\n",
    "import numpy as np\n",
    "import s2wav\n",
    "import s2wav\n",
    "import matplotlib.pyplot as plt\n",
    "%matplotlib inline \n",
    "import skyclean\n",
    "from skyclean import CMB_data"
   ]
  },
  {
   "cell_type": "code",
   "execution_count": 2,
   "metadata": {},
   "outputs": [],
   "source": [
    "def mw_alm_2_hp_alm(MW_alm, lmax):\n",
    "    '''MW_alm: 2D array of shape (Lmax, 2*Lmax-1) (MW sampling, McEwen & Wiaux)\n",
    "    '''\n",
    "    # Initialize the 1D hp_alm array with the appropriate size\n",
    "    hp_alm = np.zeros(hp.Alm.getsize(lmax), dtype=np.complex128)\n",
    "        \n",
    "    for l in range(lmax + 1):\n",
    "        for m in range(-l, l + 1):\n",
    "            index = hp.Alm.getidx(lmax, l, abs(m))\n",
    "            if m < 0:\n",
    "                hp_alm[index] = (-1)**m * np.conj(MW_alm[l, lmax + m])\n",
    "            else:\n",
    "                hp_alm[index] = MW_alm[l, lmax + m]\n",
    "\n",
    "    return hp_alm\n",
    "\n",
    "\n",
    "def Single_Map_doubleworker(MW_Pix_Map):\n",
    "    '''\n",
    "    Input: MW_Pix_Map: list of mw maps at different scales \n",
    "    Each pixel map is a wavelet pixel map of shape (1, Lmax, 2*Lmax-1) (MW sampling, McEwen & Wiaux)\n",
    "    It is the output of s2wav.analysis\n",
    "    (Scale: 0, size (1, 4, 7))\n",
    "\n",
    "    Process:\n",
    "    1. Covert MW Pixel Map to MW alm space using s2fft.forward\n",
    "\n",
    "    2. Add zero to the mw alms  (Is it correct? or should I add zeros to the hp alm's and then convert to mw alm's)\n",
    "    by adding zeros to the MW alm's we are increasing the resolution of the map\n",
    "    Double the rows of the mw alms, since, the number of rows represents the L (level of detail)\n",
    "    \n",
    "    3. Convert mw alm to mw map \n",
    "    \n",
    "    '''\n",
    "    # print(\"original Pixel Map size\", MW_Pix_Map.shape)\n",
    "    MW_alm = s2fft.forward(MW_Pix_Map, L = MW_Pix_Map.shape[1])\n",
    "    # print(\"original alm size\", MW_alm)\n",
    "    # 4,7 --> \n",
    "    # 2*8-1\n",
    "    # print(MW_alm)\n",
    "    # print(\"Scale:\",i,\"original alm size\", MW_alm[i].shape)\n",
    "\n",
    "    padded_alm = np.zeros((MW_alm.shape[0]*2,MW_alm.shape[1]*2+1),dtype=np.complex128)\n",
    "    # Calculate the starting column index for centering MW_alm in padded_alm\n",
    "   \n",
    "    inner_matrix_middle = MW_alm.shape[1] // 2\n",
    "    outer_matrix_middle = padded_alm.shape[1] // 2\n",
    "    start_col = (outer_matrix_middle - inner_matrix_middle)\n",
    "    end_col = start_col + MW_alm.shape[1] # not included\n",
    "   \n",
    "    # stored_wavelet_coeffs_alm_doubled.append(skyclean.double_resolution(stored_wavelet_coeffs_alm[i]))\n",
    "   \n",
    "    padded_alm[:MW_alm.shape[0], start_col:end_col] = MW_alm\n",
    "    # print(padded_alm[:MW_alm.shape[0], start_col:start_col + end_col].shape)\n",
    "    print(\"padded alm\", padded_alm)\n",
    "    MW_alm_doubled = padded_alm.copy()\n",
    "    \n",
    "    # MW_Pix_Map_doubled = np.real(s2fft.inverse(MW_alm_doubled, L = MW_alm_doubled.shape[0]))\n",
    "    # print(\"Scale:\",\"doubled map size\", MW_Pix_Map_doubled.shape)\n",
    "    # Note\n",
    "    # assert imaginery part is around zero\n",
    "    # print(np.imag(MW_Pix_Map_doubled))\n",
    "    MW_Pix_Map_doubled = s2fft.inverse(MW_alm_doubled, L = MW_alm_doubled.shape[0])\n",
    "    # print(\"forward\",s2fft.forward(MW_Pix_Map_doubled, L = MW_alm_doubled.shape[0]))\n",
    "    # print(\"doubled map size\", MW_Pix_Map_doubled)\n",
    "    \n",
    "    return MW_Pix_Map_doubled,padded_alm\n"
   ]
  },
  {
   "cell_type": "code",
   "execution_count": 9,
   "metadata": {},
   "outputs": [
    {
     "name": "stdout",
     "output_type": "stream",
     "text": [
      "padded alm (7, 13)\n"
     ]
    }
   ],
   "source": [
    "array_1 = np.array([[1, 2, 3, 4, 5, 6, 7],\n",
    "                     [8, 9, 10, 11, 12, 13, 14],\n",
    "                     [15, 16, 17, 18, 19, 20, 21],\n",
    "                     [22, 23, 24, 25, 26, 27, 28]])\n",
    "\n",
    "# padded_alm = np.zeros((array_1.shape[0]*2,array_1.shape[1]*2+1))#,dtype=np.complex128)\n",
    "L = array_1.shape[0]\n",
    "padded_alm = np.zeros((L*2-1,2*(2*L-1)-1))\n",
    "inner_matrix_middle = array_1.shape[1] // 2\n",
    "outer_matrix_middle = padded_alm.shape[1] // 2\n",
    "start_col = (outer_matrix_middle - inner_matrix_middle)\n",
    "end_col = start_col + array_1.shape[1] # not included\n",
    "\n",
    "# stored_wavelet_coeffs_alm_doubled.append(skyclean.double_resolution(stored_wavelet_coeffs_alm[i]))\n",
    "\n",
    "padded_alm[:array_1.shape[0], start_col:end_col] = array_1\n",
    "# print(padded_alm[:MW_alm.shape[0], start_col:start_col + end_col].shape)\n",
    "print(\"padded alm\", padded_alm.shape)\n",
    "# MW_alm_doubled = padded_alm.copy()"
   ]
  },
  {
   "cell_type": "code",
   "execution_count": 14,
   "metadata": {},
   "outputs": [
    {
     "data": {
      "text/plain": [
       "4.0"
      ]
     },
     "execution_count": 14,
     "metadata": {},
     "output_type": "execute_result"
    }
   ],
   "source": [
    "padded_alm.shape[0]\n",
    "2*inner_matrix_vertical-1\n",
    "\n",
    "(padded_alm.shape[0]+1)/2"
   ]
  },
  {
   "cell_type": "code",
   "execution_count": 15,
   "metadata": {},
   "outputs": [
    {
     "name": "stdout",
     "output_type": "stream",
     "text": [
      "[[ 1.  2.  3.  4.  5.  6.  7.]\n",
      " [ 8.  9. 10. 11. 12. 13. 14.]\n",
      " [15. 16. 17. 18. 19. 20. 21.]\n",
      " [22. 23. 24. 25. 26. 27. 28.]]\n"
     ]
    }
   ],
   "source": [
    "inner_matrix_vertical = int((padded_alm.shape[0]+1)/2)\n",
    "inner_matrix_horizontal = int(2*inner_matrix_vertical-1)\n",
    "\n",
    "inner_matrix_middle = inner_matrix_horizontal // 2\n",
    "outer_matrix_middle = padded_alm.shape[1] // 2\n",
    "start_col = (outer_matrix_middle - inner_matrix_middle)\n",
    "end_col = start_col + inner_matrix_horizontal # not included\n",
    "\n",
    "\n",
    "# Extract the original size part from the doubled alm data\n",
    "trimmed_alm = padded_alm[:inner_matrix_vertical, start_col:end_col]\n",
    "print(trimmed_alm)"
   ]
  },
  {
   "cell_type": "code",
   "execution_count": 5,
   "metadata": {},
   "outputs": [],
   "source": [
    "# we don't want to store all the data in a dictionary \n",
    "# wavelet is wavelet, and alm is alm \n",
    "# we get them from the same function\n",
    "\n",
    "import numpy as np\n",
    "\n",
    "def load_frequency_data(base_path, file_template, frequencies, scales=None):\n",
    "    \"\"\"\n",
    "    Load NumPy arrays from dynamically generated file paths for each frequency and scale.\n",
    "    \n",
    "    Args:\n",
    "        base_path (str): The base path where the files are located.\n",
    "        file_template (str): The template for the file names, with placeholders for frequency and scale.\n",
    "        frequencies (list): A list of frequency names.\n",
    "        scales_: A lists of scales.\n",
    "        \n",
    "    Returns:\n",
    "        dict: A dictionary where keys are tuples of (frequency, scale) and values are loaded NumPy arrays.\n",
    "    \"\"\"\n",
    "    frequency_data = {}\n",
    "    for frequency in frequencies:\n",
    "        for scale in scales:\n",
    "            # Generate the file path using the template and the current frequency and scale\n",
    "            path = f\"{base_path}/{file_template.format(frequency, scale)}\"\n",
    "            try:\n",
    "                frequency_data[(frequency, scale)] = np.load(path, allow_pickle=True)\n",
    "            except Exception as e:\n",
    "                print(f\"Error loading {path} for frequency {frequency} and scale {scale}: {e}\")\n",
    "    return frequency_data\n",
    "\n",
    "\n",
    "\n",
    "base_path = \"wavelet_transform/wavelets/wav_MW_maps/\"\n",
    "file_template = \"Wav_MW_Pix_F{}_S{}.npy\"\n",
    "frequencies = ['030', '044', '070', '100', '143', '217', '353', '545', '857']\n",
    "# frequencies = ['030', '070', '100', '143', '217', '353', '545', '857']\n",
    "\n",
    "scales = [0, 1, 2, 3, 4, 5]\n",
    "\n",
    "original_wavelet_c_j = load_frequency_data(base_path, file_template, frequencies, scales)\n",
    "\n",
    "# for (frequency, scale), data in frequency_data.items():\n",
    "#     print(f\"Frequency: {frequency}, Scale: {scale}, Data shape: {data.shape}\")\n",
    "\n",
    "\n"
   ]
  },
  {
   "cell_type": "code",
   "execution_count": 6,
   "metadata": {},
   "outputs": [
    {
     "name": "stdout",
     "output_type": "stream",
     "text": [
      "padded alm [[ 0.00000000e+00+0.00000000e+00j  0.00000000e+00+0.00000000e+00j\n",
      "   0.00000000e+00+0.00000000e+00j  0.00000000e+00+0.00000000e+00j\n",
      "   0.00000000e+00+0.00000000e+00j  0.00000000e+00+0.00000000e+00j\n",
      "   0.00000000e+00+0.00000000e+00j  6.64561840e-21+4.07094293e-21j\n",
      "   0.00000000e+00+0.00000000e+00j  0.00000000e+00+0.00000000e+00j\n",
      "   0.00000000e+00+0.00000000e+00j  0.00000000e+00+0.00000000e+00j\n",
      "   0.00000000e+00+0.00000000e+00j  0.00000000e+00+0.00000000e+00j\n",
      "   0.00000000e+00+0.00000000e+00j]\n",
      " [ 0.00000000e+00+0.00000000e+00j  0.00000000e+00+0.00000000e+00j\n",
      "   0.00000000e+00+0.00000000e+00j  0.00000000e+00+0.00000000e+00j\n",
      "   0.00000000e+00+0.00000000e+00j  0.00000000e+00+0.00000000e+00j\n",
      "   2.45611893e-04+1.30022744e-05j -5.17021112e-06+7.77391969e-20j\n",
      "  -2.45611893e-04+1.30022744e-05j  0.00000000e+00+0.00000000e+00j\n",
      "   0.00000000e+00+0.00000000e+00j  0.00000000e+00+0.00000000e+00j\n",
      "   0.00000000e+00+0.00000000e+00j  0.00000000e+00+0.00000000e+00j\n",
      "   0.00000000e+00+0.00000000e+00j]\n",
      " [ 0.00000000e+00+0.00000000e+00j  0.00000000e+00+0.00000000e+00j\n",
      "   0.00000000e+00+0.00000000e+00j  0.00000000e+00+0.00000000e+00j\n",
      "   0.00000000e+00+0.00000000e+00j -5.47793728e-21+6.57403593e-21j\n",
      "   5.55665858e-20-6.14438208e-21j -1.00180143e-22-1.05536507e-23j\n",
      "  -4.06063512e-20-1.06858819e-21j -2.23768500e-21+1.64750951e-21j\n",
      "   0.00000000e+00+0.00000000e+00j  0.00000000e+00+0.00000000e+00j\n",
      "   0.00000000e+00+0.00000000e+00j  0.00000000e+00+0.00000000e+00j\n",
      "   0.00000000e+00+0.00000000e+00j]\n",
      " [ 0.00000000e+00+0.00000000e+00j  0.00000000e+00+0.00000000e+00j\n",
      "   0.00000000e+00+0.00000000e+00j  0.00000000e+00+0.00000000e+00j\n",
      "  -4.50142633e-20+1.30849642e-21j  1.24822096e-21+1.93898710e-21j\n",
      "   6.32185298e-20-3.79311179e-21j  5.65015610e-21+1.20735867e-21j\n",
      "  -2.02299295e-20+4.74138973e-22j -5.49245993e-21+1.79626934e-20j\n",
      "   6.10619148e-20+3.34295813e-22j  0.00000000e+00+0.00000000e+00j\n",
      "   0.00000000e+00+0.00000000e+00j  0.00000000e+00+0.00000000e+00j\n",
      "   0.00000000e+00+0.00000000e+00j]\n",
      " [ 0.00000000e+00+0.00000000e+00j  0.00000000e+00+0.00000000e+00j\n",
      "   0.00000000e+00+0.00000000e+00j  0.00000000e+00+0.00000000e+00j\n",
      "   0.00000000e+00+0.00000000e+00j  0.00000000e+00+0.00000000e+00j\n",
      "   0.00000000e+00+0.00000000e+00j  0.00000000e+00+0.00000000e+00j\n",
      "   0.00000000e+00+0.00000000e+00j  0.00000000e+00+0.00000000e+00j\n",
      "   0.00000000e+00+0.00000000e+00j  0.00000000e+00+0.00000000e+00j\n",
      "   0.00000000e+00+0.00000000e+00j  0.00000000e+00+0.00000000e+00j\n",
      "   0.00000000e+00+0.00000000e+00j]\n",
      " [ 0.00000000e+00+0.00000000e+00j  0.00000000e+00+0.00000000e+00j\n",
      "   0.00000000e+00+0.00000000e+00j  0.00000000e+00+0.00000000e+00j\n",
      "   0.00000000e+00+0.00000000e+00j  0.00000000e+00+0.00000000e+00j\n",
      "   0.00000000e+00+0.00000000e+00j  0.00000000e+00+0.00000000e+00j\n",
      "   0.00000000e+00+0.00000000e+00j  0.00000000e+00+0.00000000e+00j\n",
      "   0.00000000e+00+0.00000000e+00j  0.00000000e+00+0.00000000e+00j\n",
      "   0.00000000e+00+0.00000000e+00j  0.00000000e+00+0.00000000e+00j\n",
      "   0.00000000e+00+0.00000000e+00j]\n",
      " [ 0.00000000e+00+0.00000000e+00j  0.00000000e+00+0.00000000e+00j\n",
      "   0.00000000e+00+0.00000000e+00j  0.00000000e+00+0.00000000e+00j\n",
      "   0.00000000e+00+0.00000000e+00j  0.00000000e+00+0.00000000e+00j\n",
      "   0.00000000e+00+0.00000000e+00j  0.00000000e+00+0.00000000e+00j\n",
      "   0.00000000e+00+0.00000000e+00j  0.00000000e+00+0.00000000e+00j\n",
      "   0.00000000e+00+0.00000000e+00j  0.00000000e+00+0.00000000e+00j\n",
      "   0.00000000e+00+0.00000000e+00j  0.00000000e+00+0.00000000e+00j\n",
      "   0.00000000e+00+0.00000000e+00j]\n",
      " [ 0.00000000e+00+0.00000000e+00j  0.00000000e+00+0.00000000e+00j\n",
      "   0.00000000e+00+0.00000000e+00j  0.00000000e+00+0.00000000e+00j\n",
      "   0.00000000e+00+0.00000000e+00j  0.00000000e+00+0.00000000e+00j\n",
      "   0.00000000e+00+0.00000000e+00j  0.00000000e+00+0.00000000e+00j\n",
      "   0.00000000e+00+0.00000000e+00j  0.00000000e+00+0.00000000e+00j\n",
      "   0.00000000e+00+0.00000000e+00j  0.00000000e+00+0.00000000e+00j\n",
      "   0.00000000e+00+0.00000000e+00j  0.00000000e+00+0.00000000e+00j\n",
      "   0.00000000e+00+0.00000000e+00j]]\n"
     ]
    }
   ],
   "source": [
    "dobubled_30_0,padded = Single_Map_doubleworker(original_wavelet_c_j[(frequencies[0], 0)])"
   ]
  },
  {
   "cell_type": "code",
   "execution_count": 45,
   "metadata": {},
   "outputs": [
    {
     "data": {
      "text/plain": [
       "array([[ 0.00000000e+00+0.00000000e+00j,  0.00000000e+00+0.00000000e+00j,\n",
       "         0.00000000e+00+0.00000000e+00j,  0.00000000e+00+0.00000000e+00j,\n",
       "         0.00000000e+00+0.00000000e+00j,  0.00000000e+00+0.00000000e+00j,\n",
       "         0.00000000e+00+0.00000000e+00j,  6.64561840e-21+4.07094293e-21j,\n",
       "         0.00000000e+00+0.00000000e+00j,  0.00000000e+00+0.00000000e+00j,\n",
       "         0.00000000e+00+0.00000000e+00j,  0.00000000e+00+0.00000000e+00j,\n",
       "         0.00000000e+00+0.00000000e+00j,  0.00000000e+00+0.00000000e+00j,\n",
       "         0.00000000e+00+0.00000000e+00j],\n",
       "       [ 0.00000000e+00+0.00000000e+00j,  0.00000000e+00+0.00000000e+00j,\n",
       "         0.00000000e+00+0.00000000e+00j,  0.00000000e+00+0.00000000e+00j,\n",
       "         0.00000000e+00+0.00000000e+00j,  0.00000000e+00+0.00000000e+00j,\n",
       "         2.45611893e-04+1.30022744e-05j, -5.17021112e-06+7.77391969e-20j,\n",
       "        -2.45611893e-04+1.30022744e-05j,  0.00000000e+00+0.00000000e+00j,\n",
       "         0.00000000e+00+0.00000000e+00j,  0.00000000e+00+0.00000000e+00j,\n",
       "         0.00000000e+00+0.00000000e+00j,  0.00000000e+00+0.00000000e+00j,\n",
       "         0.00000000e+00+0.00000000e+00j],\n",
       "       [ 0.00000000e+00+0.00000000e+00j,  0.00000000e+00+0.00000000e+00j,\n",
       "         0.00000000e+00+0.00000000e+00j,  0.00000000e+00+0.00000000e+00j,\n",
       "         0.00000000e+00+0.00000000e+00j, -5.47793728e-21+6.57403593e-21j,\n",
       "         5.55665858e-20-6.14438208e-21j, -1.00180143e-22-1.05536507e-23j,\n",
       "        -4.06063512e-20-1.06858819e-21j, -2.23768500e-21+1.64750951e-21j,\n",
       "         0.00000000e+00+0.00000000e+00j,  0.00000000e+00+0.00000000e+00j,\n",
       "         0.00000000e+00+0.00000000e+00j,  0.00000000e+00+0.00000000e+00j,\n",
       "         0.00000000e+00+0.00000000e+00j],\n",
       "       [ 0.00000000e+00+0.00000000e+00j,  0.00000000e+00+0.00000000e+00j,\n",
       "         0.00000000e+00+0.00000000e+00j,  0.00000000e+00+0.00000000e+00j,\n",
       "        -4.50142633e-20+1.30849642e-21j,  1.24822096e-21+1.93898710e-21j,\n",
       "         6.32185298e-20-3.79311179e-21j,  5.65015610e-21+1.20735867e-21j,\n",
       "        -2.02299295e-20+4.74138973e-22j, -5.49245993e-21+1.79626934e-20j,\n",
       "         6.10619148e-20+3.34295813e-22j,  0.00000000e+00+0.00000000e+00j,\n",
       "         0.00000000e+00+0.00000000e+00j,  0.00000000e+00+0.00000000e+00j,\n",
       "         0.00000000e+00+0.00000000e+00j],\n",
       "       [ 0.00000000e+00+0.00000000e+00j,  0.00000000e+00+0.00000000e+00j,\n",
       "         0.00000000e+00+0.00000000e+00j,  0.00000000e+00+0.00000000e+00j,\n",
       "         0.00000000e+00+0.00000000e+00j,  0.00000000e+00+0.00000000e+00j,\n",
       "         0.00000000e+00+0.00000000e+00j,  0.00000000e+00+0.00000000e+00j,\n",
       "         0.00000000e+00+0.00000000e+00j,  0.00000000e+00+0.00000000e+00j,\n",
       "         0.00000000e+00+0.00000000e+00j,  0.00000000e+00+0.00000000e+00j,\n",
       "         0.00000000e+00+0.00000000e+00j,  0.00000000e+00+0.00000000e+00j,\n",
       "         0.00000000e+00+0.00000000e+00j],\n",
       "       [ 0.00000000e+00+0.00000000e+00j,  0.00000000e+00+0.00000000e+00j,\n",
       "         0.00000000e+00+0.00000000e+00j,  0.00000000e+00+0.00000000e+00j,\n",
       "         0.00000000e+00+0.00000000e+00j,  0.00000000e+00+0.00000000e+00j,\n",
       "         0.00000000e+00+0.00000000e+00j,  0.00000000e+00+0.00000000e+00j,\n",
       "         0.00000000e+00+0.00000000e+00j,  0.00000000e+00+0.00000000e+00j,\n",
       "         0.00000000e+00+0.00000000e+00j,  0.00000000e+00+0.00000000e+00j,\n",
       "         0.00000000e+00+0.00000000e+00j,  0.00000000e+00+0.00000000e+00j,\n",
       "         0.00000000e+00+0.00000000e+00j],\n",
       "       [ 0.00000000e+00+0.00000000e+00j,  0.00000000e+00+0.00000000e+00j,\n",
       "         0.00000000e+00+0.00000000e+00j,  0.00000000e+00+0.00000000e+00j,\n",
       "         0.00000000e+00+0.00000000e+00j,  0.00000000e+00+0.00000000e+00j,\n",
       "         0.00000000e+00+0.00000000e+00j,  0.00000000e+00+0.00000000e+00j,\n",
       "         0.00000000e+00+0.00000000e+00j,  0.00000000e+00+0.00000000e+00j,\n",
       "         0.00000000e+00+0.00000000e+00j,  0.00000000e+00+0.00000000e+00j,\n",
       "         0.00000000e+00+0.00000000e+00j,  0.00000000e+00+0.00000000e+00j,\n",
       "         0.00000000e+00+0.00000000e+00j],\n",
       "       [ 0.00000000e+00+0.00000000e+00j,  0.00000000e+00+0.00000000e+00j,\n",
       "         0.00000000e+00+0.00000000e+00j,  0.00000000e+00+0.00000000e+00j,\n",
       "         0.00000000e+00+0.00000000e+00j,  0.00000000e+00+0.00000000e+00j,\n",
       "         0.00000000e+00+0.00000000e+00j,  0.00000000e+00+0.00000000e+00j,\n",
       "         0.00000000e+00+0.00000000e+00j,  0.00000000e+00+0.00000000e+00j,\n",
       "         0.00000000e+00+0.00000000e+00j,  0.00000000e+00+0.00000000e+00j,\n",
       "         0.00000000e+00+0.00000000e+00j,  0.00000000e+00+0.00000000e+00j,\n",
       "         0.00000000e+00+0.00000000e+00j]])"
      ]
     },
     "execution_count": 45,
     "metadata": {},
     "output_type": "execute_result"
    }
   ],
   "source": [
    "padded"
   ]
  },
  {
   "cell_type": "code",
   "execution_count": 15,
   "metadata": {},
   "outputs": [
    {
     "ename": "ValueError",
     "evalue": "operands could not be broadcast together with remapped shapes [original->remapped]: (8,15)->(8,15) (7,)->(7,newaxis) ",
     "output_type": "error",
     "traceback": [
      "\u001b[0;31m---------------------------------------------------------------------------\u001b[0m",
      "\u001b[0;31mValueError\u001b[0m                                Traceback (most recent call last)",
      "\u001b[0;32m/tmp/ipykernel_1560752/3543523996.py\u001b[0m in \u001b[0;36m<module>\u001b[0;34m\u001b[0m\n\u001b[0;32m----> 1\u001b[0;31m \u001b[0mMW_pix\u001b[0m \u001b[0;34m=\u001b[0m \u001b[0ms2fft\u001b[0m\u001b[0;34m.\u001b[0m\u001b[0minverse\u001b[0m\u001b[0;34m(\u001b[0m\u001b[0mpadded\u001b[0m\u001b[0;34m,\u001b[0m\u001b[0mL\u001b[0m \u001b[0;34m=\u001b[0m \u001b[0;36m7\u001b[0m\u001b[0;34m)\u001b[0m\u001b[0;34m\u001b[0m\u001b[0;34m\u001b[0m\u001b[0m\n\u001b[0m",
      "\u001b[0;32m~/.local/lib/python3.10/site-packages/s2fft/transforms/spherical.py\u001b[0m in \u001b[0;36minverse\u001b[0;34m(flm, L, spin, nside, sampling, method, reality, precomps, spmd, L_lower, _ssht_backend)\u001b[0m\n\u001b[1;32m     84\u001b[0m \u001b[0;34m\u001b[0m\u001b[0m\n\u001b[1;32m     85\u001b[0m     \u001b[0;32mif\u001b[0m \u001b[0mmethod\u001b[0m \u001b[0;34m==\u001b[0m \u001b[0;34m\"numpy\"\u001b[0m\u001b[0;34m:\u001b[0m\u001b[0;34m\u001b[0m\u001b[0;34m\u001b[0m\u001b[0m\n\u001b[0;32m---> 86\u001b[0;31m         \u001b[0;32mreturn\u001b[0m \u001b[0minverse_numpy\u001b[0m\u001b[0;34m(\u001b[0m\u001b[0mflm\u001b[0m\u001b[0;34m,\u001b[0m \u001b[0mL\u001b[0m\u001b[0;34m,\u001b[0m \u001b[0mspin\u001b[0m\u001b[0;34m,\u001b[0m \u001b[0mnside\u001b[0m\u001b[0;34m,\u001b[0m \u001b[0msampling\u001b[0m\u001b[0;34m,\u001b[0m \u001b[0mreality\u001b[0m\u001b[0;34m,\u001b[0m \u001b[0mprecomps\u001b[0m\u001b[0;34m,\u001b[0m \u001b[0mL_lower\u001b[0m\u001b[0;34m)\u001b[0m\u001b[0;34m\u001b[0m\u001b[0;34m\u001b[0m\u001b[0m\n\u001b[0m\u001b[1;32m     87\u001b[0m     \u001b[0;32melif\u001b[0m \u001b[0mmethod\u001b[0m \u001b[0;34m==\u001b[0m \u001b[0;34m\"jax\"\u001b[0m\u001b[0;34m:\u001b[0m\u001b[0;34m\u001b[0m\u001b[0;34m\u001b[0m\u001b[0m\n\u001b[1;32m     88\u001b[0m         return inverse_jax(\n",
      "\u001b[0;32m~/.local/lib/python3.10/site-packages/s2fft/transforms/spherical.py\u001b[0m in \u001b[0;36minverse_numpy\u001b[0;34m(flm, L, spin, nside, sampling, reality, precomps, L_lower)\u001b[0m\n\u001b[1;32m    153\u001b[0m \u001b[0;34m\u001b[0m\u001b[0m\n\u001b[1;32m    154\u001b[0m     \u001b[0;31m# Apply harmonic normalisation\u001b[0m\u001b[0;34m\u001b[0m\u001b[0;34m\u001b[0m\u001b[0m\n\u001b[0;32m--> 155\u001b[0;31m     flm[L0:] = np.einsum(\n\u001b[0m\u001b[1;32m    156\u001b[0m         \u001b[0;34m\"lm,l->lm\"\u001b[0m\u001b[0;34m,\u001b[0m \u001b[0mflm\u001b[0m\u001b[0;34m[\u001b[0m\u001b[0mL0\u001b[0m\u001b[0;34m:\u001b[0m\u001b[0;34m]\u001b[0m\u001b[0;34m,\u001b[0m \u001b[0mnp\u001b[0m\u001b[0;34m.\u001b[0m\u001b[0msqrt\u001b[0m\u001b[0;34m(\u001b[0m\u001b[0;34m(\u001b[0m\u001b[0;36m2\u001b[0m \u001b[0;34m*\u001b[0m \u001b[0mnp\u001b[0m\u001b[0;34m.\u001b[0m\u001b[0marange\u001b[0m\u001b[0;34m(\u001b[0m\u001b[0mL0\u001b[0m\u001b[0;34m,\u001b[0m \u001b[0mL\u001b[0m\u001b[0;34m)\u001b[0m \u001b[0;34m+\u001b[0m \u001b[0;36m1\u001b[0m\u001b[0;34m)\u001b[0m \u001b[0;34m/\u001b[0m \u001b[0;34m(\u001b[0m\u001b[0;36m4\u001b[0m \u001b[0;34m*\u001b[0m \u001b[0mnp\u001b[0m\u001b[0;34m.\u001b[0m\u001b[0mpi\u001b[0m\u001b[0;34m)\u001b[0m\u001b[0;34m)\u001b[0m\u001b[0;34m\u001b[0m\u001b[0;34m\u001b[0m\u001b[0m\n\u001b[1;32m    157\u001b[0m     )\n",
      "\u001b[0;32m~/.local/lib/python3.10/site-packages/numpy/core/einsumfunc.py\u001b[0m in \u001b[0;36meinsum\u001b[0;34m(out, optimize, *operands, **kwargs)\u001b[0m\n\u001b[1;32m   1369\u001b[0m         \u001b[0;32mif\u001b[0m \u001b[0mspecified_out\u001b[0m\u001b[0;34m:\u001b[0m\u001b[0;34m\u001b[0m\u001b[0;34m\u001b[0m\u001b[0m\n\u001b[1;32m   1370\u001b[0m             \u001b[0mkwargs\u001b[0m\u001b[0;34m[\u001b[0m\u001b[0;34m'out'\u001b[0m\u001b[0;34m]\u001b[0m \u001b[0;34m=\u001b[0m \u001b[0mout\u001b[0m\u001b[0;34m\u001b[0m\u001b[0;34m\u001b[0m\u001b[0m\n\u001b[0;32m-> 1371\u001b[0;31m         \u001b[0;32mreturn\u001b[0m \u001b[0mc_einsum\u001b[0m\u001b[0;34m(\u001b[0m\u001b[0;34m*\u001b[0m\u001b[0moperands\u001b[0m\u001b[0;34m,\u001b[0m \u001b[0;34m**\u001b[0m\u001b[0mkwargs\u001b[0m\u001b[0;34m)\u001b[0m\u001b[0;34m\u001b[0m\u001b[0;34m\u001b[0m\u001b[0m\n\u001b[0m\u001b[1;32m   1372\u001b[0m \u001b[0;34m\u001b[0m\u001b[0m\n\u001b[1;32m   1373\u001b[0m     \u001b[0;31m# Check the kwargs to avoid a more cryptic error later, without having to\u001b[0m\u001b[0;34m\u001b[0m\u001b[0;34m\u001b[0m\u001b[0m\n",
      "\u001b[0;31mValueError\u001b[0m: operands could not be broadcast together with remapped shapes [original->remapped]: (8,15)->(8,15) (7,)->(7,newaxis) "
     ]
    }
   ],
   "source": [
    "MW_pix = s2fft.inverse(padded,L = 7)"
   ]
  },
  {
   "cell_type": "code",
   "execution_count": 14,
   "metadata": {},
   "outputs": [],
   "source": [
    "MW_pix_1 = s2fft.forward(MW_pix,L=7)"
   ]
  },
  {
   "cell_type": "code",
   "execution_count": 9,
   "metadata": {},
   "outputs": [
    {
     "data": {
      "text/plain": [
       "array([[ 0.00000000e+00+0.00000000e+00j,  0.00000000e+00+0.00000000e+00j,\n",
       "         0.00000000e+00+0.00000000e+00j,  0.00000000e+00+0.00000000e+00j,\n",
       "         0.00000000e+00+0.00000000e+00j,  0.00000000e+00+0.00000000e+00j,\n",
       "         0.00000000e+00+0.00000000e+00j,  1.68940580e-20+1.34772447e-21j,\n",
       "         0.00000000e+00+0.00000000e+00j,  0.00000000e+00+0.00000000e+00j,\n",
       "         0.00000000e+00+0.00000000e+00j,  0.00000000e+00+0.00000000e+00j,\n",
       "         0.00000000e+00+0.00000000e+00j,  0.00000000e+00+0.00000000e+00j,\n",
       "         0.00000000e+00+0.00000000e+00j],\n",
       "       [ 0.00000000e+00+0.00000000e+00j,  0.00000000e+00+0.00000000e+00j,\n",
       "         0.00000000e+00+0.00000000e+00j,  0.00000000e+00+0.00000000e+00j,\n",
       "         0.00000000e+00+0.00000000e+00j,  0.00000000e+00+0.00000000e+00j,\n",
       "         2.45611893e-04+1.30022744e-05j, -5.17021112e-06+7.84692296e-20j,\n",
       "        -2.45611893e-04+1.30022744e-05j,  0.00000000e+00+0.00000000e+00j,\n",
       "         0.00000000e+00+0.00000000e+00j,  0.00000000e+00+0.00000000e+00j,\n",
       "         0.00000000e+00+0.00000000e+00j,  0.00000000e+00+0.00000000e+00j,\n",
       "         0.00000000e+00+0.00000000e+00j],\n",
       "       [ 0.00000000e+00+0.00000000e+00j,  0.00000000e+00+0.00000000e+00j,\n",
       "         0.00000000e+00+0.00000000e+00j,  0.00000000e+00+0.00000000e+00j,\n",
       "         0.00000000e+00+0.00000000e+00j, -1.75536143e-20+2.00393774e-20j,\n",
       "         4.62164391e-20-5.90228007e-21j, -9.24161816e-21+1.97685564e-21j,\n",
       "        -1.30902053e-20-1.45010756e-20j, -1.90016742e-21-9.34757873e-21j,\n",
       "         0.00000000e+00+0.00000000e+00j,  0.00000000e+00+0.00000000e+00j,\n",
       "         0.00000000e+00+0.00000000e+00j,  0.00000000e+00+0.00000000e+00j,\n",
       "         0.00000000e+00+0.00000000e+00j],\n",
       "       [ 0.00000000e+00+0.00000000e+00j,  0.00000000e+00+0.00000000e+00j,\n",
       "         0.00000000e+00+0.00000000e+00j,  0.00000000e+00+0.00000000e+00j,\n",
       "        -4.52429231e-20-1.13444238e-20j, -1.19342589e-22-1.59382243e-20j,\n",
       "         1.63419899e-19+9.93716265e-21j,  2.40526750e-20+6.25273230e-21j,\n",
       "        -1.20431299e-19+1.83136178e-20j, -9.58430889e-21+2.12900198e-20j,\n",
       "         5.58748032e-20-1.30223741e-20j,  0.00000000e+00+0.00000000e+00j,\n",
       "         0.00000000e+00+0.00000000e+00j,  0.00000000e+00+0.00000000e+00j,\n",
       "         0.00000000e+00+0.00000000e+00j],\n",
       "       [ 0.00000000e+00+0.00000000e+00j,  0.00000000e+00+0.00000000e+00j,\n",
       "         0.00000000e+00+0.00000000e+00j,  1.26883467e-20+7.61402712e-21j,\n",
       "        -1.88794630e-20-9.01913200e-21j,  1.05307739e-20+5.81672690e-21j,\n",
       "        -2.34762070e-20-1.72487399e-21j, -3.34894365e-21+5.35826590e-21j,\n",
       "         4.83860755e-21+4.84980803e-21j,  9.69793478e-22-2.83880794e-21j,\n",
       "         7.51802771e-21-2.38558562e-21j,  7.69912545e-21+1.33223395e-21j,\n",
       "         0.00000000e+00+0.00000000e+00j,  0.00000000e+00+0.00000000e+00j,\n",
       "         0.00000000e+00+0.00000000e+00j],\n",
       "       [ 0.00000000e+00+0.00000000e+00j,  0.00000000e+00+0.00000000e+00j,\n",
       "         2.91995000e-20-1.84941333e-20j,  9.56534902e-21+1.00564524e-21j,\n",
       "         5.56815930e-21+7.27576824e-21j,  2.43499970e-20-2.63147116e-21j,\n",
       "        -7.23143667e-20-5.60931646e-21j, -1.90320516e-20+2.14544266e-21j,\n",
       "         5.48796701e-20-5.60931646e-21j,  1.17153788e-20+1.48285056e-21j,\n",
       "         3.62918295e-21-2.03930269e-21j, -5.18168296e-21-9.25974184e-21j,\n",
       "         1.17112515e-20-1.25806054e-20j,  0.00000000e+00+0.00000000e+00j,\n",
       "         0.00000000e+00+0.00000000e+00j],\n",
       "       [ 0.00000000e+00+0.00000000e+00j,  1.50729505e-20-2.01358680e-20j,\n",
       "        -1.44640392e-21-1.01371664e-21j, -3.20901625e-21-2.41514935e-21j,\n",
       "         1.91665556e-20+2.05853908e-21j, -1.12168156e-20+3.69383379e-21j,\n",
       "        -3.70455036e-20+5.20952395e-21j, -4.71145577e-22-2.76774627e-21j,\n",
       "         5.59990171e-20-3.54032248e-21j, -5.07497910e-21+9.31679086e-22j,\n",
       "        -1.16578438e-20+2.00361292e-21j,  1.09398840e-20-1.79982387e-21j,\n",
       "         1.30022501e-20+7.60634204e-21j,  2.27230831e-21-2.61159782e-21j,\n",
       "         0.00000000e+00+0.00000000e+00j],\n",
       "       [-1.14792452e-20-1.28628798e-20j, -9.52327955e-21+1.04969577e-20j,\n",
       "        -4.30411683e-21+4.53009998e-22j, -3.58613257e-21+3.13071891e-21j,\n",
       "        -6.57908213e-21+2.47631982e-22j, -2.69141509e-20+6.28197941e-21j,\n",
       "         6.01525936e-21-1.05990027e-20j,  1.46766545e-20+2.02511808e-21j,\n",
       "         3.23898581e-21-7.66367178e-21j, -4.47780576e-22-4.79506161e-21j,\n",
       "         5.21875189e-22+1.13870279e-20j,  2.58268369e-20+1.24159855e-20j,\n",
       "        -2.29323204e-21+7.07441674e-21j, -8.60545366e-21-1.19801041e-20j,\n",
       "        -2.23041202e-21-1.76093926e-20j]])"
      ]
     },
     "execution_count": 9,
     "metadata": {},
     "output_type": "execute_result"
    }
   ],
   "source": [
    "MW_pix_1"
   ]
  },
  {
   "cell_type": "code",
   "execution_count": null,
   "metadata": {},
   "outputs": [],
   "source": []
  },
  {
   "cell_type": "code",
   "execution_count": 21,
   "metadata": {},
   "outputs": [
    {
     "data": {
      "text/plain": [
       "array([[ 0.00000000e+00+0.00000000e+00j,  0.00000000e+00+0.00000000e+00j,\n",
       "         0.00000000e+00+0.00000000e+00j,  6.64561840e-21+4.07094293e-21j,\n",
       "         0.00000000e+00+0.00000000e+00j,  0.00000000e+00+0.00000000e+00j,\n",
       "         0.00000000e+00+0.00000000e+00j],\n",
       "       [ 0.00000000e+00+0.00000000e+00j,  0.00000000e+00+0.00000000e+00j,\n",
       "         2.45611893e-04+1.30022744e-05j, -5.17021112e-06+7.77391969e-20j,\n",
       "        -2.45611893e-04+1.30022744e-05j,  0.00000000e+00+0.00000000e+00j,\n",
       "         0.00000000e+00+0.00000000e+00j],\n",
       "       [ 0.00000000e+00+0.00000000e+00j, -5.47793728e-21+6.57403593e-21j,\n",
       "         5.55665858e-20-6.14438208e-21j, -1.00180143e-22-1.05536507e-23j,\n",
       "        -4.06063512e-20-1.06858819e-21j, -2.23768500e-21+1.64750951e-21j,\n",
       "         0.00000000e+00+0.00000000e+00j],\n",
       "       [-4.50142633e-20+1.30849642e-21j,  1.24822096e-21+1.93898710e-21j,\n",
       "         6.32185298e-20-3.79311179e-21j,  5.65015610e-21+1.20735867e-21j,\n",
       "        -2.02299295e-20+4.74138973e-22j, -5.49245993e-21+1.79626934e-20j,\n",
       "         6.10619148e-20+3.34295813e-22j]])"
      ]
     },
     "execution_count": 21,
     "metadata": {},
     "output_type": "execute_result"
    }
   ],
   "source": []
  },
  {
   "cell_type": "code",
   "execution_count": 30,
   "metadata": {},
   "outputs": [
    {
     "data": {
      "text/plain": [
       "array([[ 0.00000000e+00+0.00000000e+00j,  0.00000000e+00+0.00000000e+00j,\n",
       "         0.00000000e+00+0.00000000e+00j,  6.64561840e-21+4.07094293e-21j,\n",
       "         0.00000000e+00+0.00000000e+00j,  0.00000000e+00+0.00000000e+00j,\n",
       "         0.00000000e+00+0.00000000e+00j],\n",
       "       [ 0.00000000e+00+0.00000000e+00j,  0.00000000e+00+0.00000000e+00j,\n",
       "         2.45611893e-04+1.30022744e-05j, -5.17021112e-06+7.77391969e-20j,\n",
       "        -2.45611893e-04+1.30022744e-05j,  0.00000000e+00+0.00000000e+00j,\n",
       "         0.00000000e+00+0.00000000e+00j],\n",
       "       [ 0.00000000e+00+0.00000000e+00j, -5.47793728e-21+6.57403593e-21j,\n",
       "         5.55665858e-20-6.14438208e-21j, -1.00180143e-22-1.05536507e-23j,\n",
       "        -4.06063512e-20-1.06858819e-21j, -2.23768500e-21+1.64750951e-21j,\n",
       "         0.00000000e+00+0.00000000e+00j],\n",
       "       [-4.50142633e-20+1.30849642e-21j,  1.24822096e-21+1.93898710e-21j,\n",
       "         6.32185298e-20-3.79311179e-21j,  5.65015610e-21+1.20735867e-21j,\n",
       "        -2.02299295e-20+4.74138973e-22j, -5.49245993e-21+1.79626934e-20j,\n",
       "         6.10619148e-20+3.34295813e-22j]])"
      ]
     },
     "metadata": {},
     "output_type": "display_data"
    }
   ],
   "source": [
    "alm_30 = s2fft.forward(original_wavelet_c_j[(frequencies[0], 0)],4)\n",
    "display(alm_30)\n",
    "new_map = s2fft.inverse(alm_30,L=4)"
   ]
  },
  {
   "cell_type": "code",
   "execution_count": null,
   "metadata": {},
   "outputs": [],
   "source": []
  },
  {
   "cell_type": "code",
   "execution_count": 31,
   "metadata": {},
   "outputs": [
    {
     "data": {
      "text/plain": [
       "array([[        nan,         nan,         nan, -0.06242277,         nan,\n",
       "                nan,         nan],\n",
       "       [        nan,         nan,  0.48860251,  0.48860251,  0.48860251,\n",
       "                nan,         nan],\n",
       "       [        nan,  0.45704793,  0.46198201, -0.00486465,  0.26054086,\n",
       "         0.14618164,         nan],\n",
       "       [ 0.71085205, -0.06381627,  0.74635267,  0.39675997, -2.98541066,\n",
       "        -0.41389548,  0.61054943]])"
      ]
     },
     "metadata": {},
     "output_type": "display_data"
    },
    {
     "data": {
      "text/plain": [
       "array([[        nan,         nan,         nan,  0.22719164,         nan,\n",
       "                nan,         nan],\n",
       "       [        nan,         nan,  0.48860251,  0.39928849,  0.48860251,\n",
       "                nan,         nan],\n",
       "       [        nan,  0.23724552, -0.53733378,  0.00478773, -0.12307964,\n",
       "        -0.13033259,         nan],\n",
       "       [-0.04904943, -0.85687819,  0.21452053, -0.68345046,  0.49756844,\n",
       "         0.47864365, -0.03189346]])"
      ]
     },
     "execution_count": 31,
     "metadata": {},
     "output_type": "execute_result"
    }
   ],
   "source": [
    "new_alm_30 = s2fft.forward(new_map,4)\n",
    "display(np.real(alm_30)/np.real(new_alm_30))\n",
    "np.imag(alm_30)/np.imag(new_alm_30)"
   ]
  },
  {
   "cell_type": "code",
   "execution_count": 37,
   "metadata": {},
   "outputs": [
    {
     "data": {
      "text/plain": [
       "array([[ 0.00000000e+00+0.00000000e+00j,  0.00000000e+00+0.00000000e+00j,\n",
       "         0.00000000e+00+0.00000000e+00j, -3.00322216e-20+5.05472744e-21j,\n",
       "         0.00000000e+00+0.00000000e+00j,  0.00000000e+00+0.00000000e+00j,\n",
       "         0.00000000e+00+0.00000000e+00j],\n",
       "       [ 0.00000000e+00+0.00000000e+00j,  0.00000000e+00+0.00000000e+00j,\n",
       "         2.45611893e-04+1.30022744e-05j, -5.17021112e-06+9.51281283e-20j,\n",
       "        -2.45611893e-04+1.30022744e-05j,  0.00000000e+00+0.00000000e+00j,\n",
       "         0.00000000e+00+0.00000000e+00j],\n",
       "       [ 0.00000000e+00+0.00000000e+00j, -7.56023653e-21+1.74789007e-20j,\n",
       "         7.58697614e-20+7.21297027e-21j,  1.29900252e-20-1.39044284e-21j,\n",
       "        -9.83101133e-20+5.47651446e-21j, -9.65575417e-21-7.97360999e-21j,\n",
       "         0.00000000e+00+0.00000000e+00j],\n",
       "       [-4.72623177e-20-1.99105213e-20j, -1.45983630e-20-1.68888437e-21j,\n",
       "         6.32185298e-20-1.31968681e-20j,  1.06286153e-20-1.31847942e-21j,\n",
       "         5.05748238e-21+7.11208460e-22j,  9.90422042e-21+2.80093635e-20j,\n",
       "         7.46437896e-20-7.82300142e-21j]])"
      ]
     },
     "execution_count": 37,
     "metadata": {},
     "output_type": "execute_result"
    }
   ],
   "source": [
    "new_alm_30"
   ]
  },
  {
   "cell_type": "code",
   "execution_count": 26,
   "metadata": {},
   "outputs": [],
   "source": [
    "new_alm_new_map = s2fft.inverse(new_alm_30,L=4) "
   ]
  },
  {
   "cell_type": "code",
   "execution_count": 33,
   "metadata": {},
   "outputs": [
    {
     "data": {
      "text/plain": [
       "array([[ 0.00000000e+00+0.00000000e+00j,  0.00000000e+00+0.00000000e+00j,\n",
       "         0.00000000e+00+0.00000000e+00j, -3.30040824e-20+1.50940328e-20j,\n",
       "         0.00000000e+00+0.00000000e+00j,  0.00000000e+00+0.00000000e+00j,\n",
       "         0.00000000e+00+0.00000000e+00j],\n",
       "       [ 0.00000000e+00+0.00000000e+00j,  0.00000000e+00+0.00000000e+00j,\n",
       "         2.45611893e-04+1.30022744e-05j, -5.17021112e-06+9.31506142e-20j,\n",
       "        -2.45611893e-04+1.30022744e-05j,  0.00000000e+00+0.00000000e+00j,\n",
       "         0.00000000e+00+0.00000000e+00j],\n",
       "       [ 0.00000000e+00+0.00000000e+00j, -7.29009117e-21+6.80510860e-22j,\n",
       "         1.37847876e-19+1.97688815e-20j,  1.71641978e-20-2.64357554e-21j,\n",
       "        -1.52808111e-19+9.75086722e-21j, -4.47922616e-21+1.52007014e-20j,\n",
       "         0.00000000e+00+0.00000000e+00j],\n",
       "       [-3.62351161e-20-2.74469899e-20j, -1.57230655e-20+9.88264412e-21j,\n",
       "         7.08047533e-20-2.42601108e-20j,  1.53304935e-20-4.00448745e-21j,\n",
       "        -5.05748238e-21-3.39799598e-21j,  1.64498368e-20+3.15213436e-20j,\n",
       "         7.56751430e-20+2.16975891e-21j]])"
      ]
     },
     "execution_count": 33,
     "metadata": {},
     "output_type": "execute_result"
    }
   ],
   "source": [
    "third_alm = s2fft.forward(new_alm_new_map,4)\n",
    "third_alm"
   ]
  },
  {
   "cell_type": "code",
   "execution_count": 39,
   "metadata": {},
   "outputs": [
    {
     "data": {
      "text/plain": [
       "array([       nan,        nan, 1.        , 1.02122921, 1.        ,\n",
       "              nan,        nan])"
      ]
     },
     "execution_count": 39,
     "metadata": {},
     "output_type": "execute_result"
    }
   ],
   "source": [
    "np.imag(new_alm_30[1,:])/np.imag(third_alm[1,:])"
   ]
  },
  {
   "cell_type": "code",
   "execution_count": null,
   "metadata": {},
   "outputs": [],
   "source": [
    "import jax\n",
    "jax.config.update(\"jax_enable_x64\", True)\n",
    "import s2fft\n",
    "import healpy as hp\n",
    "import numpy as np\n",
    "import s2wav\n",
    "import s2wav.filters as filters\n",
    "import matplotlib.pyplot as plt\n",
    "%matplotlib inline \n",
    "\n",
    "\n",
    "frequency = \"070\"\n",
    "# Step 1: Read the Healpix map\n",
    "CMB_map_path = f'../data/planck_simulation/ffp10_newdust_total_{frequency}_full_map.fits'\n",
    "original_healpix_map = hp.read_map(CMB_map_path)\n",
    "\n"
   ]
  },
  {
   "cell_type": "code",
   "execution_count": null,
   "metadata": {},
   "outputs": [],
   "source": [
    "\n",
    "def mw_alm_2_hp_alm(MW_alm, lmax):\n",
    "    # Initialize the 1D hp_alm array with the appropriate size\n",
    "    hp_alm = np.zeros(hp.Alm.getsize(lmax), dtype=np.complex128)\n",
    "    \n",
    "    for l in range(lmax + 1):\n",
    "        for m in range(-l, l + 1):\n",
    "            index = hp.Alm.getidx(lmax, l, abs(m))\n",
    "            if m < 0:\n",
    "                hp_alm[index] = (-1)**m * np.conj(MW_alm[l, lmax + m])\n",
    "            else:\n",
    "                hp_alm[index] = MW_alm[l, lmax + m]\n",
    "    \n",
    "    return hp_alm"
   ]
  },
  {
   "cell_type": "code",
   "execution_count": 28,
   "metadata": {},
   "outputs": [
    {
     "data": {
      "text/plain": [
       "array([[1., 1., 1., 1., 1., 1., 1.],\n",
       "       [1., 1., 1., 1., 1., 1., 1.],\n",
       "       [1., 1., 1., 1., 1., 1., 1.],\n",
       "       [1., 1., 1., 1., 1., 1., 1.]])"
      ]
     },
     "execution_count": 28,
     "metadata": {},
     "output_type": "execute_result"
    }
   ],
   "source": [
    "np.real(new_map/new_alm_new_map)"
   ]
  },
  {
   "cell_type": "code",
   "execution_count": 15,
   "metadata": {},
   "outputs": [
    {
     "name": "stdout",
     "output_type": "stream",
     "text": [
      "[[ 3.28147459e-05+3.50006029e-20j  3.05239052e-05+3.10464929e-20j\n",
      "   2.25279500e-05+2.68449643e-20j  1.02094535e-05+2.69306640e-20j\n",
      "  -4.30160434e-06+2.91519727e-20j -1.84961297e-05+3.19055153e-20j\n",
      "  -2.99197603e-05+3.76966154e-20j -3.65972465e-05+4.29207238e-20j\n",
      "  -3.73739904e-05+4.75310780e-20j -3.21156858e-05+4.93089039e-20j\n",
      "  -2.17315415e-05+4.92171141e-20j -8.01707022e-06+4.95861655e-20j\n",
      "   6.65637127e-06+4.64725695e-20j  1.97516117e-05+4.30730523e-20j\n",
      "   2.90043649e-05+3.95416328e-20j]\n",
      " [ 9.77122203e-05+2.61331165e-20j  9.12358053e-05+1.71941956e-20j\n",
      "   6.86305129e-05+1.53615490e-20j  3.38050033e-05+9.52635612e-21j\n",
      "  -7.21907639e-06+2.17340131e-20j -4.73482901e-05+2.57704058e-20j\n",
      "  -7.96439323e-05+3.65350488e-20j -9.85217929e-05+5.16163093e-20j\n",
      "  -1.00717718e-04+4.92590769e-20j -8.58520135e-05+5.22132694e-20j\n",
      "  -5.64950933e-05+4.10775682e-20j -1.77230362e-05+3.47260698e-20j\n",
      "   2.37601169e-05+3.54616088e-20j  6.07815521e-05+2.82473133e-20j\n",
      "   8.69399267e-05+3.47522982e-20j]\n",
      " [ 1.45714364e-04+1.47732185e-20j  1.36172206e-04+7.61501113e-21j\n",
      "   1.02866237e-04+7.51891428e-21j  5.15553610e-05+8.31374835e-21j\n",
      "  -8.88830454e-06+4.89956473e-20j -6.80135010e-05+2.72257659e-20j\n",
      "  -1.15596945e-04+3.26842002e-20j -1.43411026e-04+6.16517944e-20j\n",
      "  -1.46646438e-04+4.40122415e-20j -1.24743748e-04+3.78279335e-20j\n",
      "  -8.14901303e-05+6.48277403e-22j -2.43645282e-05+3.07625321e-21j\n",
      "   3.67555225e-05+5.13474634e-21j  9.13018099e-05-2.01768833e-20j\n",
      "   1.29842785e-04+1.69006721e-20j]\n",
      " [ 1.68521171e-04-3.77261338e-21j  1.57563195e-04-4.03360841e-21j\n",
      "   1.19315454e-04+7.53961495e-21j  6.03913283e-05+2.59263402e-20j\n",
      "  -9.02066409e-06+5.55948060e-20j -7.69185597e-05+4.30674798e-20j\n",
      "  -1.31562195e-04+2.75450062e-20j -1.63503190e-04+4.27113244e-20j\n",
      "  -1.67218656e-04+3.19511362e-20j -1.42066155e-04+9.20848126e-21j\n",
      "  -9.23947834e-05-2.31653500e-20j -2.67931720e-05-3.55568883e-20j\n",
      "   4.33955643e-05-3.39909158e-20j  1.06035155e-04-4.61908736e-20j\n",
      "   1.50294647e-04-2.20850441e-20j]\n",
      " [ 1.62189136e-04-2.54039046e-20j  1.51710076e-04-1.66247723e-21j\n",
      "   1.15133945e-04-3.79282282e-21j  5.87850864e-05+3.16810027e-20j\n",
      "  -7.59326887e-06+5.32103998e-20j -7.25237006e-05+2.31893669e-20j\n",
      "  -1.24779147e-04+1.47944934e-20j -1.55324168e-04+3.18278659e-21j\n",
      "  -1.58877250e-04+5.97414523e-21j -1.34824034e-04-1.62298549e-20j\n",
      "  -8.73235391e-05-4.86598598e-20j -2.45890329e-05-3.76156584e-20j\n",
      "   4.25321189e-05-5.60196732e-20j  1.02434059e-04-5.72487861e-20j\n",
      "   1.44759198e-04-3.89329676e-20j]\n",
      " [ 1.27813126e-04-3.97990032e-20j  1.19624907e-04-3.82156304e-20j\n",
      "   9.10447307e-05-2.87440812e-20j  4.70143690e-05-1.91355878e-20j\n",
      "  -4.85292848e-06-1.31072789e-20j -5.55888349e-05-1.94438901e-20j\n",
      "  -9.64206510e-05-2.32370077e-20j -1.20288185e-04-2.01638038e-20j\n",
      "  -1.23064523e-04-1.70413594e-20j -1.04269612e-04-1.18531978e-20j\n",
      "  -6.71532615e-05-1.39478235e-20j -1.81332266e-05-1.87926217e-20j\n",
      "   3.43144836e-05-2.61711692e-20j  8.11211836e-05-3.47614290e-20j\n",
      "   1.14193570e-04-3.61740134e-20j]\n",
      " [ 7.13370653e-05-4.29129945e-20j  6.68555046e-05-4.03190017e-20j\n",
      "   5.12130557e-05-3.62063918e-20j  2.71144401e-05-3.29640181e-20j\n",
      "  -1.27347267e-06-2.64946948e-20j -2.90421545e-05-2.84208030e-20j\n",
      "  -5.13901482e-05-3.12942543e-20j -6.44532824e-05-2.90673189e-20j\n",
      "  -6.59728228e-05-2.88928494e-20j -5.56860268e-05-2.80630975e-20j\n",
      "  -3.53715750e-05-3.15278921e-20j -8.54202072e-06-3.29486753e-20j\n",
      "   2.01635625e-05-3.49609829e-20j  4.57817184e-05-4.27864398e-20j\n",
      "   6.38828352e-05-4.37266277e-20j]\n",
      " [ 2.52617814e-06-3.77429475e-20j  2.52617814e-06-3.77429475e-20j\n",
      "   2.52617814e-06-3.77429475e-20j  2.52617814e-06-3.77429475e-20j\n",
      "   2.52617814e-06-3.77429475e-20j  2.52617814e-06-3.77429475e-20j\n",
      "   2.52617814e-06-3.77429475e-20j  2.52617814e-06-3.77429475e-20j\n",
      "   2.52617814e-06-3.77429475e-20j  2.52617814e-06-3.77429475e-20j\n",
      "   2.52617814e-06-3.77429475e-20j  2.52617814e-06-3.77429475e-20j\n",
      "   2.52617814e-06-3.77429475e-20j  2.52617814e-06-3.77429475e-20j\n",
      "   2.52617814e-06-3.77429475e-20j]]\n"
     ]
    },
    {
     "ename": "NameError",
     "evalue": "name 'new_30_0' is not defined",
     "output_type": "error",
     "traceback": [
      "\u001b[0;31m---------------------------------------------------------------------------\u001b[0m",
      "\u001b[0;31mNameError\u001b[0m                                 Traceback (most recent call last)",
      "\u001b[0;32m/tmp/ipykernel_1533698/3416474787.py\u001b[0m in \u001b[0;36m<module>\u001b[0;34m\u001b[0m\n\u001b[1;32m      1\u001b[0m \u001b[0mprint\u001b[0m\u001b[0;34m(\u001b[0m\u001b[0mdobubled_30_0\u001b[0m\u001b[0;34m)\u001b[0m\u001b[0;34m\u001b[0m\u001b[0;34m\u001b[0m\u001b[0m\n\u001b[0;32m----> 2\u001b[0;31m \u001b[0mnew_30_0\u001b[0m\u001b[0;34m\u001b[0m\u001b[0;34m\u001b[0m\u001b[0m\n\u001b[0m",
      "\u001b[0;31mNameError\u001b[0m: name 'new_30_0' is not defined"
     ]
    }
   ],
   "source": [
    "print(dobubled_30_0)"
   ]
  },
  {
   "cell_type": "code",
   "execution_count": 76,
   "metadata": {},
   "outputs": [],
   "source": [
    "def trim_to_original(MW_Doubled_Map):\n",
    "    '''\n",
    "    Input:\n",
    "        MW_Doubled_Map: The MW Pixel map with increased resolution.\n",
    "        original_shape: A tuple indicating the original size of the alm data.\n",
    "\n",
    "    Process:\n",
    "        1. convet it to alm  \n",
    "        1. Trim the alm back to its original dimensions.\n",
    "        2. Convert the trimmed alm array back to a pixel map using an inverse spherical transform.\n",
    "\n",
    "    Returns:\n",
    "        MW_Pix_Map_original: The pixel map converted back to its original resolution.\n",
    "    '''\n",
    "\n",
    "    # 8,15, 15//2 = 7\n",
    "    print(MW_Doubled_Map)\n",
    "    MW_alm_doubled = s2fft.forward(MW_Doubled_Map, L = MW_Doubled_Map.shape[0])\n",
    "    print(\"alm\", MW_alm_doubled)\n",
    "    inner_matrix_vertical = MW_Doubled_Map.shape[0] // 2\n",
    "    inner_matrix_horizontal = MW_Doubled_Map.shape[1] // 2\n",
    "    \n",
    "    inner_matrix_middle = inner_matrix_horizontal // 2\n",
    "    outer_matrix_middle = MW_Doubled_Map.shape[1] // 2\n",
    "    start_col = (outer_matrix_middle - inner_matrix_middle)\n",
    "    end_col = start_col + inner_matrix_horizontal # not included\n",
    "\n",
    "\n",
    "    # Extract the original size part from the doubled alm data\n",
    "    trimmed_alm = MW_alm_doubled[:inner_matrix_vertical, start_col:end_col]\n",
    "    print(trimmed_alm)\n",
    "    # Convert trimmed alm to the original pixel map\n",
    "    MW_Pix_Map_original = s2fft.inverse(trimmed_alm, L=trimmed_alm.shape[0])\n",
    "\n",
    "    return MW_Pix_Map_original\n",
    " "
   ]
  },
  {
   "cell_type": "code",
   "execution_count": 26,
   "metadata": {},
   "outputs": [
    {
     "name": "stdout",
     "output_type": "stream",
     "text": [
      "[[ 3.28147459e-05+3.50006029e-20j  3.05239052e-05+3.10464929e-20j\n",
      "   2.25279500e-05+2.68449643e-20j  1.02094535e-05+2.69306640e-20j\n",
      "  -4.30160434e-06+2.91519727e-20j -1.84961297e-05+3.19055153e-20j\n",
      "  -2.99197603e-05+3.76966154e-20j -3.65972465e-05+4.29207238e-20j\n",
      "  -3.73739904e-05+4.75310780e-20j -3.21156858e-05+4.93089039e-20j\n",
      "  -2.17315415e-05+4.92171141e-20j -8.01707022e-06+4.95861655e-20j\n",
      "   6.65637127e-06+4.64725695e-20j  1.97516117e-05+4.30730523e-20j\n",
      "   2.90043649e-05+3.95416328e-20j]\n",
      " [ 9.77122203e-05+2.61331165e-20j  9.12358053e-05+1.71941956e-20j\n",
      "   6.86305129e-05+1.53615490e-20j  3.38050033e-05+9.52635612e-21j\n",
      "  -7.21907639e-06+2.17340131e-20j -4.73482901e-05+2.57704058e-20j\n",
      "  -7.96439323e-05+3.65350488e-20j -9.85217929e-05+5.16163093e-20j\n",
      "  -1.00717718e-04+4.92590769e-20j -8.58520135e-05+5.22132694e-20j\n",
      "  -5.64950933e-05+4.10775682e-20j -1.77230362e-05+3.47260698e-20j\n",
      "   2.37601169e-05+3.54616088e-20j  6.07815521e-05+2.82473133e-20j\n",
      "   8.69399267e-05+3.47522982e-20j]\n",
      " [ 1.45714364e-04+1.47732185e-20j  1.36172206e-04+7.61501113e-21j\n",
      "   1.02866237e-04+7.51891428e-21j  5.15553610e-05+8.31374835e-21j\n",
      "  -8.88830454e-06+4.89956473e-20j -6.80135010e-05+2.72257659e-20j\n",
      "  -1.15596945e-04+3.26842002e-20j -1.43411026e-04+6.16517944e-20j\n",
      "  -1.46646438e-04+4.40122415e-20j -1.24743748e-04+3.78279335e-20j\n",
      "  -8.14901303e-05+6.48277403e-22j -2.43645282e-05+3.07625321e-21j\n",
      "   3.67555225e-05+5.13474634e-21j  9.13018099e-05-2.01768833e-20j\n",
      "   1.29842785e-04+1.69006721e-20j]\n",
      " [ 1.68521171e-04-3.77261338e-21j  1.57563195e-04-4.03360841e-21j\n",
      "   1.19315454e-04+7.53961495e-21j  6.03913283e-05+2.59263402e-20j\n",
      "  -9.02066409e-06+5.55948060e-20j -7.69185597e-05+4.30674798e-20j\n",
      "  -1.31562195e-04+2.75450062e-20j -1.63503190e-04+4.27113244e-20j\n",
      "  -1.67218656e-04+3.19511362e-20j -1.42066155e-04+9.20848126e-21j\n",
      "  -9.23947834e-05-2.31653500e-20j -2.67931720e-05-3.55568883e-20j\n",
      "   4.33955643e-05-3.39909158e-20j  1.06035155e-04-4.61908736e-20j\n",
      "   1.50294647e-04-2.20850441e-20j]\n",
      " [ 1.62189136e-04-2.54039046e-20j  1.51710076e-04-1.66247723e-21j\n",
      "   1.15133945e-04-3.79282282e-21j  5.87850864e-05+3.16810027e-20j\n",
      "  -7.59326887e-06+5.32103998e-20j -7.25237006e-05+2.31893669e-20j\n",
      "  -1.24779147e-04+1.47944934e-20j -1.55324168e-04+3.18278659e-21j\n",
      "  -1.58877250e-04+5.97414523e-21j -1.34824034e-04-1.62298549e-20j\n",
      "  -8.73235391e-05-4.86598598e-20j -2.45890329e-05-3.76156584e-20j\n",
      "   4.25321189e-05-5.60196732e-20j  1.02434059e-04-5.72487861e-20j\n",
      "   1.44759198e-04-3.89329676e-20j]\n",
      " [ 1.27813126e-04-3.97990032e-20j  1.19624907e-04-3.82156304e-20j\n",
      "   9.10447307e-05-2.87440812e-20j  4.70143690e-05-1.91355878e-20j\n",
      "  -4.85292848e-06-1.31072789e-20j -5.55888349e-05-1.94438901e-20j\n",
      "  -9.64206510e-05-2.32370077e-20j -1.20288185e-04-2.01638038e-20j\n",
      "  -1.23064523e-04-1.70413594e-20j -1.04269612e-04-1.18531978e-20j\n",
      "  -6.71532615e-05-1.39478235e-20j -1.81332266e-05-1.87926217e-20j\n",
      "   3.43144836e-05-2.61711692e-20j  8.11211836e-05-3.47614290e-20j\n",
      "   1.14193570e-04-3.61740134e-20j]\n",
      " [ 7.13370653e-05-4.29129945e-20j  6.68555046e-05-4.03190017e-20j\n",
      "   5.12130557e-05-3.62063918e-20j  2.71144401e-05-3.29640181e-20j\n",
      "  -1.27347267e-06-2.64946948e-20j -2.90421545e-05-2.84208030e-20j\n",
      "  -5.13901482e-05-3.12942543e-20j -6.44532824e-05-2.90673189e-20j\n",
      "  -6.59728228e-05-2.88928494e-20j -5.56860268e-05-2.80630975e-20j\n",
      "  -3.53715750e-05-3.15278921e-20j -8.54202072e-06-3.29486753e-20j\n",
      "   2.01635625e-05-3.49609829e-20j  4.57817184e-05-4.27864398e-20j\n",
      "   6.38828352e-05-4.37266277e-20j]\n",
      " [ 2.52617814e-06-3.77429475e-20j  2.52617814e-06-3.77429475e-20j\n",
      "   2.52617814e-06-3.77429475e-20j  2.52617814e-06-3.77429475e-20j\n",
      "   2.52617814e-06-3.77429475e-20j  2.52617814e-06-3.77429475e-20j\n",
      "   2.52617814e-06-3.77429475e-20j  2.52617814e-06-3.77429475e-20j\n",
      "   2.52617814e-06-3.77429475e-20j  2.52617814e-06-3.77429475e-20j\n",
      "   2.52617814e-06-3.77429475e-20j  2.52617814e-06-3.77429475e-20j\n",
      "   2.52617814e-06-3.77429475e-20j  2.52617814e-06-3.77429475e-20j\n",
      "   2.52617814e-06-3.77429475e-20j]]\n",
      "alm [[ 0.00000000e+00+0.00000000e+00j  0.00000000e+00+0.00000000e+00j\n",
      "   0.00000000e+00+0.00000000e+00j  0.00000000e+00+0.00000000e+00j\n",
      "   0.00000000e+00+0.00000000e+00j  0.00000000e+00+0.00000000e+00j\n",
      "   0.00000000e+00+0.00000000e+00j  1.68940580e-20+1.34772447e-21j\n",
      "   0.00000000e+00+0.00000000e+00j  0.00000000e+00+0.00000000e+00j\n",
      "   0.00000000e+00+0.00000000e+00j  0.00000000e+00+0.00000000e+00j\n",
      "   0.00000000e+00+0.00000000e+00j  0.00000000e+00+0.00000000e+00j\n",
      "   0.00000000e+00+0.00000000e+00j]\n",
      " [ 0.00000000e+00+0.00000000e+00j  0.00000000e+00+0.00000000e+00j\n",
      "   0.00000000e+00+0.00000000e+00j  0.00000000e+00+0.00000000e+00j\n",
      "   0.00000000e+00+0.00000000e+00j  0.00000000e+00+0.00000000e+00j\n",
      "   2.45611893e-04+1.30022744e-05j -5.17021112e-06+7.84692296e-20j\n",
      "  -2.45611893e-04+1.30022744e-05j  0.00000000e+00+0.00000000e+00j\n",
      "   0.00000000e+00+0.00000000e+00j  0.00000000e+00+0.00000000e+00j\n",
      "   0.00000000e+00+0.00000000e+00j  0.00000000e+00+0.00000000e+00j\n",
      "   0.00000000e+00+0.00000000e+00j]\n",
      " [ 0.00000000e+00+0.00000000e+00j  0.00000000e+00+0.00000000e+00j\n",
      "   0.00000000e+00+0.00000000e+00j  0.00000000e+00+0.00000000e+00j\n",
      "   0.00000000e+00+0.00000000e+00j -1.75536143e-20+2.00393774e-20j\n",
      "   4.62164391e-20-5.90228007e-21j -9.24161816e-21+1.97685564e-21j\n",
      "  -1.30902053e-20-1.45010756e-20j -1.90016742e-21-9.34757873e-21j\n",
      "   0.00000000e+00+0.00000000e+00j  0.00000000e+00+0.00000000e+00j\n",
      "   0.00000000e+00+0.00000000e+00j  0.00000000e+00+0.00000000e+00j\n",
      "   0.00000000e+00+0.00000000e+00j]\n",
      " [ 0.00000000e+00+0.00000000e+00j  0.00000000e+00+0.00000000e+00j\n",
      "   0.00000000e+00+0.00000000e+00j  0.00000000e+00+0.00000000e+00j\n",
      "  -4.52429231e-20-1.13444238e-20j -1.19342589e-22-1.59382243e-20j\n",
      "   1.63419899e-19+9.93716265e-21j  2.40526750e-20+6.25273230e-21j\n",
      "  -1.20431299e-19+1.83136178e-20j -9.58430889e-21+2.12900198e-20j\n",
      "   5.58748032e-20-1.30223741e-20j  0.00000000e+00+0.00000000e+00j\n",
      "   0.00000000e+00+0.00000000e+00j  0.00000000e+00+0.00000000e+00j\n",
      "   0.00000000e+00+0.00000000e+00j]\n",
      " [ 0.00000000e+00+0.00000000e+00j  0.00000000e+00+0.00000000e+00j\n",
      "   0.00000000e+00+0.00000000e+00j  1.26883467e-20+7.61402712e-21j\n",
      "  -1.88794630e-20-9.01913200e-21j  1.05307739e-20+5.81672690e-21j\n",
      "  -2.34762070e-20-1.72487399e-21j -3.34894365e-21+5.35826590e-21j\n",
      "   4.83860755e-21+4.84980803e-21j  9.69793478e-22-2.83880794e-21j\n",
      "   7.51802771e-21-2.38558562e-21j  7.69912545e-21+1.33223395e-21j\n",
      "   0.00000000e+00+0.00000000e+00j  0.00000000e+00+0.00000000e+00j\n",
      "   0.00000000e+00+0.00000000e+00j]\n",
      " [ 0.00000000e+00+0.00000000e+00j  0.00000000e+00+0.00000000e+00j\n",
      "   2.91995000e-20-1.84941333e-20j  9.56534902e-21+1.00564524e-21j\n",
      "   5.56815930e-21+7.27576824e-21j  2.43499970e-20-2.63147116e-21j\n",
      "  -7.23143667e-20-5.60931646e-21j -1.90320516e-20+2.14544266e-21j\n",
      "   5.48796701e-20-5.60931646e-21j  1.17153788e-20+1.48285056e-21j\n",
      "   3.62918295e-21-2.03930269e-21j -5.18168296e-21-9.25974184e-21j\n",
      "   1.17112515e-20-1.25806054e-20j  0.00000000e+00+0.00000000e+00j\n",
      "   0.00000000e+00+0.00000000e+00j]\n",
      " [ 0.00000000e+00+0.00000000e+00j  1.50729505e-20-2.01358680e-20j\n",
      "  -1.44640392e-21-1.01371664e-21j -3.20901625e-21-2.41514935e-21j\n",
      "   1.91665556e-20+2.05853908e-21j -1.12168156e-20+3.69383379e-21j\n",
      "  -3.70455036e-20+5.20952395e-21j -4.71145577e-22-2.76774627e-21j\n",
      "   5.59990171e-20-3.54032248e-21j -5.07497910e-21+9.31679086e-22j\n",
      "  -1.16578438e-20+2.00361292e-21j  1.09398840e-20-1.79982387e-21j\n",
      "   1.30022501e-20+7.60634204e-21j  2.27230831e-21-2.61159782e-21j\n",
      "   0.00000000e+00+0.00000000e+00j]\n",
      " [-1.14792452e-20-1.28628798e-20j -9.52327955e-21+1.04969577e-20j\n",
      "  -4.30411683e-21+4.53009998e-22j -3.58613257e-21+3.13071891e-21j\n",
      "  -6.57908213e-21+2.47631982e-22j -2.69141509e-20+6.28197941e-21j\n",
      "   6.01525936e-21-1.05990027e-20j  1.46766545e-20+2.02511808e-21j\n",
      "   3.23898581e-21-7.66367178e-21j -4.47780576e-22-4.79506161e-21j\n",
      "   5.21875189e-22+1.13870279e-20j  2.58268369e-20+1.24159855e-20j\n",
      "  -2.29323204e-21+7.07441674e-21j -8.60545366e-21-1.19801041e-20j\n",
      "  -2.23041202e-21-1.76093926e-20j]]\n",
      "[[ 0.00000000e+00+0.00000000e+00j  0.00000000e+00+0.00000000e+00j\n",
      "   0.00000000e+00+0.00000000e+00j  0.00000000e+00+0.00000000e+00j\n",
      "   0.00000000e+00+0.00000000e+00j  0.00000000e+00+0.00000000e+00j\n",
      "   0.00000000e+00+0.00000000e+00j  1.68940580e-20+1.34772447e-21j\n",
      "   0.00000000e+00+0.00000000e+00j  0.00000000e+00+0.00000000e+00j\n",
      "   0.00000000e+00+0.00000000e+00j]\n",
      " [ 0.00000000e+00+0.00000000e+00j  0.00000000e+00+0.00000000e+00j\n",
      "   0.00000000e+00+0.00000000e+00j  0.00000000e+00+0.00000000e+00j\n",
      "   0.00000000e+00+0.00000000e+00j  0.00000000e+00+0.00000000e+00j\n",
      "   2.45611893e-04+1.30022744e-05j -5.17021112e-06+7.84692296e-20j\n",
      "  -2.45611893e-04+1.30022744e-05j  0.00000000e+00+0.00000000e+00j\n",
      "   0.00000000e+00+0.00000000e+00j]\n",
      " [ 0.00000000e+00+0.00000000e+00j  0.00000000e+00+0.00000000e+00j\n",
      "   0.00000000e+00+0.00000000e+00j  0.00000000e+00+0.00000000e+00j\n",
      "   0.00000000e+00+0.00000000e+00j -1.75536143e-20+2.00393774e-20j\n",
      "   4.62164391e-20-5.90228007e-21j -9.24161816e-21+1.97685564e-21j\n",
      "  -1.30902053e-20-1.45010756e-20j -1.90016742e-21-9.34757873e-21j\n",
      "   0.00000000e+00+0.00000000e+00j]\n",
      " [ 0.00000000e+00+0.00000000e+00j  0.00000000e+00+0.00000000e+00j\n",
      "   0.00000000e+00+0.00000000e+00j  0.00000000e+00+0.00000000e+00j\n",
      "  -4.52429231e-20-1.13444238e-20j -1.19342589e-22-1.59382243e-20j\n",
      "   1.63419899e-19+9.93716265e-21j  2.40526750e-20+6.25273230e-21j\n",
      "  -1.20431299e-19+1.83136178e-20j -9.58430889e-21+2.12900198e-20j\n",
      "   5.58748032e-20-1.30223741e-20j]]\n"
     ]
    }
   ],
   "source": [
    "new_30_0 = trim_to_original(dobubled_30_0)\n",
    "# original_30_0 == new_30_0"
   ]
  },
  {
   "cell_type": "code",
   "execution_count": null,
   "metadata": {},
   "outputs": [
    {
     "name": "stdout",
     "output_type": "stream",
     "text": [
      "(4, 7)\n",
      "Original map alm shape: (4, 7)\n",
      "Original map alm shape: (4, 7)\n"
     ]
    },
    {
     "data": {
      "image/png": "[encoded data removed]",
      "text/plain": [
       "<Figure size 612x388.8 with 2 Axes>"
      ]
     },
     "metadata": {
      "needs_background": "light"
     },
     "output_type": "display_data"
    },
    {
     "data": {
      "image/png": "[encoded data removed]",
      "text/plain": [
       "<Figure size 612x388.8 with 2 Axes>"
      ]
     },
     "metadata": {
      "needs_background": "light"
     },
     "output_type": "display_data"
    }
   ],
   "source": [
    "# original_wavelet_c_j\n",
    "original_30 = s2fft.inverse(s2fft.forward(original_wavelet_c_j[(frequencies[0], 0)],4),4)\n",
    "original_70 = s2fft.inverse(s2fft.forward(original_wavelet_c_j[(frequencies[1], 0)],4),4)\n",
    "print(original_30.shape)\n",
    "visualize_wavelet_coefficient_map(original_30,\"30\",-1,1)\n",
    "visualize_wavelet_coefficient_map(original_70, \"70\",-1,1)\n"
   ]
  },
  {
   "cell_type": "code",
   "execution_count": null,
   "metadata": {},
   "outputs": [
    {
     "data": {
      "text/plain": [
       "(-0.00015343674655576405+6.6514353217783115e-21j)"
      ]
     },
     "execution_count": 153,
     "metadata": {},
     "output_type": "execute_result"
    }
   ],
   "source": [
    "original_wavelet_c_j[(frequencies[0], 0)].min()"
   ]
  },
  {
   "cell_type": "code",
   "execution_count": null,
   "metadata": {},
   "outputs": [
    {
     "name": "stdout",
     "output_type": "stream",
     "text": [
      "(-0.00015343674655576408+2.086064282882645e-20j) (0.00016489770874547721+2.6248204432346723e-21j)\n"
     ]
    }
   ],
   "source": [
    "\n",
    "print(original_30.min(),original_30.max())"
   ]
  },
  {
   "cell_type": "code",
   "execution_count": null,
   "metadata": {},
   "outputs": [
    {
     "name": "stdout",
     "output_type": "stream",
     "text": [
      "Original map alm shape: (4, 7)\n"
     ]
    },
    {
     "data": {
      "image/png": "[encoded data removed]",
      "text/plain": [
       "<Figure size 612x388.8 with 2 Axes>"
      ]
     },
     "metadata": {
      "needs_background": "light"
     },
     "output_type": "display_data"
    }
   ],
   "source": [
    "visualize_wavelet_coefficient_map(original_30,\"30\")"
   ]
  },
  {
   "cell_type": "code",
   "execution_count": null,
   "metadata": {},
   "outputs": [
    {
     "name": "stdout",
     "output_type": "stream",
     "text": [
      "Original map alm shape: (8, 15)\n"
     ]
    },
    {
     "data": {
      "image/png": "[encoded data removed]",
      "text/plain": [
       "<Figure size 612x388.8 with 2 Axes>"
      ]
     },
     "metadata": {
      "needs_background": "light"
     },
     "output_type": "display_data"
    }
   ],
   "source": [
    "visualize_wavelet_coefficient_map(double_30,\"30\")"
   ]
  },
  {
   "cell_type": "code",
   "execution_count": null,
   "metadata": {},
   "outputs": [
    {
     "name": "stdout",
     "output_type": "stream",
     "text": [
      "(4, 7)\n",
      "Original map alm shape: (4, 7)\n"
     ]
    },
    {
     "data": {
      "image/png": "[encoded data removed]",
      "text/plain": [
       "<Figure size 612x388.8 with 2 Axes>"
      ]
     },
     "metadata": {
      "needs_background": "light"
     },
     "output_type": "display_data"
    }
   ],
   "source": [
    "double_30 = doubled_MW_wav_c_j[(frequencies[0], 0)]\n",
    "double_70 = doubled_MW_wav_c_j[(frequencies[1], 0)]\n",
    "\n",
    "doubled_map = np.zeros((double_30.shape[0],double_30.shape[1]), dtype=np.complex128)\n",
    "\n",
    "\n",
    "for i in range(double_30.shape[0]):\n",
    "    for j in range(double_30.shape[1]):\n",
    "        pix_vector = np.array([double_30[i,j],double_70[i,j]])\n",
    "        # print(double_30[i,j],double_70[i,j])\n",
    "        # print(pix_vector.shape)\n",
    "        doubled_map[i,j] = np.dot(weight_vector_load[i,j],pix_vector)\n",
    "        \n",
    "trimmed_map = trim_to_original(doubled_map, [4,7])\n",
    "print(trimmed_map.shape)\n",
    "visualize_wavelet_coefficient_map(trimmed_map, \"30\")\n",
    "\n",
    "# doubled_map_alm = s2fft.forward(trimmed_map, L = trimmed_map.shape[0])\n",
    "# print(doubled_map_alm.shape)\n",
    "# doubled_map_hp_alm = mw_alm_2_hp_alm(doubled_map_alm, trimmed_map.shape[0]-1)\n",
    "# doubled_hp_map = hp.alm2map(doubled_map_hp_alm, nside=trimmed_map.shape[0]-1)"
   ]
  },
  {
   "cell_type": "code",
   "execution_count": null,
   "metadata": {},
   "outputs": [],
   "source": []
  },
  {
   "cell_type": "code",
   "execution_count": null,
   "metadata": {},
   "outputs": [],
   "source": []
  },
  {
   "cell_type": "code",
   "execution_count": null,
   "metadata": {},
   "outputs": [],
   "source": []
  }
 ],
 "metadata": {
  "kernelspec": {
   "display_name": "Python 3",
   "language": "python",
   "name": "python3"
  },
  "language_info": {
   "codemirror_mode": {
    "name": "ipython",
    "version": 3
   },
   "file_extension": ".py",
   "mimetype": "text/x-python",
   "name": "python",
   "nbconvert_exporter": "python",
   "pygments_lexer": "ipython3",
   "version": "3.10.12"
  }
 },
 "nbformat": 4,
 "nbformat_minor": 2
}
