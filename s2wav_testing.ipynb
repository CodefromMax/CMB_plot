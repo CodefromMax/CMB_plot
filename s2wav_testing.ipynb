{
 "cells": [
  {
   "cell_type": "code",
   "execution_count": 117,
   "metadata": {},
   "outputs": [],
   "source": [
    "# works for python 3.9 \n",
    "# !pip install s2fft\n",
    "# !pip install s2wav\n",
    "# !pip install jax\n"
   ]
  },
  {
   "cell_type": "code",
   "execution_count": 84,
   "metadata": {},
   "outputs": [],
   "source": [
    "import numpy as np\n",
    "import pandas as pd\n",
    "import matplotlib.pyplot as plt\n",
    "%matplotlib inline \n",
    "#show graph inside the notebook\n",
    "\n",
    "\n",
    "# Make sure we configure 64 bit precision. \n",
    "# 32 bit can be faster but you will be (potentially much) less precise.\n",
    "import jax\n",
    "jax.config.update(\"jax_enable_x64\", True)\n",
    "import jax.numpy as jnp\n",
    "\n",
    "import healpy as hp\n",
    "import s2wav       # Wavelet transforms on the sphere and rotation group\n",
    "import s2fft       # Spherical harmonic and Wigner transforms\n",
    "\n"
   ]
  },
  {
   "cell_type": "code",
   "execution_count": 85,
   "metadata": {},
   "outputs": [],
   "source": [
    "PLA_Data = pd.read_csv(\"data/planck_simulation/PLA-Results.csv\")\n",
    "\n",
    "# Store the names of the datasets into PLA_Data_List\n",
    "PLA_Data_List = PLA_Data['SIMULATED_MAP.FILE_ID'].to_list()\n",
    "\n",
    "\n",
    "# Initialize PLA_Data_Dict : (key:frequnecy, value: [csv path])\n",
    "PLA_Data_Dict = dict()\n",
    "for each_csv_path in PLA_Data_List:\n",
    "    PLA_Data_Dict[each_csv_path[20:23]] = [\"data/planck_simulation/\"+each_csv_path]\n",
    "# display(PLA_Data_Dict)\n",
    "\n",
    "# Read the CMB datasets and store them inside the PLA_Data_Dict\n",
    "# Update PLA_Data_Dict : (key:frequnecy, value: [csv path, hp map dat ])\n",
    " \n",
    "for frequency, storage_list in PLA_Data_Dict.items():\n",
    "    storage_list.append(hp.read_map(storage_list[0], dtype=jnp.float64))\n",
    "# display(PLA_Data_Dict)\n",
    "\n",
    "# Convert the unit from unitMJy/steradian to K_CMB\n",
    "# Source: https://wiki.cosmos.esa.int/planckpla2015/index.php/UC_CC_Tables\n",
    "\n",
    "PLA_Data_Dict[\"545\"][1] = PLA_Data_Dict[\"545\"][1]/58.0356\n",
    "PLA_Data_Dict[\"857\"][1] = PLA_Data_Dict[\"857\"][1]/2.2681\n",
    "# PLA_Data_Dict[\"857\"][1]"
   ]
  },
  {
   "cell_type": "code",
   "execution_count": null,
   "metadata": {},
   "outputs": [],
   "source": [
    "# # Assuming PLA_Data_Dict contains your Planck map data\n",
    "# Healpix_resolution_nside = hp.get_nside(PLA_Data_Dict[\"030\"][1])\n",
    "# f = PLA_Data_Dict[\"030\"][1]\n",
    "\n",
    "# L = 512  # Maximum multipole\n",
    "# N = 4    # Number of wavelet directions\n",
    "\n",
    "# # Load or generate wavelet filters\n",
    "# filters = s2filters.from_name(\"spin{0}_{1}band\".format(0, 3))\n",
    "\n",
    "# # Perform wavelet analysis\n",
    "# s2wav.analysis(f, L, N, sampling=\"healpix\", nside=Healpix_resolution_nside, filters=filters)"
   ]
  },
  {
   "cell_type": "code",
   "execution_count": 123,
   "metadata": {},
   "outputs": [
    {
     "data": {
      "text/plain": [
       "(12582912,)"
      ]
     },
     "execution_count": 123,
     "metadata": {},
     "output_type": "execute_result"
    }
   ],
   "source": [
    "L = 10              # Spherical harmonic bandlimit\n",
    "N = 1                # Azimuthal (directional) bandlimit\n",
    "nside = hp.get_nside(PLA_Data_Dict[\"030\"][1])  # Resolution of HEALPix grid\n",
    "# method = \"jax_healpy\"\n",
    "sampling = \"healpix\"      # Sampling scheme\n",
    "f = PLA_Data_Dict[\"030\"][1]\n",
    "f.shape"
   ]
  },
  {
   "cell_type": "code",
   "execution_count": 125,
   "metadata": {},
   "outputs": [
    {
     "ename": "TypeError",
     "evalue": "iota shape must have every element be nonnegative, got (-2,).",
     "output_type": "error",
     "traceback": [
      "\u001b[0;31m---------------------------------------------------------------------------\u001b[0m",
      "\u001b[0;31mTypeError\u001b[0m                                 Traceback (most recent call last)",
      "Cell \u001b[0;32mIn[125], line 5\u001b[0m\n\u001b[1;32m      1\u001b[0m filter_bank \u001b[38;5;241m=\u001b[39m s2wav\u001b[38;5;241m.\u001b[39mfilters\u001b[38;5;241m.\u001b[39mfilters_directional_vectorised(L, N)\n\u001b[1;32m      3\u001b[0m \u001b[38;5;66;03m# removed use_c_backend\u001b[39;00m\n\u001b[1;32m      4\u001b[0m \u001b[38;5;66;03m# wavelet_coeffs, scaling_coeffs = s2wav.analysis(f, L, N, filters=filter_bank, use_c_backend=use_c_backend)\u001b[39;00m\n\u001b[0;32m----> 5\u001b[0m wavelet_coeffs, scaling_coeffs \u001b[38;5;241m=\u001b[39m \u001b[43ms2wav\u001b[49m\u001b[38;5;241;43m.\u001b[39;49m\u001b[43manalysis\u001b[49m\u001b[43m(\u001b[49m\u001b[43mf\u001b[49m\u001b[43m,\u001b[49m\u001b[43m \u001b[49m\u001b[43mL\u001b[49m\u001b[43m,\u001b[49m\u001b[43m \u001b[49m\u001b[43mN\u001b[49m\u001b[43m,\u001b[49m\u001b[43m \u001b[49m\u001b[43msampling\u001b[49m\u001b[43m \u001b[49m\u001b[38;5;241;43m=\u001b[39;49m\u001b[43m \u001b[49m\u001b[43msampling\u001b[49m\u001b[43m,\u001b[49m\u001b[43m \u001b[49m\u001b[43mnside\u001b[49m\u001b[43m \u001b[49m\u001b[38;5;241;43m=\u001b[39;49m\u001b[43m \u001b[49m\u001b[43mnside\u001b[49m\u001b[43m,\u001b[49m\u001b[43m \u001b[49m\u001b[43mfilters\u001b[49m\u001b[38;5;241;43m=\u001b[39;49m\u001b[43m \u001b[49m\u001b[43mfilter_bank\u001b[49m\u001b[43m)\u001b[49m\n",
      "    \u001b[0;31m[... skipping hidden 11 frame]\u001b[0m\n",
      "File \u001b[0;32m/Library/Frameworks/Python.framework/Versions/3.9/lib/python3.9/site-packages/s2wav/transforms/wavelet.py:167\u001b[0m, in \u001b[0;36manalysis\u001b[0;34m(f, L, N, J_min, lam, spin, sampling, nside, reality, filters, precomps)\u001b[0m\n\u001b[1;32m    159\u001b[0m Ls \u001b[38;5;241m=\u001b[39m samples\u001b[38;5;241m.\u001b[39mscal_bandlimit(L, J_min, lam, \u001b[38;5;28;01mTrue\u001b[39;00m)\n\u001b[1;32m    160\u001b[0m wav_lm \u001b[38;5;241m=\u001b[39m jnp\u001b[38;5;241m.\u001b[39meinsum(\n\u001b[1;32m    161\u001b[0m     \u001b[38;5;124m\"\u001b[39m\u001b[38;5;124mjln, l->jln\u001b[39m\u001b[38;5;124m\"\u001b[39m,\n\u001b[1;32m    162\u001b[0m     jnp\u001b[38;5;241m.\u001b[39mconj(filters[\u001b[38;5;241m0\u001b[39m]),\n\u001b[1;32m    163\u001b[0m     \u001b[38;5;241m8\u001b[39m \u001b[38;5;241m*\u001b[39m jnp\u001b[38;5;241m.\u001b[39mpi\u001b[38;5;241m*\u001b[39m\u001b[38;5;241m*\u001b[39m\u001b[38;5;241m2\u001b[39m \u001b[38;5;241m/\u001b[39m (\u001b[38;5;241m2\u001b[39m \u001b[38;5;241m*\u001b[39m jnp\u001b[38;5;241m.\u001b[39marange(L) \u001b[38;5;241m+\u001b[39m \u001b[38;5;241m1\u001b[39m),\n\u001b[1;32m    164\u001b[0m     optimize\u001b[38;5;241m=\u001b[39m\u001b[38;5;28;01mTrue\u001b[39;00m,\n\u001b[1;32m    165\u001b[0m )\n\u001b[0;32m--> 167\u001b[0m flm \u001b[38;5;241m=\u001b[39m \u001b[43ms2fft\u001b[49m\u001b[38;5;241;43m.\u001b[39;49m\u001b[43mforward_jax\u001b[49m\u001b[43m(\u001b[49m\u001b[43mf\u001b[49m\u001b[43m,\u001b[49m\u001b[43m \u001b[49m\u001b[43mL\u001b[49m\u001b[43m,\u001b[49m\u001b[43m \u001b[49m\u001b[43mspin\u001b[49m\u001b[43m,\u001b[49m\u001b[43m \u001b[49m\u001b[43mnside\u001b[49m\u001b[43m,\u001b[49m\u001b[43m \u001b[49m\u001b[43msampling\u001b[49m\u001b[43m,\u001b[49m\u001b[43m \u001b[49m\u001b[43mreality\u001b[49m\u001b[43m)\u001b[49m\n\u001b[1;32m    169\u001b[0m \u001b[38;5;66;03m# Project all wigner coefficients for each lmn onto wavelet coefficients\u001b[39;00m\n\u001b[1;32m    170\u001b[0m \u001b[38;5;66;03m# Note that almost the entire compute is concentrated at the highest J\u001b[39;00m\n\u001b[1;32m    171\u001b[0m f_wav \u001b[38;5;241m=\u001b[39m []\n",
      "    \u001b[0;31m[... skipping hidden 11 frame]\u001b[0m\n",
      "File \u001b[0;32m/Library/Frameworks/Python.framework/Versions/3.9/lib/python3.9/site-packages/s2fft/transforms/spherical.py:612\u001b[0m, in \u001b[0;36mforward_jax\u001b[0;34m(f, L, spin, nside, sampling, reality, precomps, spmd, L_lower)\u001b[0m\n\u001b[1;32m    610\u001b[0m \u001b[38;5;66;03m# Perform longitundal Fast Fourier Transforms\u001b[39;00m\n\u001b[1;32m    611\u001b[0m \u001b[38;5;28;01mif\u001b[39;00m sampling\u001b[38;5;241m.\u001b[39mlower() \u001b[38;5;241m==\u001b[39m \u001b[38;5;124m\"\u001b[39m\u001b[38;5;124mhealpix\u001b[39m\u001b[38;5;124m\"\u001b[39m:\n\u001b[0;32m--> 612\u001b[0m     ftm \u001b[38;5;241m=\u001b[39m \u001b[43mhp\u001b[49m\u001b[38;5;241;43m.\u001b[39;49m\u001b[43mhealpix_fft\u001b[49m\u001b[43m(\u001b[49m\u001b[43mf\u001b[49m\u001b[43m,\u001b[49m\u001b[43m \u001b[49m\u001b[43mL\u001b[49m\u001b[43m,\u001b[49m\u001b[43m \u001b[49m\u001b[43mnside\u001b[49m\u001b[43m,\u001b[49m\u001b[43m \u001b[49m\u001b[38;5;124;43m\"\u001b[39;49m\u001b[38;5;124;43mjax\u001b[39;49m\u001b[38;5;124;43m\"\u001b[39;49m\u001b[43m,\u001b[49m\u001b[43m \u001b[49m\u001b[43mreality\u001b[49m\u001b[43m)\u001b[49m\n\u001b[1;32m    613\u001b[0m \u001b[38;5;28;01melse\u001b[39;00m:\n\u001b[1;32m    614\u001b[0m     \u001b[38;5;28;01mif\u001b[39;00m reality:\n",
      "File \u001b[0;32m/Library/Frameworks/Python.framework/Versions/3.9/lib/python3.9/site-packages/s2fft/utils/healpix_ffts.py:214\u001b[0m, in \u001b[0;36mhealpix_fft\u001b[0;34m(f, L, nside, method, reality)\u001b[0m\n\u001b[1;32m    212\u001b[0m     \u001b[38;5;28;01mreturn\u001b[39;00m healpix_fft_numpy(f, L, nside, reality)\n\u001b[1;32m    213\u001b[0m \u001b[38;5;28;01melif\u001b[39;00m method\u001b[38;5;241m.\u001b[39mlower() \u001b[38;5;241m==\u001b[39m \u001b[38;5;124m\"\u001b[39m\u001b[38;5;124mjax\u001b[39m\u001b[38;5;124m\"\u001b[39m:\n\u001b[0;32m--> 214\u001b[0m     \u001b[38;5;28;01mreturn\u001b[39;00m \u001b[43mhealpix_fft_jax\u001b[49m\u001b[43m(\u001b[49m\u001b[43mf\u001b[49m\u001b[43m,\u001b[49m\u001b[43m \u001b[49m\u001b[43mL\u001b[49m\u001b[43m,\u001b[49m\u001b[43m \u001b[49m\u001b[43mnside\u001b[49m\u001b[43m,\u001b[49m\u001b[43m \u001b[49m\u001b[43mreality\u001b[49m\u001b[43m)\u001b[49m\n\u001b[1;32m    215\u001b[0m \u001b[38;5;28;01melif\u001b[39;00m method\u001b[38;5;241m.\u001b[39mlower() \u001b[38;5;241m==\u001b[39m \u001b[38;5;124m\"\u001b[39m\u001b[38;5;124mtorch\u001b[39m\u001b[38;5;124m\"\u001b[39m:\n\u001b[1;32m    216\u001b[0m     \u001b[38;5;28;01mreturn\u001b[39;00m healpix_fft_torch(f, L, nside, reality)\n",
      "    \u001b[0;31m[... skipping hidden 11 frame]\u001b[0m\n",
      "File \u001b[0;32m/Library/Frameworks/Python.framework/Versions/3.9/lib/python3.9/site-packages/s2fft/utils/healpix_ffts.py:307\u001b[0m, in \u001b[0;36mhealpix_fft_jax\u001b[0;34m(f, L, nside, reality)\u001b[0m\n\u001b[1;32m    303\u001b[0m     nphi \u001b[38;5;241m=\u001b[39m \u001b[38;5;241m4\u001b[39m \u001b[38;5;241m*\u001b[39m (t \u001b[38;5;241m+\u001b[39m \u001b[38;5;241m1\u001b[39m)\n\u001b[1;32m    304\u001b[0m     f_chunks \u001b[38;5;241m=\u001b[39m jnp\u001b[38;5;241m.\u001b[39mstack(\n\u001b[1;32m    305\u001b[0m         (f[start_index : start_index \u001b[38;5;241m+\u001b[39m nphi], f[end_index \u001b[38;5;241m-\u001b[39m nphi : end_index])\n\u001b[1;32m    306\u001b[0m     )\n\u001b[0;32m--> 307\u001b[0m     ftm_rows_polar\u001b[38;5;241m.\u001b[39mappend(\u001b[43mf_chunks_to_ftm_rows\u001b[49m\u001b[43m(\u001b[49m\u001b[43mf_chunks\u001b[49m\u001b[43m,\u001b[49m\u001b[43m \u001b[49m\u001b[43mnphi\u001b[49m\u001b[43m)\u001b[49m)\n\u001b[1;32m    308\u001b[0m     start_index, end_index \u001b[38;5;241m=\u001b[39m start_index \u001b[38;5;241m+\u001b[39m nphi, end_index \u001b[38;5;241m-\u001b[39m nphi\n\u001b[1;32m    309\u001b[0m ftm_rows_polar \u001b[38;5;241m=\u001b[39m jnp\u001b[38;5;241m.\u001b[39mstack(ftm_rows_polar)\n",
      "File \u001b[0;32m/Library/Frameworks/Python.framework/Versions/3.9/lib/python3.9/site-packages/s2fft/utils/healpix_ffts.py:296\u001b[0m, in \u001b[0;36mhealpix_fft_jax.<locals>.f_chunks_to_ftm_rows\u001b[0;34m(f_chunks, nphi)\u001b[0m\n\u001b[1;32m    292\u001b[0m \u001b[38;5;28;01melse\u001b[39;00m:\n\u001b[1;32m    293\u001b[0m     fm_chunks \u001b[38;5;241m=\u001b[39m jnp\u001b[38;5;241m.\u001b[39mfft\u001b[38;5;241m.\u001b[39mfftshift(\n\u001b[1;32m    294\u001b[0m         jnp\u001b[38;5;241m.\u001b[39mfft\u001b[38;5;241m.\u001b[39mfft(f_chunks, norm\u001b[38;5;241m=\u001b[39m\u001b[38;5;124m\"\u001b[39m\u001b[38;5;124mbackward\u001b[39m\u001b[38;5;124m\"\u001b[39m), axes\u001b[38;5;241m=\u001b[39m\u001b[38;5;241m-\u001b[39m\u001b[38;5;241m1\u001b[39m\n\u001b[1;32m    295\u001b[0m     )\n\u001b[0;32m--> 296\u001b[0m \u001b[38;5;28;01mreturn\u001b[39;00m \u001b[43mvmap\u001b[49m\u001b[43m(\u001b[49m\u001b[43mspectral_periodic_extension_jax\u001b[49m\u001b[43m,\u001b[49m\u001b[43m \u001b[49m\u001b[43m(\u001b[49m\u001b[38;5;241;43m0\u001b[39;49m\u001b[43m,\u001b[49m\u001b[43m \u001b[49m\u001b[38;5;28;43;01mNone\u001b[39;49;00m\u001b[43m)\u001b[49m\u001b[43m)\u001b[49m\u001b[43m(\u001b[49m\u001b[43mfm_chunks\u001b[49m\u001b[43m,\u001b[49m\u001b[43m \u001b[49m\u001b[43mL\u001b[49m\u001b[43m)\u001b[49m\n",
      "    \u001b[0;31m[... skipping hidden 3 frame]\u001b[0m\n",
      "File \u001b[0;32m/Library/Frameworks/Python.framework/Versions/3.9/lib/python3.9/site-packages/s2fft/utils/healpix_ffts.py:153\u001b[0m, in \u001b[0;36mspectral_periodic_extension_jax\u001b[0;34m(fm, L)\u001b[0m\n\u001b[1;32m    136\u001b[0m \u001b[38;5;250m\u001b[39m\u001b[38;5;124;03m\"\"\"Extends lower frequency Fourier coefficients onto higher frequency\u001b[39;00m\n\u001b[1;32m    137\u001b[0m \u001b[38;5;124;03mcoefficients, i.e. imposed periodicity in Fourier space. Based on\u001b[39;00m\n\u001b[1;32m    138\u001b[0m \u001b[38;5;124;03m:func:`~spectral_periodic_extension`, modified to be JIT-compilable.\u001b[39;00m\n\u001b[0;32m   (...)\u001b[0m\n\u001b[1;32m    146\u001b[0m \u001b[38;5;124;03m    jnp.ndarray: Higher resolution set of periodic Fourier coefficients.\u001b[39;00m\n\u001b[1;32m    147\u001b[0m \u001b[38;5;124;03m\"\"\"\u001b[39;00m\n\u001b[1;32m    148\u001b[0m nphi \u001b[38;5;241m=\u001b[39m fm\u001b[38;5;241m.\u001b[39mshape[\u001b[38;5;241m0\u001b[39m]\n\u001b[1;32m    149\u001b[0m \u001b[38;5;28;01mreturn\u001b[39;00m jnp\u001b[38;5;241m.\u001b[39mconcatenate(\n\u001b[1;32m    150\u001b[0m     (\n\u001b[1;32m    151\u001b[0m         fm[\u001b[38;5;241m-\u001b[39mjnp\u001b[38;5;241m.\u001b[39marange(L \u001b[38;5;241m-\u001b[39m nphi \u001b[38;5;241m/\u001b[39m\u001b[38;5;241m/\u001b[39m \u001b[38;5;241m2\u001b[39m, \u001b[38;5;241m0\u001b[39m, \u001b[38;5;241m-\u001b[39m\u001b[38;5;241m1\u001b[39m) \u001b[38;5;241m%\u001b[39m nphi],\n\u001b[1;32m    152\u001b[0m         fm,\n\u001b[0;32m--> 153\u001b[0m         fm[\u001b[43mjnp\u001b[49m\u001b[38;5;241;43m.\u001b[39;49m\u001b[43marange\u001b[49m\u001b[43m(\u001b[49m\u001b[43mL\u001b[49m\u001b[43m \u001b[49m\u001b[38;5;241;43m-\u001b[39;49m\u001b[43m \u001b[49m\u001b[43m(\u001b[49m\u001b[43mnphi\u001b[49m\u001b[43m \u001b[49m\u001b[38;5;241;43m+\u001b[39;49m\u001b[43m \u001b[49m\u001b[38;5;241;43m1\u001b[39;49m\u001b[43m)\u001b[49m\u001b[43m \u001b[49m\u001b[38;5;241;43m/\u001b[39;49m\u001b[38;5;241;43m/\u001b[39;49m\u001b[43m \u001b[49m\u001b[38;5;241;43m2\u001b[39;49m\u001b[43m)\u001b[49m \u001b[38;5;241m%\u001b[39m nphi],\n\u001b[1;32m    154\u001b[0m     )\n\u001b[1;32m    155\u001b[0m )\n",
      "File \u001b[0;32m/Library/Frameworks/Python.framework/Versions/3.9/lib/python3.9/site-packages/jax/_src/numpy/lax_numpy.py:2968\u001b[0m, in \u001b[0;36marange\u001b[0;34m(start, stop, step, dtype)\u001b[0m\n\u001b[1;32m   2966\u001b[0m     ceil_ \u001b[38;5;241m=\u001b[39m ufuncs\u001b[38;5;241m.\u001b[39mceil \u001b[38;5;28;01mif\u001b[39;00m \u001b[38;5;28misinstance\u001b[39m(start, core\u001b[38;5;241m.\u001b[39mTracer) \u001b[38;5;28;01melse\u001b[39;00m np\u001b[38;5;241m.\u001b[39mceil\n\u001b[1;32m   2967\u001b[0m     start \u001b[38;5;241m=\u001b[39m ceil_(start)\u001b[38;5;241m.\u001b[39mastype(\u001b[38;5;28mint\u001b[39m)  \u001b[38;5;66;03m# type: ignore\u001b[39;00m\n\u001b[0;32m-> 2968\u001b[0m   \u001b[38;5;28;01mreturn\u001b[39;00m \u001b[43mlax\u001b[49m\u001b[38;5;241;43m.\u001b[39;49m\u001b[43miota\u001b[49m\u001b[43m(\u001b[49m\u001b[43mdtype\u001b[49m\u001b[43m,\u001b[49m\u001b[43m \u001b[49m\u001b[43mstart\u001b[49m\u001b[43m)\u001b[49m\n\u001b[1;32m   2969\u001b[0m \u001b[38;5;28;01melse\u001b[39;00m:\n\u001b[1;32m   2970\u001b[0m   \u001b[38;5;28;01mif\u001b[39;00m step \u001b[38;5;129;01mis\u001b[39;00m \u001b[38;5;28;01mNone\u001b[39;00m \u001b[38;5;129;01mand\u001b[39;00m start \u001b[38;5;241m==\u001b[39m \u001b[38;5;241m0\u001b[39m \u001b[38;5;129;01mand\u001b[39;00m stop \u001b[38;5;129;01mis\u001b[39;00m \u001b[38;5;129;01mnot\u001b[39;00m \u001b[38;5;28;01mNone\u001b[39;00m:\n",
      "    \u001b[0;31m[... skipping hidden 9 frame]\u001b[0m\n",
      "File \u001b[0;32m/Library/Frameworks/Python.framework/Versions/3.9/lib/python3.9/site-packages/jax/_src/lax/lax.py:4972\u001b[0m, in \u001b[0;36m_check_shapelike\u001b[0;34m(fun_name, arg_name, obj, non_zero_shape)\u001b[0m\n\u001b[1;32m   4970\u001b[0m \u001b[38;5;28;01mif\u001b[39;00m \u001b[38;5;129;01mnot\u001b[39;00m \u001b[38;5;28mall\u001b[39m(d \u001b[38;5;241m>\u001b[39m\u001b[38;5;241m=\u001b[39m lower_bound \u001b[38;5;28;01mfor\u001b[39;00m d \u001b[38;5;129;01min\u001b[39;00m obj_arr):\n\u001b[1;32m   4971\u001b[0m   msg \u001b[38;5;241m=\u001b[39m \u001b[38;5;124m\"\u001b[39m\u001b[38;5;132;01m{}\u001b[39;00m\u001b[38;5;124m \u001b[39m\u001b[38;5;132;01m{}\u001b[39;00m\u001b[38;5;124m must have every element be \u001b[39m\u001b[38;5;132;01m{}\u001b[39;00m\u001b[38;5;124m, got \u001b[39m\u001b[38;5;132;01m{}\u001b[39;00m\u001b[38;5;124m.\u001b[39m\u001b[38;5;124m\"\u001b[39m\n\u001b[0;32m-> 4972\u001b[0m   \u001b[38;5;28;01mraise\u001b[39;00m \u001b[38;5;167;01mTypeError\u001b[39;00m(msg\u001b[38;5;241m.\u001b[39mformat(fun_name, arg_name, bound_error, obj))\n",
      "\u001b[0;31mTypeError\u001b[0m: iota shape must have every element be nonnegative, got (-2,)."
     ]
    }
   ],
   "source": [
    "filter_bank = s2wav.filters.filters_directional_vectorised(L, N)\n",
    "\n",
    "# removed use_c_backend\n",
    "# wavelet_coeffs, scaling_coeffs = s2wav.analysis(f, L, N, filters=filter_bank, use_c_backend=use_c_backend)\n",
    "wavelet_coeffs, scaling_coeffs = s2wav.analysis(f, L, N, sampling = sampling, nside = nside, filters= filter_bank)"
   ]
  },
  {
   "cell_type": "code",
   "execution_count": 116,
   "metadata": {},
   "outputs": [
    {
     "name": "stdout",
     "output_type": "stream",
     "text": [
      "Help on function analysis in module s2wav.transforms.base:\n",
      "\n",
      "analysis(f: numpy.ndarray, L: int, N: int = 1, J_min: int = 0, lam: float = 2.0, spin: int = 0, spin0: int = 0, sampling: str = 'mw', nside: int = None, reality: bool = False, multiresolution: bool = True, scattering: bool = False) -> Tuple[numpy.ndarray, numpy.ndarray]\n",
      "    Wavelet analysis from pixel space to wavelet space for complex signals.\n",
      "    \n",
      "    Args:\n",
      "        f (np.ndarray): Signal :math:`f` on the sphere with shape :math:`[n_{\\theta}, n_{\\phi}]`.\n",
      "        L (int): Harmonic bandlimit.\n",
      "        N (int, optional): Upper azimuthal band-limit. Defaults to 1.\n",
      "        J_min (int, optional): Lowest frequency wavelet scale to be used. Defaults to 0.\n",
      "        lam (float, optional): Wavelet parameter which determines the scale factor between consecutive wavelet scales.\n",
      "            Note that :math:`\\lambda = 2` indicates dyadic wavelets. Defaults to 2.\n",
      "        spin (int, optional): Spin (integer) of input signal. Defaults to 0.\n",
      "        spin0 (int, optional): Spin (integer) of output signal. Defaults to 0.\n",
      "        sampling (str, optional): Spherical sampling scheme from {\"mw\",\"mwss\", \"dh\", \"healpix\"}. Defaults to \"mw\".\n",
      "        nside (int, optional): HEALPix Nside resolution parameter.  Only required if sampling=\"healpix\".  Defaults\n",
      "            to None.\n",
      "        reality (bool, optional): Whether :math:`f \\in \\mathbb{R}`, if True exploits\n",
      "            conjugate symmetry of harmonic coefficients. Defaults to False.\n",
      "        multiresolution (bool, optional): Whether to store the scales at :math:`j_{\\text{max}}`\n",
      "            resolution or its own resolution. Defaults to True.\n",
      "        scattering (bool, optional): If using for scattering transform return absolute value\n",
      "            of scattering coefficients.\n",
      "    \n",
      "    Returns:\n",
      "        f_wav (np.ndarray): Array of wavelet pixel-space coefficients\n",
      "            with shape :math:`[n_{J}, 2N-1, n_{\\theta}, n_{\\phi}]`.\n",
      "    \n",
      "        f_scal (np.ndarray): Array of scaling pixel-space coefficients\n",
      "            with shape :math:`[n_{\\theta}, n_{\\phi}]`.\n",
      "\n",
      "Help on PjitFunction in module s2wav.transforms.wavelet:\n",
      "\n",
      "analysis(f: jax.Array, L: int, N: int = 1, J_min: int = 0, lam: float = 2.0, spin: int = 0, sampling: str = 'mw', nside: int = None, reality: bool = False, filters: Tuple[jax.Array] = None, precomps: List[List[jax.Array]] = None) -> Tuple[jax.Array]\n",
      "    Wavelet analysis from pixel space to wavelet space for complex signals.\n",
      "    \n",
      "    Args:\n",
      "        f (jnp.ndarray): Signal :math:`f` on the sphere with shape :math:`[n_{\\theta}, n_{\\phi}]`.\n",
      "    \n",
      "        L (int): Harmonic bandlimit.\n",
      "    \n",
      "        N (int, optional): Upper azimuthal band-limit. Defaults to 1.\n",
      "    \n",
      "        J_min (int, optional): Lowest frequency wavelet scale to be used. Defaults to 0.\n",
      "    \n",
      "        lam (float, optional): Wavelet parameter which determines the scale factor between consecutive wavelet scales.\n",
      "            Note that :math:`\\lambda = 2` indicates dyadic wavelets. Defaults to 2.\n",
      "    \n",
      "        spin (int, optional): Spin (integer) of input signal. Defaults to 0.\n",
      "    \n",
      "        sampling (str, optional): Spherical sampling scheme from {\"mw\",\"mwss\", \"dh\", \"healpix\"}. Defaults to \"mw\".\n",
      "    \n",
      "        nside (int, optional): HEALPix Nside resolution parameter.  Only required if sampling=\"healpix\".  Defaults\n",
      "            to None.\n",
      "    \n",
      "        reality (bool, optional): Whether :math:`f \\in \\mathbb{R}`, if True exploits\n",
      "            conjugate symmetry of harmonic coefficients. Defaults to False.\n",
      "    \n",
      "        filters (Tuple[jnp.ndarray], optional): Precomputed wavelet filters. Defaults to None.\n",
      "    \n",
      "        precomps (List[jnp.ndarray]): Precomputed list of recursion coefficients. At most\n",
      "            of length :math:`L^2`, which is a minimal memory overhead.\n",
      "    \n",
      "    Returns:\n",
      "        f_wav (jnp.ndarray): Array of wavelet pixel-space coefficients\n",
      "            with shape :math:`[n_{J}, 2N-1, n_{\\theta}, n_{\\phi}]`.\n",
      "    \n",
      "        f_scal (jnp.ndarray): Array of scaling pixel-space coefficients\n",
      "            with shape :math:`[n_{\\theta}, n_{\\phi}]`.\n",
      "\n"
     ]
    }
   ],
   "source": [
    "help(s2wav.analysis_base)\n",
    "help(s2wav.analysis)"
   ]
  },
  {
   "cell_type": "code",
   "execution_count": 66,
   "metadata": {},
   "outputs": [],
   "source": [
    "# f_check = s2wav.synthesis_base(wavelet_coeffs, scaling_coeffs, L, N, filters=filter_bank)\n",
    "# f_check = s2wav.synthesis_base(wavelet_coeffs, scaling_coeffs, L, N, filters=filter_bank)\n",
    "\n"
   ]
  },
  {
   "cell_type": "code",
   "execution_count": 67,
   "metadata": {},
   "outputs": [
    {
     "name": "stdout",
     "output_type": "stream",
     "text": [
      "Mean absolute error = 2.1150765748284385e-14\n"
     ]
    }
   ],
   "source": [
    "print(f\"Mean absolute error = {np.nanmean(np.abs(f_check - f))}\")"
   ]
  },
  {
   "cell_type": "code",
   "execution_count": 4,
   "metadata": {},
   "outputs": [],
   "source": []
  },
  {
   "cell_type": "code",
   "execution_count": 105,
   "metadata": {},
   "outputs": [
    {
     "ename": "TypeError",
     "evalue": "iota shape must have every element be nonnegative, got (-2,).",
     "output_type": "error",
     "traceback": [
      "\u001b[0;31m---------------------------------------------------------------------------\u001b[0m",
      "\u001b[0;31mTypeError\u001b[0m                                 Traceback (most recent call last)",
      "Cell \u001b[0;32mIn[105], line 11\u001b[0m\n\u001b[1;32m      8\u001b[0m N \u001b[38;5;241m=\u001b[39m \u001b[38;5;241m4\u001b[39m    \u001b[38;5;66;03m# Number of wavelet directions\u001b[39;00m\n\u001b[1;32m     10\u001b[0m filter_bank \u001b[38;5;241m=\u001b[39m s2wav\u001b[38;5;241m.\u001b[39mfilters\u001b[38;5;241m.\u001b[39mfilters_directional_vectorised(L, N)\n\u001b[0;32m---> 11\u001b[0m wavelet_coeffs, scaling_coeffs \u001b[38;5;241m=\u001b[39m \u001b[43ms2wav\u001b[49m\u001b[38;5;241;43m.\u001b[39;49m\u001b[43manalysis\u001b[49m\u001b[43m(\u001b[49m\u001b[43mf\u001b[49m\u001b[43m,\u001b[49m\u001b[43m \u001b[49m\u001b[43mL\u001b[49m\u001b[43m,\u001b[49m\u001b[43m \u001b[49m\u001b[43mN\u001b[49m\u001b[43m,\u001b[49m\u001b[43m \u001b[49m\u001b[43msampling\u001b[49m\u001b[43m \u001b[49m\u001b[38;5;241;43m=\u001b[39;49m\u001b[43m \u001b[49m\u001b[38;5;124;43m\"\u001b[39;49m\u001b[38;5;124;43mhealpix\u001b[39;49m\u001b[38;5;124;43m\"\u001b[39;49m\u001b[43m,\u001b[49m\u001b[43m \u001b[49m\u001b[43mfilters\u001b[49m\u001b[43m \u001b[49m\u001b[38;5;241;43m=\u001b[39;49m\u001b[43m \u001b[49m\u001b[43mfilter_bank\u001b[49m\u001b[43m,\u001b[49m\u001b[43m \u001b[49m\u001b[43mnside\u001b[49m\u001b[43m \u001b[49m\u001b[38;5;241;43m=\u001b[39;49m\u001b[43m \u001b[49m\u001b[43mHealpix_resolution_nside\u001b[49m\u001b[43m)\u001b[49m\n\u001b[1;32m     12\u001b[0m \u001b[38;5;66;03m# help(s2wav.analysis)\u001b[39;00m\n",
      "    \u001b[0;31m[... skipping hidden 11 frame]\u001b[0m\n",
      "File \u001b[0;32m/Library/Frameworks/Python.framework/Versions/3.9/lib/python3.9/site-packages/s2wav/transforms/wavelet.py:167\u001b[0m, in \u001b[0;36manalysis\u001b[0;34m(f, L, N, J_min, lam, spin, sampling, nside, reality, filters, precomps)\u001b[0m\n\u001b[1;32m    159\u001b[0m Ls \u001b[38;5;241m=\u001b[39m samples\u001b[38;5;241m.\u001b[39mscal_bandlimit(L, J_min, lam, \u001b[38;5;28;01mTrue\u001b[39;00m)\n\u001b[1;32m    160\u001b[0m wav_lm \u001b[38;5;241m=\u001b[39m jnp\u001b[38;5;241m.\u001b[39meinsum(\n\u001b[1;32m    161\u001b[0m     \u001b[38;5;124m\"\u001b[39m\u001b[38;5;124mjln, l->jln\u001b[39m\u001b[38;5;124m\"\u001b[39m,\n\u001b[1;32m    162\u001b[0m     jnp\u001b[38;5;241m.\u001b[39mconj(filters[\u001b[38;5;241m0\u001b[39m]),\n\u001b[1;32m    163\u001b[0m     \u001b[38;5;241m8\u001b[39m \u001b[38;5;241m*\u001b[39m jnp\u001b[38;5;241m.\u001b[39mpi\u001b[38;5;241m*\u001b[39m\u001b[38;5;241m*\u001b[39m\u001b[38;5;241m2\u001b[39m \u001b[38;5;241m/\u001b[39m (\u001b[38;5;241m2\u001b[39m \u001b[38;5;241m*\u001b[39m jnp\u001b[38;5;241m.\u001b[39marange(L) \u001b[38;5;241m+\u001b[39m \u001b[38;5;241m1\u001b[39m),\n\u001b[1;32m    164\u001b[0m     optimize\u001b[38;5;241m=\u001b[39m\u001b[38;5;28;01mTrue\u001b[39;00m,\n\u001b[1;32m    165\u001b[0m )\n\u001b[0;32m--> 167\u001b[0m flm \u001b[38;5;241m=\u001b[39m \u001b[43ms2fft\u001b[49m\u001b[38;5;241;43m.\u001b[39;49m\u001b[43mforward_jax\u001b[49m\u001b[43m(\u001b[49m\u001b[43mf\u001b[49m\u001b[43m,\u001b[49m\u001b[43m \u001b[49m\u001b[43mL\u001b[49m\u001b[43m,\u001b[49m\u001b[43m \u001b[49m\u001b[43mspin\u001b[49m\u001b[43m,\u001b[49m\u001b[43m \u001b[49m\u001b[43mnside\u001b[49m\u001b[43m,\u001b[49m\u001b[43m \u001b[49m\u001b[43msampling\u001b[49m\u001b[43m,\u001b[49m\u001b[43m \u001b[49m\u001b[43mreality\u001b[49m\u001b[43m)\u001b[49m\n\u001b[1;32m    169\u001b[0m \u001b[38;5;66;03m# Project all wigner coefficients for each lmn onto wavelet coefficients\u001b[39;00m\n\u001b[1;32m    170\u001b[0m \u001b[38;5;66;03m# Note that almost the entire compute is concentrated at the highest J\u001b[39;00m\n\u001b[1;32m    171\u001b[0m f_wav \u001b[38;5;241m=\u001b[39m []\n",
      "    \u001b[0;31m[... skipping hidden 11 frame]\u001b[0m\n",
      "File \u001b[0;32m/Library/Frameworks/Python.framework/Versions/3.9/lib/python3.9/site-packages/s2fft/transforms/spherical.py:612\u001b[0m, in \u001b[0;36mforward_jax\u001b[0;34m(f, L, spin, nside, sampling, reality, precomps, spmd, L_lower)\u001b[0m\n\u001b[1;32m    610\u001b[0m \u001b[38;5;66;03m# Perform longitundal Fast Fourier Transforms\u001b[39;00m\n\u001b[1;32m    611\u001b[0m \u001b[38;5;28;01mif\u001b[39;00m sampling\u001b[38;5;241m.\u001b[39mlower() \u001b[38;5;241m==\u001b[39m \u001b[38;5;124m\"\u001b[39m\u001b[38;5;124mhealpix\u001b[39m\u001b[38;5;124m\"\u001b[39m:\n\u001b[0;32m--> 612\u001b[0m     ftm \u001b[38;5;241m=\u001b[39m \u001b[43mhp\u001b[49m\u001b[38;5;241;43m.\u001b[39;49m\u001b[43mhealpix_fft\u001b[49m\u001b[43m(\u001b[49m\u001b[43mf\u001b[49m\u001b[43m,\u001b[49m\u001b[43m \u001b[49m\u001b[43mL\u001b[49m\u001b[43m,\u001b[49m\u001b[43m \u001b[49m\u001b[43mnside\u001b[49m\u001b[43m,\u001b[49m\u001b[43m \u001b[49m\u001b[38;5;124;43m\"\u001b[39;49m\u001b[38;5;124;43mjax\u001b[39;49m\u001b[38;5;124;43m\"\u001b[39;49m\u001b[43m,\u001b[49m\u001b[43m \u001b[49m\u001b[43mreality\u001b[49m\u001b[43m)\u001b[49m\n\u001b[1;32m    613\u001b[0m \u001b[38;5;28;01melse\u001b[39;00m:\n\u001b[1;32m    614\u001b[0m     \u001b[38;5;28;01mif\u001b[39;00m reality:\n",
      "File \u001b[0;32m/Library/Frameworks/Python.framework/Versions/3.9/lib/python3.9/site-packages/s2fft/utils/healpix_ffts.py:214\u001b[0m, in \u001b[0;36mhealpix_fft\u001b[0;34m(f, L, nside, method, reality)\u001b[0m\n\u001b[1;32m    212\u001b[0m     \u001b[38;5;28;01mreturn\u001b[39;00m healpix_fft_numpy(f, L, nside, reality)\n\u001b[1;32m    213\u001b[0m \u001b[38;5;28;01melif\u001b[39;00m method\u001b[38;5;241m.\u001b[39mlower() \u001b[38;5;241m==\u001b[39m \u001b[38;5;124m\"\u001b[39m\u001b[38;5;124mjax\u001b[39m\u001b[38;5;124m\"\u001b[39m:\n\u001b[0;32m--> 214\u001b[0m     \u001b[38;5;28;01mreturn\u001b[39;00m \u001b[43mhealpix_fft_jax\u001b[49m\u001b[43m(\u001b[49m\u001b[43mf\u001b[49m\u001b[43m,\u001b[49m\u001b[43m \u001b[49m\u001b[43mL\u001b[49m\u001b[43m,\u001b[49m\u001b[43m \u001b[49m\u001b[43mnside\u001b[49m\u001b[43m,\u001b[49m\u001b[43m \u001b[49m\u001b[43mreality\u001b[49m\u001b[43m)\u001b[49m\n\u001b[1;32m    215\u001b[0m \u001b[38;5;28;01melif\u001b[39;00m method\u001b[38;5;241m.\u001b[39mlower() \u001b[38;5;241m==\u001b[39m \u001b[38;5;124m\"\u001b[39m\u001b[38;5;124mtorch\u001b[39m\u001b[38;5;124m\"\u001b[39m:\n\u001b[1;32m    216\u001b[0m     \u001b[38;5;28;01mreturn\u001b[39;00m healpix_fft_torch(f, L, nside, reality)\n",
      "    \u001b[0;31m[... skipping hidden 11 frame]\u001b[0m\n",
      "File \u001b[0;32m/Library/Frameworks/Python.framework/Versions/3.9/lib/python3.9/site-packages/s2fft/utils/healpix_ffts.py:307\u001b[0m, in \u001b[0;36mhealpix_fft_jax\u001b[0;34m(f, L, nside, reality)\u001b[0m\n\u001b[1;32m    303\u001b[0m     nphi \u001b[38;5;241m=\u001b[39m \u001b[38;5;241m4\u001b[39m \u001b[38;5;241m*\u001b[39m (t \u001b[38;5;241m+\u001b[39m \u001b[38;5;241m1\u001b[39m)\n\u001b[1;32m    304\u001b[0m     f_chunks \u001b[38;5;241m=\u001b[39m jnp\u001b[38;5;241m.\u001b[39mstack(\n\u001b[1;32m    305\u001b[0m         (f[start_index : start_index \u001b[38;5;241m+\u001b[39m nphi], f[end_index \u001b[38;5;241m-\u001b[39m nphi : end_index])\n\u001b[1;32m    306\u001b[0m     )\n\u001b[0;32m--> 307\u001b[0m     ftm_rows_polar\u001b[38;5;241m.\u001b[39mappend(\u001b[43mf_chunks_to_ftm_rows\u001b[49m\u001b[43m(\u001b[49m\u001b[43mf_chunks\u001b[49m\u001b[43m,\u001b[49m\u001b[43m \u001b[49m\u001b[43mnphi\u001b[49m\u001b[43m)\u001b[49m)\n\u001b[1;32m    308\u001b[0m     start_index, end_index \u001b[38;5;241m=\u001b[39m start_index \u001b[38;5;241m+\u001b[39m nphi, end_index \u001b[38;5;241m-\u001b[39m nphi\n\u001b[1;32m    309\u001b[0m ftm_rows_polar \u001b[38;5;241m=\u001b[39m jnp\u001b[38;5;241m.\u001b[39mstack(ftm_rows_polar)\n",
      "File \u001b[0;32m/Library/Frameworks/Python.framework/Versions/3.9/lib/python3.9/site-packages/s2fft/utils/healpix_ffts.py:296\u001b[0m, in \u001b[0;36mhealpix_fft_jax.<locals>.f_chunks_to_ftm_rows\u001b[0;34m(f_chunks, nphi)\u001b[0m\n\u001b[1;32m    292\u001b[0m \u001b[38;5;28;01melse\u001b[39;00m:\n\u001b[1;32m    293\u001b[0m     fm_chunks \u001b[38;5;241m=\u001b[39m jnp\u001b[38;5;241m.\u001b[39mfft\u001b[38;5;241m.\u001b[39mfftshift(\n\u001b[1;32m    294\u001b[0m         jnp\u001b[38;5;241m.\u001b[39mfft\u001b[38;5;241m.\u001b[39mfft(f_chunks, norm\u001b[38;5;241m=\u001b[39m\u001b[38;5;124m\"\u001b[39m\u001b[38;5;124mbackward\u001b[39m\u001b[38;5;124m\"\u001b[39m), axes\u001b[38;5;241m=\u001b[39m\u001b[38;5;241m-\u001b[39m\u001b[38;5;241m1\u001b[39m\n\u001b[1;32m    295\u001b[0m     )\n\u001b[0;32m--> 296\u001b[0m \u001b[38;5;28;01mreturn\u001b[39;00m \u001b[43mvmap\u001b[49m\u001b[43m(\u001b[49m\u001b[43mspectral_periodic_extension_jax\u001b[49m\u001b[43m,\u001b[49m\u001b[43m \u001b[49m\u001b[43m(\u001b[49m\u001b[38;5;241;43m0\u001b[39;49m\u001b[43m,\u001b[49m\u001b[43m \u001b[49m\u001b[38;5;28;43;01mNone\u001b[39;49;00m\u001b[43m)\u001b[49m\u001b[43m)\u001b[49m\u001b[43m(\u001b[49m\u001b[43mfm_chunks\u001b[49m\u001b[43m,\u001b[49m\u001b[43m \u001b[49m\u001b[43mL\u001b[49m\u001b[43m)\u001b[49m\n",
      "    \u001b[0;31m[... skipping hidden 3 frame]\u001b[0m\n",
      "File \u001b[0;32m/Library/Frameworks/Python.framework/Versions/3.9/lib/python3.9/site-packages/s2fft/utils/healpix_ffts.py:153\u001b[0m, in \u001b[0;36mspectral_periodic_extension_jax\u001b[0;34m(fm, L)\u001b[0m\n\u001b[1;32m    136\u001b[0m \u001b[38;5;250m\u001b[39m\u001b[38;5;124;03m\"\"\"Extends lower frequency Fourier coefficients onto higher frequency\u001b[39;00m\n\u001b[1;32m    137\u001b[0m \u001b[38;5;124;03mcoefficients, i.e. imposed periodicity in Fourier space. Based on\u001b[39;00m\n\u001b[1;32m    138\u001b[0m \u001b[38;5;124;03m:func:`~spectral_periodic_extension`, modified to be JIT-compilable.\u001b[39;00m\n\u001b[0;32m   (...)\u001b[0m\n\u001b[1;32m    146\u001b[0m \u001b[38;5;124;03m    jnp.ndarray: Higher resolution set of periodic Fourier coefficients.\u001b[39;00m\n\u001b[1;32m    147\u001b[0m \u001b[38;5;124;03m\"\"\"\u001b[39;00m\n\u001b[1;32m    148\u001b[0m nphi \u001b[38;5;241m=\u001b[39m fm\u001b[38;5;241m.\u001b[39mshape[\u001b[38;5;241m0\u001b[39m]\n\u001b[1;32m    149\u001b[0m \u001b[38;5;28;01mreturn\u001b[39;00m jnp\u001b[38;5;241m.\u001b[39mconcatenate(\n\u001b[1;32m    150\u001b[0m     (\n\u001b[1;32m    151\u001b[0m         fm[\u001b[38;5;241m-\u001b[39mjnp\u001b[38;5;241m.\u001b[39marange(L \u001b[38;5;241m-\u001b[39m nphi \u001b[38;5;241m/\u001b[39m\u001b[38;5;241m/\u001b[39m \u001b[38;5;241m2\u001b[39m, \u001b[38;5;241m0\u001b[39m, \u001b[38;5;241m-\u001b[39m\u001b[38;5;241m1\u001b[39m) \u001b[38;5;241m%\u001b[39m nphi],\n\u001b[1;32m    152\u001b[0m         fm,\n\u001b[0;32m--> 153\u001b[0m         fm[\u001b[43mjnp\u001b[49m\u001b[38;5;241;43m.\u001b[39;49m\u001b[43marange\u001b[49m\u001b[43m(\u001b[49m\u001b[43mL\u001b[49m\u001b[43m \u001b[49m\u001b[38;5;241;43m-\u001b[39;49m\u001b[43m \u001b[49m\u001b[43m(\u001b[49m\u001b[43mnphi\u001b[49m\u001b[43m \u001b[49m\u001b[38;5;241;43m+\u001b[39;49m\u001b[43m \u001b[49m\u001b[38;5;241;43m1\u001b[39;49m\u001b[43m)\u001b[49m\u001b[43m \u001b[49m\u001b[38;5;241;43m/\u001b[39;49m\u001b[38;5;241;43m/\u001b[39;49m\u001b[43m \u001b[49m\u001b[38;5;241;43m2\u001b[39;49m\u001b[43m)\u001b[49m \u001b[38;5;241m%\u001b[39m nphi],\n\u001b[1;32m    154\u001b[0m     )\n\u001b[1;32m    155\u001b[0m )\n",
      "File \u001b[0;32m/Library/Frameworks/Python.framework/Versions/3.9/lib/python3.9/site-packages/jax/_src/numpy/lax_numpy.py:2968\u001b[0m, in \u001b[0;36marange\u001b[0;34m(start, stop, step, dtype)\u001b[0m\n\u001b[1;32m   2966\u001b[0m     ceil_ \u001b[38;5;241m=\u001b[39m ufuncs\u001b[38;5;241m.\u001b[39mceil \u001b[38;5;28;01mif\u001b[39;00m \u001b[38;5;28misinstance\u001b[39m(start, core\u001b[38;5;241m.\u001b[39mTracer) \u001b[38;5;28;01melse\u001b[39;00m np\u001b[38;5;241m.\u001b[39mceil\n\u001b[1;32m   2967\u001b[0m     start \u001b[38;5;241m=\u001b[39m ceil_(start)\u001b[38;5;241m.\u001b[39mastype(\u001b[38;5;28mint\u001b[39m)  \u001b[38;5;66;03m# type: ignore\u001b[39;00m\n\u001b[0;32m-> 2968\u001b[0m   \u001b[38;5;28;01mreturn\u001b[39;00m \u001b[43mlax\u001b[49m\u001b[38;5;241;43m.\u001b[39;49m\u001b[43miota\u001b[49m\u001b[43m(\u001b[49m\u001b[43mdtype\u001b[49m\u001b[43m,\u001b[49m\u001b[43m \u001b[49m\u001b[43mstart\u001b[49m\u001b[43m)\u001b[49m\n\u001b[1;32m   2969\u001b[0m \u001b[38;5;28;01melse\u001b[39;00m:\n\u001b[1;32m   2970\u001b[0m   \u001b[38;5;28;01mif\u001b[39;00m step \u001b[38;5;129;01mis\u001b[39;00m \u001b[38;5;28;01mNone\u001b[39;00m \u001b[38;5;129;01mand\u001b[39;00m start \u001b[38;5;241m==\u001b[39m \u001b[38;5;241m0\u001b[39m \u001b[38;5;129;01mand\u001b[39;00m stop \u001b[38;5;129;01mis\u001b[39;00m \u001b[38;5;129;01mnot\u001b[39;00m \u001b[38;5;28;01mNone\u001b[39;00m:\n",
      "    \u001b[0;31m[... skipping hidden 9 frame]\u001b[0m\n",
      "File \u001b[0;32m/Library/Frameworks/Python.framework/Versions/3.9/lib/python3.9/site-packages/jax/_src/lax/lax.py:4972\u001b[0m, in \u001b[0;36m_check_shapelike\u001b[0;34m(fun_name, arg_name, obj, non_zero_shape)\u001b[0m\n\u001b[1;32m   4970\u001b[0m \u001b[38;5;28;01mif\u001b[39;00m \u001b[38;5;129;01mnot\u001b[39;00m \u001b[38;5;28mall\u001b[39m(d \u001b[38;5;241m>\u001b[39m\u001b[38;5;241m=\u001b[39m lower_bound \u001b[38;5;28;01mfor\u001b[39;00m d \u001b[38;5;129;01min\u001b[39;00m obj_arr):\n\u001b[1;32m   4971\u001b[0m   msg \u001b[38;5;241m=\u001b[39m \u001b[38;5;124m\"\u001b[39m\u001b[38;5;132;01m{}\u001b[39;00m\u001b[38;5;124m \u001b[39m\u001b[38;5;132;01m{}\u001b[39;00m\u001b[38;5;124m must have every element be \u001b[39m\u001b[38;5;132;01m{}\u001b[39;00m\u001b[38;5;124m, got \u001b[39m\u001b[38;5;132;01m{}\u001b[39;00m\u001b[38;5;124m.\u001b[39m\u001b[38;5;124m\"\u001b[39m\n\u001b[0;32m-> 4972\u001b[0m   \u001b[38;5;28;01mraise\u001b[39;00m \u001b[38;5;167;01mTypeError\u001b[39;00m(msg\u001b[38;5;241m.\u001b[39mformat(fun_name, arg_name, bound_error, obj))\n",
      "\u001b[0;31mTypeError\u001b[0m: iota shape must have every element be nonnegative, got (-2,)."
     ]
    }
   ],
   "source": [
    "# Get Healpix resolution (nside)\n",
    "Healpix_resolution_nside = hp.get_nside(PLA_Data_Dict[\"030\"][1])\n",
    "\n",
    "\n",
    "f = PLA_Data_Dict[\"030\"][1]\n",
    "\n",
    "L = 512  # Maximum multipole\n",
    "N = 4    # Number of wavelet directions\n",
    "\n",
    "filter_bank = s2wav.filters.filters_directional_vectorised(L, N)\n",
    "wavelet_coeffs, scaling_coeffs = s2wav.analysis(f, L, N, sampling = \"healpix\", filters = filter_bank, nside = Healpix_resolution_nside)\n",
    "# help(s2wav.analysis)\n",
    "\n",
    "\n",
    "\n"
   ]
  },
  {
   "cell_type": "code",
   "execution_count": null,
   "metadata": {},
   "outputs": [],
   "source": [
    "s2wav.synthesis(f_wav, f_scal, L, N)"
   ]
  }
 ],
 "metadata": {
  "kernelspec": {
   "display_name": "Python 3",
   "language": "python",
   "name": "python3"
  },
  "language_info": {
   "codemirror_mode": {
    "name": "ipython",
    "version": 3
   },
   "file_extension": ".py",
   "mimetype": "text/x-python",
   "name": "python",
   "nbconvert_exporter": "python",
   "pygments_lexer": "ipython3",
   "version": "3.9.13"
  }
 },
 "nbformat": 4,
 "nbformat_minor": 2
}
