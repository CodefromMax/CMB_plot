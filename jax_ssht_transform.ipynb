{
 "cells": [
  {
   "cell_type": "markdown",
   "metadata": {},
   "source": [
    "# Wavelet transform (JAX-SSHT)\n",
    "[![colab image](https://colab.research.google.com/assets/colab-badge.svg)](https://colab.research.google.com/github/astro-informatics/s2wav/blob/main/notebooks/jax_ssht_transform.ipynb)"
   ]
  },
  {
   "cell_type": "code",
   "execution_count": 1,
   "metadata": {},
   "outputs": [],
   "source": [
    "# Install s2wav\n",
    "# !pip install s2wav &> /dev/null"
   ]
  },
  {
   "cell_type": "code",
   "execution_count": 22,
   "metadata": {},
   "outputs": [
    {
     "name": "stdout",
     "output_type": "stream",
     "text": [
      "1.1558006014255577e-15\n"
     ]
    }
   ],
   "source": [
    "import s2wav\n",
    "import numpy as np\n",
    "import s2wav.filters as filters\n",
    "L = 10\n",
    "N = 1\n",
    "f = np.ones((L, 2*L-1))\n",
    "# Compute wavelet coefficients\n",
    "filter = filters.filters_directional_vectorised(L, N)\n",
    "f_wav, f_scal = s2wav.analysis(f, L, N, filters=filter, reality=True)\n",
    "\n",
    "# Map back to signal on the sphere \n",
    "f_build = s2wav.synthesis(f_wav, f_scal, L, N, filters=filter, reality=True)\n",
    "print(np.abs(f_build -f).mean())"
   ]
  },
  {
   "cell_type": "code",
   "execution_count": 28,
   "metadata": {},
   "outputs": [
    {
     "name": "stdout",
     "output_type": "stream",
     "text": [
      "Mean absolute difference: 3.6772237618124e-05\n"
     ]
    }
   ],
   "source": [
    "import healpy as hp\n",
    "import numpy as np\n",
    "\n",
    "# Path to your Healpix map FITS file\n",
    "healpix_map_path = 'data/planck_simulation/ffp10_newdust_total_030_full_map.fits'\n",
    "\n",
    "# Step 1: Read the Healpix map\n",
    "healpix_map = hp.read_map(healpix_map_path)\n",
    "\n",
    "# Step 2: Convert Healpix map to spherical harmonic coefficients\n",
    "L_max = hp.npix2nside(len(healpix_map)) * 2  # Define maximum multipole moment\n",
    "alm = hp.map2alm(healpix_map, lmax=L_max-1)\n",
    "\n",
    "# Step 3: Reconstruct the map from spherical harmonic coefficients\n",
    "reconstructed_map = hp.alm2map(alm, nside=hp.npix2nside(len(healpix_map)))\n",
    "\n",
    "# Step 4: Compare the original and reconstructed maps\n",
    "difference = np.abs(reconstructed_map - healpix_map).mean()\n",
    "print(f\"Mean absolute difference: {difference}\")"
   ]
  },
  {
   "cell_type": "code",
   "execution_count": 27,
   "metadata": {},
   "outputs": [
    {
     "data": {
      "text/plain": [
       "(10, 19)"
      ]
     },
     "execution_count": 27,
     "metadata": {},
     "output_type": "execute_result"
    }
   ],
   "source": [
    "import s2wav\n",
    "import numpy as np\n",
    "import s2wav.filters as filters\n",
    "import healpy as hp\n",
    "L = 10\n",
    "N = 1\n",
    "f = np.ones((L, 2*L-1))\n",
    "f.shape\n",
    "# print(hp.get_nside(f))\n",
    "# sampling = \"healpix\"\n",
    "# nside = hp.get_nside(f)\n",
    "# # Compute wavelet coefficients\n",
    "\n",
    "\n",
    "# filter = filters.filters_directional_vectorised(L, N)\n",
    "\n",
    "# f_wav, f_scal = s2wav.analysis(f, L, N, filters=filter, reality=True, sampling = \"healpix\", nside = nside)\n",
    "\n",
    "# # # Map back to signal on the sphere \n",
    "# # f_build = s2wav.synthesis(f_wav, f_scal, L, N, filters=filter, reality=True)\n",
    "# print(np.abs(f_build -f).mean())"
   ]
  },
  {
   "cell_type": "code",
   "execution_count": 19,
   "metadata": {},
   "outputs": [
    {
     "ename": "TypeError",
     "evalue": "'NoneType' object is not subscriptable",
     "output_type": "error",
     "traceback": [
      "\u001b[0;31m---------------------------------------------------------------------------\u001b[0m",
      "\u001b[0;31mTypeError\u001b[0m                                 Traceback (most recent call last)",
      "Cell \u001b[0;32mIn[19], line 6\u001b[0m\n\u001b[1;32m      4\u001b[0m N \u001b[38;5;241m=\u001b[39m \u001b[38;5;241m1\u001b[39m\n\u001b[1;32m      5\u001b[0m f \u001b[38;5;241m=\u001b[39m np\u001b[38;5;241m.\u001b[39mones((L, \u001b[38;5;241m2\u001b[39m\u001b[38;5;241m*\u001b[39mL\u001b[38;5;241m-\u001b[39m\u001b[38;5;241m1\u001b[39m))\n\u001b[0;32m----> 6\u001b[0m f_wav, f_scal \u001b[38;5;241m=\u001b[39m \u001b[43ms2wav\u001b[49m\u001b[38;5;241;43m.\u001b[39;49m\u001b[43manalysis\u001b[49m\u001b[43m(\u001b[49m\u001b[43mf\u001b[49m\u001b[43m,\u001b[49m\u001b[43m \u001b[49m\u001b[43mL\u001b[49m\u001b[43m,\u001b[49m\u001b[43m \u001b[49m\u001b[43mN\u001b[49m\u001b[43m)\u001b[49m\n\u001b[1;32m      7\u001b[0m f \u001b[38;5;241m=\u001b[39m s2wav\u001b[38;5;241m.\u001b[39msynthesis(f_wav, f_scal, L, N)\n",
      "    \u001b[0;31m[... skipping hidden 11 frame]\u001b[0m\n",
      "File \u001b[0;32m/Library/Frameworks/Python.framework/Versions/3.9/lib/python3.9/site-packages/s2wav/transforms/wavelet.py:162\u001b[0m, in \u001b[0;36manalysis\u001b[0;34m(f, L, N, J_min, lam, spin, sampling, nside, reality, filters, precomps)\u001b[0m\n\u001b[1;32m    158\u001b[0m J \u001b[38;5;241m=\u001b[39m samples\u001b[38;5;241m.\u001b[39mj_max(L, lam)\n\u001b[1;32m    159\u001b[0m Ls \u001b[38;5;241m=\u001b[39m samples\u001b[38;5;241m.\u001b[39mscal_bandlimit(L, J_min, lam, \u001b[38;5;28;01mTrue\u001b[39;00m)\n\u001b[1;32m    160\u001b[0m wav_lm \u001b[38;5;241m=\u001b[39m jnp\u001b[38;5;241m.\u001b[39meinsum(\n\u001b[1;32m    161\u001b[0m     \u001b[38;5;124m\"\u001b[39m\u001b[38;5;124mjln, l->jln\u001b[39m\u001b[38;5;124m\"\u001b[39m,\n\u001b[0;32m--> 162\u001b[0m     jnp\u001b[38;5;241m.\u001b[39mconj(\u001b[43mfilters\u001b[49m\u001b[43m[\u001b[49m\u001b[38;5;241;43m0\u001b[39;49m\u001b[43m]\u001b[49m),\n\u001b[1;32m    163\u001b[0m     \u001b[38;5;241m8\u001b[39m \u001b[38;5;241m*\u001b[39m jnp\u001b[38;5;241m.\u001b[39mpi\u001b[38;5;241m*\u001b[39m\u001b[38;5;241m*\u001b[39m\u001b[38;5;241m2\u001b[39m \u001b[38;5;241m/\u001b[39m (\u001b[38;5;241m2\u001b[39m \u001b[38;5;241m*\u001b[39m jnp\u001b[38;5;241m.\u001b[39marange(L) \u001b[38;5;241m+\u001b[39m \u001b[38;5;241m1\u001b[39m),\n\u001b[1;32m    164\u001b[0m     optimize\u001b[38;5;241m=\u001b[39m\u001b[38;5;28;01mTrue\u001b[39;00m,\n\u001b[1;32m    165\u001b[0m )\n\u001b[1;32m    167\u001b[0m flm \u001b[38;5;241m=\u001b[39m s2fft\u001b[38;5;241m.\u001b[39mforward_jax(f, L, spin, nside, sampling, reality)\n\u001b[1;32m    169\u001b[0m \u001b[38;5;66;03m# Project all wigner coefficients for each lmn onto wavelet coefficients\u001b[39;00m\n\u001b[1;32m    170\u001b[0m \u001b[38;5;66;03m# Note that almost the entire compute is concentrated at the highest J\u001b[39;00m\n",
      "\u001b[0;31mTypeError\u001b[0m: 'NoneType' object is not subscriptable"
     ]
    }
   ],
   "source": [
    "# import s2wav\n",
    "# import numpy as np\n",
    "# L = 128\n",
    "# N = 1\n",
    "# f = np.ones((L, 2*L-1))\n",
    "# f_wav, f_scal = s2wav.analysis(f, L, N)\n",
    "# f = s2wav.synthesis(f_wav, f_scal, L, N)"
   ]
  },
  {
   "cell_type": "markdown",
   "metadata": {},
   "source": [
    "Lets start by importing some packages which we'll be using in this notebook"
   ]
  },
  {
   "cell_type": "code",
   "execution_count": 14,
   "metadata": {},
   "outputs": [],
   "source": [
    "# Make sure we configure 64 bit precision. \n",
    "# 32 bit can be faster but you will be (potentially much) less precise.\n",
    "import jax\n",
    "jax.config.update(\"jax_enable_x64\", True)\n",
    "\n",
    "import s2wav       # Wavelet transforms on the sphere and rotation group\n",
    "import s2fft       # Spherical harmonic and Wigner transforms\n",
    "import numpy as np"
   ]
  },
  {
   "cell_type": "markdown",
   "metadata": {},
   "source": [
    "Now we'll define the constraints of the problem and generated some random data just for this example"
   ]
  },
  {
   "cell_type": "code",
   "execution_count": 7,
   "metadata": {},
   "outputs": [
    {
     "ename": "AssertionError",
     "evalue": "",
     "output_type": "error",
     "traceback": [
      "\u001b[0;31m---------------------------------------------------------------------------\u001b[0m",
      "\u001b[0;31mAssertionError\u001b[0m                            Traceback (most recent call last)",
      "Cell \u001b[0;32mIn[7], line 19\u001b[0m\n\u001b[1;32m     17\u001b[0m filter_bank \u001b[38;5;241m=\u001b[39m s2wav\u001b[38;5;241m.\u001b[39mfilters\u001b[38;5;241m.\u001b[39mfilters_directional_vectorised(L, N)\n\u001b[1;32m     18\u001b[0m \u001b[38;5;66;03m# wavelet_coeffs, scaling_coeffs = s2wav.analysis(f, L, N, filters=filter_bank, use_c_backend=use_c_backend)\u001b[39;00m\n\u001b[0;32m---> 19\u001b[0m wavelet_coeffs, scaling_coeffs \u001b[38;5;241m=\u001b[39m \u001b[43ms2wav\u001b[49m\u001b[38;5;241;43m.\u001b[39;49m\u001b[43manalysis\u001b[49m\u001b[43m(\u001b[49m\u001b[43mf\u001b[49m\u001b[43m \u001b[49m\u001b[38;5;241;43m=\u001b[39;49m\u001b[43m \u001b[49m\u001b[43mf\u001b[49m\u001b[43m,\u001b[49m\u001b[43m \u001b[49m\u001b[43mL\u001b[49m\u001b[43m \u001b[49m\u001b[38;5;241;43m=\u001b[39;49m\u001b[43m \u001b[49m\u001b[43mL\u001b[49m\u001b[43m,\u001b[49m\u001b[43m \u001b[49m\u001b[43mN\u001b[49m\u001b[43m \u001b[49m\u001b[38;5;241;43m=\u001b[39;49m\u001b[43m \u001b[49m\u001b[43mN\u001b[49m\u001b[43m,\u001b[49m\u001b[43m \u001b[49m\u001b[43mfilters\u001b[49m\u001b[38;5;241;43m=\u001b[39;49m\u001b[43mfilter_bank\u001b[49m\u001b[43m,\u001b[49m\u001b[43m \u001b[49m\u001b[43msampling\u001b[49m\u001b[43m \u001b[49m\u001b[38;5;241;43m=\u001b[39;49m\u001b[43m \u001b[49m\u001b[43msampling\u001b[49m\u001b[43m,\u001b[49m\u001b[43m \u001b[49m\u001b[43mnside\u001b[49m\u001b[43m \u001b[49m\u001b[38;5;241;43m=\u001b[39;49m\u001b[43m \u001b[49m\u001b[43mnside\u001b[49m\u001b[43m)\u001b[49m\n",
      "    \u001b[0;31m[... skipping hidden 11 frame]\u001b[0m\n",
      "File \u001b[0;32m/Library/Frameworks/Python.framework/Versions/3.9/lib/python3.9/site-packages/s2wav/transforms/wavelet.py:189\u001b[0m, in \u001b[0;36manalysis\u001b[0;34m(f, L, N, J_min, lam, spin, sampling, nside, reality, filters, precomps)\u001b[0m\n\u001b[1;32m    174\u001b[0m     Lj, Nj, L0j \u001b[38;5;241m=\u001b[39m samples\u001b[38;5;241m.\u001b[39mLN_j(L, j, N, lam, \u001b[38;5;28;01mTrue\u001b[39;00m)\n\u001b[1;32m    175\u001b[0m     f_wav_lmn[j \u001b[38;5;241m-\u001b[39m J_min] \u001b[38;5;241m=\u001b[39m (\n\u001b[1;32m    176\u001b[0m         f_wav_lmn[j \u001b[38;5;241m-\u001b[39m J_min]\n\u001b[1;32m    177\u001b[0m         \u001b[38;5;241m.\u001b[39mat[::\u001b[38;5;241m2\u001b[39m, L0j:]\n\u001b[0;32m   (...)\u001b[0m\n\u001b[1;32m    185\u001b[0m         )\n\u001b[1;32m    186\u001b[0m     )\n\u001b[1;32m    188\u001b[0m     f_wav\u001b[38;5;241m.\u001b[39mappend(\n\u001b[0;32m--> 189\u001b[0m         \u001b[43ms2fft\u001b[49m\u001b[38;5;241;43m.\u001b[39;49m\u001b[43mwigner\u001b[49m\u001b[38;5;241;43m.\u001b[39;49m\u001b[43minverse_jax\u001b[49m\u001b[43m(\u001b[49m\n\u001b[1;32m    190\u001b[0m \u001b[43m            \u001b[49m\u001b[43mf_wav_lmn\u001b[49m\u001b[43m[\u001b[49m\u001b[43mj\u001b[49m\u001b[43m \u001b[49m\u001b[38;5;241;43m-\u001b[39;49m\u001b[43m \u001b[49m\u001b[43mJ_min\u001b[49m\u001b[43m]\u001b[49m\u001b[43m,\u001b[49m\n\u001b[1;32m    191\u001b[0m \u001b[43m            \u001b[49m\u001b[43mLj\u001b[49m\u001b[43m,\u001b[49m\n\u001b[1;32m    192\u001b[0m \u001b[43m            \u001b[49m\u001b[43mNj\u001b[49m\u001b[43m,\u001b[49m\n\u001b[1;32m    193\u001b[0m \u001b[43m            \u001b[49m\u001b[43mnside\u001b[49m\u001b[43m,\u001b[49m\n\u001b[1;32m    194\u001b[0m \u001b[43m            \u001b[49m\u001b[43msampling\u001b[49m\u001b[43m,\u001b[49m\n\u001b[1;32m    195\u001b[0m \u001b[43m            \u001b[49m\u001b[43mreality\u001b[49m\u001b[43m,\u001b[49m\n\u001b[1;32m    196\u001b[0m \u001b[43m            \u001b[49m\u001b[43mprecomps\u001b[49m\u001b[43m[\u001b[49m\u001b[43mj\u001b[49m\u001b[43m \u001b[49m\u001b[38;5;241;43m-\u001b[39;49m\u001b[43m \u001b[49m\u001b[43mJ_min\u001b[49m\u001b[43m]\u001b[49m\u001b[43m,\u001b[49m\n\u001b[1;32m    197\u001b[0m \u001b[43m            \u001b[49m\u001b[43mL0j\u001b[49m\u001b[43m,\u001b[49m\n\u001b[1;32m    198\u001b[0m \u001b[43m        \u001b[49m\u001b[43m)\u001b[49m\n\u001b[1;32m    199\u001b[0m     )\n\u001b[1;32m    201\u001b[0m \u001b[38;5;66;03m# Project all harmonic coefficients for each lm onto scaling coefficients\u001b[39;00m\n\u001b[1;32m    202\u001b[0m phi \u001b[38;5;241m=\u001b[39m filters[\u001b[38;5;241m1\u001b[39m][:Ls] \u001b[38;5;241m*\u001b[39m jnp\u001b[38;5;241m.\u001b[39msqrt(\u001b[38;5;241m4\u001b[39m \u001b[38;5;241m*\u001b[39m jnp\u001b[38;5;241m.\u001b[39mpi \u001b[38;5;241m/\u001b[39m (\u001b[38;5;241m2\u001b[39m \u001b[38;5;241m*\u001b[39m jnp\u001b[38;5;241m.\u001b[39marange(Ls) \u001b[38;5;241m+\u001b[39m \u001b[38;5;241m1\u001b[39m))\n",
      "    \u001b[0;31m[... skipping hidden 11 frame]\u001b[0m\n",
      "File \u001b[0;32m/Library/Frameworks/Python.framework/Versions/3.9/lib/python3.9/site-packages/s2fft/transforms/wigner.py:257\u001b[0m, in \u001b[0;36minverse_jax\u001b[0;34m(flmn, L, N, nside, sampling, reality, precomps, L_lower)\u001b[0m\n\u001b[1;32m    251\u001b[0m     precomps \u001b[38;5;241m=\u001b[39m [p0, p1, p2, p3, p4]\n\u001b[1;32m    252\u001b[0m     \u001b[38;5;28;01mreturn\u001b[39;00m (\u001b[38;5;241m-\u001b[39m\u001b[38;5;241m1\u001b[39m) \u001b[38;5;241m*\u001b[39m\u001b[38;5;241m*\u001b[39m jnp\u001b[38;5;241m.\u001b[39mabs(spin) \u001b[38;5;241m*\u001b[39m s2fft\u001b[38;5;241m.\u001b[39minverse_jax(\n\u001b[1;32m    253\u001b[0m         flm, L, \u001b[38;5;241m-\u001b[39mspin, nside, sampling, \u001b[38;5;28;01mFalse\u001b[39;00m, precomps, \u001b[38;5;28;01mFalse\u001b[39;00m, L_lower\n\u001b[1;32m    254\u001b[0m     )\n\u001b[1;32m    256\u001b[0m fban \u001b[38;5;241m=\u001b[39m fban\u001b[38;5;241m.\u001b[39mat[N \u001b[38;5;241m-\u001b[39m \u001b[38;5;241m1\u001b[39m \u001b[38;5;241m+\u001b[39m n_start_ind :]\u001b[38;5;241m.\u001b[39mset(\n\u001b[0;32m--> 257\u001b[0m     \u001b[43mvmap\u001b[49m\u001b[43m(\u001b[49m\n\u001b[1;32m    258\u001b[0m \u001b[43m        \u001b[49m\u001b[43mpartial\u001b[49m\u001b[43m(\u001b[49m\u001b[43mfunc\u001b[49m\u001b[43m,\u001b[49m\u001b[43m \u001b[49m\u001b[43mp2\u001b[49m\u001b[38;5;241;43m=\u001b[39;49m\u001b[43mprecomps\u001b[49m\u001b[43m[\u001b[49m\u001b[38;5;241;43m2\u001b[39;49m\u001b[43m]\u001b[49m\u001b[43m[\u001b[49m\u001b[38;5;241;43m0\u001b[39;49m\u001b[43m]\u001b[49m\u001b[43m,\u001b[49m\u001b[43m \u001b[49m\u001b[43mp3\u001b[49m\u001b[38;5;241;43m=\u001b[39;49m\u001b[43mprecomps\u001b[49m\u001b[43m[\u001b[49m\u001b[38;5;241;43m3\u001b[39;49m\u001b[43m]\u001b[49m\u001b[43m[\u001b[49m\u001b[38;5;241;43m0\u001b[39;49m\u001b[43m]\u001b[49m\u001b[43m,\u001b[49m\u001b[43m \u001b[49m\u001b[43mp4\u001b[49m\u001b[38;5;241;43m=\u001b[39;49m\u001b[43mprecomps\u001b[49m\u001b[43m[\u001b[49m\u001b[38;5;241;43m4\u001b[39;49m\u001b[43m]\u001b[49m\u001b[43m[\u001b[49m\u001b[38;5;241;43m0\u001b[39;49m\u001b[43m]\u001b[49m\u001b[43m)\u001b[49m\u001b[43m,\u001b[49m\n\u001b[1;32m    259\u001b[0m \u001b[43m        \u001b[49m\u001b[43min_axes\u001b[49m\u001b[38;5;241;43m=\u001b[39;49m\u001b[43m(\u001b[49m\u001b[38;5;241;43m0\u001b[39;49m\u001b[43m,\u001b[49m\u001b[43m \u001b[49m\u001b[38;5;241;43m0\u001b[39;49m\u001b[43m,\u001b[49m\u001b[43m \u001b[49m\u001b[38;5;241;43m0\u001b[39;49m\u001b[43m,\u001b[49m\u001b[43m \u001b[49m\u001b[38;5;241;43m0\u001b[39;49m\u001b[43m)\u001b[49m\u001b[43m,\u001b[49m\n\u001b[1;32m    260\u001b[0m \u001b[43m    \u001b[49m\u001b[43m)\u001b[49m\u001b[43m(\u001b[49m\u001b[43mflmn\u001b[49m\u001b[43m[\u001b[49m\u001b[43mN\u001b[49m\u001b[43m \u001b[49m\u001b[38;5;241;43m-\u001b[39;49m\u001b[43m \u001b[49m\u001b[38;5;241;43m1\u001b[39;49m\u001b[43m \u001b[49m\u001b[38;5;241;43m+\u001b[39;49m\u001b[43m \u001b[49m\u001b[43mn_start_ind\u001b[49m\u001b[43m \u001b[49m\u001b[43m:\u001b[49m\u001b[43m]\u001b[49m\u001b[43m,\u001b[49m\u001b[43m \u001b[49m\u001b[43mspins\u001b[49m\u001b[43m,\u001b[49m\u001b[43m \u001b[49m\u001b[43mprecomps\u001b[49m\u001b[43m[\u001b[49m\u001b[38;5;241;43m0\u001b[39;49m\u001b[43m]\u001b[49m\u001b[43m,\u001b[49m\u001b[43m \u001b[49m\u001b[43mprecomps\u001b[49m\u001b[43m[\u001b[49m\u001b[38;5;241;43m1\u001b[39;49m\u001b[43m]\u001b[49m\u001b[43m)\u001b[49m\n\u001b[1;32m    261\u001b[0m )\n\u001b[1;32m    262\u001b[0m \u001b[38;5;28;01mif\u001b[39;00m reality:\n\u001b[1;32m    263\u001b[0m     f \u001b[38;5;241m=\u001b[39m jnp\u001b[38;5;241m.\u001b[39mfft\u001b[38;5;241m.\u001b[39mirfft(fban[N \u001b[38;5;241m-\u001b[39m \u001b[38;5;241m1\u001b[39m :], \u001b[38;5;241m2\u001b[39m \u001b[38;5;241m*\u001b[39m N \u001b[38;5;241m-\u001b[39m \u001b[38;5;241m1\u001b[39m, axis\u001b[38;5;241m=\u001b[39m\u001b[38;5;241m0\u001b[39m, norm\u001b[38;5;241m=\u001b[39m\u001b[38;5;124m\"\u001b[39m\u001b[38;5;124mforward\u001b[39m\u001b[38;5;124m\"\u001b[39m)\n",
      "    \u001b[0;31m[... skipping hidden 3 frame]\u001b[0m\n",
      "File \u001b[0;32m/Library/Frameworks/Python.framework/Versions/3.9/lib/python3.9/site-packages/s2fft/transforms/wigner.py:252\u001b[0m, in \u001b[0;36minverse_jax.<locals>.func\u001b[0;34m(flm, spin, p0, p1, p2, p3, p4)\u001b[0m\n\u001b[1;32m    250\u001b[0m \u001b[38;5;28;01mdef\u001b[39;00m \u001b[38;5;21mfunc\u001b[39m(flm, spin, p0, p1, p2, p3, p4):\n\u001b[1;32m    251\u001b[0m     precomps \u001b[38;5;241m=\u001b[39m [p0, p1, p2, p3, p4]\n\u001b[0;32m--> 252\u001b[0m     \u001b[38;5;28;01mreturn\u001b[39;00m (\u001b[38;5;241m-\u001b[39m\u001b[38;5;241m1\u001b[39m) \u001b[38;5;241m*\u001b[39m\u001b[38;5;241m*\u001b[39m jnp\u001b[38;5;241m.\u001b[39mabs(spin) \u001b[38;5;241m*\u001b[39m \u001b[43ms2fft\u001b[49m\u001b[38;5;241;43m.\u001b[39;49m\u001b[43minverse_jax\u001b[49m\u001b[43m(\u001b[49m\n\u001b[1;32m    253\u001b[0m \u001b[43m        \u001b[49m\u001b[43mflm\u001b[49m\u001b[43m,\u001b[49m\u001b[43m \u001b[49m\u001b[43mL\u001b[49m\u001b[43m,\u001b[49m\u001b[43m \u001b[49m\u001b[38;5;241;43m-\u001b[39;49m\u001b[43mspin\u001b[49m\u001b[43m,\u001b[49m\u001b[43m \u001b[49m\u001b[43mnside\u001b[49m\u001b[43m,\u001b[49m\u001b[43m \u001b[49m\u001b[43msampling\u001b[49m\u001b[43m,\u001b[49m\u001b[43m \u001b[49m\u001b[38;5;28;43;01mFalse\u001b[39;49;00m\u001b[43m,\u001b[49m\u001b[43m \u001b[49m\u001b[43mprecomps\u001b[49m\u001b[43m,\u001b[49m\u001b[43m \u001b[49m\u001b[38;5;28;43;01mFalse\u001b[39;49;00m\u001b[43m,\u001b[49m\u001b[43m \u001b[49m\u001b[43mL_lower\u001b[49m\n\u001b[1;32m    254\u001b[0m \u001b[43m    \u001b[49m\u001b[43m)\u001b[49m\n",
      "    \u001b[0;31m[... skipping hidden 11 frame]\u001b[0m\n",
      "File \u001b[0;32m/Library/Frameworks/Python.framework/Versions/3.9/lib/python3.9/site-packages/s2fft/transforms/spherical.py:319\u001b[0m, in \u001b[0;36minverse_jax\u001b[0;34m(flm, L, spin, nside, sampling, reality, precomps, spmd, L_lower)\u001b[0m\n\u001b[1;32m    315\u001b[0m     ftm \u001b[38;5;241m=\u001b[39m ftm\u001b[38;5;241m.\u001b[39mat[:, m_offset : L \u001b[38;5;241m-\u001b[39m \u001b[38;5;241m1\u001b[39m \u001b[38;5;241m+\u001b[39m m_offset]\u001b[38;5;241m.\u001b[39mset(\n\u001b[1;32m    316\u001b[0m         jnp\u001b[38;5;241m.\u001b[39mflip(jnp\u001b[38;5;241m.\u001b[39mconj(ftm[:, L \u001b[38;5;241m-\u001b[39m \u001b[38;5;241m1\u001b[39m \u001b[38;5;241m+\u001b[39m m_offset \u001b[38;5;241m+\u001b[39m \u001b[38;5;241m1\u001b[39m :]), axis\u001b[38;5;241m=\u001b[39m\u001b[38;5;241m-\u001b[39m\u001b[38;5;241m1\u001b[39m)\n\u001b[1;32m    317\u001b[0m     )\n\u001b[1;32m    318\u001b[0m \u001b[38;5;28;01mif\u001b[39;00m sampling\u001b[38;5;241m.\u001b[39mlower() \u001b[38;5;241m==\u001b[39m \u001b[38;5;124m\"\u001b[39m\u001b[38;5;124mhealpix\u001b[39m\u001b[38;5;124m\"\u001b[39m:\n\u001b[0;32m--> 319\u001b[0m     \u001b[38;5;28;01mreturn\u001b[39;00m \u001b[43mhp\u001b[49m\u001b[38;5;241;43m.\u001b[39;49m\u001b[43mhealpix_ifft\u001b[49m\u001b[43m(\u001b[49m\u001b[43mftm\u001b[49m\u001b[43m,\u001b[49m\u001b[43m \u001b[49m\u001b[43mL\u001b[49m\u001b[43m,\u001b[49m\u001b[43m \u001b[49m\u001b[43mnside\u001b[49m\u001b[43m,\u001b[49m\u001b[43m \u001b[49m\u001b[38;5;124;43m\"\u001b[39;49m\u001b[38;5;124;43mjax\u001b[39;49m\u001b[38;5;124;43m\"\u001b[39;49m\u001b[43m)\u001b[49m\n\u001b[1;32m    320\u001b[0m \u001b[38;5;28;01melse\u001b[39;00m:\n\u001b[1;32m    321\u001b[0m     ftm \u001b[38;5;241m=\u001b[39m jnp\u001b[38;5;241m.\u001b[39mconj(jnp\u001b[38;5;241m.\u001b[39mfft\u001b[38;5;241m.\u001b[39mifftshift(ftm, axes\u001b[38;5;241m=\u001b[39m\u001b[38;5;241m1\u001b[39m))\n",
      "File \u001b[0;32m/Library/Frameworks/Python.framework/Versions/3.9/lib/python3.9/site-packages/s2fft/utils/healpix_ffts.py:398\u001b[0m, in \u001b[0;36mhealpix_ifft\u001b[0;34m(ftm, L, nside, method, reality)\u001b[0m\n\u001b[1;32m    368\u001b[0m \u001b[38;5;28;01mdef\u001b[39;00m \u001b[38;5;21mhealpix_ifft\u001b[39m(\n\u001b[1;32m    369\u001b[0m     ftm: np\u001b[38;5;241m.\u001b[39mndarray,\n\u001b[1;32m    370\u001b[0m     L: \u001b[38;5;28mint\u001b[39m,\n\u001b[0;32m   (...)\u001b[0m\n\u001b[1;32m    373\u001b[0m     reality: \u001b[38;5;28mbool\u001b[39m \u001b[38;5;241m=\u001b[39m \u001b[38;5;28;01mFalse\u001b[39;00m,\n\u001b[1;32m    374\u001b[0m ) \u001b[38;5;241m-\u001b[39m\u001b[38;5;241m>\u001b[39m np\u001b[38;5;241m.\u001b[39mndarray:\n\u001b[1;32m    375\u001b[0m \u001b[38;5;250m    \u001b[39m\u001b[38;5;124;03m\"\"\"Wrapper function for the Inverse Fast Fourier Transform with spectral folding\u001b[39;00m\n\u001b[1;32m    376\u001b[0m \u001b[38;5;124;03m    in the polar regions to mitigate aliasing.\u001b[39;00m\n\u001b[1;32m    377\u001b[0m \n\u001b[0;32m   (...)\u001b[0m\n\u001b[1;32m    396\u001b[0m \u001b[38;5;124;03m        np.ndarray: HEALPix pixel-space array.\u001b[39;00m\n\u001b[1;32m    397\u001b[0m \u001b[38;5;124;03m    \"\"\"\u001b[39;00m\n\u001b[0;32m--> 398\u001b[0m     \u001b[38;5;28;01massert\u001b[39;00m L \u001b[38;5;241m>\u001b[39m\u001b[38;5;241m=\u001b[39m \u001b[38;5;241m2\u001b[39m \u001b[38;5;241m*\u001b[39m nside\n\u001b[1;32m    399\u001b[0m     \u001b[38;5;28;01mif\u001b[39;00m method\u001b[38;5;241m.\u001b[39mlower() \u001b[38;5;241m==\u001b[39m \u001b[38;5;124m\"\u001b[39m\u001b[38;5;124mnumpy\u001b[39m\u001b[38;5;124m\"\u001b[39m:\n\u001b[1;32m    400\u001b[0m         \u001b[38;5;28;01mreturn\u001b[39;00m healpix_ifft_numpy(ftm, L, nside, reality)\n",
      "\u001b[0;31mAssertionError\u001b[0m: "
     ]
    }
   ],
   "source": [
    "import jax\n",
    "jax.config.update(\"jax_enable_x64\", True)\n",
    "\n",
    "import s2wav       # Wavelet transforms on the sphere and rotation group\n",
    "import s2fft       # Spherical harmonic and Wigner transforms\n",
    "import numpy as np\n",
    "L = 8               # Spherical harmonic bandlimit\n",
    "N = 3                # Azimuthal (directional) bandlimit\n",
    "\n",
    "sampling = \"healpix\"\n",
    "nside = 4\n",
    "# Generate a random bandlimited signal to work with\n",
    "rng = np.random.default_rng(12346161)\n",
    "flm = s2fft.utils.signal_generator.generate_flm(rng, L)\n",
    "f = s2fft.inverse(flm, L, nside = nside, sampling = sampling)\n",
    "\n",
    "filter_bank = s2wav.filters.filters_directional_vectorised(L, N)\n",
    "# wavelet_coeffs, scaling_coeffs = s2wav.analysis(f, L, N, filters=filter_bank, use_c_backend=use_c_backend)\n",
    "wavelet_coeffs, scaling_coeffs = s2wav.analysis(f = f, L = L, N = N, filters=filter_bank, sampling = sampling, nside = nside)"
   ]
  },
  {
   "cell_type": "code",
   "execution_count": 15,
   "metadata": {},
   "outputs": [],
   "source": [
    "L = 16               # Spherical harmonic bandlimit\n",
    "N = 3                # Azimuthal (directional) bandlimit\n",
    "# sampling = \"mw\"      # Sampling scheme\n",
    "# use_c_backend = True # Switches backend JAX harmonic and Wigner transforms to call underlying SSHT C libraries.\n",
    "\n",
    "sampling = \"healpix\"\n",
    "nside = 4\n",
    "# Generate a random bandlimited signal to work with\n",
    "rng = np.random.default_rng(12346161)\n",
    "flm = s2fft.utils.signal_generator.generate_flm(rng, L)\n",
    "f = s2fft.inverse(flm, L, nside = nside, sampling = sampling)"
   ]
  },
  {
   "cell_type": "code",
   "execution_count": 7,
   "metadata": {},
   "outputs": [
    {
     "name": "stdout",
     "output_type": "stream",
     "text": [
      "(192,)\n"
     ]
    }
   ],
   "source": [
    "print(f.shape)"
   ]
  },
  {
   "cell_type": "markdown",
   "metadata": {},
   "source": [
    "We can calculate the wavelet and scaling coefficients by first building a bank of wavelet filters and the running the analysis transform"
   ]
  },
  {
   "cell_type": "code",
   "execution_count": 17,
   "metadata": {},
   "outputs": [
    {
     "ename": "AssertionError",
     "evalue": "",
     "output_type": "error",
     "traceback": [
      "\u001b[0;31m---------------------------------------------------------------------------\u001b[0m",
      "\u001b[0;31mAssertionError\u001b[0m                            Traceback (most recent call last)",
      "Cell \u001b[0;32mIn[17], line 5\u001b[0m\n\u001b[1;32m      3\u001b[0m filter_bank \u001b[38;5;241m=\u001b[39m s2wav\u001b[38;5;241m.\u001b[39mfilters\u001b[38;5;241m.\u001b[39mfilters_directional_vectorised(L, N)\n\u001b[1;32m      4\u001b[0m \u001b[38;5;66;03m# wavelet_coeffs, scaling_coeffs = s2wav.analysis(f, L, N, filters=filter_bank, use_c_backend=use_c_backend)\u001b[39;00m\n\u001b[0;32m----> 5\u001b[0m wavelet_coeffs, scaling_coeffs \u001b[38;5;241m=\u001b[39m \u001b[43ms2wav\u001b[49m\u001b[38;5;241;43m.\u001b[39;49m\u001b[43manalysis\u001b[49m\u001b[43m(\u001b[49m\u001b[43mf\u001b[49m\u001b[43m,\u001b[49m\u001b[43m \u001b[49m\u001b[43mL\u001b[49m\u001b[43m,\u001b[49m\u001b[43m \u001b[49m\u001b[43mN\u001b[49m\u001b[43m,\u001b[49m\u001b[43m \u001b[49m\u001b[43mfilters\u001b[49m\u001b[38;5;241;43m=\u001b[39;49m\u001b[43mfilter_bank\u001b[49m\u001b[43m,\u001b[49m\u001b[43m \u001b[49m\u001b[43msampling\u001b[49m\u001b[43m \u001b[49m\u001b[38;5;241;43m=\u001b[39;49m\u001b[43m \u001b[49m\u001b[43msampling\u001b[49m\u001b[43m,\u001b[49m\u001b[43m \u001b[49m\u001b[43mnside\u001b[49m\u001b[43m \u001b[49m\u001b[38;5;241;43m=\u001b[39;49m\u001b[43m \u001b[49m\u001b[43mnside\u001b[49m\u001b[43m)\u001b[49m\n",
      "    \u001b[0;31m[... skipping hidden 11 frame]\u001b[0m\n",
      "File \u001b[0;32m/Library/Frameworks/Python.framework/Versions/3.9/lib/python3.9/site-packages/s2wav/transforms/wavelet.py:189\u001b[0m, in \u001b[0;36manalysis\u001b[0;34m(f, L, N, J_min, lam, spin, sampling, nside, reality, filters, precomps)\u001b[0m\n\u001b[1;32m    174\u001b[0m     Lj, Nj, L0j \u001b[38;5;241m=\u001b[39m samples\u001b[38;5;241m.\u001b[39mLN_j(L, j, N, lam, \u001b[38;5;28;01mTrue\u001b[39;00m)\n\u001b[1;32m    175\u001b[0m     f_wav_lmn[j \u001b[38;5;241m-\u001b[39m J_min] \u001b[38;5;241m=\u001b[39m (\n\u001b[1;32m    176\u001b[0m         f_wav_lmn[j \u001b[38;5;241m-\u001b[39m J_min]\n\u001b[1;32m    177\u001b[0m         \u001b[38;5;241m.\u001b[39mat[::\u001b[38;5;241m2\u001b[39m, L0j:]\n\u001b[0;32m   (...)\u001b[0m\n\u001b[1;32m    185\u001b[0m         )\n\u001b[1;32m    186\u001b[0m     )\n\u001b[1;32m    188\u001b[0m     f_wav\u001b[38;5;241m.\u001b[39mappend(\n\u001b[0;32m--> 189\u001b[0m         \u001b[43ms2fft\u001b[49m\u001b[38;5;241;43m.\u001b[39;49m\u001b[43mwigner\u001b[49m\u001b[38;5;241;43m.\u001b[39;49m\u001b[43minverse_jax\u001b[49m\u001b[43m(\u001b[49m\n\u001b[1;32m    190\u001b[0m \u001b[43m            \u001b[49m\u001b[43mf_wav_lmn\u001b[49m\u001b[43m[\u001b[49m\u001b[43mj\u001b[49m\u001b[43m \u001b[49m\u001b[38;5;241;43m-\u001b[39;49m\u001b[43m \u001b[49m\u001b[43mJ_min\u001b[49m\u001b[43m]\u001b[49m\u001b[43m,\u001b[49m\n\u001b[1;32m    191\u001b[0m \u001b[43m            \u001b[49m\u001b[43mLj\u001b[49m\u001b[43m,\u001b[49m\n\u001b[1;32m    192\u001b[0m \u001b[43m            \u001b[49m\u001b[43mNj\u001b[49m\u001b[43m,\u001b[49m\n\u001b[1;32m    193\u001b[0m \u001b[43m            \u001b[49m\u001b[43mnside\u001b[49m\u001b[43m,\u001b[49m\n\u001b[1;32m    194\u001b[0m \u001b[43m            \u001b[49m\u001b[43msampling\u001b[49m\u001b[43m,\u001b[49m\n\u001b[1;32m    195\u001b[0m \u001b[43m            \u001b[49m\u001b[43mreality\u001b[49m\u001b[43m,\u001b[49m\n\u001b[1;32m    196\u001b[0m \u001b[43m            \u001b[49m\u001b[43mprecomps\u001b[49m\u001b[43m[\u001b[49m\u001b[43mj\u001b[49m\u001b[43m \u001b[49m\u001b[38;5;241;43m-\u001b[39;49m\u001b[43m \u001b[49m\u001b[43mJ_min\u001b[49m\u001b[43m]\u001b[49m\u001b[43m,\u001b[49m\n\u001b[1;32m    197\u001b[0m \u001b[43m            \u001b[49m\u001b[43mL0j\u001b[49m\u001b[43m,\u001b[49m\n\u001b[1;32m    198\u001b[0m \u001b[43m        \u001b[49m\u001b[43m)\u001b[49m\n\u001b[1;32m    199\u001b[0m     )\n\u001b[1;32m    201\u001b[0m \u001b[38;5;66;03m# Project all harmonic coefficients for each lm onto scaling coefficients\u001b[39;00m\n\u001b[1;32m    202\u001b[0m phi \u001b[38;5;241m=\u001b[39m filters[\u001b[38;5;241m1\u001b[39m][:Ls] \u001b[38;5;241m*\u001b[39m jnp\u001b[38;5;241m.\u001b[39msqrt(\u001b[38;5;241m4\u001b[39m \u001b[38;5;241m*\u001b[39m jnp\u001b[38;5;241m.\u001b[39mpi \u001b[38;5;241m/\u001b[39m (\u001b[38;5;241m2\u001b[39m \u001b[38;5;241m*\u001b[39m jnp\u001b[38;5;241m.\u001b[39marange(Ls) \u001b[38;5;241m+\u001b[39m \u001b[38;5;241m1\u001b[39m))\n",
      "    \u001b[0;31m[... skipping hidden 11 frame]\u001b[0m\n",
      "File \u001b[0;32m/Library/Frameworks/Python.framework/Versions/3.9/lib/python3.9/site-packages/s2fft/transforms/wigner.py:257\u001b[0m, in \u001b[0;36minverse_jax\u001b[0;34m(flmn, L, N, nside, sampling, reality, precomps, L_lower)\u001b[0m\n\u001b[1;32m    251\u001b[0m     precomps \u001b[38;5;241m=\u001b[39m [p0, p1, p2, p3, p4]\n\u001b[1;32m    252\u001b[0m     \u001b[38;5;28;01mreturn\u001b[39;00m (\u001b[38;5;241m-\u001b[39m\u001b[38;5;241m1\u001b[39m) \u001b[38;5;241m*\u001b[39m\u001b[38;5;241m*\u001b[39m jnp\u001b[38;5;241m.\u001b[39mabs(spin) \u001b[38;5;241m*\u001b[39m s2fft\u001b[38;5;241m.\u001b[39minverse_jax(\n\u001b[1;32m    253\u001b[0m         flm, L, \u001b[38;5;241m-\u001b[39mspin, nside, sampling, \u001b[38;5;28;01mFalse\u001b[39;00m, precomps, \u001b[38;5;28;01mFalse\u001b[39;00m, L_lower\n\u001b[1;32m    254\u001b[0m     )\n\u001b[1;32m    256\u001b[0m fban \u001b[38;5;241m=\u001b[39m fban\u001b[38;5;241m.\u001b[39mat[N \u001b[38;5;241m-\u001b[39m \u001b[38;5;241m1\u001b[39m \u001b[38;5;241m+\u001b[39m n_start_ind :]\u001b[38;5;241m.\u001b[39mset(\n\u001b[0;32m--> 257\u001b[0m     \u001b[43mvmap\u001b[49m\u001b[43m(\u001b[49m\n\u001b[1;32m    258\u001b[0m \u001b[43m        \u001b[49m\u001b[43mpartial\u001b[49m\u001b[43m(\u001b[49m\u001b[43mfunc\u001b[49m\u001b[43m,\u001b[49m\u001b[43m \u001b[49m\u001b[43mp2\u001b[49m\u001b[38;5;241;43m=\u001b[39;49m\u001b[43mprecomps\u001b[49m\u001b[43m[\u001b[49m\u001b[38;5;241;43m2\u001b[39;49m\u001b[43m]\u001b[49m\u001b[43m[\u001b[49m\u001b[38;5;241;43m0\u001b[39;49m\u001b[43m]\u001b[49m\u001b[43m,\u001b[49m\u001b[43m \u001b[49m\u001b[43mp3\u001b[49m\u001b[38;5;241;43m=\u001b[39;49m\u001b[43mprecomps\u001b[49m\u001b[43m[\u001b[49m\u001b[38;5;241;43m3\u001b[39;49m\u001b[43m]\u001b[49m\u001b[43m[\u001b[49m\u001b[38;5;241;43m0\u001b[39;49m\u001b[43m]\u001b[49m\u001b[43m,\u001b[49m\u001b[43m \u001b[49m\u001b[43mp4\u001b[49m\u001b[38;5;241;43m=\u001b[39;49m\u001b[43mprecomps\u001b[49m\u001b[43m[\u001b[49m\u001b[38;5;241;43m4\u001b[39;49m\u001b[43m]\u001b[49m\u001b[43m[\u001b[49m\u001b[38;5;241;43m0\u001b[39;49m\u001b[43m]\u001b[49m\u001b[43m)\u001b[49m\u001b[43m,\u001b[49m\n\u001b[1;32m    259\u001b[0m \u001b[43m        \u001b[49m\u001b[43min_axes\u001b[49m\u001b[38;5;241;43m=\u001b[39;49m\u001b[43m(\u001b[49m\u001b[38;5;241;43m0\u001b[39;49m\u001b[43m,\u001b[49m\u001b[43m \u001b[49m\u001b[38;5;241;43m0\u001b[39;49m\u001b[43m,\u001b[49m\u001b[43m \u001b[49m\u001b[38;5;241;43m0\u001b[39;49m\u001b[43m,\u001b[49m\u001b[43m \u001b[49m\u001b[38;5;241;43m0\u001b[39;49m\u001b[43m)\u001b[49m\u001b[43m,\u001b[49m\n\u001b[1;32m    260\u001b[0m \u001b[43m    \u001b[49m\u001b[43m)\u001b[49m\u001b[43m(\u001b[49m\u001b[43mflmn\u001b[49m\u001b[43m[\u001b[49m\u001b[43mN\u001b[49m\u001b[43m \u001b[49m\u001b[38;5;241;43m-\u001b[39;49m\u001b[43m \u001b[49m\u001b[38;5;241;43m1\u001b[39;49m\u001b[43m \u001b[49m\u001b[38;5;241;43m+\u001b[39;49m\u001b[43m \u001b[49m\u001b[43mn_start_ind\u001b[49m\u001b[43m \u001b[49m\u001b[43m:\u001b[49m\u001b[43m]\u001b[49m\u001b[43m,\u001b[49m\u001b[43m \u001b[49m\u001b[43mspins\u001b[49m\u001b[43m,\u001b[49m\u001b[43m \u001b[49m\u001b[43mprecomps\u001b[49m\u001b[43m[\u001b[49m\u001b[38;5;241;43m0\u001b[39;49m\u001b[43m]\u001b[49m\u001b[43m,\u001b[49m\u001b[43m \u001b[49m\u001b[43mprecomps\u001b[49m\u001b[43m[\u001b[49m\u001b[38;5;241;43m1\u001b[39;49m\u001b[43m]\u001b[49m\u001b[43m)\u001b[49m\n\u001b[1;32m    261\u001b[0m )\n\u001b[1;32m    262\u001b[0m \u001b[38;5;28;01mif\u001b[39;00m reality:\n\u001b[1;32m    263\u001b[0m     f \u001b[38;5;241m=\u001b[39m jnp\u001b[38;5;241m.\u001b[39mfft\u001b[38;5;241m.\u001b[39mirfft(fban[N \u001b[38;5;241m-\u001b[39m \u001b[38;5;241m1\u001b[39m :], \u001b[38;5;241m2\u001b[39m \u001b[38;5;241m*\u001b[39m N \u001b[38;5;241m-\u001b[39m \u001b[38;5;241m1\u001b[39m, axis\u001b[38;5;241m=\u001b[39m\u001b[38;5;241m0\u001b[39m, norm\u001b[38;5;241m=\u001b[39m\u001b[38;5;124m\"\u001b[39m\u001b[38;5;124mforward\u001b[39m\u001b[38;5;124m\"\u001b[39m)\n",
      "    \u001b[0;31m[... skipping hidden 3 frame]\u001b[0m\n",
      "File \u001b[0;32m/Library/Frameworks/Python.framework/Versions/3.9/lib/python3.9/site-packages/s2fft/transforms/wigner.py:252\u001b[0m, in \u001b[0;36minverse_jax.<locals>.func\u001b[0;34m(flm, spin, p0, p1, p2, p3, p4)\u001b[0m\n\u001b[1;32m    250\u001b[0m \u001b[38;5;28;01mdef\u001b[39;00m \u001b[38;5;21mfunc\u001b[39m(flm, spin, p0, p1, p2, p3, p4):\n\u001b[1;32m    251\u001b[0m     precomps \u001b[38;5;241m=\u001b[39m [p0, p1, p2, p3, p4]\n\u001b[0;32m--> 252\u001b[0m     \u001b[38;5;28;01mreturn\u001b[39;00m (\u001b[38;5;241m-\u001b[39m\u001b[38;5;241m1\u001b[39m) \u001b[38;5;241m*\u001b[39m\u001b[38;5;241m*\u001b[39m jnp\u001b[38;5;241m.\u001b[39mabs(spin) \u001b[38;5;241m*\u001b[39m \u001b[43ms2fft\u001b[49m\u001b[38;5;241;43m.\u001b[39;49m\u001b[43minverse_jax\u001b[49m\u001b[43m(\u001b[49m\n\u001b[1;32m    253\u001b[0m \u001b[43m        \u001b[49m\u001b[43mflm\u001b[49m\u001b[43m,\u001b[49m\u001b[43m \u001b[49m\u001b[43mL\u001b[49m\u001b[43m,\u001b[49m\u001b[43m \u001b[49m\u001b[38;5;241;43m-\u001b[39;49m\u001b[43mspin\u001b[49m\u001b[43m,\u001b[49m\u001b[43m \u001b[49m\u001b[43mnside\u001b[49m\u001b[43m,\u001b[49m\u001b[43m \u001b[49m\u001b[43msampling\u001b[49m\u001b[43m,\u001b[49m\u001b[43m \u001b[49m\u001b[38;5;28;43;01mFalse\u001b[39;49;00m\u001b[43m,\u001b[49m\u001b[43m \u001b[49m\u001b[43mprecomps\u001b[49m\u001b[43m,\u001b[49m\u001b[43m \u001b[49m\u001b[38;5;28;43;01mFalse\u001b[39;49;00m\u001b[43m,\u001b[49m\u001b[43m \u001b[49m\u001b[43mL_lower\u001b[49m\n\u001b[1;32m    254\u001b[0m \u001b[43m    \u001b[49m\u001b[43m)\u001b[49m\n",
      "    \u001b[0;31m[... skipping hidden 11 frame]\u001b[0m\n",
      "File \u001b[0;32m/Library/Frameworks/Python.framework/Versions/3.9/lib/python3.9/site-packages/s2fft/transforms/spherical.py:319\u001b[0m, in \u001b[0;36minverse_jax\u001b[0;34m(flm, L, spin, nside, sampling, reality, precomps, spmd, L_lower)\u001b[0m\n\u001b[1;32m    315\u001b[0m     ftm \u001b[38;5;241m=\u001b[39m ftm\u001b[38;5;241m.\u001b[39mat[:, m_offset : L \u001b[38;5;241m-\u001b[39m \u001b[38;5;241m1\u001b[39m \u001b[38;5;241m+\u001b[39m m_offset]\u001b[38;5;241m.\u001b[39mset(\n\u001b[1;32m    316\u001b[0m         jnp\u001b[38;5;241m.\u001b[39mflip(jnp\u001b[38;5;241m.\u001b[39mconj(ftm[:, L \u001b[38;5;241m-\u001b[39m \u001b[38;5;241m1\u001b[39m \u001b[38;5;241m+\u001b[39m m_offset \u001b[38;5;241m+\u001b[39m \u001b[38;5;241m1\u001b[39m :]), axis\u001b[38;5;241m=\u001b[39m\u001b[38;5;241m-\u001b[39m\u001b[38;5;241m1\u001b[39m)\n\u001b[1;32m    317\u001b[0m     )\n\u001b[1;32m    318\u001b[0m \u001b[38;5;28;01mif\u001b[39;00m sampling\u001b[38;5;241m.\u001b[39mlower() \u001b[38;5;241m==\u001b[39m \u001b[38;5;124m\"\u001b[39m\u001b[38;5;124mhealpix\u001b[39m\u001b[38;5;124m\"\u001b[39m:\n\u001b[0;32m--> 319\u001b[0m     \u001b[38;5;28;01mreturn\u001b[39;00m \u001b[43mhp\u001b[49m\u001b[38;5;241;43m.\u001b[39;49m\u001b[43mhealpix_ifft\u001b[49m\u001b[43m(\u001b[49m\u001b[43mftm\u001b[49m\u001b[43m,\u001b[49m\u001b[43m \u001b[49m\u001b[43mL\u001b[49m\u001b[43m,\u001b[49m\u001b[43m \u001b[49m\u001b[43mnside\u001b[49m\u001b[43m,\u001b[49m\u001b[43m \u001b[49m\u001b[38;5;124;43m\"\u001b[39;49m\u001b[38;5;124;43mjax\u001b[39;49m\u001b[38;5;124;43m\"\u001b[39;49m\u001b[43m)\u001b[49m\n\u001b[1;32m    320\u001b[0m \u001b[38;5;28;01melse\u001b[39;00m:\n\u001b[1;32m    321\u001b[0m     ftm \u001b[38;5;241m=\u001b[39m jnp\u001b[38;5;241m.\u001b[39mconj(jnp\u001b[38;5;241m.\u001b[39mfft\u001b[38;5;241m.\u001b[39mifftshift(ftm, axes\u001b[38;5;241m=\u001b[39m\u001b[38;5;241m1\u001b[39m))\n",
      "File \u001b[0;32m/Library/Frameworks/Python.framework/Versions/3.9/lib/python3.9/site-packages/s2fft/utils/healpix_ffts.py:398\u001b[0m, in \u001b[0;36mhealpix_ifft\u001b[0;34m(ftm, L, nside, method, reality)\u001b[0m\n\u001b[1;32m    368\u001b[0m \u001b[38;5;28;01mdef\u001b[39;00m \u001b[38;5;21mhealpix_ifft\u001b[39m(\n\u001b[1;32m    369\u001b[0m     ftm: np\u001b[38;5;241m.\u001b[39mndarray,\n\u001b[1;32m    370\u001b[0m     L: \u001b[38;5;28mint\u001b[39m,\n\u001b[0;32m   (...)\u001b[0m\n\u001b[1;32m    373\u001b[0m     reality: \u001b[38;5;28mbool\u001b[39m \u001b[38;5;241m=\u001b[39m \u001b[38;5;28;01mFalse\u001b[39;00m,\n\u001b[1;32m    374\u001b[0m ) \u001b[38;5;241m-\u001b[39m\u001b[38;5;241m>\u001b[39m np\u001b[38;5;241m.\u001b[39mndarray:\n\u001b[1;32m    375\u001b[0m \u001b[38;5;250m    \u001b[39m\u001b[38;5;124;03m\"\"\"Wrapper function for the Inverse Fast Fourier Transform with spectral folding\u001b[39;00m\n\u001b[1;32m    376\u001b[0m \u001b[38;5;124;03m    in the polar regions to mitigate aliasing.\u001b[39;00m\n\u001b[1;32m    377\u001b[0m \n\u001b[0;32m   (...)\u001b[0m\n\u001b[1;32m    396\u001b[0m \u001b[38;5;124;03m        np.ndarray: HEALPix pixel-space array.\u001b[39;00m\n\u001b[1;32m    397\u001b[0m \u001b[38;5;124;03m    \"\"\"\u001b[39;00m\n\u001b[0;32m--> 398\u001b[0m     \u001b[38;5;28;01massert\u001b[39;00m L \u001b[38;5;241m>\u001b[39m\u001b[38;5;241m=\u001b[39m \u001b[38;5;241m2\u001b[39m \u001b[38;5;241m*\u001b[39m nside\n\u001b[1;32m    399\u001b[0m     \u001b[38;5;28;01mif\u001b[39;00m method\u001b[38;5;241m.\u001b[39mlower() \u001b[38;5;241m==\u001b[39m \u001b[38;5;124m\"\u001b[39m\u001b[38;5;124mnumpy\u001b[39m\u001b[38;5;124m\"\u001b[39m:\n\u001b[1;32m    400\u001b[0m         \u001b[38;5;28;01mreturn\u001b[39;00m healpix_ifft_numpy(ftm, L, nside, reality)\n",
      "\u001b[0;31mAssertionError\u001b[0m: "
     ]
    }
   ],
   "source": [
    "sampling = \"healpix\"\n",
    "nside = 4\n",
    "filter_bank = s2wav.filters.filters_directional_vectorised(L, N)\n",
    "# wavelet_coeffs, scaling_coeffs = s2wav.analysis(f, L, N, filters=filter_bank, use_c_backend=use_c_backend)\n",
    "wavelet_coeffs, scaling_coeffs = s2wav.analysis(f, L, N, filters=filter_bank, sampling = sampling, nside = nside)"
   ]
  },
  {
   "cell_type": "code",
   "execution_count": 21,
   "metadata": {},
   "outputs": [],
   "source": [
    "# filter_bank"
   ]
  },
  {
   "cell_type": "markdown",
   "metadata": {},
   "source": [
    "You'll notice that this first pass is very slow. That's because it is JIT compiling the function, so future calls to `s2wav.analysis` will be much fater! When an exact sampling theorem is chosen we can recover the original signal to machine precision by running"
   ]
  },
  {
   "cell_type": "code",
   "execution_count": 22,
   "metadata": {},
   "outputs": [],
   "source": [
    "f_check = s2wav.synthesis(wavelet_coeffs, scaling_coeffs, L, N, filters=filter_bank)\n",
    "# f_check"
   ]
  },
  {
   "cell_type": "markdown",
   "metadata": {},
   "source": [
    "Again this first call is quite slow, but subsequent calls should be much faster. Lets double check that we actually got machine precision!"
   ]
  },
  {
   "cell_type": "code",
   "execution_count": 43,
   "metadata": {},
   "outputs": [
    {
     "name": "stdout",
     "output_type": "stream",
     "text": [
      "Mean absolute error = 2.04106194888797e-14\n"
     ]
    }
   ],
   "source": [
    "print(f\"Mean absolute error = {np.nanmean(np.abs(f_check - f))}\")"
   ]
  }
 ],
 "metadata": {
  "kernelspec": {
   "display_name": "Python 3.9.16 ('s2wav')",
   "language": "python",
   "name": "python3"
  },
  "language_info": {
   "codemirror_mode": {
    "name": "ipython",
    "version": 3
   },
   "file_extension": ".py",
   "mimetype": "text/x-python",
   "name": "python",
   "nbconvert_exporter": "python",
   "pygments_lexer": "ipython3",
   "version": "3.9.13"
  },
  "orig_nbformat": 4,
  "vscode": {
   "interpreter": {
    "hash": "2eaa51c34c6264c479aef01ba42a63404a2d0b54fbb558b3097eeea4996caab5"
   }
  }
 },
 "nbformat": 4,
 "nbformat_minor": 2
}
