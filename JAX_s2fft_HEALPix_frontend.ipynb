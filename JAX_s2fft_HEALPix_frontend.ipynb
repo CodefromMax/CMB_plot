{
 "cells": [
  {
   "cell_type": "markdown",
   "metadata": {},
   "source": [
    "# __JAX HEALPix frontend__\n",
    "---\n",
    "\n",
    "[![colab image](https://colab.research.google.com/assets/colab-badge.svg)](https://colab.research.google.com/github/astro-informatics/s2fft/blob/main/notebooks/JAX_HEALPix_frontend.ipynb)"
   ]
  },
  {
   "cell_type": "code",
   "execution_count": 1,
   "metadata": {},
   "outputs": [],
   "source": [
    "# import sys\n",
    "# IN_COLAB = 'google.colab' in sys.modules\n",
    "\n",
    "# # Install s2fft and data if running on google colab.\n",
    "# if IN_COLAB:\n",
    "#     !pip install s2fft &> /dev/null"
   ]
  },
  {
   "attachments": {},
   "cell_type": "markdown",
   "metadata": {},
   "source": [
    "This short tutorial demonstrates how to use the custom JAX frontend support `S2FFT` provides for the [`HEALPix`](https://healpix.jpl.nasa.gov) C++ library.  This solves the long JIT compile time for HEALPix when running on CPU.\n",
    "\n",
    "As with the other introductions, let's import some packages and define an arbitrary bandlimited signal to work with."
   ]
  },
  {
   "cell_type": "code",
   "execution_count": 10,
   "metadata": {},
   "outputs": [],
   "source": [
    "import jax\n",
    "jax.config.update(\"jax_enable_x64\", True)\n",
    "\n",
    "import numpy as np\n",
    "import s2fft \n",
    "\n",
    "L = 128\n",
    "nside = 64\n",
    "method = \"jax_healpy\"\n",
    "sampling = \"healpix\"\n",
    "rng = np.random.default_rng(23457801234570)\n",
    "# spherical harmonic coefficients (flm)\n",
    "flm = s2fft.utils.signal_generator.generate_flm(rng, L)\n",
    "f = s2fft.inverse(flm, L, nside=nside, sampling=sampling, method=method)"
   ]
  },
  {
   "cell_type": "code",
   "execution_count": 26,
   "metadata": {},
   "outputs": [
    {
     "data": {
      "text/plain": [
       "(100, 199)"
      ]
     },
     "execution_count": 26,
     "metadata": {},
     "output_type": "execute_result"
    }
   ],
   "source": [
    "flm.shape"
   ]
  },
  {
   "attachments": {},
   "cell_type": "markdown",
   "metadata": {},
   "source": [
    "### Calling forward HEALPix C++ function from JAX.\n",
    "\n",
    "---"
   ]
  },
  {
   "cell_type": "code",
   "execution_count": 11,
   "metadata": {},
   "outputs": [],
   "source": [
    "flm = s2fft.forward(f, L, nside=nside, sampling=sampling, method=method)"
   ]
  },
  {
   "attachments": {},
   "cell_type": "markdown",
   "metadata": {},
   "source": [
    "### Calling inverse HEALPix C++ function from JAX.\n",
    "\n",
    "---"
   ]
  },
  {
   "cell_type": "code",
   "execution_count": 12,
   "metadata": {},
   "outputs": [],
   "source": [
    "f_recov = s2fft.inverse(flm, L, nside=nside, sampling=sampling,  method=method)"
   ]
  },
  {
   "attachments": {},
   "cell_type": "markdown",
   "metadata": {},
   "source": [
    "### Computing the roundtrip error\n",
    "\n",
    "---\n",
    "\n",
    "Let's check the associated error, which should be around 1e-5 for healpix, which is not an exact sampling of the sphere. Note that increasing `iters` will reduce the numerical error here slightly, at the cost of linearly increased compute."
   ]
  },
  {
   "cell_type": "code",
   "execution_count": 6,
   "metadata": {},
   "outputs": [
    {
     "name": "stdout",
     "output_type": "stream",
     "text": [
      "Mean absolute error = 4.970630544067721e-05\n"
     ]
    }
   ],
   "source": [
    "print(f\"Mean absolute error = {np.nanmean(np.abs(f_recov - f))}\")"
   ]
  },
  {
   "cell_type": "markdown",
   "metadata": {},
   "source": [
    "### Differentiating through HEALPix C++ functions.\n",
    "\n",
    "---\n",
    "\n",
    "So far all this is doing is providing an interface between `JAX` and `HEALPix`, the real novelty comes when we differentiate through the C++ library."
   ]
  },
  {
   "cell_type": "code",
   "execution_count": 7,
   "metadata": {},
   "outputs": [],
   "source": [
    "# Define an arbitrary JAX function\n",
    "def differentiable_test(flm) -> int:\n",
    "    f = s2fft.inverse(flm, L, nside=nside, sampling=sampling, method=method)\n",
    "    return jax.numpy.nanmean(jax.numpy.abs(f)**2)\n",
    "\n",
    "# Create the JAX reverse mode gradient function\n",
    "gradient_func = jax.grad(differentiable_test)\n",
    "\n",
    "# Compute the gradient automatically\n",
    "gradient = gradient_func(flm)"
   ]
  },
  {
   "cell_type": "markdown",
   "metadata": {},
   "source": [
    "### Validating these gradients\n",
    "\n",
    "---\n",
    "This is all well and good, but how do we know these gradients are correct? Thankfully `JAX` prvoides a simple function to check this..."
   ]
  },
  {
   "cell_type": "code",
   "execution_count": 9,
   "metadata": {},
   "outputs": [
    {
     "name": "stdout",
     "output_type": "stream",
     "text": [
      "None\n"
     ]
    }
   ],
   "source": [
    "from jax.test_util import check_grads\n",
    "check_grads(differentiable_test, (flm,), order=1, modes=(\"rev\"))\n",
    "\n"
   ]
  },
  {
   "cell_type": "code",
   "execution_count": 2,
   "metadata": {},
   "outputs": [],
   "source": [
    "import numpy as np\n",
    "import pandas as pd\n",
    "import matplotlib.pyplot as plt\n",
    "%matplotlib inline \n",
    "#show graph inside the notebook\n",
    "\n",
    "\n",
    "# Make sure we configure 64 bit precision. \n",
    "# 32 bit can be faster but you will be (potentially much) less precise.\n",
    "import jax\n",
    "jax.config.update(\"jax_enable_x64\", True)\n",
    "import jax.numpy as jnp\n",
    "\n",
    "import healpy as hp\n",
    "import s2wav       # Wavelet transforms on the sphere and rotation group\n",
    "import s2fft       # Spherical harmonic and Wigner transforms\n",
    "PLA_Data = pd.read_csv(\"data/planck_simulation/PLA-Results.csv\")\n",
    "\n",
    "# Store the names of the datasets into PLA_Data_List\n",
    "PLA_Data_List = PLA_Data['SIMULATED_MAP.FILE_ID'].to_list()\n",
    "\n",
    "\n",
    "\n",
    "# Initialize PLA_Data_Dict : (key:frequnecy, value: [csv path])\n",
    "PLA_Data_Dict = dict()\n",
    "for each_csv_path in PLA_Data_List:\n",
    "    PLA_Data_Dict[each_csv_path[20:23]] = [\"data/planck_simulation/\"+each_csv_path]\n",
    "# display(PLA_Data_Dict)\n",
    "\n",
    "# Read the CMB datasets and store them inside the PLA_Data_Dict\n",
    "# Update PLA_Data_Dict : (key:frequnecy, value: [csv path, hp map dat ])\n",
    " \n",
    "for frequency, storage_list in PLA_Data_Dict.items():\n",
    "    storage_list.append(hp.read_map(storage_list[0], dtype=jnp.float64))\n",
    "# display(PLA_Data_Dict)\n",
    "\n",
    "# Convert the unit from unitMJy/steradian to K_CMB\n",
    "# Source: https://wiki.cosmos.esa.int/planckpla2015/index.php/UC_CC_Tables\n",
    "\n",
    "PLA_Data_Dict[\"545\"][1] = PLA_Data_Dict[\"545\"][1]/58.0356\n",
    "PLA_Data_Dict[\"857\"][1] = PLA_Data_Dict[\"857\"][1]/2.2681\n",
    "# PLA_Data_Dict[\"857\"][1]"
   ]
  },
  {
   "cell_type": "code",
   "execution_count": 15,
   "metadata": {},
   "outputs": [],
   "source": [
    "L = 3998\n",
    "nside = 1024\n",
    "method = \"jax_healpy\"\n",
    "sampling = \"healpix\"\n",
    "\n",
    "# rng = np.random.default_rng(23457801234570)\n",
    "# # spherical harmonic coefficients (flm)\n",
    "# flm = s2fft.utils.signal_generator.generate_flm(rng, L)\n",
    "# f = s2fft.inverse(flm, L, nside=nside, sampling=sampling, method=method)"
   ]
  },
  {
   "cell_type": "code",
   "execution_count": 1,
   "metadata": {},
   "outputs": [
    {
     "ename": "NameError",
     "evalue": "name 'hp' is not defined",
     "output_type": "error",
     "traceback": [
      "\u001b[0;31m---------------------------------------------------------------------------\u001b[0m",
      "\u001b[0;31mNameError\u001b[0m                                 Traceback (most recent call last)",
      "Cell \u001b[0;32mIn[1], line 3\u001b[0m\n\u001b[1;32m      1\u001b[0m \u001b[38;5;66;03m# Perform spherical harmonic analysis\u001b[39;00m\n\u001b[1;32m      2\u001b[0m lmax \u001b[38;5;241m=\u001b[39m \u001b[38;5;241m100\u001b[39m  \u001b[38;5;66;03m# Maximum degree of spherical harmonics\u001b[39;00m\n\u001b[0;32m----> 3\u001b[0m nside \u001b[38;5;241m=\u001b[39m \u001b[43mhp\u001b[49m\u001b[38;5;241m.\u001b[39mget_nside(PLA_Data_Dict[\u001b[38;5;124m\"\u001b[39m\u001b[38;5;124m030\u001b[39m\u001b[38;5;124m\"\u001b[39m][\u001b[38;5;241m1\u001b[39m])  \u001b[38;5;66;03m# Resolution of HEALPix grid\u001b[39;00m\n\u001b[1;32m      4\u001b[0m \u001b[38;5;66;03m# map2alm function computes the spherical harmonic coefficients\u001b[39;00m\n\u001b[1;32m      5\u001b[0m alm \u001b[38;5;241m=\u001b[39m hp\u001b[38;5;241m.\u001b[39mmap2alm(PLA_Data_Dict[\u001b[38;5;124m\"\u001b[39m\u001b[38;5;124m030\u001b[39m\u001b[38;5;124m\"\u001b[39m][\u001b[38;5;241m1\u001b[39m], lmax\u001b[38;5;241m=\u001b[39mlmax)\n",
      "\u001b[0;31mNameError\u001b[0m: name 'hp' is not defined"
     ]
    }
   ],
   "source": [
    "\n",
    "# Perform spherical harmonic analysis\n",
    "lmax = 100  # Maximum degree of spherical harmonics\n",
    "nside = hp.get_nside(PLA_Data_Dict[\"030\"][1])  # Resolution of HEALPix grid\n",
    "# map2alm function computes the spherical harmonic coefficients\n",
    "alm = hp.map2alm(PLA_Data_Dict[\"030\"][1], lmax=lmax)\n",
    "method = \"jax_healpy\"\n",
    "sampling = \"healpix\"\n",
    "f = s2fft.inverse(alm, lmax, nside=nside, sampling=sampling, method=method)"
   ]
  },
  {
   "cell_type": "code",
   "execution_count": 22,
   "metadata": {},
   "outputs": [
    {
     "data": {
      "text/plain": [
       "(12582912,)"
      ]
     },
     "execution_count": 22,
     "metadata": {},
     "output_type": "execute_result"
    }
   ],
   "source": [
    "f.shape"
   ]
  },
  {
   "cell_type": "code",
   "execution_count": 18,
   "metadata": {},
   "outputs": [],
   "source": [
    "f = PLA_Data_Dict[\"030\"][1]"
   ]
  },
  {
   "cell_type": "code",
   "execution_count": 27,
   "metadata": {},
   "outputs": [
    {
     "data": {
      "text/plain": [
       "(5151,)"
      ]
     },
     "execution_count": 27,
     "metadata": {},
     "output_type": "execute_result"
    }
   ],
   "source": [
    "alm.shape"
   ]
  },
  {
   "cell_type": "code",
   "execution_count": 23,
   "metadata": {},
   "outputs": [
    {
     "data": {
      "text/plain": [
       "(100, 199)"
      ]
     },
     "execution_count": 23,
     "metadata": {},
     "output_type": "execute_result"
    }
   ],
   "source": [
    "flm = s2fft.forward(PLA_Data_Dict[\"030\"][1], lmax, nside=nside, sampling=sampling, method=method)\n",
    "flm.shape"
   ]
  },
  {
   "cell_type": "code",
   "execution_count": 29,
   "metadata": {},
   "outputs": [
    {
     "data": {
      "text/plain": [
       "Array([ 0.00000000e+00+0.0000000e+00j,  0.00000000e+00+0.0000000e+00j,\n",
       "        0.00000000e+00+0.0000000e+00j,  0.00000000e+00+0.0000000e+00j,\n",
       "        0.00000000e+00+0.0000000e+00j,  0.00000000e+00+0.0000000e+00j,\n",
       "        0.00000000e+00+0.0000000e+00j,  0.00000000e+00+0.0000000e+00j,\n",
       "        0.00000000e+00+0.0000000e+00j,  0.00000000e+00+0.0000000e+00j,\n",
       "        0.00000000e+00+0.0000000e+00j,  0.00000000e+00+0.0000000e+00j,\n",
       "        0.00000000e+00+0.0000000e+00j,  0.00000000e+00+0.0000000e+00j,\n",
       "        0.00000000e+00+0.0000000e+00j,  0.00000000e+00+0.0000000e+00j,\n",
       "        0.00000000e+00+0.0000000e+00j,  0.00000000e+00+0.0000000e+00j,\n",
       "        0.00000000e+00+0.0000000e+00j,  0.00000000e+00+0.0000000e+00j,\n",
       "        0.00000000e+00+0.0000000e+00j,  0.00000000e+00+0.0000000e+00j,\n",
       "        0.00000000e+00+0.0000000e+00j,  0.00000000e+00+0.0000000e+00j,\n",
       "        0.00000000e+00+0.0000000e+00j,  0.00000000e+00+0.0000000e+00j,\n",
       "        0.00000000e+00+0.0000000e+00j,  0.00000000e+00+0.0000000e+00j,\n",
       "        0.00000000e+00+0.0000000e+00j,  0.00000000e+00+0.0000000e+00j,\n",
       "        0.00000000e+00+0.0000000e+00j,  0.00000000e+00+0.0000000e+00j,\n",
       "        0.00000000e+00+0.0000000e+00j,  0.00000000e+00+0.0000000e+00j,\n",
       "        0.00000000e+00+0.0000000e+00j,  0.00000000e+00+0.0000000e+00j,\n",
       "        0.00000000e+00+0.0000000e+00j,  0.00000000e+00+0.0000000e+00j,\n",
       "        0.00000000e+00+0.0000000e+00j,  0.00000000e+00+0.0000000e+00j,\n",
       "        0.00000000e+00+0.0000000e+00j,  0.00000000e+00+0.0000000e+00j,\n",
       "        0.00000000e+00+0.0000000e+00j,  0.00000000e+00+0.0000000e+00j,\n",
       "        0.00000000e+00+0.0000000e+00j,  0.00000000e+00+0.0000000e+00j,\n",
       "        0.00000000e+00+0.0000000e+00j,  0.00000000e+00+0.0000000e+00j,\n",
       "        0.00000000e+00+0.0000000e+00j,  0.00000000e+00+0.0000000e+00j,\n",
       "        0.00000000e+00+0.0000000e+00j,  0.00000000e+00+0.0000000e+00j,\n",
       "        0.00000000e+00+0.0000000e+00j,  0.00000000e+00+0.0000000e+00j,\n",
       "        0.00000000e+00+0.0000000e+00j,  0.00000000e+00+0.0000000e+00j,\n",
       "        0.00000000e+00+0.0000000e+00j,  0.00000000e+00+0.0000000e+00j,\n",
       "        0.00000000e+00+0.0000000e+00j,  0.00000000e+00+0.0000000e+00j,\n",
       "        0.00000000e+00+0.0000000e+00j,  0.00000000e+00+0.0000000e+00j,\n",
       "        0.00000000e+00+0.0000000e+00j,  0.00000000e+00+0.0000000e+00j,\n",
       "        0.00000000e+00+0.0000000e+00j,  0.00000000e+00+0.0000000e+00j,\n",
       "        0.00000000e+00+0.0000000e+00j,  0.00000000e+00+0.0000000e+00j,\n",
       "        0.00000000e+00+0.0000000e+00j,  0.00000000e+00+0.0000000e+00j,\n",
       "        0.00000000e+00+0.0000000e+00j,  0.00000000e+00+0.0000000e+00j,\n",
       "        0.00000000e+00+0.0000000e+00j,  0.00000000e+00+0.0000000e+00j,\n",
       "        0.00000000e+00+0.0000000e+00j,  0.00000000e+00+0.0000000e+00j,\n",
       "        0.00000000e+00+0.0000000e+00j,  0.00000000e+00+0.0000000e+00j,\n",
       "        0.00000000e+00+0.0000000e+00j,  0.00000000e+00+0.0000000e+00j,\n",
       "        0.00000000e+00+0.0000000e+00j,  0.00000000e+00+0.0000000e+00j,\n",
       "        0.00000000e+00+0.0000000e+00j,  0.00000000e+00+0.0000000e+00j,\n",
       "        0.00000000e+00+0.0000000e+00j,  0.00000000e+00+0.0000000e+00j,\n",
       "        0.00000000e+00+0.0000000e+00j,  0.00000000e+00+0.0000000e+00j,\n",
       "        0.00000000e+00+0.0000000e+00j,  0.00000000e+00+0.0000000e+00j,\n",
       "        0.00000000e+00+0.0000000e+00j,  0.00000000e+00+0.0000000e+00j,\n",
       "        0.00000000e+00+0.0000000e+00j,  0.00000000e+00+0.0000000e+00j,\n",
       "        0.00000000e+00+0.0000000e+00j,  0.00000000e+00+0.0000000e+00j,\n",
       "        0.00000000e+00+0.0000000e+00j,  0.00000000e+00+0.0000000e+00j,\n",
       "        6.15657722e-04+3.2591868e-05j, -1.29597559e-05+0.0000000e+00j,\n",
       "       -6.15657722e-04+3.2591868e-05j,  0.00000000e+00+0.0000000e+00j,\n",
       "        0.00000000e+00+0.0000000e+00j,  0.00000000e+00+0.0000000e+00j,\n",
       "        0.00000000e+00+0.0000000e+00j,  0.00000000e+00+0.0000000e+00j,\n",
       "        0.00000000e+00+0.0000000e+00j,  0.00000000e+00+0.0000000e+00j,\n",
       "        0.00000000e+00+0.0000000e+00j,  0.00000000e+00+0.0000000e+00j,\n",
       "        0.00000000e+00+0.0000000e+00j,  0.00000000e+00+0.0000000e+00j,\n",
       "        0.00000000e+00+0.0000000e+00j,  0.00000000e+00+0.0000000e+00j,\n",
       "        0.00000000e+00+0.0000000e+00j,  0.00000000e+00+0.0000000e+00j,\n",
       "        0.00000000e+00+0.0000000e+00j,  0.00000000e+00+0.0000000e+00j,\n",
       "        0.00000000e+00+0.0000000e+00j,  0.00000000e+00+0.0000000e+00j,\n",
       "        0.00000000e+00+0.0000000e+00j,  0.00000000e+00+0.0000000e+00j,\n",
       "        0.00000000e+00+0.0000000e+00j,  0.00000000e+00+0.0000000e+00j,\n",
       "        0.00000000e+00+0.0000000e+00j,  0.00000000e+00+0.0000000e+00j,\n",
       "        0.00000000e+00+0.0000000e+00j,  0.00000000e+00+0.0000000e+00j,\n",
       "        0.00000000e+00+0.0000000e+00j,  0.00000000e+00+0.0000000e+00j,\n",
       "        0.00000000e+00+0.0000000e+00j,  0.00000000e+00+0.0000000e+00j,\n",
       "        0.00000000e+00+0.0000000e+00j,  0.00000000e+00+0.0000000e+00j,\n",
       "        0.00000000e+00+0.0000000e+00j,  0.00000000e+00+0.0000000e+00j,\n",
       "        0.00000000e+00+0.0000000e+00j,  0.00000000e+00+0.0000000e+00j,\n",
       "        0.00000000e+00+0.0000000e+00j,  0.00000000e+00+0.0000000e+00j,\n",
       "        0.00000000e+00+0.0000000e+00j,  0.00000000e+00+0.0000000e+00j,\n",
       "        0.00000000e+00+0.0000000e+00j,  0.00000000e+00+0.0000000e+00j,\n",
       "        0.00000000e+00+0.0000000e+00j,  0.00000000e+00+0.0000000e+00j,\n",
       "        0.00000000e+00+0.0000000e+00j,  0.00000000e+00+0.0000000e+00j,\n",
       "        0.00000000e+00+0.0000000e+00j,  0.00000000e+00+0.0000000e+00j,\n",
       "        0.00000000e+00+0.0000000e+00j,  0.00000000e+00+0.0000000e+00j,\n",
       "        0.00000000e+00+0.0000000e+00j,  0.00000000e+00+0.0000000e+00j,\n",
       "        0.00000000e+00+0.0000000e+00j,  0.00000000e+00+0.0000000e+00j,\n",
       "        0.00000000e+00+0.0000000e+00j,  0.00000000e+00+0.0000000e+00j,\n",
       "        0.00000000e+00+0.0000000e+00j,  0.00000000e+00+0.0000000e+00j,\n",
       "        0.00000000e+00+0.0000000e+00j,  0.00000000e+00+0.0000000e+00j,\n",
       "        0.00000000e+00+0.0000000e+00j,  0.00000000e+00+0.0000000e+00j,\n",
       "        0.00000000e+00+0.0000000e+00j,  0.00000000e+00+0.0000000e+00j,\n",
       "        0.00000000e+00+0.0000000e+00j,  0.00000000e+00+0.0000000e+00j,\n",
       "        0.00000000e+00+0.0000000e+00j,  0.00000000e+00+0.0000000e+00j,\n",
       "        0.00000000e+00+0.0000000e+00j,  0.00000000e+00+0.0000000e+00j,\n",
       "        0.00000000e+00+0.0000000e+00j,  0.00000000e+00+0.0000000e+00j,\n",
       "        0.00000000e+00+0.0000000e+00j,  0.00000000e+00+0.0000000e+00j,\n",
       "        0.00000000e+00+0.0000000e+00j,  0.00000000e+00+0.0000000e+00j,\n",
       "        0.00000000e+00+0.0000000e+00j,  0.00000000e+00+0.0000000e+00j,\n",
       "        0.00000000e+00+0.0000000e+00j,  0.00000000e+00+0.0000000e+00j,\n",
       "        0.00000000e+00+0.0000000e+00j,  0.00000000e+00+0.0000000e+00j,\n",
       "        0.00000000e+00+0.0000000e+00j,  0.00000000e+00+0.0000000e+00j,\n",
       "        0.00000000e+00+0.0000000e+00j,  0.00000000e+00+0.0000000e+00j,\n",
       "        0.00000000e+00+0.0000000e+00j,  0.00000000e+00+0.0000000e+00j,\n",
       "        0.00000000e+00+0.0000000e+00j,  0.00000000e+00+0.0000000e+00j,\n",
       "        0.00000000e+00+0.0000000e+00j,  0.00000000e+00+0.0000000e+00j,\n",
       "        0.00000000e+00+0.0000000e+00j,  0.00000000e+00+0.0000000e+00j,\n",
       "        0.00000000e+00+0.0000000e+00j,  0.00000000e+00+0.0000000e+00j,\n",
       "        0.00000000e+00+0.0000000e+00j], dtype=complex128)"
      ]
     },
     "execution_count": 29,
     "metadata": {},
     "output_type": "execute_result"
    }
   ],
   "source": [
    "flm[1]"
   ]
  },
  {
   "cell_type": "code",
   "execution_count": 24,
   "metadata": {},
   "outputs": [
    {
     "data": {
      "text/plain": [
       "(12582912,)"
      ]
     },
     "execution_count": 24,
     "metadata": {},
     "output_type": "execute_result"
    }
   ],
   "source": [
    "f_recov = s2fft.inverse(flm, lmax, nside=nside, sampling=sampling,  method=method)\n",
    "f_recov.shape"
   ]
  },
  {
   "cell_type": "code",
   "execution_count": 21,
   "metadata": {},
   "outputs": [
    {
     "name": "stdout",
     "output_type": "stream",
     "text": [
      "Mean absolute error = 0.00022402470120383457\n"
     ]
    }
   ],
   "source": [
    "print(f\"Mean absolute error = {np.nanmean(np.abs(f_recov - f))}\")"
   ]
  }
 ],
 "metadata": {
  "kernelspec": {
   "display_name": "Python 3.10.4 ('s2fft')",
   "language": "python",
   "name": "python3"
  },
  "language_info": {
   "codemirror_mode": {
    "name": "ipython",
    "version": 3
   },
   "file_extension": ".py",
   "mimetype": "text/x-python",
   "name": "python",
   "nbconvert_exporter": "python",
   "pygments_lexer": "ipython3",
   "version": "3.9.13"
  },
  "orig_nbformat": 4,
  "vscode": {
   "interpreter": {
    "hash": "3425e24474cbe920550266ea26b478634978cc419579f9dbcf479231067df6a3"
   }
  }
 },
 "nbformat": 4,
 "nbformat_minor": 2
}
