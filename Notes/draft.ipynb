{
 "cells": [
  {
   "cell_type": "code",
   "execution_count": null,
   "metadata": {},
   "outputs": [],
   "source": [
    "# draft\n",
    "\n",
    "# PLA_CMB = PLA_Data_Dict[frequency][1]*n\n",
    "#     # PLA_CMB = hp.anafast(PLA_Data_Dict[frequency][1],lmax=3998)\n",
    "#     hp.projview(\n",
    "#     PLA_CMB,\n",
    "#     coord=[\"G\"],\n",
    "#     # cmap=\"planck\",\n",
    "#     graticule=True,\n",
    "#     graticule_labels=True,\n",
    "#     unit=r\"$\\mu$K\",\n",
    "#     xlabel=\"longitude\",\n",
    "#     ylabel=\"latitude\",\n",
    "#     # cb_orientation=\"vertical\",\n",
    "#     projection_type=\"mollweide\",\n",
    "#     min=-300,\n",
    "#     max=300,\n",
    "#     sub=(3, 3, i)\n",
    "# )"
   ]
  },
  {
   "cell_type": "markdown",
   "metadata": {},
   "source": [
    "format = '4096E': This specifies the format of the data. In this case, '4096E' indicates that the data is stored as a sequence of 4096 floating-point numbers (E stands for \"float\" or \"scientific notation\"). Each number represents a temperature value in Kelvin (K_CMB)."
   ]
  },
  {
   "cell_type": "code",
   "execution_count": 7,
   "metadata": {},
   "outputs": [
    {
     "name": "stdout",
     "output_type": "stream",
     "text": [
      "['data/planck_simulation/ffp10_newdust_total_030_full_map.fits']\n"
     ]
    },
    {
     "data": {
      "text/plain": [
       "[name = 'TEMPERATURE'; format = '4096E'; unit = 'K_CMB',\n",
       " name = 'Q-POLARISATION'; format = '4096E'; unit = 'K_CMB',\n",
       " name = 'U-POLARISATION'; format = '4096E'; unit = 'K_CMB']"
      ]
     },
     "metadata": {},
     "output_type": "display_data"
    },
    {
     "name": "stdout",
     "output_type": "stream",
     "text": [
      "['data/planck_simulation/ffp10_newdust_total_044_full_map.fits']\n"
     ]
    },
    {
     "data": {
      "text/plain": [
       "[name = 'TEMPERATURE'; format = '4096E'; unit = 'K_CMB',\n",
       " name = 'Q-POLARISATION'; format = '4096E'; unit = 'K_CMB',\n",
       " name = 'U-POLARISATION'; format = '4096E'; unit = 'K_CMB']"
      ]
     },
     "metadata": {},
     "output_type": "display_data"
    },
    {
     "name": "stdout",
     "output_type": "stream",
     "text": [
      "['data/planck_simulation/ffp10_newdust_total_070_full_map.fits']\n"
     ]
    },
    {
     "data": {
      "text/plain": [
       "[name = 'TEMPERATURE'; format = '4096E'; unit = 'K_CMB',\n",
       " name = 'Q-POLARISATION'; format = '4096E'; unit = 'K_CMB',\n",
       " name = 'U-POLARISATION'; format = '4096E'; unit = 'K_CMB']"
      ]
     },
     "metadata": {},
     "output_type": "display_data"
    },
    {
     "name": "stdout",
     "output_type": "stream",
     "text": [
      "['data/planck_simulation/ffp10_newdust_total_100_full_map.fits']\n"
     ]
    },
    {
     "data": {
      "text/plain": [
       "[name = 'TEMPERATURE'; format = '1024E'; unit = 'K_CMB',\n",
       " name = 'Q_POLARISATION'; format = '1024E'; unit = 'K_CMB',\n",
       " name = 'U_POLARISATION'; format = '1024E'; unit = 'K_CMB']"
      ]
     },
     "metadata": {},
     "output_type": "display_data"
    },
    {
     "name": "stdout",
     "output_type": "stream",
     "text": [
      "['data/planck_simulation/ffp10_newdust_total_143_full_map.fits']\n"
     ]
    },
    {
     "data": {
      "text/plain": [
       "[name = 'TEMPERATURE'; format = '1024E'; unit = 'K_CMB',\n",
       " name = 'Q_POLARISATION'; format = '1024E'; unit = 'K_CMB',\n",
       " name = 'U_POLARISATION'; format = '1024E'; unit = 'K_CMB']"
      ]
     },
     "metadata": {},
     "output_type": "display_data"
    },
    {
     "name": "stdout",
     "output_type": "stream",
     "text": [
      "['data/planck_simulation/ffp10_newdust_total_217_full_map.fits']\n"
     ]
    },
    {
     "data": {
      "text/plain": [
       "[name = 'TEMPERATURE'; format = '1024E'; unit = 'K_CMB',\n",
       " name = 'Q_POLARISATION'; format = '1024E'; unit = 'K_CMB',\n",
       " name = 'U_POLARISATION'; format = '1024E'; unit = 'K_CMB']"
      ]
     },
     "metadata": {},
     "output_type": "display_data"
    },
    {
     "name": "stdout",
     "output_type": "stream",
     "text": [
      "['data/planck_simulation/ffp10_newdust_total_353_full_map.fits']\n"
     ]
    },
    {
     "data": {
      "text/plain": [
       "[name = 'TEMPERATURE'; format = '1024E'; unit = 'K_CMB',\n",
       " name = 'Q_POLARISATION'; format = '1024E'; unit = 'K_CMB',\n",
       " name = 'U_POLARISATION'; format = '1024E'; unit = 'K_CMB']"
      ]
     },
     "metadata": {},
     "output_type": "display_data"
    },
    {
     "name": "stdout",
     "output_type": "stream",
     "text": [
      "['data/planck_simulation/ffp10_newdust_total_545_full_map.fits']\n"
     ]
    },
    {
     "data": {
      "text/plain": [
       "[name = 'UNKNOWN1'; format = '1024E'; unit = 'MJK_STR']"
      ]
     },
     "metadata": {},
     "output_type": "display_data"
    },
    {
     "name": "stdout",
     "output_type": "stream",
     "text": [
      "['data/planck_simulation/ffp10_newdust_total_857_full_map.fits']\n"
     ]
    },
    {
     "data": {
      "text/plain": [
       "[name = 'UNKNOWN1'; format = '1024E'; unit = 'MJK_STR']"
      ]
     },
     "metadata": {},
     "output_type": "display_data"
    }
   ],
   "source": [
    "# https://learn.astropy.org/tutorials/FITS-tables.html\n",
    "\n",
    "# get unit data from fits file \n",
    "import numpy as np\n",
    "from astropy.io import fits\n",
    "from astropy.table import Table\n",
    "from matplotlib.colors import LogNorm\n",
    "import pandas as pd\n",
    "\n",
    "# Set up matplotlib\n",
    "import matplotlib.pyplot as plt\n",
    "%matplotlib inline\n",
    "\n",
    "\n",
    "# Open the FITS file\n",
    "PLA_Data = pd.read_csv(\"data/planck_simulation/PLA-Results.csv\")\n",
    "\n",
    "# Store the names of the datasets into PLA_Data_List\n",
    "PLA_Data_List = PLA_Data['SIMULATED_MAP.FILE_ID'].to_list()\n",
    "\n",
    "\n",
    "# Initialize PLA_Data_Dict : (key:frequnecy, value: [csv path])\n",
    "PLA_Data_Dict = dict()\n",
    "for each_csv_path in PLA_Data_List:\n",
    "    PLA_Data_Dict[each_csv_path[20:23]] = [\"data/planck_simulation/\"+each_csv_path]\n",
    "# display(PLA_Data_Dict)\n",
    "for path in PLA_Data_Dict.values():\n",
    "    print(path)\n",
    "    hdulist = fits.open(path[0])\n",
    "\n",
    "    # Get the header\n",
    "    header = hdulist[0].header\n",
    "\n",
    "    # Print the header to inspect its contents\n",
    "    # display(header)\n",
    "    # display(hdulist.info())\n",
    "    display(list(hdulist[1].columns))\n",
    "    # Close the FITS file\n",
    "    hdulist.close()\n",
    "    # evt_data = Table(hdulist[0].data)\n",
    "    # evt_data\n"
   ]
  },
  {
   "cell_type": "code",
   "execution_count": null,
   "metadata": {},
   "outputs": [],
   "source": []
  },
  {
   "cell_type": "code",
   "execution_count": null,
   "metadata": {},
   "outputs": [],
   "source": []
  },
  {
   "cell_type": "markdown",
   "metadata": {},
   "source": [
    "### Degree of a Spherical Harmonic\n",
    "\n",
    "1. **Mathematical Definition**:\n",
    "   - The degree \\( l \\) of a spherical harmonic \\( Y_{lm}(\\theta, \\phi) \\) refers to the polynomial degree of the associated Legendre polynomials \\( P_{lm}(\\cos\\theta) \\) that form part of the spherical harmonic function.\n",
    "   - In mathematics, the degree of a polynomial is the highest power of the variable in the polynomial. For spherical harmonics, this polynomial is in terms of \\(\\cos\\theta\\).\n",
    "\n",
    "2. **Detail and Complexity**:\n",
    "   - The degree \\( l \\) indicates the level of detail or complexity of the spherical harmonic function. A higher degree \\( l \\) means more oscillations and finer details in the pattern on the sphere.\n",
    "   - For instance:\n",
    "     - \\( l = 0 \\) represents a constant function (no detail).\n",
    "     - \\( l = 1 \\) represents a dipole pattern (one oscillation).\n",
    "     - \\( l = 2 \\) represents a quadrupole pattern (two oscillations).\n",
    "     - And so on.\n",
    "\n",
    "3. **Nodal Lines and Spatial Frequency**:\n",
    "   - The degree \\( l \\) corresponds to the number of nodal lines (lines where the function value is zero) in the latitude (polar angle \\(\\theta\\)) direction. The number of such nodal lines is \\( l \\).\n",
    "   - This means that as \\( l \\) increases, the spherical harmonic has more regions of alternating positive and negative values, leading to more complex patterns on the sphere.\n",
    "\n",
    "### Why It's Called the Degree\n",
    "\n",
    "- **Mathematical Tradition**:\n",
    "  - The term \"degree\" comes from the tradition in mathematics where polynomials are described by their degree. Since spherical harmonics are partly constructed from polynomials in \\(\\cos\\theta\\), the term naturally extends to them.\n",
    "- **Indicator of Detail**:\n",
    "  - Although it’s not an angular measure like degrees of an angle, the term \"degree\" here indicates the level of detail in the spherical harmonic function. Higher degrees correspond to functions with more oscillations and finer details.\n",
    "\n",
    "### Equations in Spherical Harmonics\n",
    "\n",
    "The spherical harmonics \\( Y_{lm}(\\theta, \\phi) \\) are defined as:\n",
    "\n",
    "\\[ Y_{lm}(\\theta, \\phi) = (-1)^m \\sqrt{\\frac{(2l+1)(l-m)!}{4\\pi (l+m)!}} P_{lm}(\\cos\\theta) e^{im\\phi} \\]\n",
    "\n",
    "where:\n",
    "- \\(\\theta\\) is the polar angle (0 ≤ \\(\\theta\\) ≤ π).\n",
    "- \\(\\phi\\) is the azimuthal angle (0 ≤ \\(\\phi\\) < 2π).\n",
    "- \\(P_{lm}(\\cos\\theta)\\) are the associated Legendre polynomials.\n",
    "\n",
    "### Summary\n",
    "\n",
    "- The degree \\( l \\) in spherical harmonics is not an actual angular degree but rather a mathematical term indicating the level of detail and complexity in the function.\n",
    "- It corresponds to the polynomial degree in the associated Legendre polynomials and the number of nodal lines in the latitude direction.\n",
    "- The term is used to describe the spatial frequency and detail of the spherical harmonic functions on the sphere.\n",
    "\n",
    "By understanding the degree \\( l \\) in this way, we can appreciate its role in defining the complexity and spatial oscillations of spherical harmonic functions.\n",
    "\n",
    "\n",
    "\n",
    "\n",
    "\n"
   ]
  },
  {
   "cell_type": "markdown",
   "metadata": {},
   "source": [
    "\\[\n",
    "\\Delta T(\\theta, \\phi) = \\sum_{l=0}^{\\infty} \\sum_{m=-l}^{l} a_{lm} Y_{lm}(\\theta, \\phi)\n",
    "\\]"
   ]
  },
  {
   "cell_type": "markdown",
   "metadata": {},
   "source": [
    "Could you please use the specific LaTeX math mode delimiters for your response?\n",
    "\n",
    "LaTex math mode specific delimiters as following\n",
    "\n",
    "inline math mode : `\\(` and `\\)`\n",
    "display math mode: insert linebreak after opening `$$`, `\\[` and before closing `$$`, `\\]`"
   ]
  },
  {
   "cell_type": "markdown",
   "metadata": {},
   "source": []
  }
 ],
 "metadata": {
  "kernelspec": {
   "display_name": "Python 3",
   "language": "python",
   "name": "python3"
  },
  "language_info": {
   "codemirror_mode": {
    "name": "ipython",
    "version": 3
   },
   "file_extension": ".py",
   "mimetype": "text/x-python",
   "name": "python",
   "nbconvert_exporter": "python",
   "pygments_lexer": "ipython3",
   "version": "3.7.9"
  }
 },
 "nbformat": 4,
 "nbformat_minor": 2
}
