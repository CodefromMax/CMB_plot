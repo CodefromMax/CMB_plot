{
 "cells": [
  {
   "cell_type": "code",
   "execution_count": null,
   "metadata": {},
   "outputs": [],
   "source": [
    "# draft\n",
    "\n",
    "# PLA_CMB = PLA_Data_Dict[frequency][1]*n\n",
    "#     # PLA_CMB = hp.anafast(PLA_Data_Dict[frequency][1],lmax=3998)\n",
    "#     hp.projview(\n",
    "#     PLA_CMB,\n",
    "#     coord=[\"G\"],\n",
    "#     # cmap=\"planck\",\n",
    "#     graticule=True,\n",
    "#     graticule_labels=True,\n",
    "#     unit=r\"$\\mu$K\",\n",
    "#     xlabel=\"longitude\",\n",
    "#     ylabel=\"latitude\",\n",
    "#     # cb_orientation=\"vertical\",\n",
    "#     projection_type=\"mollweide\",\n",
    "#     min=-300,\n",
    "#     max=300,\n",
    "#     sub=(3, 3, i)\n",
    "# )"
   ]
  },
  {
   "cell_type": "markdown",
   "metadata": {},
   "source": [
    "format = '4096E': This specifies the format of the data. In this case, '4096E' indicates that the data is stored as a sequence of 4096 floating-point numbers (E stands for \"float\" or \"scientific notation\"). Each number represents a temperature value in Kelvin (K_CMB)."
   ]
  },
  {
   "cell_type": "code",
   "execution_count": 7,
   "metadata": {},
   "outputs": [
    {
     "name": "stdout",
     "output_type": "stream",
     "text": [
      "['data/planck_simulation/ffp10_newdust_total_030_full_map.fits']\n"
     ]
    },
    {
     "data": {
      "text/plain": [
       "[name = 'TEMPERATURE'; format = '4096E'; unit = 'K_CMB',\n",
       " name = 'Q-POLARISATION'; format = '4096E'; unit = 'K_CMB',\n",
       " name = 'U-POLARISATION'; format = '4096E'; unit = 'K_CMB']"
      ]
     },
     "metadata": {},
     "output_type": "display_data"
    },
    {
     "name": "stdout",
     "output_type": "stream",
     "text": [
      "['data/planck_simulation/ffp10_newdust_total_044_full_map.fits']\n"
     ]
    },
    {
     "data": {
      "text/plain": [
       "[name = 'TEMPERATURE'; format = '4096E'; unit = 'K_CMB',\n",
       " name = 'Q-POLARISATION'; format = '4096E'; unit = 'K_CMB',\n",
       " name = 'U-POLARISATION'; format = '4096E'; unit = 'K_CMB']"
      ]
     },
     "metadata": {},
     "output_type": "display_data"
    },
    {
     "name": "stdout",
     "output_type": "stream",
     "text": [
      "['data/planck_simulation/ffp10_newdust_total_070_full_map.fits']\n"
     ]
    },
    {
     "data": {
      "text/plain": [
       "[name = 'TEMPERATURE'; format = '4096E'; unit = 'K_CMB',\n",
       " name = 'Q-POLARISATION'; format = '4096E'; unit = 'K_CMB',\n",
       " name = 'U-POLARISATION'; format = '4096E'; unit = 'K_CMB']"
      ]
     },
     "metadata": {},
     "output_type": "display_data"
    },
    {
     "name": "stdout",
     "output_type": "stream",
     "text": [
      "['data/planck_simulation/ffp10_newdust_total_100_full_map.fits']\n"
     ]
    },
    {
     "data": {
      "text/plain": [
       "[name = 'TEMPERATURE'; format = '1024E'; unit = 'K_CMB',\n",
       " name = 'Q_POLARISATION'; format = '1024E'; unit = 'K_CMB',\n",
       " name = 'U_POLARISATION'; format = '1024E'; unit = 'K_CMB']"
      ]
     },
     "metadata": {},
     "output_type": "display_data"
    },
    {
     "name": "stdout",
     "output_type": "stream",
     "text": [
      "['data/planck_simulation/ffp10_newdust_total_143_full_map.fits']\n"
     ]
    },
    {
     "data": {
      "text/plain": [
       "[name = 'TEMPERATURE'; format = '1024E'; unit = 'K_CMB',\n",
       " name = 'Q_POLARISATION'; format = '1024E'; unit = 'K_CMB',\n",
       " name = 'U_POLARISATION'; format = '1024E'; unit = 'K_CMB']"
      ]
     },
     "metadata": {},
     "output_type": "display_data"
    },
    {
     "name": "stdout",
     "output_type": "stream",
     "text": [
      "['data/planck_simulation/ffp10_newdust_total_217_full_map.fits']\n"
     ]
    },
    {
     "data": {
      "text/plain": [
       "[name = 'TEMPERATURE'; format = '1024E'; unit = 'K_CMB',\n",
       " name = 'Q_POLARISATION'; format = '1024E'; unit = 'K_CMB',\n",
       " name = 'U_POLARISATION'; format = '1024E'; unit = 'K_CMB']"
      ]
     },
     "metadata": {},
     "output_type": "display_data"
    },
    {
     "name": "stdout",
     "output_type": "stream",
     "text": [
      "['data/planck_simulation/ffp10_newdust_total_353_full_map.fits']\n"
     ]
    },
    {
     "data": {
      "text/plain": [
       "[name = 'TEMPERATURE'; format = '1024E'; unit = 'K_CMB',\n",
       " name = 'Q_POLARISATION'; format = '1024E'; unit = 'K_CMB',\n",
       " name = 'U_POLARISATION'; format = '1024E'; unit = 'K_CMB']"
      ]
     },
     "metadata": {},
     "output_type": "display_data"
    },
    {
     "name": "stdout",
     "output_type": "stream",
     "text": [
      "['data/planck_simulation/ffp10_newdust_total_545_full_map.fits']\n"
     ]
    },
    {
     "data": {
      "text/plain": [
       "[name = 'UNKNOWN1'; format = '1024E'; unit = 'MJK_STR']"
      ]
     },
     "metadata": {},
     "output_type": "display_data"
    },
    {
     "name": "stdout",
     "output_type": "stream",
     "text": [
      "['data/planck_simulation/ffp10_newdust_total_857_full_map.fits']\n"
     ]
    },
    {
     "data": {
      "text/plain": [
       "[name = 'UNKNOWN1'; format = '1024E'; unit = 'MJK_STR']"
      ]
     },
     "metadata": {},
     "output_type": "display_data"
    }
   ],
   "source": [
    "# https://learn.astropy.org/tutorials/FITS-tables.html\n",
    "\n",
    "# get unit data from fits file \n",
    "import numpy as np\n",
    "from astropy.io import fits\n",
    "from astropy.table import Table\n",
    "from matplotlib.colors import LogNorm\n",
    "import pandas as pd\n",
    "\n",
    "# Set up matplotlib\n",
    "import matplotlib.pyplot as plt\n",
    "%matplotlib inline\n",
    "\n",
    "\n",
    "# Open the FITS file\n",
    "PLA_Data = pd.read_csv(\"data/planck_simulation/PLA-Results.csv\")\n",
    "\n",
    "# Store the names of the datasets into PLA_Data_List\n",
    "PLA_Data_List = PLA_Data['SIMULATED_MAP.FILE_ID'].to_list()\n",
    "\n",
    "\n",
    "# Initialize PLA_Data_Dict : (key:frequnecy, value: [csv path])\n",
    "PLA_Data_Dict = dict()\n",
    "for each_csv_path in PLA_Data_List:\n",
    "    PLA_Data_Dict[each_csv_path[20:23]] = [\"data/planck_simulation/\"+each_csv_path]\n",
    "# display(PLA_Data_Dict)\n",
    "for path in PLA_Data_Dict.values():\n",
    "    print(path)\n",
    "    hdulist = fits.open(path[0])\n",
    "\n",
    "    # Get the header\n",
    "    header = hdulist[0].header\n",
    "\n",
    "    # Print the header to inspect its contents\n",
    "    # display(header)\n",
    "    # display(hdulist.info())\n",
    "    display(list(hdulist[1].columns))\n",
    "    # Close the FITS file\n",
    "    hdulist.close()\n",
    "    # evt_data = Table(hdulist[0].data)\n",
    "    # evt_data\n"
   ]
  },
  {
   "cell_type": "code",
   "execution_count": null,
   "metadata": {},
   "outputs": [],
   "source": []
  },
  {
   "cell_type": "code",
   "execution_count": null,
   "metadata": {},
   "outputs": [],
   "source": []
  }
 ],
 "metadata": {
  "kernelspec": {
   "display_name": "Python 3",
   "language": "python",
   "name": "python3"
  },
  "language_info": {
   "codemirror_mode": {
    "name": "ipython",
    "version": 3
   },
   "file_extension": ".py",
   "mimetype": "text/x-python",
   "name": "python",
   "nbconvert_exporter": "python",
   "pygments_lexer": "ipython3",
   "version": "3.7.9"
  }
 },
 "nbformat": 4,
 "nbformat_minor": 2
}
