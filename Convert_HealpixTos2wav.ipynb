{
 "cells": [
  {
   "cell_type": "code",
   "execution_count": null,
   "metadata": {},
   "outputs": [],
   "source": [
    "import healpy as hp\n",
    "import numpy as np\n",
    "import s2wav\n",
    "import s2wav.filters as filters\n",
    "import jax.numpy as jnp\n",
    "import jax\n",
    "jax.config.update(\"jax_enable_x64\", True)\n",
    "\n",
    "# Step 1: Read the Healpix map\n",
    "healpix_map_path = 'data/planck_simulation/ffp10_newdust_total_030_full_map.fits'\n",
    "healpix_map = hp.read_map(healpix_map_path, dtype=jnp.float64)\n",
    "\n",
    "# Step 2: Convert Healpix map to spherical harmonic coefficients\n",
    "L_max = hp.npix2nside(len(healpix_map))*2  # Define maximum multipole moment (choose appropriately based on your data)\n",
    "alm = hp.map2alm(healpix_map, lmax=L_max-1)\n",
    "\n",
    "# Step 3: Rearrange coefficients for s2wav\n",
    "f = np.zeros((L_max, 2 * L_max - 1), dtype=np.complex128)\n",
    "\n",
    "for l in range(L_max):\n",
    "    for m in range(-l, l + 1):\n",
    "        index = hp.Alm.getidx(L_max - 1, l, abs(m))\n",
    "        if m < 0:\n",
    "            f[l, L_max + m - 1] = (-1)**m * np.conj(alm[index])\n",
    "        else:\n",
    "            f[l, L_max + m - 1] = alm[index]\n",
    "\n",
    "# Step 4: Perform wavelet analysis\n",
    "N = 1  # Number of directional wavelets\n",
    "filter = filters.filters_directional_vectorised(L_max, N)\n",
    "\n",
    "# wavelet_coeffs, scaling_coeffs\n",
    "f_wav, f_scal = s2wav.analysis(f, L_max, N, filters=filter)\n",
    "\n",
    "# Step 5 Store the wavelet_coeffs, scaling_coeffs for future use\n",
    "# f_wav is a list of jaxlib.xla_extension.ArrayImpl objects\n",
    "\n",
    "# Convert each element in f_wav to a numpy array and save it\n",
    "for i, wav in enumerate(f_wav):\n",
    "    np_wav = np.array(wav)  # Convert JAX array to numpy array\n",
    "    np.save(f\"convolution/30/f_wav_{i}\", np_wav)  \n",
    "\n",
    "# Convert  f_scal to a numpy array and save it\n",
    "np_scal = np.array(f_scal)  # Convert JAX array to numpy array\n",
    "np.save(f\"convolution/30/f_scal\", np_scal)  \n",
    "\n",
    "Stored_f_wav = [np.load(f\"/Users/maxwang/Documents/projects/CMB_plot/convolution/30/f_wav_{i}.npy\", allow_pickle=True) for i in range(12)]\n",
    "Sotred_f_sacl = np.load(\"/Users/maxwang/Documents/projects/CMB_plot/convolution/30/f_scal.npy\")\n",
    "# Step 6: reconstruct the signal if needed\n"
   ]
  },
  {
   "cell_type": "code",
   "execution_count": 77,
   "metadata": {},
   "outputs": [],
   "source": [
    "# f_wav_1 = f_wav.copy()\n",
    "\n",
    "# for i, wav in enumerate(f_wav_1):\n",
    "#     wav = np.array(wav)  # Convert JAX array to numpy array\n",
    "#     # np.save(f\"/convolution/30/f_wav_{i}.npy\", np_wav)  # Save numpy array to a file\n",
    "\n",
    "\n",
    "# for i in f_wav_1:\n",
    "#     print(i.shape)\n"
   ]
  },
  {
   "cell_type": "code",
   "execution_count": 30,
   "metadata": {},
   "outputs": [],
   "source": [
    "f_check = s2wav.synthesis(f_wav, f_scal, L_max, N, filters=filter)\n"
   ]
  },
  {
   "cell_type": "code",
   "execution_count": 88,
   "metadata": {},
   "outputs": [],
   "source": [
    "# Step 7 store the reconstructed map\n",
    "reconstructed_map = np.array(f_check)\n",
    "np.save(f\"/Users/maxwang/Documents/projects/CMB_plot/convolution/30/reconstructed_map\", reconstructed_map)  # Save numpy array to a file\n",
    "load_map = np.load(\"/Users/maxwang/Documents/projects/CMB_plot/convolution/30/reconstructed_map.npy\")\n",
    "# print(np.nanmean(np.abs(load_map-f)))"
   ]
  },
  {
   "cell_type": "code",
   "execution_count": 39,
   "metadata": {},
   "outputs": [
    {
     "name": "stdout",
     "output_type": "stream",
     "text": [
      "Mean absolute error = 2.0528992438406644e-07\n"
     ]
    }
   ],
   "source": [
    "print(f\"Mean absolute error = {np.nanmean(np.abs(f_check - f))}\")"
   ]
  },
  {
   "cell_type": "code",
   "execution_count": 89,
   "metadata": {},
   "outputs": [
    {
     "name": "stdout",
     "output_type": "stream",
     "text": [
      "False\n"
     ]
    }
   ],
   "source": [
    "# is_real = np.isreal(f)\n",
    "# print(is_real.all()) \n",
    "#  setting reality=True in the context of spherical harmonic analysis indicates that the input data is real-valued, and the function leverages the conjugate symmetry property of the harmonic coefficients to optimize storage and computation."
   ]
  }
 ],
 "metadata": {
  "kernelspec": {
   "display_name": "Python 3",
   "language": "python",
   "name": "python3"
  },
  "language_info": {
   "codemirror_mode": {
    "name": "ipython",
    "version": 3
   },
   "file_extension": ".py",
   "mimetype": "text/x-python",
   "name": "python",
   "nbconvert_exporter": "python",
   "pygments_lexer": "ipython3",
   "version": "3.9.13"
  }
 },
 "nbformat": 4,
 "nbformat_minor": 2
}
