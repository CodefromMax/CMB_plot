{
 "cells": [
  {
   "cell_type": "code",
   "execution_count": 97,
   "metadata": {},
   "outputs": [
    {
     "ename": "KeyboardInterrupt",
     "evalue": "",
     "output_type": "error",
     "traceback": [
      "\u001b[0;31m---------------------------------------------------------------------------\u001b[0m",
      "\u001b[0;31mKeyboardInterrupt\u001b[0m                         Traceback (most recent call last)",
      "Cell \u001b[0;32mIn[97], line 24\u001b[0m\n\u001b[1;32m     22\u001b[0m index \u001b[38;5;241m=\u001b[39m hp\u001b[38;5;241m.\u001b[39mAlm\u001b[38;5;241m.\u001b[39mgetidx(L_max \u001b[38;5;241m-\u001b[39m \u001b[38;5;241m1\u001b[39m, l, \u001b[38;5;28mabs\u001b[39m(m))\n\u001b[1;32m     23\u001b[0m \u001b[38;5;28;01mif\u001b[39;00m m \u001b[38;5;241m<\u001b[39m \u001b[38;5;241m0\u001b[39m:\n\u001b[0;32m---> 24\u001b[0m     f[l, L_max \u001b[38;5;241m+\u001b[39m m \u001b[38;5;241m-\u001b[39m \u001b[38;5;241m1\u001b[39m] \u001b[38;5;241m=\u001b[39m (\u001b[38;5;241m-\u001b[39m\u001b[38;5;241m1\u001b[39m)\u001b[38;5;241m*\u001b[39m\u001b[38;5;241m*\u001b[39mm \u001b[38;5;241m*\u001b[39m \u001b[43mnp\u001b[49m\u001b[38;5;241;43m.\u001b[39;49m\u001b[43mconj\u001b[49m\u001b[43m(\u001b[49m\u001b[43malm\u001b[49m\u001b[43m[\u001b[49m\u001b[43mindex\u001b[49m\u001b[43m]\u001b[49m\u001b[43m)\u001b[49m\n\u001b[1;32m     25\u001b[0m \u001b[38;5;28;01melse\u001b[39;00m:\n\u001b[1;32m     26\u001b[0m     f[l, L_max \u001b[38;5;241m+\u001b[39m m \u001b[38;5;241m-\u001b[39m \u001b[38;5;241m1\u001b[39m] \u001b[38;5;241m=\u001b[39m alm[index]\n",
      "\u001b[0;31mKeyboardInterrupt\u001b[0m: "
     ]
    }
   ],
   "source": [
    "import healpy as hp\n",
    "import numpy as np\n",
    "import s2wav\n",
    "import s2wav.filters as filters\n",
    "import jax.numpy as jnp\n",
    "import jax\n",
    "jax.config.update(\"jax_enable_x64\", True)\n",
    "\n",
    "# Step 1: Read the Healpix map\n",
    "healpix_map_path = 'data/planck_simulation/ffp10_newdust_total_030_full_map.fits'\n",
    "healpix_map = hp.read_map(healpix_map_path, dtype=jnp.float64)\n",
    "\n",
    "# Step 2: Convert Healpix map to spherical harmonic coefficients\n",
    "L_max = hp.npix2nside(len(healpix_map))*2  # Define maximum multipole moment (choose appropriately based on your data)\n",
    "alm = hp.map2alm(healpix_map, lmax=L_max-1)\n",
    "\n",
    "# Step 3: Rearrange coefficients for s2wav\n",
    "f = np.zeros((L_max, 2 * L_max - 1), dtype=np.complex128)\n",
    "\n",
    "for l in range(L_max):\n",
    "    for m in range(-l, l + 1):\n",
    "        index = hp.Alm.getidx(L_max - 1, l, abs(m))\n",
    "        if m < 0:\n",
    "            f[l, L_max + m - 1] = (-1)**m * np.conj(alm[index])\n",
    "        else:\n",
    "            f[l, L_max + m - 1] = alm[index]\n",
    "\n",
    "# Step 4: Perform wavelet analysis\n",
    "N = 1  # Number of directional wavelets\n",
    "filter = filters.filters_directional_vectorised(L_max, N)\n",
    "\n",
    "# wavelet_coeffs, scaling_coeffs\n",
    "f_wav, f_scal = s2wav.analysis(f, L_max, N, filters=filter)\n",
    "\n",
    "# Step 5 Store the wavelet_coeffs, scaling_coeffs for future use\n",
    "# f_wav is a list of jaxlib.xla_extension.ArrayImpl objects\n",
    "\n",
    "# Convert each element in f_wav to a numpy array and save it\n",
    "for i, wav in enumerate(f_wav):\n",
    "    np_wav = np.array(wav)  # Convert JAX array to numpy array\n",
    "    np.save(f\"convolution/30/f_wav_{i}\", np_wav)  \n",
    "\n",
    "# Convert  f_scal to a numpy array and save it\n",
    "np_scal = np.array(f_scal)  # Convert JAX array to numpy array\n",
    "np.save(f\"convolution/30/f_scal\", np_scal)  \n",
    "\n",
    "Stored_f_wav = [np.load(f\"/Users/maxwang/Documents/projects/CMB_plot/convolution/30/f_wav_{i}.npy\", allow_pickle=True) for i in range(len(f_wav))]\n",
    "Sotred_f_sacl = np.load(\"/Users/maxwang/Documents/projects/CMB_plot/convolution/30/f_scal.npy\")\n",
    "# Step 6: reconstruct the signal if needed\n"
   ]
  },
  {
   "cell_type": "code",
   "execution_count": 77,
   "metadata": {},
   "outputs": [],
   "source": [
    "# f_wav_1 = f_wav.copy()\n",
    "\n",
    "# for i, wav in enumerate(f_wav_1):\n",
    "#     wav = np.array(wav)  # Convert JAX array to numpy array\n",
    "#     # np.save(f\"/convolution/30/f_wav_{i}.npy\", np_wav)  # Save numpy array to a file\n",
    "\n",
    "\n",
    "# for i in f_wav_1:\n",
    "#     print(i.shape)\n"
   ]
  },
  {
   "cell_type": "code",
   "execution_count": 23,
   "metadata": {},
   "outputs": [
    {
     "ename": "TypeError",
     "evalue": "bad number of pixels",
     "output_type": "error",
     "traceback": [
      "\u001b[0;31m---------------------------------------------------------------------------\u001b[0m",
      "\u001b[0;31mTypeError\u001b[0m                                 Traceback (most recent call last)",
      "Cell \u001b[0;32mIn[23], line 9\u001b[0m\n\u001b[1;32m      6\u001b[0m \u001b[38;5;28;01mimport\u001b[39;00m \u001b[38;5;21;01mjax\u001b[39;00m\n\u001b[1;32m      7\u001b[0m Stored_f_wav \u001b[38;5;241m=\u001b[39m [np\u001b[38;5;241m.\u001b[39mload(\u001b[38;5;124mf\u001b[39m\u001b[38;5;124m\"\u001b[39m\u001b[38;5;124m/Users/maxwang/Documents/projects/CMB_plot/convolution/30/f_wav_\u001b[39m\u001b[38;5;132;01m{\u001b[39;00mi\u001b[38;5;132;01m}\u001b[39;00m\u001b[38;5;124m.npy\u001b[39m\u001b[38;5;124m\"\u001b[39m, allow_pickle\u001b[38;5;241m=\u001b[39m\u001b[38;5;28;01mTrue\u001b[39;00m) \u001b[38;5;28;01mfor\u001b[39;00m i \u001b[38;5;129;01min\u001b[39;00m \u001b[38;5;28mrange\u001b[39m(\u001b[38;5;241m12\u001b[39m)]\n\u001b[0;32m----> 9\u001b[0m \u001b[43mhp\u001b[49m\u001b[38;5;241;43m.\u001b[39;49m\u001b[43mmollview\u001b[49m\u001b[43m(\u001b[49m\u001b[43mStored_f_wav\u001b[49m\u001b[43m,\u001b[49m\u001b[43m \u001b[49m\u001b[43mtitle\u001b[49m\u001b[38;5;241;43m=\u001b[39;49m\u001b[38;5;124;43m'\u001b[39;49m\u001b[38;5;124;43mWavelets\u001b[39;49m\u001b[38;5;124;43m'\u001b[39;49m\u001b[43m)\u001b[49m\n",
      "File \u001b[0;32m/Library/Frameworks/Python.framework/Versions/3.9/lib/python3.9/site-packages/healpy/visufunc.py:196\u001b[0m, in \u001b[0;36mmollview\u001b[0;34m(map, fig, rot, coord, unit, xsize, title, nest, min, max, flip, remove_dip, remove_mono, gal_cut, format, format2, cbar, cmap, badcolor, bgcolor, notext, norm, hold, reuse_axes, margins, sub, nlocs, return_projected_map, alpha)\u001b[0m\n\u001b[1;32m    193\u001b[0m     cbar \u001b[38;5;241m=\u001b[39m \u001b[38;5;28;01mFalse\u001b[39;00m\n\u001b[1;32m    195\u001b[0m \u001b[38;5;66;03m# Ensure that the nside is valid\u001b[39;00m\n\u001b[0;32m--> 196\u001b[0m nside \u001b[38;5;241m=\u001b[39m \u001b[43mpixelfunc\u001b[49m\u001b[38;5;241;43m.\u001b[39;49m\u001b[43mget_nside\u001b[49m\u001b[43m(\u001b[49m\u001b[38;5;28;43mmap\u001b[39;49m\u001b[43m)\u001b[49m\n\u001b[1;32m    197\u001b[0m pixelfunc\u001b[38;5;241m.\u001b[39mcheck_nside(nside, nest\u001b[38;5;241m=\u001b[39mnest)\n\u001b[1;32m    199\u001b[0m \u001b[38;5;28;01mif\u001b[39;00m \u001b[38;5;129;01mnot\u001b[39;00m (hold \u001b[38;5;129;01mor\u001b[39;00m sub \u001b[38;5;129;01mor\u001b[39;00m reuse_axes):\n",
      "File \u001b[0;32m/Library/Frameworks/Python.framework/Versions/3.9/lib/python3.9/site-packages/healpy/pixelfunc.py:1882\u001b[0m, in \u001b[0;36mget_nside\u001b[0;34m(m)\u001b[0m\n\u001b[1;32m   1863\u001b[0m \u001b[38;5;28;01mdef\u001b[39;00m \u001b[38;5;21mget_nside\u001b[39m(m):\n\u001b[1;32m   1864\u001b[0m \u001b[38;5;250m    \u001b[39m\u001b[38;5;124;03m\"\"\"Return the nside of the given map.\u001b[39;00m\n\u001b[1;32m   1865\u001b[0m \n\u001b[1;32m   1866\u001b[0m \u001b[38;5;124;03m    Parameters\u001b[39;00m\n\u001b[0;32m   (...)\u001b[0m\n\u001b[1;32m   1880\u001b[0m \u001b[38;5;124;03m    a TypeError exception is raised.\u001b[39;00m\n\u001b[1;32m   1881\u001b[0m \u001b[38;5;124;03m    \"\"\"\u001b[39;00m\n\u001b[0;32m-> 1882\u001b[0m     typ \u001b[38;5;241m=\u001b[39m \u001b[43mmaptype\u001b[49m\u001b[43m(\u001b[49m\u001b[43mm\u001b[49m\u001b[43m)\u001b[49m\n\u001b[1;32m   1883\u001b[0m     \u001b[38;5;28;01mif\u001b[39;00m typ \u001b[38;5;241m==\u001b[39m \u001b[38;5;241m0\u001b[39m:\n\u001b[1;32m   1884\u001b[0m         \u001b[38;5;28;01mreturn\u001b[39;00m npix2nside(\u001b[38;5;28mlen\u001b[39m(m))\n",
      "File \u001b[0;32m/Library/Frameworks/Python.framework/Versions/3.9/lib/python3.9/site-packages/healpy/pixelfunc.py:238\u001b[0m, in \u001b[0;36mmaptype\u001b[0;34m(m)\u001b[0m\n\u001b[1;32m    236\u001b[0m         \u001b[38;5;28;01mreturn\u001b[39;00m \u001b[38;5;28mlen\u001b[39m(m)\n\u001b[1;32m    237\u001b[0m     \u001b[38;5;28;01melse\u001b[39;00m:\n\u001b[0;32m--> 238\u001b[0m         \u001b[38;5;28;01mraise\u001b[39;00m \u001b[38;5;167;01mTypeError\u001b[39;00m(\u001b[38;5;124m\"\u001b[39m\u001b[38;5;124mbad number of pixels\u001b[39m\u001b[38;5;124m\"\u001b[39m)\n\u001b[1;32m    239\u001b[0m \u001b[38;5;28;01melse\u001b[39;00m:\n\u001b[1;32m    240\u001b[0m     \u001b[38;5;28;01mif\u001b[39;00m isnpixok(\u001b[38;5;28mlen\u001b[39m(m)):\n",
      "\u001b[0;31mTypeError\u001b[0m: bad number of pixels"
     ]
    }
   ],
   "source": [
    "\n",
    "import healpy as hp\n",
    "import numpy as np\n",
    "import s2wav\n",
    "import s2wav.filters as filters\n",
    "import jax.numpy as jnp\n",
    "import jax\n",
    "Stored_f_wav = [np.load(f\"/Users/maxwang/Documents/projects/CMB_plot/convolution/30/f_wav_{i}.npy\", allow_pickle=True) for i in range(12)]\n"
   ]
  },
  {
   "cell_type": "code",
   "execution_count": 94,
   "metadata": {},
   "outputs": [
    {
     "data": {
      "text/plain": [
       "1024"
      ]
     },
     "execution_count": 94,
     "metadata": {},
     "output_type": "execute_result"
    }
   ],
   "source": [
    "# hp.npix2nside(len(healpix_map))\n",
    "# hp.get_nside(healpix_map)"
   ]
  },
  {
   "cell_type": "code",
   "execution_count": 105,
   "metadata": {},
   "outputs": [
    {
     "name": "stdout",
     "output_type": "stream",
     "text": [
      "2049\n"
     ]
    }
   ],
   "source": [
    "healpix_map = hp.read_map(healpix_map_path, dtype=jnp.float64)\n",
    "nside = hp.get_nside(healpix_map)\n",
    "L_max = 2*nside+1\n",
    "\n",
    "print(L_max)"
   ]
  },
  {
   "cell_type": "code",
   "execution_count": 8,
   "metadata": {},
   "outputs": [
    {
     "name": "stdout",
     "output_type": "stream",
     "text": [
      "Requirement already satisfied: mayavi in /Users/maxwang/opt/anaconda3/lib/python3.9/site-packages (4.8.1)\n",
      "Requirement already satisfied: apptools in /Users/maxwang/opt/anaconda3/lib/python3.9/site-packages (from mayavi) (5.2.1)\n",
      "Requirement already satisfied: envisage in /Users/maxwang/opt/anaconda3/lib/python3.9/site-packages (from mayavi) (7.0.3)\n",
      "Requirement already satisfied: numpy in /Users/maxwang/opt/anaconda3/lib/python3.9/site-packages (from mayavi) (1.26.4)\n",
      "Requirement already satisfied: pyface>=6.1.1 in /Users/maxwang/opt/anaconda3/lib/python3.9/site-packages (from mayavi) (8.0.0)\n",
      "Requirement already satisfied: pygments in /Users/maxwang/opt/anaconda3/lib/python3.9/site-packages (from mayavi) (2.11.2)\n",
      "Requirement already satisfied: traits>=6.0.0 in /Users/maxwang/opt/anaconda3/lib/python3.9/site-packages (from mayavi) (6.4.3)\n",
      "Requirement already satisfied: traitsui>=7.0.0 in /Users/maxwang/opt/anaconda3/lib/python3.9/site-packages (from mayavi) (8.0.0)\n",
      "Requirement already satisfied: packaging in /Users/maxwang/opt/anaconda3/lib/python3.9/site-packages (from mayavi) (21.3)\n",
      "Requirement already satisfied: vtk in /Users/maxwang/opt/anaconda3/lib/python3.9/site-packages (from mayavi) (9.3.0)\n",
      "Requirement already satisfied: importlib-metadata>=3.6 in /Users/maxwang/opt/anaconda3/lib/python3.9/site-packages (from pyface>=6.1.1->mayavi) (4.11.3)\n",
      "Requirement already satisfied: configobj in /Users/maxwang/opt/anaconda3/lib/python3.9/site-packages (from apptools->mayavi) (5.0.8)\n",
      "Requirement already satisfied: setuptools in /Users/maxwang/opt/anaconda3/lib/python3.9/site-packages (from envisage->mayavi) (61.2.0)\n",
      "Requirement already satisfied: pyparsing!=3.0.5,>=2.0.2 in /Users/maxwang/opt/anaconda3/lib/python3.9/site-packages (from packaging->mayavi) (3.0.4)\n",
      "Requirement already satisfied: matplotlib>=2.0.0 in /Users/maxwang/opt/anaconda3/lib/python3.9/site-packages (from vtk->mayavi) (3.5.1)\n",
      "Requirement already satisfied: zipp>=0.5 in /Users/maxwang/opt/anaconda3/lib/python3.9/site-packages (from importlib-metadata>=3.6->pyface>=6.1.1->mayavi) (3.7.0)\n",
      "Requirement already satisfied: cycler>=0.10 in /Users/maxwang/opt/anaconda3/lib/python3.9/site-packages (from matplotlib>=2.0.0->vtk->mayavi) (0.11.0)\n",
      "Requirement already satisfied: fonttools>=4.22.0 in /Users/maxwang/opt/anaconda3/lib/python3.9/site-packages (from matplotlib>=2.0.0->vtk->mayavi) (4.25.0)\n",
      "Requirement already satisfied: kiwisolver>=1.0.1 in /Users/maxwang/opt/anaconda3/lib/python3.9/site-packages (from matplotlib>=2.0.0->vtk->mayavi) (1.3.2)\n",
      "Requirement already satisfied: pillow>=6.2.0 in /Users/maxwang/opt/anaconda3/lib/python3.9/site-packages (from matplotlib>=2.0.0->vtk->mayavi) (9.0.1)\n",
      "Requirement already satisfied: python-dateutil>=2.7 in /Users/maxwang/opt/anaconda3/lib/python3.9/site-packages (from matplotlib>=2.0.0->vtk->mayavi) (2.8.2)\n",
      "Requirement already satisfied: six in /Users/maxwang/opt/anaconda3/lib/python3.9/site-packages (from configobj->apptools->mayavi) (1.16.0)\n"
     ]
    },
    {
     "ename": "ModuleNotFoundError",
     "evalue": "No module named 'mayavi'",
     "output_type": "error",
     "traceback": [
      "\u001b[0;31m---------------------------------------------------------------------------\u001b[0m",
      "\u001b[0;31mModuleNotFoundError\u001b[0m                       Traceback (most recent call last)",
      "Cell \u001b[0;32mIn[8], line 3\u001b[0m\n\u001b[1;32m      1\u001b[0m get_ipython()\u001b[38;5;241m.\u001b[39msystem(\u001b[38;5;124m'\u001b[39m\u001b[38;5;124mpip install mayavi\u001b[39m\u001b[38;5;124m'\u001b[39m)\n\u001b[0;32m----> 3\u001b[0m \u001b[38;5;28;01mimport\u001b[39;00m \u001b[38;5;21;01mmayavi\u001b[39;00m\n",
      "\u001b[0;31mModuleNotFoundError\u001b[0m: No module named 'mayavi'"
     ]
    }
   ],
   "source": [
    "# !pip install mayavi\n",
    "# https://groups.google.com/g/fatiando/c/gpFRXWabh_8?pli=1\n",
    "# import mayavi"
   ]
  },
  {
   "cell_type": "code",
   "execution_count": 36,
   "metadata": {},
   "outputs": [
    {
     "name": "stdout",
     "output_type": "stream",
     "text": [
      "Collecting releases\n",
      "  Downloading releases-2.1.1-py3-none-any.whl.metadata (3.9 kB)\n",
      "Requirement already satisfied: sphinx>=4 in /Users/maxwang/opt/anaconda3/lib/python3.9/site-packages (from releases) (4.4.0)\n",
      "Collecting semantic-version<2.7 (from releases)\n",
      "  Downloading semantic_version-2.6.0-py3-none-any.whl.metadata (9.6 kB)\n",
      "Requirement already satisfied: sphinxcontrib-applehelp in /Users/maxwang/opt/anaconda3/lib/python3.9/site-packages (from sphinx>=4->releases) (1.0.2)\n",
      "Requirement already satisfied: sphinxcontrib-devhelp in /Users/maxwang/opt/anaconda3/lib/python3.9/site-packages (from sphinx>=4->releases) (1.0.2)\n",
      "Requirement already satisfied: sphinxcontrib-jsmath in /Users/maxwang/opt/anaconda3/lib/python3.9/site-packages (from sphinx>=4->releases) (1.0.1)\n",
      "Requirement already satisfied: sphinxcontrib-htmlhelp>=2.0.0 in /Users/maxwang/opt/anaconda3/lib/python3.9/site-packages (from sphinx>=4->releases) (2.0.0)\n",
      "Requirement already satisfied: sphinxcontrib-serializinghtml>=1.1.5 in /Users/maxwang/opt/anaconda3/lib/python3.9/site-packages (from sphinx>=4->releases) (1.1.5)\n",
      "Requirement already satisfied: sphinxcontrib-qthelp in /Users/maxwang/opt/anaconda3/lib/python3.9/site-packages (from sphinx>=4->releases) (1.0.3)\n",
      "Requirement already satisfied: Jinja2>=2.3 in /Users/maxwang/opt/anaconda3/lib/python3.9/site-packages (from sphinx>=4->releases) (2.11.3)\n",
      "Requirement already satisfied: Pygments>=2.0 in /Users/maxwang/opt/anaconda3/lib/python3.9/site-packages (from sphinx>=4->releases) (2.11.2)\n",
      "Requirement already satisfied: docutils<0.18,>=0.14 in /Users/maxwang/opt/anaconda3/lib/python3.9/site-packages (from sphinx>=4->releases) (0.17.1)\n",
      "Requirement already satisfied: snowballstemmer>=1.1 in /Users/maxwang/opt/anaconda3/lib/python3.9/site-packages (from sphinx>=4->releases) (2.2.0)\n",
      "Requirement already satisfied: babel>=1.3 in /Users/maxwang/opt/anaconda3/lib/python3.9/site-packages (from sphinx>=4->releases) (2.9.1)\n",
      "Requirement already satisfied: alabaster<0.8,>=0.7 in /Users/maxwang/opt/anaconda3/lib/python3.9/site-packages (from sphinx>=4->releases) (0.7.12)\n",
      "Requirement already satisfied: imagesize in /Users/maxwang/opt/anaconda3/lib/python3.9/site-packages (from sphinx>=4->releases) (1.3.0)\n",
      "Requirement already satisfied: requests>=2.5.0 in /Users/maxwang/opt/anaconda3/lib/python3.9/site-packages (from sphinx>=4->releases) (2.27.1)\n",
      "Requirement already satisfied: packaging in /Users/maxwang/opt/anaconda3/lib/python3.9/site-packages (from sphinx>=4->releases) (21.3)\n",
      "Requirement already satisfied: importlib-metadata>=4.4 in /Users/maxwang/opt/anaconda3/lib/python3.9/site-packages (from sphinx>=4->releases) (4.11.3)\n",
      "Requirement already satisfied: pytz>=2015.7 in /Users/maxwang/opt/anaconda3/lib/python3.9/site-packages (from babel>=1.3->sphinx>=4->releases) (2021.3)\n",
      "Requirement already satisfied: zipp>=0.5 in /Users/maxwang/opt/anaconda3/lib/python3.9/site-packages (from importlib-metadata>=4.4->sphinx>=4->releases) (3.7.0)\n",
      "Requirement already satisfied: MarkupSafe>=0.23 in /Users/maxwang/opt/anaconda3/lib/python3.9/site-packages (from Jinja2>=2.3->sphinx>=4->releases) (2.0.1)\n",
      "Requirement already satisfied: urllib3<1.27,>=1.21.1 in /Users/maxwang/opt/anaconda3/lib/python3.9/site-packages (from requests>=2.5.0->sphinx>=4->releases) (1.26.9)\n",
      "Requirement already satisfied: certifi>=2017.4.17 in /Users/maxwang/opt/anaconda3/lib/python3.9/site-packages (from requests>=2.5.0->sphinx>=4->releases) (2021.10.8)\n",
      "Requirement already satisfied: charset-normalizer~=2.0.0 in /Users/maxwang/opt/anaconda3/lib/python3.9/site-packages (from requests>=2.5.0->sphinx>=4->releases) (2.0.4)\n",
      "Requirement already satisfied: idna<4,>=2.5 in /Users/maxwang/opt/anaconda3/lib/python3.9/site-packages (from requests>=2.5.0->sphinx>=4->releases) (3.3)\n",
      "Requirement already satisfied: pyparsing!=3.0.5,>=2.0.2 in /Users/maxwang/opt/anaconda3/lib/python3.9/site-packages (from packaging->sphinx>=4->releases) (3.0.4)\n",
      "Downloading releases-2.1.1-py3-none-any.whl (20 kB)\n",
      "Downloading semantic_version-2.6.0-py3-none-any.whl (14 kB)\n",
      "Installing collected packages: semantic-version, releases\n",
      "Successfully installed releases-2.1.1 semantic-version-2.6.0\n"
     ]
    }
   ],
   "source": [
    "# pip install mlab\n",
    "!pip install releases"
   ]
  },
  {
   "cell_type": "code",
   "execution_count": 39,
   "metadata": {},
   "outputs": [
    {
     "ename": "ModuleNotFoundError",
     "evalue": "No module named 'releases'",
     "output_type": "error",
     "traceback": [
      "\u001b[0;31m---------------------------------------------------------------------------\u001b[0m",
      "\u001b[0;31mModuleNotFoundError\u001b[0m                       Traceback (most recent call last)",
      "Cell \u001b[0;32mIn[39], line 1\u001b[0m\n\u001b[0;32m----> 1\u001b[0m \u001b[38;5;28;01mimport\u001b[39;00m \u001b[38;5;21;01mreleases\u001b[39;00m\n",
      "\u001b[0;31mModuleNotFoundError\u001b[0m: No module named 'releases'"
     ]
    }
   ],
   "source": [
    "import releases"
   ]
  },
  {
   "cell_type": "code",
   "execution_count": 42,
   "metadata": {},
   "outputs": [],
   "source": [
    "import numpy as np\n",
    "# import mayavi\n",
    "from mayavi import mlab\n",
    "# import mlab\n",
    "import s2wav\n",
    "import s2fft\n",
    "from s2fft.sampling import s2_samples as samples\n",
    "\n",
    "\n",
    "\"\"\"\n",
    "Requirements:\n",
    "    - s2fft\n",
    "    - s2wav\n",
    "    - numpy \n",
    "    - mayavi \n",
    "\"\"\"\n",
    "\n",
    "def plot_sphere(f: np.ndarray, L: int, sr: float, mx: float, mn: float):\n",
    "\n",
    "    # Define meshgrid points on spherical surface\n",
    "    phis = samples.phis_equiang(L, sampling=\"mw\")\n",
    "    thetas = samples.thetas(L, sampling=\"mw\")\n",
    "\n",
    "    # Fix continuity at boundaries for visualisation\n",
    "    thetas[0] = 0\n",
    "    phis[-1] = 2 * np.pi\n",
    "\n",
    "    # Generate angular meshgrid\n",
    "    phi, theta = np.meshgrid(phis, thetas)\n",
    "\n",
    "    # Scaling to increase/decrease magnitude of coefficient for visualisation\n",
    "    temp = (f - mn) / mx\n",
    "    r = sr + temp\n",
    "\n",
    "    # Convert angular meshgrid to cartesian\n",
    "    x = r * np.sin(theta) * np.cos(phi)\n",
    "    y = r * np.sin(theta) * np.sin(phi)\n",
    "    z = r * np.cos(theta)\n",
    "\n",
    "    # 3D render using mayavi package.\n",
    "    mlab.figure(1, bgcolor=(1, 1, 1), fgcolor=(0, 0, 0), size=(300, 300))\n",
    "    mlab.clf()\n",
    "    mlab.mesh(x, y, z, scalars=temp, colormap=\"viridis\",vmax=1-mn/mx,vmin=0)\n",
    "    mlab.show()\n",
    "\n",
    "\n",
    "# if __name__ == \"__main__\":\n",
    "#     L = 128   # Harmonic bandlimit\n",
    "#     N = 3     # Azimuthal bandlimit\n",
    "#     sr = 5    # How much to scale the magnitude on the sphere for visualisation.\n",
    "\n",
    "#     # Generate the wavelet kernel in spherical harmonic space\n",
    "#     # Note: this generates the directional kernel, but the actual directionality is  \n",
    "#     #       introduced during the convolution. So this is just a single set of harmonic\n",
    "#     #       coefficients which you can imagine being rotated during the transform.\n",
    "#     J_max = s2wav.samples.j_max(L)\n",
    "#     wav_lmn, scal_lm = s2wav.filters.filters_directional_vectorised(L, N)\n",
    "\n",
    "#     # Inverse spherical harmonic transform and plot the wavelet filters on the sphere.\n",
    "#     for j in range(J_max):\n",
    "#         wavelet_harmonic_coeffs = wav_lmn[j]\n",
    "#         wavelet_coeffs = s2fft.inverse(wavelet_harmonic_coeffs, L)\n",
    "\n",
    "#         mx, mn = np.nanmax(np.real(wavelet_coeffs)), np.nanmin(np.real(wavelet_coeffs))\n",
    "#         plot_sphere(np.real(wavelet_pixel_space), L, sr, mx, mn)"
   ]
  },
  {
   "cell_type": "code",
   "execution_count": 47,
   "metadata": {},
   "outputs": [
    {
     "ename": "TypeError",
     "evalue": "unsupported operand type(s) for -: 'list' and 'int'",
     "output_type": "error",
     "traceback": [
      "\u001b[0;31m---------------------------------------------------------------------------\u001b[0m",
      "\u001b[0;31mTypeError\u001b[0m                                 Traceback (most recent call last)",
      "Cell \u001b[0;32mIn[47], line 3\u001b[0m\n\u001b[1;32m      1\u001b[0m L \u001b[38;5;241m=\u001b[39m \u001b[38;5;241m2049\u001b[39m\n\u001b[0;32m----> 3\u001b[0m \u001b[43mplot_sphere\u001b[49m\u001b[43m(\u001b[49m\u001b[43mStored_f_wav\u001b[49m\u001b[43m,\u001b[49m\u001b[43m \u001b[49m\u001b[43mL\u001b[49m\u001b[38;5;241;43m=\u001b[39;49m\u001b[43m \u001b[49m\u001b[38;5;241;43m2049\u001b[39;49m\u001b[43m,\u001b[49m\u001b[43m \u001b[49m\u001b[43msr\u001b[49m\u001b[43m \u001b[49m\u001b[38;5;241;43m=\u001b[39;49m\u001b[43m \u001b[49m\u001b[38;5;241;43m5\u001b[39;49m\u001b[43m,\u001b[49m\u001b[43m \u001b[49m\u001b[43mmx\u001b[49m\u001b[38;5;241;43m=\u001b[39;49m\u001b[43m \u001b[49m\u001b[38;5;241;43m1\u001b[39;49m\u001b[43m,\u001b[49m\u001b[43m \u001b[49m\u001b[43mmn\u001b[49m\u001b[43m \u001b[49m\u001b[38;5;241;43m=\u001b[39;49m\u001b[43m \u001b[49m\u001b[38;5;241;43m-\u001b[39;49m\u001b[38;5;241;43m1\u001b[39;49m\u001b[43m)\u001b[49m\n",
      "Cell \u001b[0;32mIn[42], line 32\u001b[0m, in \u001b[0;36mplot_sphere\u001b[0;34m(f, L, sr, mx, mn)\u001b[0m\n\u001b[1;32m     29\u001b[0m phi, theta \u001b[38;5;241m=\u001b[39m np\u001b[38;5;241m.\u001b[39mmeshgrid(phis, thetas)\n\u001b[1;32m     31\u001b[0m \u001b[38;5;66;03m# Scaling to increase/decrease magnitude of coefficient for visualisation\u001b[39;00m\n\u001b[0;32m---> 32\u001b[0m temp \u001b[38;5;241m=\u001b[39m (\u001b[43mf\u001b[49m\u001b[43m \u001b[49m\u001b[38;5;241;43m-\u001b[39;49m\u001b[43m \u001b[49m\u001b[43mmn\u001b[49m) \u001b[38;5;241m/\u001b[39m mx\n\u001b[1;32m     33\u001b[0m r \u001b[38;5;241m=\u001b[39m sr \u001b[38;5;241m+\u001b[39m temp\n\u001b[1;32m     35\u001b[0m \u001b[38;5;66;03m# Convert angular meshgrid to cartesian\u001b[39;00m\n",
      "\u001b[0;31mTypeError\u001b[0m: unsupported operand type(s) for -: 'list' and 'int'"
     ]
    }
   ],
   "source": [
    "L = 2049\n",
    "\n",
    "plot_sphere(Stored_f_wav, L= 2049, sr = 5, mx= 1, mn = -1)"
   ]
  },
  {
   "cell_type": "code",
   "execution_count": 109,
   "metadata": {},
   "outputs": [
    {
     "ename": "AssertionError",
     "evalue": "",
     "output_type": "error",
     "traceback": [
      "\u001b[0;31m---------------------------------------------------------------------------\u001b[0m",
      "\u001b[0;31mAssertionError\u001b[0m                            Traceback (most recent call last)",
      "Cell \u001b[0;32mIn[109], line 8\u001b[0m\n\u001b[1;32m      6\u001b[0m N \u001b[38;5;241m=\u001b[39m \u001b[38;5;241m4\u001b[39m\n\u001b[1;32m      7\u001b[0m \u001b[38;5;28mfilter\u001b[39m \u001b[38;5;241m=\u001b[39m filters\u001b[38;5;241m.\u001b[39mfilters_directional_vectorised(L_max, N)\n\u001b[0;32m----> 8\u001b[0m f_wav, f_scal \u001b[38;5;241m=\u001b[39m \u001b[43ms2wav\u001b[49m\u001b[38;5;241;43m.\u001b[39;49m\u001b[43manalysis\u001b[49m\u001b[43m(\u001b[49m\u001b[43mf\u001b[49m\u001b[43m \u001b[49m\u001b[38;5;241;43m=\u001b[39;49m\u001b[43m \u001b[49m\u001b[43mhealpix_map\u001b[49m\u001b[43m,\u001b[49m\u001b[43m \u001b[49m\u001b[43mL\u001b[49m\u001b[43m \u001b[49m\u001b[38;5;241;43m=\u001b[39;49m\u001b[43m \u001b[49m\u001b[43mL_max\u001b[49m\u001b[43m,\u001b[49m\u001b[43m \u001b[49m\u001b[43mN\u001b[49m\u001b[43m \u001b[49m\u001b[38;5;241;43m=\u001b[39;49m\u001b[43m \u001b[49m\u001b[43mN\u001b[49m\u001b[43m,\u001b[49m\u001b[43m \u001b[49m\u001b[43mfilters\u001b[49m\u001b[38;5;241;43m=\u001b[39;49m\u001b[38;5;28;43mfilter\u001b[39;49m\u001b[43m,\u001b[49m\u001b[43m \u001b[49m\u001b[43msampling\u001b[49m\u001b[38;5;241;43m=\u001b[39;49m\u001b[43m \u001b[49m\u001b[38;5;124;43m\"\u001b[39;49m\u001b[38;5;124;43mhealpix\u001b[39;49m\u001b[38;5;124;43m\"\u001b[39;49m\u001b[43m,\u001b[49m\u001b[43m \u001b[49m\u001b[43mnside\u001b[49m\u001b[43m \u001b[49m\u001b[38;5;241;43m=\u001b[39;49m\u001b[43m \u001b[49m\u001b[43mnside\u001b[49m\u001b[43m)\u001b[49m\n",
      "    \u001b[0;31m[... skipping hidden 11 frame]\u001b[0m\n",
      "File \u001b[0;32m/Library/Frameworks/Python.framework/Versions/3.9/lib/python3.9/site-packages/s2wav/transforms/wavelet.py:189\u001b[0m, in \u001b[0;36manalysis\u001b[0;34m(f, L, N, J_min, lam, spin, sampling, nside, reality, filters, precomps)\u001b[0m\n\u001b[1;32m    174\u001b[0m     Lj, Nj, L0j \u001b[38;5;241m=\u001b[39m samples\u001b[38;5;241m.\u001b[39mLN_j(L, j, N, lam, \u001b[38;5;28;01mTrue\u001b[39;00m)\n\u001b[1;32m    175\u001b[0m     f_wav_lmn[j \u001b[38;5;241m-\u001b[39m J_min] \u001b[38;5;241m=\u001b[39m (\n\u001b[1;32m    176\u001b[0m         f_wav_lmn[j \u001b[38;5;241m-\u001b[39m J_min]\n\u001b[1;32m    177\u001b[0m         \u001b[38;5;241m.\u001b[39mat[::\u001b[38;5;241m2\u001b[39m, L0j:]\n\u001b[0;32m   (...)\u001b[0m\n\u001b[1;32m    185\u001b[0m         )\n\u001b[1;32m    186\u001b[0m     )\n\u001b[1;32m    188\u001b[0m     f_wav\u001b[38;5;241m.\u001b[39mappend(\n\u001b[0;32m--> 189\u001b[0m         \u001b[43ms2fft\u001b[49m\u001b[38;5;241;43m.\u001b[39;49m\u001b[43mwigner\u001b[49m\u001b[38;5;241;43m.\u001b[39;49m\u001b[43minverse_jax\u001b[49m\u001b[43m(\u001b[49m\n\u001b[1;32m    190\u001b[0m \u001b[43m            \u001b[49m\u001b[43mf_wav_lmn\u001b[49m\u001b[43m[\u001b[49m\u001b[43mj\u001b[49m\u001b[43m \u001b[49m\u001b[38;5;241;43m-\u001b[39;49m\u001b[43m \u001b[49m\u001b[43mJ_min\u001b[49m\u001b[43m]\u001b[49m\u001b[43m,\u001b[49m\n\u001b[1;32m    191\u001b[0m \u001b[43m            \u001b[49m\u001b[43mLj\u001b[49m\u001b[43m,\u001b[49m\n\u001b[1;32m    192\u001b[0m \u001b[43m            \u001b[49m\u001b[43mNj\u001b[49m\u001b[43m,\u001b[49m\n\u001b[1;32m    193\u001b[0m \u001b[43m            \u001b[49m\u001b[43mnside\u001b[49m\u001b[43m,\u001b[49m\n\u001b[1;32m    194\u001b[0m \u001b[43m            \u001b[49m\u001b[43msampling\u001b[49m\u001b[43m,\u001b[49m\n\u001b[1;32m    195\u001b[0m \u001b[43m            \u001b[49m\u001b[43mreality\u001b[49m\u001b[43m,\u001b[49m\n\u001b[1;32m    196\u001b[0m \u001b[43m            \u001b[49m\u001b[43mprecomps\u001b[49m\u001b[43m[\u001b[49m\u001b[43mj\u001b[49m\u001b[43m \u001b[49m\u001b[38;5;241;43m-\u001b[39;49m\u001b[43m \u001b[49m\u001b[43mJ_min\u001b[49m\u001b[43m]\u001b[49m\u001b[43m,\u001b[49m\n\u001b[1;32m    197\u001b[0m \u001b[43m            \u001b[49m\u001b[43mL0j\u001b[49m\u001b[43m,\u001b[49m\n\u001b[1;32m    198\u001b[0m \u001b[43m        \u001b[49m\u001b[43m)\u001b[49m\n\u001b[1;32m    199\u001b[0m     )\n\u001b[1;32m    201\u001b[0m \u001b[38;5;66;03m# Project all harmonic coefficients for each lm onto scaling coefficients\u001b[39;00m\n\u001b[1;32m    202\u001b[0m phi \u001b[38;5;241m=\u001b[39m filters[\u001b[38;5;241m1\u001b[39m][:Ls] \u001b[38;5;241m*\u001b[39m jnp\u001b[38;5;241m.\u001b[39msqrt(\u001b[38;5;241m4\u001b[39m \u001b[38;5;241m*\u001b[39m jnp\u001b[38;5;241m.\u001b[39mpi \u001b[38;5;241m/\u001b[39m (\u001b[38;5;241m2\u001b[39m \u001b[38;5;241m*\u001b[39m jnp\u001b[38;5;241m.\u001b[39marange(Ls) \u001b[38;5;241m+\u001b[39m \u001b[38;5;241m1\u001b[39m))\n",
      "    \u001b[0;31m[... skipping hidden 11 frame]\u001b[0m\n",
      "File \u001b[0;32m/Library/Frameworks/Python.framework/Versions/3.9/lib/python3.9/site-packages/s2fft/transforms/wigner.py:257\u001b[0m, in \u001b[0;36minverse_jax\u001b[0;34m(flmn, L, N, nside, sampling, reality, precomps, L_lower)\u001b[0m\n\u001b[1;32m    251\u001b[0m     precomps \u001b[38;5;241m=\u001b[39m [p0, p1, p2, p3, p4]\n\u001b[1;32m    252\u001b[0m     \u001b[38;5;28;01mreturn\u001b[39;00m (\u001b[38;5;241m-\u001b[39m\u001b[38;5;241m1\u001b[39m) \u001b[38;5;241m*\u001b[39m\u001b[38;5;241m*\u001b[39m jnp\u001b[38;5;241m.\u001b[39mabs(spin) \u001b[38;5;241m*\u001b[39m s2fft\u001b[38;5;241m.\u001b[39minverse_jax(\n\u001b[1;32m    253\u001b[0m         flm, L, \u001b[38;5;241m-\u001b[39mspin, nside, sampling, \u001b[38;5;28;01mFalse\u001b[39;00m, precomps, \u001b[38;5;28;01mFalse\u001b[39;00m, L_lower\n\u001b[1;32m    254\u001b[0m     )\n\u001b[1;32m    256\u001b[0m fban \u001b[38;5;241m=\u001b[39m fban\u001b[38;5;241m.\u001b[39mat[N \u001b[38;5;241m-\u001b[39m \u001b[38;5;241m1\u001b[39m \u001b[38;5;241m+\u001b[39m n_start_ind :]\u001b[38;5;241m.\u001b[39mset(\n\u001b[0;32m--> 257\u001b[0m     \u001b[43mvmap\u001b[49m\u001b[43m(\u001b[49m\n\u001b[1;32m    258\u001b[0m \u001b[43m        \u001b[49m\u001b[43mpartial\u001b[49m\u001b[43m(\u001b[49m\u001b[43mfunc\u001b[49m\u001b[43m,\u001b[49m\u001b[43m \u001b[49m\u001b[43mp2\u001b[49m\u001b[38;5;241;43m=\u001b[39;49m\u001b[43mprecomps\u001b[49m\u001b[43m[\u001b[49m\u001b[38;5;241;43m2\u001b[39;49m\u001b[43m]\u001b[49m\u001b[43m[\u001b[49m\u001b[38;5;241;43m0\u001b[39;49m\u001b[43m]\u001b[49m\u001b[43m,\u001b[49m\u001b[43m \u001b[49m\u001b[43mp3\u001b[49m\u001b[38;5;241;43m=\u001b[39;49m\u001b[43mprecomps\u001b[49m\u001b[43m[\u001b[49m\u001b[38;5;241;43m3\u001b[39;49m\u001b[43m]\u001b[49m\u001b[43m[\u001b[49m\u001b[38;5;241;43m0\u001b[39;49m\u001b[43m]\u001b[49m\u001b[43m,\u001b[49m\u001b[43m \u001b[49m\u001b[43mp4\u001b[49m\u001b[38;5;241;43m=\u001b[39;49m\u001b[43mprecomps\u001b[49m\u001b[43m[\u001b[49m\u001b[38;5;241;43m4\u001b[39;49m\u001b[43m]\u001b[49m\u001b[43m[\u001b[49m\u001b[38;5;241;43m0\u001b[39;49m\u001b[43m]\u001b[49m\u001b[43m)\u001b[49m\u001b[43m,\u001b[49m\n\u001b[1;32m    259\u001b[0m \u001b[43m        \u001b[49m\u001b[43min_axes\u001b[49m\u001b[38;5;241;43m=\u001b[39;49m\u001b[43m(\u001b[49m\u001b[38;5;241;43m0\u001b[39;49m\u001b[43m,\u001b[49m\u001b[43m \u001b[49m\u001b[38;5;241;43m0\u001b[39;49m\u001b[43m,\u001b[49m\u001b[43m \u001b[49m\u001b[38;5;241;43m0\u001b[39;49m\u001b[43m,\u001b[49m\u001b[43m \u001b[49m\u001b[38;5;241;43m0\u001b[39;49m\u001b[43m)\u001b[49m\u001b[43m,\u001b[49m\n\u001b[1;32m    260\u001b[0m \u001b[43m    \u001b[49m\u001b[43m)\u001b[49m\u001b[43m(\u001b[49m\u001b[43mflmn\u001b[49m\u001b[43m[\u001b[49m\u001b[43mN\u001b[49m\u001b[43m \u001b[49m\u001b[38;5;241;43m-\u001b[39;49m\u001b[43m \u001b[49m\u001b[38;5;241;43m1\u001b[39;49m\u001b[43m \u001b[49m\u001b[38;5;241;43m+\u001b[39;49m\u001b[43m \u001b[49m\u001b[43mn_start_ind\u001b[49m\u001b[43m \u001b[49m\u001b[43m:\u001b[49m\u001b[43m]\u001b[49m\u001b[43m,\u001b[49m\u001b[43m \u001b[49m\u001b[43mspins\u001b[49m\u001b[43m,\u001b[49m\u001b[43m \u001b[49m\u001b[43mprecomps\u001b[49m\u001b[43m[\u001b[49m\u001b[38;5;241;43m0\u001b[39;49m\u001b[43m]\u001b[49m\u001b[43m,\u001b[49m\u001b[43m \u001b[49m\u001b[43mprecomps\u001b[49m\u001b[43m[\u001b[49m\u001b[38;5;241;43m1\u001b[39;49m\u001b[43m]\u001b[49m\u001b[43m)\u001b[49m\n\u001b[1;32m    261\u001b[0m )\n\u001b[1;32m    262\u001b[0m \u001b[38;5;28;01mif\u001b[39;00m reality:\n\u001b[1;32m    263\u001b[0m     f \u001b[38;5;241m=\u001b[39m jnp\u001b[38;5;241m.\u001b[39mfft\u001b[38;5;241m.\u001b[39mirfft(fban[N \u001b[38;5;241m-\u001b[39m \u001b[38;5;241m1\u001b[39m :], \u001b[38;5;241m2\u001b[39m \u001b[38;5;241m*\u001b[39m N \u001b[38;5;241m-\u001b[39m \u001b[38;5;241m1\u001b[39m, axis\u001b[38;5;241m=\u001b[39m\u001b[38;5;241m0\u001b[39m, norm\u001b[38;5;241m=\u001b[39m\u001b[38;5;124m\"\u001b[39m\u001b[38;5;124mforward\u001b[39m\u001b[38;5;124m\"\u001b[39m)\n",
      "    \u001b[0;31m[... skipping hidden 3 frame]\u001b[0m\n",
      "File \u001b[0;32m/Library/Frameworks/Python.framework/Versions/3.9/lib/python3.9/site-packages/s2fft/transforms/wigner.py:252\u001b[0m, in \u001b[0;36minverse_jax.<locals>.func\u001b[0;34m(flm, spin, p0, p1, p2, p3, p4)\u001b[0m\n\u001b[1;32m    250\u001b[0m \u001b[38;5;28;01mdef\u001b[39;00m \u001b[38;5;21mfunc\u001b[39m(flm, spin, p0, p1, p2, p3, p4):\n\u001b[1;32m    251\u001b[0m     precomps \u001b[38;5;241m=\u001b[39m [p0, p1, p2, p3, p4]\n\u001b[0;32m--> 252\u001b[0m     \u001b[38;5;28;01mreturn\u001b[39;00m (\u001b[38;5;241m-\u001b[39m\u001b[38;5;241m1\u001b[39m) \u001b[38;5;241m*\u001b[39m\u001b[38;5;241m*\u001b[39m jnp\u001b[38;5;241m.\u001b[39mabs(spin) \u001b[38;5;241m*\u001b[39m \u001b[43ms2fft\u001b[49m\u001b[38;5;241;43m.\u001b[39;49m\u001b[43minverse_jax\u001b[49m\u001b[43m(\u001b[49m\n\u001b[1;32m    253\u001b[0m \u001b[43m        \u001b[49m\u001b[43mflm\u001b[49m\u001b[43m,\u001b[49m\u001b[43m \u001b[49m\u001b[43mL\u001b[49m\u001b[43m,\u001b[49m\u001b[43m \u001b[49m\u001b[38;5;241;43m-\u001b[39;49m\u001b[43mspin\u001b[49m\u001b[43m,\u001b[49m\u001b[43m \u001b[49m\u001b[43mnside\u001b[49m\u001b[43m,\u001b[49m\u001b[43m \u001b[49m\u001b[43msampling\u001b[49m\u001b[43m,\u001b[49m\u001b[43m \u001b[49m\u001b[38;5;28;43;01mFalse\u001b[39;49;00m\u001b[43m,\u001b[49m\u001b[43m \u001b[49m\u001b[43mprecomps\u001b[49m\u001b[43m,\u001b[49m\u001b[43m \u001b[49m\u001b[38;5;28;43;01mFalse\u001b[39;49;00m\u001b[43m,\u001b[49m\u001b[43m \u001b[49m\u001b[43mL_lower\u001b[49m\n\u001b[1;32m    254\u001b[0m \u001b[43m    \u001b[49m\u001b[43m)\u001b[49m\n",
      "    \u001b[0;31m[... skipping hidden 11 frame]\u001b[0m\n",
      "File \u001b[0;32m/Library/Frameworks/Python.framework/Versions/3.9/lib/python3.9/site-packages/s2fft/transforms/spherical.py:319\u001b[0m, in \u001b[0;36minverse_jax\u001b[0;34m(flm, L, spin, nside, sampling, reality, precomps, spmd, L_lower)\u001b[0m\n\u001b[1;32m    315\u001b[0m     ftm \u001b[38;5;241m=\u001b[39m ftm\u001b[38;5;241m.\u001b[39mat[:, m_offset : L \u001b[38;5;241m-\u001b[39m \u001b[38;5;241m1\u001b[39m \u001b[38;5;241m+\u001b[39m m_offset]\u001b[38;5;241m.\u001b[39mset(\n\u001b[1;32m    316\u001b[0m         jnp\u001b[38;5;241m.\u001b[39mflip(jnp\u001b[38;5;241m.\u001b[39mconj(ftm[:, L \u001b[38;5;241m-\u001b[39m \u001b[38;5;241m1\u001b[39m \u001b[38;5;241m+\u001b[39m m_offset \u001b[38;5;241m+\u001b[39m \u001b[38;5;241m1\u001b[39m :]), axis\u001b[38;5;241m=\u001b[39m\u001b[38;5;241m-\u001b[39m\u001b[38;5;241m1\u001b[39m)\n\u001b[1;32m    317\u001b[0m     )\n\u001b[1;32m    318\u001b[0m \u001b[38;5;28;01mif\u001b[39;00m sampling\u001b[38;5;241m.\u001b[39mlower() \u001b[38;5;241m==\u001b[39m \u001b[38;5;124m\"\u001b[39m\u001b[38;5;124mhealpix\u001b[39m\u001b[38;5;124m\"\u001b[39m:\n\u001b[0;32m--> 319\u001b[0m     \u001b[38;5;28;01mreturn\u001b[39;00m \u001b[43mhp\u001b[49m\u001b[38;5;241;43m.\u001b[39;49m\u001b[43mhealpix_ifft\u001b[49m\u001b[43m(\u001b[49m\u001b[43mftm\u001b[49m\u001b[43m,\u001b[49m\u001b[43m \u001b[49m\u001b[43mL\u001b[49m\u001b[43m,\u001b[49m\u001b[43m \u001b[49m\u001b[43mnside\u001b[49m\u001b[43m,\u001b[49m\u001b[43m \u001b[49m\u001b[38;5;124;43m\"\u001b[39;49m\u001b[38;5;124;43mjax\u001b[39;49m\u001b[38;5;124;43m\"\u001b[39;49m\u001b[43m)\u001b[49m\n\u001b[1;32m    320\u001b[0m \u001b[38;5;28;01melse\u001b[39;00m:\n\u001b[1;32m    321\u001b[0m     ftm \u001b[38;5;241m=\u001b[39m jnp\u001b[38;5;241m.\u001b[39mconj(jnp\u001b[38;5;241m.\u001b[39mfft\u001b[38;5;241m.\u001b[39mifftshift(ftm, axes\u001b[38;5;241m=\u001b[39m\u001b[38;5;241m1\u001b[39m))\n",
      "File \u001b[0;32m/Library/Frameworks/Python.framework/Versions/3.9/lib/python3.9/site-packages/s2fft/utils/healpix_ffts.py:398\u001b[0m, in \u001b[0;36mhealpix_ifft\u001b[0;34m(ftm, L, nside, method, reality)\u001b[0m\n\u001b[1;32m    368\u001b[0m \u001b[38;5;28;01mdef\u001b[39;00m \u001b[38;5;21mhealpix_ifft\u001b[39m(\n\u001b[1;32m    369\u001b[0m     ftm: np\u001b[38;5;241m.\u001b[39mndarray,\n\u001b[1;32m    370\u001b[0m     L: \u001b[38;5;28mint\u001b[39m,\n\u001b[0;32m   (...)\u001b[0m\n\u001b[1;32m    373\u001b[0m     reality: \u001b[38;5;28mbool\u001b[39m \u001b[38;5;241m=\u001b[39m \u001b[38;5;28;01mFalse\u001b[39;00m,\n\u001b[1;32m    374\u001b[0m ) \u001b[38;5;241m-\u001b[39m\u001b[38;5;241m>\u001b[39m np\u001b[38;5;241m.\u001b[39mndarray:\n\u001b[1;32m    375\u001b[0m \u001b[38;5;250m    \u001b[39m\u001b[38;5;124;03m\"\"\"Wrapper function for the Inverse Fast Fourier Transform with spectral folding\u001b[39;00m\n\u001b[1;32m    376\u001b[0m \u001b[38;5;124;03m    in the polar regions to mitigate aliasing.\u001b[39;00m\n\u001b[1;32m    377\u001b[0m \n\u001b[0;32m   (...)\u001b[0m\n\u001b[1;32m    396\u001b[0m \u001b[38;5;124;03m        np.ndarray: HEALPix pixel-space array.\u001b[39;00m\n\u001b[1;32m    397\u001b[0m \u001b[38;5;124;03m    \"\"\"\u001b[39;00m\n\u001b[0;32m--> 398\u001b[0m     \u001b[38;5;28;01massert\u001b[39;00m L \u001b[38;5;241m>\u001b[39m\u001b[38;5;241m=\u001b[39m \u001b[38;5;241m2\u001b[39m \u001b[38;5;241m*\u001b[39m nside\n\u001b[1;32m    399\u001b[0m     \u001b[38;5;28;01mif\u001b[39;00m method\u001b[38;5;241m.\u001b[39mlower() \u001b[38;5;241m==\u001b[39m \u001b[38;5;124m\"\u001b[39m\u001b[38;5;124mnumpy\u001b[39m\u001b[38;5;124m\"\u001b[39m:\n\u001b[1;32m    400\u001b[0m         \u001b[38;5;28;01mreturn\u001b[39;00m healpix_ifft_numpy(ftm, L, nside, reality)\n",
      "\u001b[0;31mAssertionError\u001b[0m: "
     ]
    }
   ],
   "source": [
    "healpix_map = hp.read_map(healpix_map_path, dtype=jnp.float64)\n",
    "nside = hp.get_nside(healpix_map)\n",
    "L_max = 2*nside+1\n",
    "\n",
    "\n",
    "N = 4\n",
    "filter = filters.filters_directional_vectorised(L_max, N)\n",
    "f_wav, f_scal = s2wav.analysis(f = healpix_map, L = L_max, N = N, filters=filter, sampling= \"healpix\", nside = nside)\n"
   ]
  },
  {
   "cell_type": "code",
   "execution_count": 30,
   "metadata": {},
   "outputs": [],
   "source": [
    "f_check = s2wav.synthesis(f_wav, f_scal, L_max, N, filters=filter)\n"
   ]
  },
  {
   "cell_type": "code",
   "execution_count": 88,
   "metadata": {},
   "outputs": [],
   "source": [
    "# Step 7 store the reconstructed map\n",
    "reconstructed_map = np.array(f_check)\n",
    "np.save(f\"/Users/maxwang/Documents/projects/CMB_plot/convolution/30/reconstructed_map\", reconstructed_map)  # Save numpy array to a file\n",
    "load_map = np.load(\"/Users/maxwang/Documents/projects/CMB_plot/convolution/30/reconstructed_map.npy\")\n",
    "# print(np.nanmean(np.abs(load_map-f)))"
   ]
  },
  {
   "cell_type": "code",
   "execution_count": 39,
   "metadata": {},
   "outputs": [
    {
     "name": "stdout",
     "output_type": "stream",
     "text": [
      "Mean absolute error = 2.0528992438406644e-07\n"
     ]
    }
   ],
   "source": [
    "print(f\"Mean absolute error = {np.nanmean(np.abs(f_check - f))}\")"
   ]
  },
  {
   "cell_type": "code",
   "execution_count": 89,
   "metadata": {},
   "outputs": [
    {
     "name": "stdout",
     "output_type": "stream",
     "text": [
      "False\n"
     ]
    }
   ],
   "source": [
    "# is_real = np.isreal(f)\n",
    "# print(is_real.all()) \n",
    "#  setting reality=True in the context of spherical harmonic analysis indicates that the input data is real-valued, and the function leverages the conjugate symmetry property of the harmonic coefficients to optimize storage and computation."
   ]
  }
 ],
 "metadata": {
  "kernelspec": {
   "display_name": "Python 3",
   "language": "python",
   "name": "python3"
  },
  "language_info": {
   "codemirror_mode": {
    "name": "ipython",
    "version": 3
   },
   "file_extension": ".py",
   "mimetype": "text/x-python",
   "name": "python",
   "nbconvert_exporter": "python",
   "pygments_lexer": "ipython3",
   "version": "3.9.13"
  }
 },
 "nbformat": 4,
 "nbformat_minor": 2
}
