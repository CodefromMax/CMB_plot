{
 "cells": [
  {
   "cell_type": "code",
   "execution_count": null,
   "metadata": {},
   "outputs": [],
   "source": [
    "# draft\n",
    "\n",
    "# PLA_CMB = PLA_Data_Dict[frequency][1]*n\n",
    "#     # PLA_CMB = hp.anafast(PLA_Data_Dict[frequency][1],lmax=3998)\n",
    "#     hp.projview(\n",
    "#     PLA_CMB,\n",
    "#     coord=[\"G\"],\n",
    "#     # cmap=\"planck\",\n",
    "#     graticule=True,\n",
    "#     graticule_labels=True,\n",
    "#     unit=r\"$\\mu$K\",\n",
    "#     xlabel=\"longitude\",\n",
    "#     ylabel=\"latitude\",\n",
    "#     # cb_orientation=\"vertical\",\n",
    "#     projection_type=\"mollweide\",\n",
    "#     min=-300,\n",
    "#     max=300,\n",
    "#     sub=(3, 3, i)\n",
    "# )"
   ]
  },
  {
   "cell_type": "code",
   "execution_count": null,
   "metadata": {},
   "outputs": [],
   "source": [
    "# get unit data from fits file \n",
    "import numpy as np\n",
    "from astropy.io import fits\n",
    "from astropy.table import Table\n",
    "from matplotlib.colors import LogNorm\n",
    "\n",
    "# Set up matplotlib\n",
    "import matplotlib.pyplot as plt\n",
    "%matplotlib inline\n",
    "\n",
    "\n",
    "# Open the FITS file\n",
    "hdulist = fits.open('/Users/maxwang/Documents/projects/CMB_plot/data/planck_simulation/ffp10_newdust_total_353_full_map.fits')\n",
    "\n",
    "# Get the header\n",
    "header = hdulist[0].header\n",
    "\n",
    "# Print the header to inspect its contents\n",
    "# display(header)\n",
    "# display(hdulist.info())\n",
    "display(list(hdulist[1].columns))\n",
    "# Close the FITS file\n",
    "hdulist.close()\n",
    "# evt_data = Table(hdulist[0].data)\n",
    "# evt_data\n"
   ]
  },
  {
   "cell_type": "code",
   "execution_count": null,
   "metadata": {},
   "outputs": [],
   "source": []
  },
  {
   "cell_type": "code",
   "execution_count": null,
   "metadata": {},
   "outputs": [],
   "source": []
  }
 ],
 "metadata": {
  "language_info": {
   "name": "python"
  }
 },
 "nbformat": 4,
 "nbformat_minor": 2
}
